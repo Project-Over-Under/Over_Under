{
 "cells": [
  {
   "cell_type": "code",
   "execution_count": 4,
   "id": "fe2e478b-44df-4c68-a556-e8b2892ce064",
   "metadata": {},
   "outputs": [],
   "source": [
    "from bs4 import BeautifulSoup\n",
    "import requests\n",
    "import os\n",
    "import pandas as pd\n",
    "import re\n",
    "from time import sleep\n",
    "import acquire_r as ac"
   ]
  },
  {
   "cell_type": "code",
   "execution_count": 75,
   "id": "5566ca26-8e20-4cf1-8990-bd5eac962527",
   "metadata": {},
   "outputs": [
    {
     "data": {
      "text/plain": [
       "<Response [200]>"
      ]
     },
     "execution_count": 75,
     "metadata": {},
     "output_type": "execute_result"
    }
   ],
   "source": [
    "url = 'https://www.pro-football-reference.com/boxscores/202011120oti.htm'\n",
    "response = requests.get(url)\n",
    "response"
   ]
  },
  {
   "cell_type": "code",
   "execution_count": 76,
   "id": "43f01fb3-594a-4834-b49f-2006b7a1e33e",
   "metadata": {},
   "outputs": [],
   "source": [
    "#1\n",
    "soup = BeautifulSoup(response.content, 'html.parser')\n",
    "#2\n",
    "div_grid = soup.find_all('div', class_='content_grid')[0]\n",
    "#3\n",
    "div = div_grid.find_all('div')[0]\n",
    "#4\n",
    "div_wrap = div.find_all('div')[0]\n",
    "#5\n",
    "soup_wrap4 = div_wrap.contents[4]\n",
    "#6\n",
    "soup4 = BeautifulSoup(soup_wrap4, 'html.parser')\n",
    "#7\n",
    "wx = soup4.find_all('td','center')[3]"
   ]
  },
  {
   "cell_type": "code",
   "execution_count": 77,
   "id": "41094131-4467-4588-800b-4bc904f5e799",
   "metadata": {},
   "outputs": [
    {
     "data": {
      "text/plain": [
       "'grass'"
      ]
     },
     "execution_count": 77,
     "metadata": {},
     "output_type": "execute_result"
    }
   ],
   "source": [
    "wx.contents[0]"
   ]
  },
  {
   "cell_type": "markdown",
   "id": "123c861e-a1e3-44b7-af67-6e1b666edeb3",
   "metadata": {},
   "source": [
    "## Attempt to start scraping"
   ]
  },
  {
   "cell_type": "code",
   "execution_count": 114,
   "id": "632c3ed0-0964-4cb6-95eb-dd4f44a19e53",
   "metadata": {},
   "outputs": [],
   "source": [
    "## scale weekly\n",
    "url = 'https://www.pro-football-reference.com/years/2022/week_18.htm'\n",
    "\n"
   ]
  },
  {
   "cell_type": "code",
   "execution_count": 115,
   "id": "888e2604-7a08-4f12-b26c-af0dd8d11147",
   "metadata": {},
   "outputs": [
    {
     "data": {
      "text/plain": [
       "<Response [200]>"
      ]
     },
     "execution_count": 115,
     "metadata": {},
     "output_type": "execute_result"
    }
   ],
   "source": [
    "response = requests.get(url)\n",
    "response"
   ]
  },
  {
   "cell_type": "code",
   "execution_count": 116,
   "id": "a9991374-0871-4cdd-a636-5caa7719fb22",
   "metadata": {},
   "outputs": [],
   "source": [
    "soup = BeautifulSoup(response.content, 'html.parser')"
   ]
  },
  {
   "cell_type": "code",
   "execution_count": 117,
   "id": "036c2a0d-c6c7-4098-bad0-c2478d97168e",
   "metadata": {},
   "outputs": [],
   "source": [
    "html_links = soup.find_all('td', class_='right gamelink')"
   ]
  },
  {
   "cell_type": "code",
   "execution_count": 118,
   "id": "807e8630-00e7-4966-ac2a-ae0335777353",
   "metadata": {},
   "outputs": [
    {
     "data": {
      "text/plain": [
       "'/boxscores/202301070rai.htm'"
      ]
     },
     "execution_count": 118,
     "metadata": {},
     "output_type": "execute_result"
    }
   ],
   "source": [
    "html_links[0].find('a')['href']"
   ]
  },
  {
   "cell_type": "code",
   "execution_count": null,
   "id": "0c70864b-5976-4843-8197-f75a51e161bb",
   "metadata": {},
   "outputs": [],
   "source": []
  },
  {
   "cell_type": "code",
   "execution_count": 119,
   "id": "8d694101-d889-4533-81bf-c84110436510",
   "metadata": {},
   "outputs": [
    {
     "data": {
      "text/plain": [
       "['/boxscores/202301070rai.htm',\n",
       " '/boxscores/202301070jax.htm',\n",
       " '/boxscores/202301080atl.htm',\n",
       " '/boxscores/202301080buf.htm',\n",
       " '/boxscores/202301080chi.htm',\n",
       " '/boxscores/202301080cin.htm',\n",
       " '/boxscores/202301080clt.htm',\n",
       " '/boxscores/202301080mia.htm',\n",
       " '/boxscores/202301080nor.htm',\n",
       " '/boxscores/202301080pit.htm',\n",
       " '/boxscores/202301080den.htm',\n",
       " '/boxscores/202301080phi.htm',\n",
       " '/boxscores/202301080sea.htm',\n",
       " '/boxscores/202301080sfo.htm',\n",
       " '/boxscores/202301080was.htm',\n",
       " '/boxscores/202301080gnb.htm']"
      ]
     },
     "execution_count": 119,
     "metadata": {},
     "output_type": "execute_result"
    }
   ],
   "source": [
    "## list of games\n",
    "games = [item.find('a')['href'] for item in html_links]\n",
    "games"
   ]
  },
  {
   "cell_type": "code",
   "execution_count": 120,
   "id": "6f8d8d0c-0e42-4944-abb9-91aa3fd4ce0a",
   "metadata": {},
   "outputs": [
    {
     "data": {
      "text/plain": [
       "[18, 18, 18, 18, 18, 18, 18, 18, 18, 18, 18, 18, 18, 18, 18, 18]"
      ]
     },
     "execution_count": 120,
     "metadata": {},
     "output_type": "execute_result"
    }
   ],
   "source": [
    "## list of weeks\n",
    "weeks = [18 for i in games]\n",
    "weeks"
   ]
  },
  {
   "cell_type": "code",
   "execution_count": 124,
   "id": "20a6aa26-b348-4680-aea9-888d9f2c6e1d",
   "metadata": {},
   "outputs": [],
   "source": [
    "turf = []\n",
    "for game in games:\n",
    "    url = f'https://www.pro-football-reference.com/{game}'\n",
    "    response = requests.get(url)\n",
    "    soup = BeautifulSoup(response.content, 'html.parser')\n",
    "    div_grid = soup.find_all('div', class_='content_grid')[0]\n",
    "    div = div_grid.find_all('div')[0]\n",
    "    div_wrap = div.find_all('div')[0]\n",
    "    soup_wrap4 = div_wrap.contents[4]\n",
    "    soup4 = BeautifulSoup(soup_wrap4, 'html.parser')\n",
    "    wx = soup4.find_all('td','center')[3]\n",
    "    turfs = str(wx.contents[0])\n",
    "    turf.append(turfs)"
   ]
  },
  {
   "cell_type": "code",
   "execution_count": 125,
   "id": "3647febe-09ea-4fbf-8bba-9dd42db3f515",
   "metadata": {},
   "outputs": [
    {
     "data": {
      "text/plain": [
       "['grass',\n",
       " 'grass ',\n",
       " 'fieldturf',\n",
       " 'a_turf',\n",
       " 'grass ',\n",
       " 'fieldturf ',\n",
       " 'fieldturf ',\n",
       " 'grass ',\n",
       " 'sportturf',\n",
       " 'grass ',\n",
       " 'grass ',\n",
       " 'grass ',\n",
       " 'outdoors',\n",
       " 'grass',\n",
       " 'grass ',\n",
       " 'grass ']"
      ]
     },
     "execution_count": 125,
     "metadata": {},
     "output_type": "execute_result"
    }
   ],
   "source": [
    "turf"
   ]
  },
  {
   "cell_type": "markdown",
   "id": "fcb67dce-1791-4c46-8cf5-6112dca2d769",
   "metadata": {},
   "source": [
    "## list of seasons"
   ]
  },
  {
   "cell_type": "code",
   "execution_count": 127,
   "id": "076e98de-edf8-4ccb-877b-40c3dc6fdc53",
   "metadata": {},
   "outputs": [
    {
     "data": {
      "text/plain": [
       "['2023',\n",
       " '2023',\n",
       " '2023',\n",
       " '2023',\n",
       " '2023',\n",
       " '2023',\n",
       " '2023',\n",
       " '2023',\n",
       " '2023',\n",
       " '2023',\n",
       " '2023',\n",
       " '2023',\n",
       " '2023',\n",
       " '2023',\n",
       " '2023',\n",
       " '2023']"
      ]
     },
     "execution_count": 127,
     "metadata": {},
     "output_type": "execute_result"
    }
   ],
   "source": [
    "date_re = r'[0-9]{4}'\n",
    "re.findall(date_re,games[0])[0]\n",
    "season = re.findall(date_re,games[0])[0]\n",
    "seasons = [re.findall(date_re,i)[0] for i in games]\n",
    "seasons"
   ]
  },
  {
   "cell_type": "markdown",
   "id": "df569af8-12ab-4be3-90c8-f6fec579258e",
   "metadata": {},
   "source": [
    "## list of homes"
   ]
  },
  {
   "cell_type": "code",
   "execution_count": 128,
   "id": "20cfc62f-cd2c-4fae-af53-2147cd639b9e",
   "metadata": {},
   "outputs": [
    {
     "data": {
      "text/plain": [
       "['rai',\n",
       " 'jax',\n",
       " 'atl',\n",
       " 'buf',\n",
       " 'chi',\n",
       " 'cin',\n",
       " 'clt',\n",
       " 'mia',\n",
       " 'nor',\n",
       " 'pit',\n",
       " 'den',\n",
       " 'phi',\n",
       " 'sea',\n",
       " 'sfo',\n",
       " 'was',\n",
       " 'gnb']"
      ]
     },
     "execution_count": 128,
     "metadata": {},
     "output_type": "execute_result"
    }
   ],
   "source": [
    "home_re = r'[a-z]{3}'\n",
    "home = re.findall(home_re,games[0])[3]\n",
    "homes = [re.findall(home_re,i)[3] for i in games]\n",
    "homes"
   ]
  },
  {
   "cell_type": "code",
   "execution_count": 137,
   "id": "c3251297-5822-4e67-98f6-5eec8f16e913",
   "metadata": {},
   "outputs": [
    {
     "data": {
      "text/plain": [
       "['Las Vegas Raiders',\n",
       " 'Prev Game',\n",
       " 'Atlanta Falcons',\n",
       " 'Prev Game',\n",
       " 'Chicago Bears',\n",
       " 'Cincinnati Bengals',\n",
       " 'Prev Game',\n",
       " 'Prev Game',\n",
       " 'Prev Game',\n",
       " 'Prev Game',\n",
       " 'Denver Broncos',\n",
       " 'Philadelphia Eagles',\n",
       " 'Prev Game',\n",
       " 'Prev Game',\n",
       " 'Washington Commanders',\n",
       " 'Prev Game']"
      ]
     },
     "execution_count": 137,
     "metadata": {},
     "output_type": "execute_result"
    }
   ],
   "source": [
    "home_teams = []\n",
    "for game in games:\n",
    "    url = f'https://www.pro-football-reference.com/{game}'\n",
    "    response = requests.get(url)\n",
    "    soup = BeautifulSoup(response.content, 'html.parser')\n",
    "    href = soup.find_all('div', class_='scorebox')[0].find_all('a')[8]\n",
    "    team = href.text\n",
    "    home_teams.append(team)\n",
    "home_teams"
   ]
  },
  {
   "cell_type": "code",
   "execution_count": null,
   "id": "f1acfd50-39c0-4b77-9304-6a031e60c2b4",
   "metadata": {},
   "outputs": [],
   "source": []
  },
  {
   "cell_type": "code",
   "execution_count": null,
   "id": "8e686f54-8a1e-4c71-b5ca-600eadd1c6cd",
   "metadata": {},
   "outputs": [],
   "source": []
  },
  {
   "cell_type": "markdown",
   "id": "b5d5ca74-6eeb-47ce-b859-107a0c7f8268",
   "metadata": {},
   "source": [
    "## Dataframe"
   ]
  },
  {
   "cell_type": "code",
   "execution_count": 139,
   "id": "1483e91d-bfa2-4000-b743-f77452ca6fb1",
   "metadata": {},
   "outputs": [],
   "source": [
    "df = pd.DataFrame({\n",
    "    'schedule_season':seasons,\n",
    "    'schedule_week':weeks,\n",
    "    'team_home':home_teams,\n",
    "    'turf_type':turf,\n",
    "})"
   ]
  },
  {
   "cell_type": "code",
   "execution_count": 140,
   "id": "2db3e805-1c74-4759-933e-2e27f4a46fa5",
   "metadata": {},
   "outputs": [
    {
     "data": {
      "text/html": [
       "<div>\n",
       "<style scoped>\n",
       "    .dataframe tbody tr th:only-of-type {\n",
       "        vertical-align: middle;\n",
       "    }\n",
       "\n",
       "    .dataframe tbody tr th {\n",
       "        vertical-align: top;\n",
       "    }\n",
       "\n",
       "    .dataframe thead th {\n",
       "        text-align: right;\n",
       "    }\n",
       "</style>\n",
       "<table border=\"1\" class=\"dataframe\">\n",
       "  <thead>\n",
       "    <tr style=\"text-align: right;\">\n",
       "      <th></th>\n",
       "      <th>schedule_season</th>\n",
       "      <th>schedule_week</th>\n",
       "      <th>team_home</th>\n",
       "      <th>turf_type</th>\n",
       "    </tr>\n",
       "  </thead>\n",
       "  <tbody>\n",
       "    <tr>\n",
       "      <th>0</th>\n",
       "      <td>2023</td>\n",
       "      <td>18</td>\n",
       "      <td>Las Vegas Raiders</td>\n",
       "      <td>grass</td>\n",
       "    </tr>\n",
       "    <tr>\n",
       "      <th>1</th>\n",
       "      <td>2023</td>\n",
       "      <td>18</td>\n",
       "      <td>Prev Game</td>\n",
       "      <td>grass</td>\n",
       "    </tr>\n",
       "    <tr>\n",
       "      <th>2</th>\n",
       "      <td>2023</td>\n",
       "      <td>18</td>\n",
       "      <td>Atlanta Falcons</td>\n",
       "      <td>fieldturf</td>\n",
       "    </tr>\n",
       "    <tr>\n",
       "      <th>3</th>\n",
       "      <td>2023</td>\n",
       "      <td>18</td>\n",
       "      <td>Prev Game</td>\n",
       "      <td>a_turf</td>\n",
       "    </tr>\n",
       "    <tr>\n",
       "      <th>4</th>\n",
       "      <td>2023</td>\n",
       "      <td>18</td>\n",
       "      <td>Chicago Bears</td>\n",
       "      <td>grass</td>\n",
       "    </tr>\n",
       "    <tr>\n",
       "      <th>5</th>\n",
       "      <td>2023</td>\n",
       "      <td>18</td>\n",
       "      <td>Cincinnati Bengals</td>\n",
       "      <td>fieldturf</td>\n",
       "    </tr>\n",
       "    <tr>\n",
       "      <th>6</th>\n",
       "      <td>2023</td>\n",
       "      <td>18</td>\n",
       "      <td>Prev Game</td>\n",
       "      <td>fieldturf</td>\n",
       "    </tr>\n",
       "    <tr>\n",
       "      <th>7</th>\n",
       "      <td>2023</td>\n",
       "      <td>18</td>\n",
       "      <td>Prev Game</td>\n",
       "      <td>grass</td>\n",
       "    </tr>\n",
       "    <tr>\n",
       "      <th>8</th>\n",
       "      <td>2023</td>\n",
       "      <td>18</td>\n",
       "      <td>Prev Game</td>\n",
       "      <td>sportturf</td>\n",
       "    </tr>\n",
       "    <tr>\n",
       "      <th>9</th>\n",
       "      <td>2023</td>\n",
       "      <td>18</td>\n",
       "      <td>Prev Game</td>\n",
       "      <td>grass</td>\n",
       "    </tr>\n",
       "    <tr>\n",
       "      <th>10</th>\n",
       "      <td>2023</td>\n",
       "      <td>18</td>\n",
       "      <td>Denver Broncos</td>\n",
       "      <td>grass</td>\n",
       "    </tr>\n",
       "    <tr>\n",
       "      <th>11</th>\n",
       "      <td>2023</td>\n",
       "      <td>18</td>\n",
       "      <td>Philadelphia Eagles</td>\n",
       "      <td>grass</td>\n",
       "    </tr>\n",
       "    <tr>\n",
       "      <th>12</th>\n",
       "      <td>2023</td>\n",
       "      <td>18</td>\n",
       "      <td>Prev Game</td>\n",
       "      <td>outdoors</td>\n",
       "    </tr>\n",
       "    <tr>\n",
       "      <th>13</th>\n",
       "      <td>2023</td>\n",
       "      <td>18</td>\n",
       "      <td>Prev Game</td>\n",
       "      <td>grass</td>\n",
       "    </tr>\n",
       "    <tr>\n",
       "      <th>14</th>\n",
       "      <td>2023</td>\n",
       "      <td>18</td>\n",
       "      <td>Washington Commanders</td>\n",
       "      <td>grass</td>\n",
       "    </tr>\n",
       "    <tr>\n",
       "      <th>15</th>\n",
       "      <td>2023</td>\n",
       "      <td>18</td>\n",
       "      <td>Prev Game</td>\n",
       "      <td>grass</td>\n",
       "    </tr>\n",
       "  </tbody>\n",
       "</table>\n",
       "</div>"
      ],
      "text/plain": [
       "   schedule_season  schedule_week              team_home   turf_type\n",
       "0             2023             18      Las Vegas Raiders       grass\n",
       "1             2023             18              Prev Game      grass \n",
       "2             2023             18        Atlanta Falcons   fieldturf\n",
       "3             2023             18              Prev Game      a_turf\n",
       "4             2023             18          Chicago Bears      grass \n",
       "5             2023             18     Cincinnati Bengals  fieldturf \n",
       "6             2023             18              Prev Game  fieldturf \n",
       "7             2023             18              Prev Game      grass \n",
       "8             2023             18              Prev Game   sportturf\n",
       "9             2023             18              Prev Game      grass \n",
       "10            2023             18         Denver Broncos      grass \n",
       "11            2023             18    Philadelphia Eagles      grass \n",
       "12            2023             18              Prev Game    outdoors\n",
       "13            2023             18              Prev Game       grass\n",
       "14            2023             18  Washington Commanders      grass \n",
       "15            2023             18              Prev Game      grass "
      ]
     },
     "execution_count": 140,
     "metadata": {},
     "output_type": "execute_result"
    }
   ],
   "source": [
    "df"
   ]
  },
  {
   "cell_type": "code",
   "execution_count": null,
   "id": "84410993-9b1f-4a57-a877-b4b37fc1e163",
   "metadata": {},
   "outputs": [],
   "source": []
  },
  {
   "cell_type": "code",
   "execution_count": null,
   "id": "10a16b89-3a0a-4dde-8353-b505b3d81877",
   "metadata": {},
   "outputs": [],
   "source": []
  },
  {
   "cell_type": "code",
   "execution_count": null,
   "id": "1c3f39ba-74ea-4a3a-9475-37e11c3a9f0a",
   "metadata": {},
   "outputs": [],
   "source": []
  },
  {
   "cell_type": "code",
   "execution_count": null,
   "id": "9e0737a8-2110-4ab2-8abe-9e9b8a744e27",
   "metadata": {},
   "outputs": [],
   "source": []
  },
  {
   "cell_type": "code",
   "execution_count": 141,
   "id": "0f1e9c20-529d-4aea-8109-13b17a7627ca",
   "metadata": {},
   "outputs": [],
   "source": [
    "table = soup.find_all('div', class_='content_grid')[0].find_all('div')[0].find_all('div')[0].contents[4]"
   ]
  },
  {
   "cell_type": "code",
   "execution_count": 142,
   "id": "5e3c6557-a091-42e8-a371-c42cdb36e33c",
   "metadata": {},
   "outputs": [],
   "source": [
    "soup1 = BeautifulSoup(table, 'html.parser')"
   ]
  },
  {
   "cell_type": "code",
   "execution_count": 143,
   "id": "2ce69a3c-5352-4538-8217-56388ade515f",
   "metadata": {},
   "outputs": [
    {
     "data": {
      "text/plain": [
       "'grass '"
      ]
     },
     "execution_count": 143,
     "metadata": {},
     "output_type": "execute_result"
    }
   ],
   "source": [
    "soup1.find_all('td')[3].contents[0]"
   ]
  },
  {
   "cell_type": "code",
   "execution_count": null,
   "id": "e78681db-4f18-4cf5-acff-348bed39a10a",
   "metadata": {},
   "outputs": [],
   "source": []
  },
  {
   "cell_type": "code",
   "execution_count": null,
   "id": "556d20a0-13f1-4bf7-ab1a-3623d3ed956a",
   "metadata": {},
   "outputs": [],
   "source": []
  },
  {
   "cell_type": "code",
   "execution_count": null,
   "id": "4b320b3f-c82a-46aa-a4bc-69da1bf1bc5d",
   "metadata": {},
   "outputs": [],
   "source": []
  },
  {
   "cell_type": "code",
   "execution_count": null,
   "id": "06e30de3-53ac-4df6-a157-e9a7fb25f19f",
   "metadata": {},
   "outputs": [],
   "source": []
  },
  {
   "cell_type": "code",
   "execution_count": null,
   "id": "265a2fef-c1b1-4e04-9778-f4957bc509a5",
   "metadata": {},
   "outputs": [],
   "source": []
  },
  {
   "cell_type": "code",
   "execution_count": null,
   "id": "6baf488f-7e69-4bfe-9778-fd2394049c46",
   "metadata": {},
   "outputs": [],
   "source": []
  },
  {
   "cell_type": "code",
   "execution_count": null,
   "id": "900a1332-6009-4d2a-80cb-dabe52a8727e",
   "metadata": {},
   "outputs": [],
   "source": []
  },
  {
   "cell_type": "code",
   "execution_count": null,
   "id": "6dad8a07-853c-4702-813e-70d844151077",
   "metadata": {},
   "outputs": [],
   "source": []
  },
  {
   "cell_type": "code",
   "execution_count": null,
   "id": "a38f632d-741d-44f9-97b3-9a044daee47d",
   "metadata": {},
   "outputs": [],
   "source": []
  },
  {
   "cell_type": "code",
   "execution_count": null,
   "id": "0a05de10-1c20-475d-af85-51b9087adc1e",
   "metadata": {},
   "outputs": [],
   "source": []
  },
  {
   "cell_type": "code",
   "execution_count": null,
   "id": "24455b42-6323-4609-bc1b-6818ad1d8792",
   "metadata": {},
   "outputs": [],
   "source": []
  },
  {
   "cell_type": "code",
   "execution_count": null,
   "id": "57df9cc1-89e5-4220-a49c-be5774b981c9",
   "metadata": {},
   "outputs": [],
   "source": []
  },
  {
   "cell_type": "code",
   "execution_count": null,
   "id": "582f8ac1-aef3-45ae-bdac-1f3a736dd7ec",
   "metadata": {},
   "outputs": [],
   "source": []
  },
  {
   "cell_type": "code",
   "execution_count": null,
   "id": "26a69f8c-0d73-4780-af56-ad4f6c0e51d5",
   "metadata": {},
   "outputs": [],
   "source": []
  },
  {
   "cell_type": "code",
   "execution_count": null,
   "id": "6b356757-90ab-470f-a5a3-a469f03c9b34",
   "metadata": {},
   "outputs": [],
   "source": []
  },
  {
   "cell_type": "code",
   "execution_count": null,
   "id": "7e693858-be04-48f1-83c8-8f5f00d9aef2",
   "metadata": {},
   "outputs": [],
   "source": []
  },
  {
   "cell_type": "code",
   "execution_count": null,
   "id": "a8bd21a3-8aad-442b-9e8a-94cbff0847e7",
   "metadata": {},
   "outputs": [],
   "source": []
  },
  {
   "cell_type": "code",
   "execution_count": null,
   "id": "2ea2ba72-9f42-4086-9374-d382bf533de0",
   "metadata": {},
   "outputs": [],
   "source": []
  },
  {
   "cell_type": "code",
   "execution_count": null,
   "id": "572f5905-613f-44f0-908b-b4a3eca8a9c0",
   "metadata": {},
   "outputs": [],
   "source": []
  },
  {
   "cell_type": "code",
   "execution_count": null,
   "id": "8acbf722-10a2-4036-81ed-0f83afa30c1d",
   "metadata": {},
   "outputs": [],
   "source": []
  },
  {
   "cell_type": "code",
   "execution_count": null,
   "id": "8866d6bc-10d8-4158-a608-1f0d59ca5ef6",
   "metadata": {},
   "outputs": [],
   "source": []
  },
  {
   "cell_type": "code",
   "execution_count": null,
   "id": "18c23679-3fd5-4436-b691-9ebf7498e925",
   "metadata": {},
   "outputs": [],
   "source": []
  },
  {
   "cell_type": "code",
   "execution_count": null,
   "id": "36c2cbd3-2415-46c6-b55d-15599d0f64a6",
   "metadata": {},
   "outputs": [],
   "source": []
  },
  {
   "cell_type": "code",
   "execution_count": null,
   "id": "68f94702-7911-46c9-bfa8-d961aeb80663",
   "metadata": {},
   "outputs": [],
   "source": []
  },
  {
   "cell_type": "code",
   "execution_count": null,
   "id": "c002d995-0b0b-4978-b497-289df56cb97b",
   "metadata": {},
   "outputs": [],
   "source": []
  },
  {
   "cell_type": "code",
   "execution_count": null,
   "id": "a7c79e27-df51-4b9c-b94c-118e03562801",
   "metadata": {},
   "outputs": [],
   "source": []
  },
  {
   "cell_type": "code",
   "execution_count": null,
   "id": "b629fa87-a1ca-4256-a7c1-0f69f35007e4",
   "metadata": {},
   "outputs": [],
   "source": []
  },
  {
   "cell_type": "code",
   "execution_count": null,
   "id": "c4f36bd2-3606-457e-a382-3ed9a080f9c7",
   "metadata": {},
   "outputs": [],
   "source": []
  },
  {
   "cell_type": "code",
   "execution_count": null,
   "id": "a38c5979-1ab5-49e3-90ec-beb43b473d59",
   "metadata": {},
   "outputs": [],
   "source": []
  },
  {
   "cell_type": "code",
   "execution_count": null,
   "id": "b605169d-28db-45d8-8d3d-13e36671ed31",
   "metadata": {},
   "outputs": [],
   "source": []
  },
  {
   "cell_type": "code",
   "execution_count": null,
   "id": "0ea60bb9-5466-4f03-97c8-dad96c9f7650",
   "metadata": {},
   "outputs": [],
   "source": []
  },
  {
   "cell_type": "code",
   "execution_count": null,
   "id": "b2e7c69d-59dc-4302-b493-0214f8b92a10",
   "metadata": {},
   "outputs": [],
   "source": []
  },
  {
   "cell_type": "code",
   "execution_count": null,
   "id": "0a23b9f5-b336-4c0b-9b49-a9341482eeb5",
   "metadata": {},
   "outputs": [],
   "source": []
  },
  {
   "cell_type": "code",
   "execution_count": null,
   "id": "e30bdb14-f4ff-4cab-8f73-343446ca325f",
   "metadata": {},
   "outputs": [],
   "source": []
  },
  {
   "cell_type": "code",
   "execution_count": null,
   "id": "8e504f2a-4e25-4f31-be7c-a6756f905159",
   "metadata": {},
   "outputs": [],
   "source": []
  },
  {
   "cell_type": "code",
   "execution_count": null,
   "id": "06830bd3-47c7-4dcc-9a4b-e5f63a43793a",
   "metadata": {},
   "outputs": [],
   "source": []
  },
  {
   "cell_type": "code",
   "execution_count": null,
   "id": "09e898e2-3133-4475-ba73-39750e228dfb",
   "metadata": {},
   "outputs": [],
   "source": []
  },
  {
   "cell_type": "code",
   "execution_count": null,
   "id": "3de5a69a-8d4a-406f-abe0-7e9d7da2c7ee",
   "metadata": {},
   "outputs": [],
   "source": []
  },
  {
   "cell_type": "code",
   "execution_count": null,
   "id": "7c897272-791e-4ff7-9045-585a6d598370",
   "metadata": {},
   "outputs": [],
   "source": []
  },
  {
   "cell_type": "code",
   "execution_count": null,
   "id": "5445407d-93e8-46da-9862-2620a2e12f11",
   "metadata": {},
   "outputs": [],
   "source": []
  },
  {
   "cell_type": "code",
   "execution_count": null,
   "id": "87bf702d-d6eb-474a-8c9d-5601f5301c16",
   "metadata": {},
   "outputs": [],
   "source": []
  },
  {
   "cell_type": "code",
   "execution_count": null,
   "id": "ae3dbabb-34d7-4a09-999f-2203911e446f",
   "metadata": {},
   "outputs": [],
   "source": []
  },
  {
   "cell_type": "code",
   "execution_count": null,
   "id": "9f89931a-9a58-4569-a20e-2c18c5ac5fc8",
   "metadata": {},
   "outputs": [],
   "source": []
  },
  {
   "cell_type": "code",
   "execution_count": null,
   "id": "b27f45a1-052a-4ac8-9733-7f0b52b8a7f8",
   "metadata": {},
   "outputs": [],
   "source": []
  },
  {
   "cell_type": "code",
   "execution_count": null,
   "id": "59246f50-5fd4-49bf-8d19-463fc190edec",
   "metadata": {},
   "outputs": [],
   "source": []
  },
  {
   "cell_type": "code",
   "execution_count": null,
   "id": "40195a34-2953-489f-aa6d-0d7d78581579",
   "metadata": {},
   "outputs": [],
   "source": []
  },
  {
   "cell_type": "code",
   "execution_count": null,
   "id": "c3821acf-0567-42b5-8249-44ce25d560a3",
   "metadata": {},
   "outputs": [],
   "source": []
  },
  {
   "cell_type": "code",
   "execution_count": null,
   "id": "5d7bc2f7-aa08-4d51-95f7-95d47de3c152",
   "metadata": {},
   "outputs": [],
   "source": []
  },
  {
   "cell_type": "code",
   "execution_count": null,
   "id": "178981ab-627d-46a8-95a9-45c194128e6b",
   "metadata": {},
   "outputs": [],
   "source": []
  },
  {
   "cell_type": "code",
   "execution_count": null,
   "id": "e6f72a49-6470-4bf5-a52f-aa7a7330ee73",
   "metadata": {},
   "outputs": [],
   "source": []
  },
  {
   "cell_type": "code",
   "execution_count": null,
   "id": "a4e34eaf-2bef-4632-a266-52fb7674e126",
   "metadata": {},
   "outputs": [],
   "source": []
  }
 ],
 "metadata": {
  "kernelspec": {
   "display_name": "Python 3 (ipykernel)",
   "language": "python",
   "name": "python3"
  },
  "language_info": {
   "codemirror_mode": {
    "name": "ipython",
    "version": 3
   },
   "file_extension": ".py",
   "mimetype": "text/x-python",
   "name": "python",
   "nbconvert_exporter": "python",
   "pygments_lexer": "ipython3",
   "version": "3.9.13"
  }
 },
 "nbformat": 4,
 "nbformat_minor": 5
}
