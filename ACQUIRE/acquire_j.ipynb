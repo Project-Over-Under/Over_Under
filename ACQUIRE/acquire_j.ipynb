{
 "cells": [
  {
   "cell_type": "code",
   "execution_count": 1,
   "id": "2ac20759",
   "metadata": {},
   "outputs": [],
   "source": [
    "from bs4 import BeautifulSoup\n",
    "import requests\n",
    "import os\n",
    "import pandas as pd\n",
    "import re"
   ]
  },
  {
   "cell_type": "code",
   "execution_count": null,
   "id": "bc6332c9",
   "metadata": {},
   "outputs": [
    {
     "data": {
      "text/plain": [
       "<Response [200]>"
      ]
     },
     "execution_count": 2,
     "metadata": {},
     "output_type": "execute_result"
    }
   ],
   "source": [
    "url = 'https://www.pro-football-reference.com/boxscores/202109120nor.htm'\n",
    "response = requests.get(url)\n",
    "response"
   ]
  },
  {
   "cell_type": "markdown",
   "id": "fd0fc730",
   "metadata": {},
   "source": [
    "- 1 SOUP\n",
    "- 2 div_grid [0]\n",
    "- 3 div [0]\n",
    "- 4 div_wrap [0]\n",
    "- 5 soup_wrap4 [4]\n",
    "- 6 soup4 : reparse soup_wrap4\n",
    "- 7 wx"
   ]
  },
  {
   "cell_type": "code",
   "execution_count": 3,
   "id": "bc7a07c7",
   "metadata": {},
   "outputs": [],
   "source": [
    "#1\n",
    "soup = BeautifulSoup(response.content, 'html.parser')\n",
    "#2\n",
    "div_grid = soup.find_all('div', class_='content_grid')[0]\n",
    "#3\n",
    "div = div_grid.find_all('div')[0]\n",
    "#4\n",
    "div_wrap = div.find_all('div')[0]\n",
    "#5\n",
    "soup_wrap4 = div_wrap.contents[4]\n",
    "#6\n",
    "soup4 = BeautifulSoup(soup_wrap4, 'html.parser')\n",
    "#7\n",
    "wx = soup4.find_all('td','center')[6]"
   ]
  },
  {
   "cell_type": "code",
   "execution_count": 6,
   "id": "d89efa19",
   "metadata": {},
   "outputs": [
    {
     "data": {
      "text/plain": [
       "['86 degrees, relative humidity 57%, wind 9 mph']"
      ]
     },
     "execution_count": 6,
     "metadata": {},
     "output_type": "execute_result"
    }
   ],
   "source": [
    "wx.contents"
   ]
  },
  {
   "cell_type": "code",
   "execution_count": 7,
   "id": "b9cef832",
   "metadata": {},
   "outputs": [
    {
     "data": {
      "text/plain": [
       "'86 degrees, relative humidity 57%, wind 9 mph'"
      ]
     },
     "execution_count": 7,
     "metadata": {},
     "output_type": "execute_result"
    }
   ],
   "source": [
    "wx.contents[0]"
   ]
  },
  {
   "cell_type": "code",
   "execution_count": 11,
   "id": "a7b8bbb1",
   "metadata": {},
   "outputs": [],
   "source": [
    "content = wx.contents[0]"
   ]
  },
  {
   "cell_type": "markdown",
   "id": "85f93d68",
   "metadata": {},
   "source": [
    "## So now we have options..."
   ]
  },
  {
   "cell_type": "code",
   "execution_count": null,
   "id": "d9d42960",
   "metadata": {},
   "outputs": [],
   "source": [
    "# regex to return numerical string at start of object\n",
    "temp = r'^\\d{1,2}'\n",
    "re.findall(temp,content)"
   ]
  },
  {
   "cell_type": "code",
   "execution_count": 13,
   "id": "ed75d9a3",
   "metadata": {},
   "outputs": [],
   "source": [
    "wind = r'\\d{1,2}[\\smph]'\n",
    "# etc...."
   ]
  },
  {
   "cell_type": "markdown",
   "id": "27b6afbc",
   "metadata": {},
   "source": [
    "## Or, a different approach"
   ]
  },
  {
   "cell_type": "code",
   "execution_count": 12,
   "id": "e6685c50",
   "metadata": {},
   "outputs": [
    {
     "data": {
      "text/plain": [
       "['86', '57', '9']"
      ]
     },
     "execution_count": 12,
     "metadata": {},
     "output_type": "execute_result"
    }
   ],
   "source": [
    "wx_digits = r'\\d{1,2}'\n",
    "re.findall(wx_digits,content)"
   ]
  },
  {
   "cell_type": "code",
   "execution_count": null,
   "id": "fd0fb7f4",
   "metadata": {},
   "outputs": [],
   "source": []
  },
  {
   "cell_type": "code",
   "execution_count": 15,
   "id": "ff996a6b",
   "metadata": {},
   "outputs": [
    {
     "data": {
      "text/plain": [
       "'86'"
      ]
     },
     "execution_count": 15,
     "metadata": {},
     "output_type": "execute_result"
    }
   ],
   "source": [
    "re.findall(wx_digits,content)[0]"
   ]
  },
  {
   "cell_type": "code",
   "execution_count": 16,
   "id": "922c46da",
   "metadata": {},
   "outputs": [
    {
     "data": {
      "text/plain": [
       "'57'"
      ]
     },
     "execution_count": 16,
     "metadata": {},
     "output_type": "execute_result"
    }
   ],
   "source": [
    "re.findall(wx_digits,content)[1]"
   ]
  },
  {
   "cell_type": "code",
   "execution_count": 17,
   "id": "122ac807",
   "metadata": {},
   "outputs": [
    {
     "data": {
      "text/plain": [
       "'9'"
      ]
     },
     "execution_count": 17,
     "metadata": {},
     "output_type": "execute_result"
    }
   ],
   "source": [
    "re.findall(wx_digits,content)[2]"
   ]
  },
  {
   "cell_type": "code",
   "execution_count": null,
   "id": "f40b1ed9-0e83-45af-b4bc-69d72ecbacf9",
   "metadata": {},
   "outputs": [],
   "source": []
  },
  {
   "cell_type": "code",
   "execution_count": null,
   "id": "49f0850f-07af-4b94-a452-ed18b696e5a0",
   "metadata": {},
   "outputs": [],
   "source": []
  },
  {
   "cell_type": "code",
   "execution_count": 3,
   "id": "9d77d98f-d5ee-4875-b7c8-53f7b907219b",
   "metadata": {},
   "outputs": [],
   "source": [
    "url = 'https://www.pro-football-reference.com/boxscores/197909010tam.htm'"
   ]
  },
  {
   "cell_type": "code",
   "execution_count": 5,
   "id": "4d77fd19-3fcc-4319-babe-064f49a30b35",
   "metadata": {},
   "outputs": [],
   "source": [
    "response = requests.get(url)"
   ]
  },
  {
   "cell_type": "code",
   "execution_count": 43,
   "id": "7a53f42f-afee-472b-a64c-ce58aa50554a",
   "metadata": {},
   "outputs": [],
   "source": [
    "soup = BeautifulSoup(response.content, 'html.parser')"
   ]
  },
  {
   "cell_type": "code",
   "execution_count": 58,
   "id": "ee9ddd3f-2a80-4d53-9c0e-13ffe49ae4e9",
   "metadata": {},
   "outputs": [],
   "source": [
    "date = soup.find_all('div', class_='scorebox_meta')[0].find_all('div')[0]"
   ]
  },
  {
   "cell_type": "code",
   "execution_count": 76,
   "id": "9f3da829-8a19-4ab4-86c5-17075c724ed9",
   "metadata": {},
   "outputs": [],
   "source": [
    "date_text = date.text"
   ]
  },
  {
   "cell_type": "code",
   "execution_count": 90,
   "id": "5e581f78-df74-4203-a77f-883e012b554c",
   "metadata": {},
   "outputs": [
    {
     "data": {
      "text/plain": [
       "'Saturday Sep 1, 1979'"
      ]
     },
     "execution_count": 90,
     "metadata": {},
     "output_type": "execute_result"
    }
   ],
   "source": [
    "date_text\n"
   ]
  },
  {
   "cell_type": "code",
   "execution_count": 92,
   "id": "09bbbe94-dcc3-4c47-acf2-2f0eac3b8ff1",
   "metadata": {},
   "outputs": [
    {
     "data": {
      "text/plain": [
       "['Sep 1, 1979']"
      ]
     },
     "execution_count": 92,
     "metadata": {},
     "output_type": "execute_result"
    }
   ],
   "source": [
    "reg = r\"(?<=\\s)[^\\s].*\"\n",
    "re.findall(reg, date_text)"
   ]
  },
  {
   "cell_type": "code",
   "execution_count": 116,
   "id": "addd883c-3830-4fed-b9b3-8754d6ed7a78",
   "metadata": {},
   "outputs": [],
   "source": [
    "final_text = soup.find_all('div', class_='scorebox_meta')[0].find_all('div')[1]"
   ]
  },
  {
   "cell_type": "code",
   "execution_count": 61,
   "id": "92f4fe43-dccc-4275-a612-d7a57e8bc9c5",
   "metadata": {},
   "outputs": [
    {
     "data": {
      "text/plain": [
       "'Start Time: 8:00pm'"
      ]
     },
     "execution_count": 61,
     "metadata": {},
     "output_type": "execute_result"
    }
   ],
   "source": [
    "final_text.text\n"
   ]
  },
  {
   "cell_type": "code",
   "execution_count": 50,
   "id": "0ae05286-17b2-4a67-b801-7be94e08a131",
   "metadata": {},
   "outputs": [
    {
     "data": {
      "text/plain": [
       "'<div><strong>Start Time</strong>: 8:00pm</div>'"
      ]
     },
     "execution_count": 50,
     "metadata": {},
     "output_type": "execute_result"
    }
   ],
   "source": [
    "str(final_text)"
   ]
  },
  {
   "cell_type": "code",
   "execution_count": 52,
   "id": "b5774f60",
   "metadata": {},
   "outputs": [],
   "source": [
    "start_time = r'Start Time<\\/strong>: (\\d{1,2}:\\d{2})'\n",
    "time = re.findall(start_time, str(final_text))"
   ]
  },
  {
   "cell_type": "code",
   "execution_count": 54,
   "id": "e8e84cb9",
   "metadata": {},
   "outputs": [
    {
     "data": {
      "text/plain": [
       "'8:00'"
      ]
     },
     "execution_count": 54,
     "metadata": {},
     "output_type": "execute_result"
    }
   ],
   "source": [
    "time[0]"
   ]
  },
  {
   "cell_type": "code",
   "execution_count": null,
   "id": "9545609b-3a74-46a4-8d31-08fbceb426e6",
   "metadata": {},
   "outputs": [],
   "source": []
  },
  {
   "cell_type": "code",
   "execution_count": 144,
   "id": "1c75c037-73c9-47a3-ab03-3e9df429a2bb",
   "metadata": {},
   "outputs": [],
   "source": [
    "table = soup.find_all('div', class_='content_grid')[0].find_all('div')[0].find_all('div')[0].contents[4]"
   ]
  },
  {
   "cell_type": "code",
   "execution_count": 145,
   "id": "697208cc-b521-440c-bb83-cf5f6eb2d175",
   "metadata": {},
   "outputs": [],
   "source": [
    "soup1 = BeautifulSoup(table, 'html.parser')"
   ]
  },
  {
   "cell_type": "code",
   "execution_count": 160,
   "id": "603bd571-85f3-4aef-998a-1b9c14a547f2",
   "metadata": {},
   "outputs": [
    {
     "data": {
      "text/plain": [
       "'grass'"
      ]
     },
     "execution_count": 160,
     "metadata": {},
     "output_type": "execute_result"
    }
   ],
   "source": [
    "soup1.find_all('td')[2].contents[0]"
   ]
  },
  {
   "cell_type": "code",
   "execution_count": null,
   "id": "7d19db44-1002-4de1-8cfe-7b44519f06b8",
   "metadata": {},
   "outputs": [],
   "source": []
  },
  {
   "cell_type": "code",
   "execution_count": 161,
   "id": "12e74a94-f2bc-4cff-a331-e36c3abe0211",
   "metadata": {},
   "outputs": [],
   "source": [
    "url = 'https://www.pro-football-reference.com/years/1979/week_1.htm'"
   ]
  },
  {
   "cell_type": "code",
   "execution_count": 162,
   "id": "c7ed1beb-7815-4856-b908-b53aa2abbce6",
   "metadata": {},
   "outputs": [],
   "source": [
    "response = requests.get(url)"
   ]
  },
  {
   "cell_type": "code",
   "execution_count": 163,
   "id": "649bd16b-a2c0-40b5-945f-4befa5d18f32",
   "metadata": {},
   "outputs": [],
   "source": [
    "soup = BeautifulSoup(response.content, 'html.parser')"
   ]
  },
  {
   "cell_type": "code",
   "execution_count": 173,
   "id": "878d912c-da61-49f4-8ec8-fdc4e75ba925",
   "metadata": {},
   "outputs": [],
   "source": [
    "html_links = soup.find_all('td', class_='right gamelink')"
   ]
  },
  {
   "cell_type": "code",
   "execution_count": 194,
   "id": "c7a98d25-f604-41fe-a52d-d9e566e82e04",
   "metadata": {},
   "outputs": [
    {
     "data": {
      "text/plain": [
       "'/boxscores/197909010tam.htm'"
      ]
     },
     "execution_count": 194,
     "metadata": {},
     "output_type": "execute_result"
    }
   ],
   "source": [
    "html_links[0].find('a')['href']"
   ]
  },
  {
   "cell_type": "code",
   "execution_count": 195,
   "id": "d35e0365-6999-486e-8dfc-da42662f20f3",
   "metadata": {},
   "outputs": [
    {
     "data": {
      "text/plain": [
       "['/boxscores/197909010tam.htm',\n",
       " '/boxscores/197909020buf.htm',\n",
       " '/boxscores/197909020min.htm',\n",
       " '/boxscores/197909020phi.htm',\n",
       " '/boxscores/197909020was.htm',\n",
       " '/boxscores/197909020chi.htm',\n",
       " '/boxscores/197909020crd.htm',\n",
       " '/boxscores/197909020nor.htm',\n",
       " '/boxscores/197909020den.htm',\n",
       " '/boxscores/197909020kan.htm',\n",
       " '/boxscores/197909020nyj.htm',\n",
       " '/boxscores/197909020ram.htm',\n",
       " '/boxscores/197909020sea.htm',\n",
       " '/boxscores/197909030nwe.htm']"
      ]
     },
     "execution_count": 195,
     "metadata": {},
     "output_type": "execute_result"
    }
   ],
   "source": [
    "[item.find('a')['href'] for item in html_links]"
   ]
  },
  {
   "cell_type": "code",
   "execution_count": null,
   "id": "36688a87-8388-4cd1-acdf-5492cffc015b",
   "metadata": {},
   "outputs": [],
   "source": []
  },
  {
   "cell_type": "code",
   "execution_count": null,
   "id": "33921ce6-1e21-4b98-833e-22c577618911",
   "metadata": {},
   "outputs": [],
   "source": []
  },
  {
   "cell_type": "code",
   "execution_count": null,
   "id": "120f5056-1d9f-416c-a4cc-841d3b06e8bc",
   "metadata": {},
   "outputs": [],
   "source": []
  },
  {
   "cell_type": "code",
   "execution_count": null,
   "id": "d6379e90-d1dd-426d-8881-b320d100256d",
   "metadata": {},
   "outputs": [],
   "source": []
  },
  {
   "cell_type": "code",
   "execution_count": null,
   "id": "7a5a05e0-d88d-460b-8f6e-1e97a343808a",
   "metadata": {},
   "outputs": [],
   "source": []
  }
 ],
 "metadata": {
  "kernelspec": {
   "display_name": "Python 3 (ipykernel)",
   "language": "python",
   "name": "python3"
  },
  "language_info": {
   "codemirror_mode": {
    "name": "ipython",
    "version": 3
   },
   "file_extension": ".py",
   "mimetype": "text/x-python",
   "name": "python",
   "nbconvert_exporter": "python",
   "pygments_lexer": "ipython3",
   "version": "3.9.13"
  }
 },
 "nbformat": 4,
 "nbformat_minor": 5
}
