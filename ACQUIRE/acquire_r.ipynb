{
 "cells": [
  {
   "cell_type": "code",
   "execution_count": 1,
   "id": "2ac20759",
   "metadata": {},
   "outputs": [],
   "source": [
    "from bs4 import BeautifulSoup\n",
    "import requests\n",
    "import os\n",
    "import pandas as pd\n",
    "import re\n",
    "from time import sleep\n",
    "import acquire_r as ar"
   ]
  },
  {
   "cell_type": "code",
   "execution_count": 2,
   "id": "bc6332c9",
   "metadata": {},
   "outputs": [
    {
     "data": {
      "text/plain": [
       "<Response [200]>"
      ]
     },
     "execution_count": 2,
     "metadata": {},
     "output_type": "execute_result"
    }
   ],
   "source": [
    "url = 'https://www.pro-football-reference.com/boxscores/202011120oti.htm'\n",
    "response = requests.get(url)\n",
    "response"
   ]
  },
  {
   "cell_type": "markdown",
   "id": "fd0fc730",
   "metadata": {},
   "source": [
    "- 1 SOUP\n",
    "- 2 div_grid [0]\n",
    "- 3 div [0]\n",
    "- 4 div_wrap [0]\n",
    "- 5 soup_wrap4 [4]\n",
    "- 6 soup4 : reparse soup_wrap4\n",
    "- 7 wx"
   ]
  },
  {
   "cell_type": "code",
   "execution_count": 3,
   "id": "bc7a07c7",
   "metadata": {},
   "outputs": [],
   "source": [
    "#1\n",
    "soup = BeautifulSoup(response.content, 'html.parser')\n",
    "#2\n",
    "div_grid = soup.find_all('div', class_='content_grid')[0]\n",
    "#3\n",
    "div = div_grid.find_all('div')[0]\n",
    "#4\n",
    "div_wrap = div.find_all('div')[0]\n",
    "#5\n",
    "soup_wrap4 = div_wrap.contents[4]\n",
    "#6\n",
    "soup4 = BeautifulSoup(soup_wrap4, 'html.parser')\n",
    "#7\n",
    "wx = soup4.find_all('td','center')[6]"
   ]
  },
  {
   "cell_type": "code",
   "execution_count": 4,
   "id": "d89efa19",
   "metadata": {},
   "outputs": [
    {
     "data": {
      "text/plain": [
       "['56 degrees, relative humidity 46%, wind 6 mph']"
      ]
     },
     "execution_count": 4,
     "metadata": {},
     "output_type": "execute_result"
    }
   ],
   "source": [
    "wx.contents"
   ]
  },
  {
   "cell_type": "code",
   "execution_count": 5,
   "id": "b9cef832",
   "metadata": {},
   "outputs": [
    {
     "data": {
      "text/plain": [
       "'56 degrees, relative humidity 46%, wind 6 mph'"
      ]
     },
     "execution_count": 5,
     "metadata": {},
     "output_type": "execute_result"
    }
   ],
   "source": [
    "wx.contents[0]"
   ]
  },
  {
   "cell_type": "code",
   "execution_count": 6,
   "id": "a7b8bbb1",
   "metadata": {},
   "outputs": [],
   "source": [
    "content = str(wx.contents[0])"
   ]
  },
  {
   "cell_type": "code",
   "execution_count": null,
   "id": "11aa1dfb",
   "metadata": {},
   "outputs": [],
   "source": [
    "#content = str(content)"
   ]
  },
  {
   "cell_type": "code",
   "execution_count": 7,
   "id": "14dd6209",
   "metadata": {},
   "outputs": [
    {
     "data": {
      "text/plain": [
       "str"
      ]
     },
     "execution_count": 7,
     "metadata": {},
     "output_type": "execute_result"
    }
   ],
   "source": [
    "type(content)"
   ]
  },
  {
   "cell_type": "code",
   "execution_count": 8,
   "id": "91025acd",
   "metadata": {},
   "outputs": [
    {
     "data": {
      "text/plain": [
       "'56 degrees, relative humidity 46%, wind 6 mph'"
      ]
     },
     "execution_count": 8,
     "metadata": {},
     "output_type": "execute_result"
    }
   ],
   "source": [
    "content"
   ]
  },
  {
   "cell_type": "markdown",
   "id": "85f93d68",
   "metadata": {},
   "source": [
    "## So now we have options..."
   ]
  },
  {
   "cell_type": "code",
   "execution_count": null,
   "id": "d9d42960",
   "metadata": {},
   "outputs": [],
   "source": [
    "# regex to return numerical string at start of object\n",
    "temp = r'^\\d{1,2}'\n",
    "re.findall(temp,content)"
   ]
  },
  {
   "cell_type": "code",
   "execution_count": null,
   "id": "ed75d9a3",
   "metadata": {},
   "outputs": [],
   "source": [
    "wind = r'\\d{1,2}[\\smph]'\n",
    "# etc...."
   ]
  },
  {
   "cell_type": "markdown",
   "id": "27b6afbc",
   "metadata": {},
   "source": [
    "## Or, a different approach"
   ]
  },
  {
   "cell_type": "code",
   "execution_count": 9,
   "id": "e6685c50",
   "metadata": {},
   "outputs": [
    {
     "data": {
      "text/plain": [
       "['56', '46', '6']"
      ]
     },
     "execution_count": 9,
     "metadata": {},
     "output_type": "execute_result"
    }
   ],
   "source": [
    "wx_digits = r'\\d{1,2}'\n",
    "re.findall(wx_digits,content)"
   ]
  },
  {
   "cell_type": "code",
   "execution_count": null,
   "id": "fd0fb7f4",
   "metadata": {},
   "outputs": [],
   "source": []
  },
  {
   "cell_type": "code",
   "execution_count": 10,
   "id": "ff996a6b",
   "metadata": {},
   "outputs": [
    {
     "data": {
      "text/plain": [
       "'56'"
      ]
     },
     "execution_count": 10,
     "metadata": {},
     "output_type": "execute_result"
    }
   ],
   "source": [
    "re.findall(wx_digits,content)[0]"
   ]
  },
  {
   "cell_type": "code",
   "execution_count": 11,
   "id": "91424569",
   "metadata": {},
   "outputs": [
    {
     "data": {
      "text/plain": [
       "'56'"
      ]
     },
     "execution_count": 11,
     "metadata": {},
     "output_type": "execute_result"
    }
   ],
   "source": [
    "re.findall(wx_digits,content)[0]"
   ]
  },
  {
   "cell_type": "code",
   "execution_count": 12,
   "id": "922c46da",
   "metadata": {},
   "outputs": [
    {
     "data": {
      "text/plain": [
       "'46'"
      ]
     },
     "execution_count": 12,
     "metadata": {},
     "output_type": "execute_result"
    }
   ],
   "source": [
    "re.findall(wx_digits,content)[1]"
   ]
  },
  {
   "cell_type": "code",
   "execution_count": 13,
   "id": "122ac807",
   "metadata": {},
   "outputs": [
    {
     "data": {
      "text/plain": [
       "'6'"
      ]
     },
     "execution_count": 13,
     "metadata": {},
     "output_type": "execute_result"
    }
   ],
   "source": [
    "re.findall(wx_digits,content)[2]"
   ]
  },
  {
   "cell_type": "markdown",
   "id": "91e5cb16",
   "metadata": {},
   "source": [
    "## Ok, now we increase the scale to WEEKLY"
   ]
  },
  {
   "cell_type": "code",
   "execution_count": 14,
   "id": "b5774f60",
   "metadata": {},
   "outputs": [],
   "source": [
    "url = 'https://www.pro-football-reference.com/years/2020/week_10.htm'"
   ]
  },
  {
   "cell_type": "code",
   "execution_count": 15,
   "id": "e8e84cb9",
   "metadata": {},
   "outputs": [
    {
     "data": {
      "text/plain": [
       "<Response [200]>"
      ]
     },
     "execution_count": 15,
     "metadata": {},
     "output_type": "execute_result"
    }
   ],
   "source": [
    "response = requests.get(url)\n",
    "response"
   ]
  },
  {
   "cell_type": "code",
   "execution_count": 16,
   "id": "3de1baf8",
   "metadata": {},
   "outputs": [
    {
     "data": {
      "text/plain": [
       "<Response [200]>"
      ]
     },
     "execution_count": 16,
     "metadata": {},
     "output_type": "execute_result"
    }
   ],
   "source": [
    "response"
   ]
  },
  {
   "cell_type": "code",
   "execution_count": 17,
   "id": "73f7168a",
   "metadata": {},
   "outputs": [],
   "source": [
    "soup = BeautifulSoup(response.content, 'html.parser')"
   ]
  },
  {
   "cell_type": "code",
   "execution_count": 18,
   "id": "4c621a6a",
   "metadata": {},
   "outputs": [],
   "source": [
    "html_links = soup.find_all('td', class_='right gamelink')"
   ]
  },
  {
   "cell_type": "code",
   "execution_count": 19,
   "id": "2676d1a4",
   "metadata": {},
   "outputs": [
    {
     "data": {
      "text/plain": [
       "'/boxscores/202011120oti.htm'"
      ]
     },
     "execution_count": 19,
     "metadata": {},
     "output_type": "execute_result"
    }
   ],
   "source": [
    "html_links[0].find('a')['href']"
   ]
  },
  {
   "cell_type": "markdown",
   "id": "82ff3a62",
   "metadata": {},
   "source": [
    "## List of Games"
   ]
  },
  {
   "cell_type": "code",
   "execution_count": 20,
   "id": "228869b6",
   "metadata": {},
   "outputs": [
    {
     "data": {
      "text/plain": [
       "['/boxscores/202011120oti.htm',\n",
       " '/boxscores/202011150car.htm',\n",
       " '/boxscores/202011150cle.htm',\n",
       " '/boxscores/202011150det.htm',\n",
       " '/boxscores/202011150gnb.htm',\n",
       " '/boxscores/202011150nyg.htm',\n",
       " '/boxscores/202011150crd.htm',\n",
       " '/boxscores/202011150mia.htm',\n",
       " '/boxscores/202011150rai.htm',\n",
       " '/boxscores/202011150nor.htm',\n",
       " '/boxscores/202011150pit.htm',\n",
       " '/boxscores/202011150ram.htm',\n",
       " '/boxscores/202011150nwe.htm',\n",
       " '/boxscores/202011160chi.htm']"
      ]
     },
     "execution_count": 20,
     "metadata": {},
     "output_type": "execute_result"
    }
   ],
   "source": [
    "[item.find('a')['href'] for item in html_links]"
   ]
  },
  {
   "cell_type": "code",
   "execution_count": 21,
   "id": "8fefeda8",
   "metadata": {},
   "outputs": [],
   "source": [
    "games = [item.find('a')['href'] for item in html_links]"
   ]
  },
  {
   "cell_type": "code",
   "execution_count": 22,
   "id": "001280fb",
   "metadata": {
    "scrolled": true
   },
   "outputs": [
    {
     "data": {
      "text/plain": [
       "['/boxscores/202011120oti.htm',\n",
       " '/boxscores/202011150car.htm',\n",
       " '/boxscores/202011150cle.htm',\n",
       " '/boxscores/202011150det.htm',\n",
       " '/boxscores/202011150gnb.htm',\n",
       " '/boxscores/202011150nyg.htm',\n",
       " '/boxscores/202011150crd.htm',\n",
       " '/boxscores/202011150mia.htm',\n",
       " '/boxscores/202011150rai.htm',\n",
       " '/boxscores/202011150nor.htm',\n",
       " '/boxscores/202011150pit.htm',\n",
       " '/boxscores/202011150ram.htm',\n",
       " '/boxscores/202011150nwe.htm',\n",
       " '/boxscores/202011160chi.htm']"
      ]
     },
     "execution_count": 22,
     "metadata": {},
     "output_type": "execute_result"
    }
   ],
   "source": [
    "games"
   ]
  },
  {
   "cell_type": "markdown",
   "id": "ed9fabef",
   "metadata": {},
   "source": [
    "## List of homes"
   ]
  },
  {
   "cell_type": "code",
   "execution_count": null,
   "id": "30509812",
   "metadata": {},
   "outputs": [],
   "source": [
    "home_re = r'[a-z]{3}'"
   ]
  },
  {
   "cell_type": "code",
   "execution_count": null,
   "id": "5c7cbc66",
   "metadata": {},
   "outputs": [],
   "source": [
    "home = re.findall(home_re,games[0])[3]"
   ]
  },
  {
   "cell_type": "code",
   "execution_count": null,
   "id": "51d5d7cc",
   "metadata": {},
   "outputs": [],
   "source": [
    "type(home)"
   ]
  },
  {
   "cell_type": "code",
   "execution_count": null,
   "id": "06a51417",
   "metadata": {},
   "outputs": [],
   "source": [
    "home"
   ]
  },
  {
   "cell_type": "code",
   "execution_count": null,
   "id": "ce568e3e",
   "metadata": {},
   "outputs": [],
   "source": [
    "homes = [re.findall(home_re,i)[3] for i in games]"
   ]
  },
  {
   "cell_type": "code",
   "execution_count": null,
   "id": "34c58e51",
   "metadata": {},
   "outputs": [],
   "source": [
    "# homes_2 = []\n",
    "# for i in games:\n",
    "#     home_re = r'[a-z]{3}'\n",
    "#     home = re.findall(home_re,i)[3]\n",
    "#     homes.append(home)"
   ]
  },
  {
   "cell_type": "code",
   "execution_count": null,
   "id": "5fdc0fab",
   "metadata": {},
   "outputs": [],
   "source": [
    "homes"
   ]
  },
  {
   "cell_type": "code",
   "execution_count": null,
   "id": "db2c5473",
   "metadata": {},
   "outputs": [],
   "source": []
  },
  {
   "cell_type": "markdown",
   "id": "468948d3",
   "metadata": {},
   "source": [
    "## List of seasons"
   ]
  },
  {
   "cell_type": "code",
   "execution_count": null,
   "id": "04ded509",
   "metadata": {},
   "outputs": [],
   "source": [
    "date_re = r'[0-9]{4}'"
   ]
  },
  {
   "cell_type": "code",
   "execution_count": null,
   "id": "7c63416f",
   "metadata": {},
   "outputs": [],
   "source": [
    "re.findall(date_re,games[0])[0]"
   ]
  },
  {
   "cell_type": "code",
   "execution_count": null,
   "id": "6ffc029a",
   "metadata": {},
   "outputs": [],
   "source": [
    "season = re.findall(date_re,games[0])[0]"
   ]
  },
  {
   "cell_type": "code",
   "execution_count": null,
   "id": "651d1b07",
   "metadata": {},
   "outputs": [],
   "source": [
    "season"
   ]
  },
  {
   "cell_type": "code",
   "execution_count": null,
   "id": "398c3f57",
   "metadata": {},
   "outputs": [],
   "source": [
    "seasons = [re.findall(date_re,i)[0] for i in games]"
   ]
  },
  {
   "cell_type": "code",
   "execution_count": null,
   "id": "f420752b",
   "metadata": {},
   "outputs": [],
   "source": [
    "seasons"
   ]
  },
  {
   "cell_type": "markdown",
   "id": "87b7100e",
   "metadata": {},
   "source": [
    "## List of weeks"
   ]
  },
  {
   "cell_type": "code",
   "execution_count": null,
   "id": "3f34c712",
   "metadata": {},
   "outputs": [],
   "source": [
    "weeks = [1 for i in games]"
   ]
  },
  {
   "cell_type": "code",
   "execution_count": null,
   "id": "1ab30878",
   "metadata": {},
   "outputs": [],
   "source": [
    "weeks"
   ]
  },
  {
   "cell_type": "code",
   "execution_count": null,
   "id": "341fbcca",
   "metadata": {},
   "outputs": [],
   "source": []
  },
  {
   "cell_type": "markdown",
   "id": "87195c2c",
   "metadata": {},
   "source": [
    "## List of temps"
   ]
  },
  {
   "cell_type": "code",
   "execution_count": null,
   "id": "79f097ee",
   "metadata": {},
   "outputs": [],
   "source": [
    "temps = []\n",
    "for game in games:\n",
    "    url = f'https://www.pro-football-reference.com/{game}'\n",
    "    response = requests.get(url)\n",
    "    wx_digits = r'\\d{1,2}'\n",
    "    soup = BeautifulSoup(response.content, 'html.parser')\n",
    "    div_grid = soup.find_all('div', class_='content_grid')[0]\n",
    "    div = div_grid.find_all('div')[0]\n",
    "    div_wrap = div.find_all('div')[0]\n",
    "    soup_wrap4 = div_wrap.contents[4]\n",
    "    soup4 = BeautifulSoup(soup_wrap4, 'html.parser')\n",
    "    wx = soup4.find_all('td','center')[-3]\n",
    "    content = str(wx.contents[0])\n",
    "    temp = re.findall(wx_digits,content)[0]\n",
    "    temps.append(temp)"
   ]
  },
  {
   "cell_type": "code",
   "execution_count": null,
   "id": "8f5af6b7",
   "metadata": {},
   "outputs": [],
   "source": [
    "temps"
   ]
  },
  {
   "cell_type": "code",
   "execution_count": null,
   "id": "d6b12c11",
   "metadata": {},
   "outputs": [],
   "source": [
    "df = pd.DataFrame({\n",
    "    'season':seasons,\n",
    "    'week':weeks,\n",
    "    'home':homes,\n",
    "    'temp':temps\n",
    "})"
   ]
  },
  {
   "cell_type": "code",
   "execution_count": null,
   "id": "f12e7ef1",
   "metadata": {},
   "outputs": [],
   "source": [
    "df"
   ]
  },
  {
   "cell_type": "markdown",
   "id": "e399a67b",
   "metadata": {},
   "source": [
    "## List of winds"
   ]
  },
  {
   "cell_type": "code",
   "execution_count": 25,
   "id": "40cfe360",
   "metadata": {},
   "outputs": [
    {
     "data": {
      "text/plain": [
       "<Response [200]>"
      ]
     },
     "execution_count": 25,
     "metadata": {},
     "output_type": "execute_result"
    }
   ],
   "source": [
    "response"
   ]
  },
  {
   "cell_type": "code",
   "execution_count": 24,
   "id": "b90b40c0",
   "metadata": {},
   "outputs": [
    {
     "ename": "IndexError",
     "evalue": "list index out of range",
     "output_type": "error",
     "traceback": [
      "\u001b[0;31m---------------------------------------------------------------------------\u001b[0m",
      "\u001b[0;31mIndexError\u001b[0m                                Traceback (most recent call last)",
      "Input \u001b[0;32mIn [24]\u001b[0m, in \u001b[0;36m<cell line: 2>\u001b[0;34m()\u001b[0m\n\u001b[1;32m     12\u001b[0m wx \u001b[38;5;241m=\u001b[39m soup4\u001b[38;5;241m.\u001b[39mfind_all(\u001b[38;5;124m'\u001b[39m\u001b[38;5;124mtd\u001b[39m\u001b[38;5;124m'\u001b[39m,\u001b[38;5;124m'\u001b[39m\u001b[38;5;124mcenter\u001b[39m\u001b[38;5;124m'\u001b[39m)[\u001b[38;5;241m-\u001b[39m\u001b[38;5;241m3\u001b[39m]\n\u001b[1;32m     13\u001b[0m content \u001b[38;5;241m=\u001b[39m \u001b[38;5;28mstr\u001b[39m(wx\u001b[38;5;241m.\u001b[39mcontents[\u001b[38;5;241m0\u001b[39m])\n\u001b[0;32m---> 14\u001b[0m wind \u001b[38;5;241m=\u001b[39m \u001b[43mre\u001b[49m\u001b[38;5;241;43m.\u001b[39;49m\u001b[43mfindall\u001b[49m\u001b[43m(\u001b[49m\u001b[43mwx_digits\u001b[49m\u001b[43m,\u001b[49m\u001b[43mcontent\u001b[49m\u001b[43m)\u001b[49m\u001b[43m[\u001b[49m\u001b[38;5;241;43m2\u001b[39;49m\u001b[43m]\u001b[49m\n\u001b[1;32m     15\u001b[0m winds\u001b[38;5;241m.\u001b[39mappend(wind)\n",
      "\u001b[0;31mIndexError\u001b[0m: list index out of range"
     ]
    }
   ],
   "source": [
    "winds = []\n",
    "for game in games:\n",
    "    url = f'https://www.pro-football-reference.com/{game}'\n",
    "    response = requests.get(url)\n",
    "    wx_digits = r'\\d{1,2}'\n",
    "    soup = BeautifulSoup(response.content, 'html.parser')\n",
    "    div_grid = soup.find_all('div', class_='content_grid')[0]\n",
    "    div = div_grid.find_all('div')[0]\n",
    "    div_wrap = div.find_all('div')[0]\n",
    "    soup_wrap4 = div_wrap.contents[4]\n",
    "    soup4 = BeautifulSoup(soup_wrap4, 'html.parser')\n",
    "    wx = soup4.find_all('td','center')[-3]\n",
    "    content = str(wx.contents[0])\n",
    "    wind = re.findall(wx_digits,content)[2]\n",
    "    winds.append(wind)"
   ]
  },
  {
   "cell_type": "code",
   "execution_count": null,
   "id": "83089fa9",
   "metadata": {},
   "outputs": [],
   "source": [
    "winds"
   ]
  },
  {
   "cell_type": "markdown",
   "id": "885b002c",
   "metadata": {},
   "source": [
    "## List of hums"
   ]
  },
  {
   "cell_type": "code",
   "execution_count": null,
   "id": "95d184aa",
   "metadata": {},
   "outputs": [],
   "source": [
    "response"
   ]
  },
  {
   "cell_type": "code",
   "execution_count": null,
   "id": "e69e5bc7",
   "metadata": {},
   "outputs": [],
   "source": [
    "hums = []\n",
    "for game in games:\n",
    "    url = f'https://www.pro-football-reference.com/{game}'\n",
    "    response = requests.get(url)\n",
    "    wx_digits = r'\\d{1,2}'\n",
    "    soup = BeautifulSoup(response.content, 'html.parser')\n",
    "    div_grid = soup.find_all('div', class_='content_grid')[0]\n",
    "    div = div_grid.find_all('div')[0]\n",
    "    div_wrap = div.find_all('div')[0]\n",
    "    soup_wrap4 = div_wrap.contents[4]\n",
    "    soup4 = BeautifulSoup(soup_wrap4, 'html.parser')\n",
    "    wx = soup4.find_all('td','center')[-3]\n",
    "    content = str(wx.contents[0])\n",
    "    hum = re.findall(wx_digits,content)[1]\n",
    "    hums.append(hum)"
   ]
  },
  {
   "cell_type": "code",
   "execution_count": null,
   "id": "312a2ab9",
   "metadata": {},
   "outputs": [],
   "source": [
    "hums"
   ]
  },
  {
   "cell_type": "code",
   "execution_count": null,
   "id": "60e08a33",
   "metadata": {},
   "outputs": [],
   "source": [
    "df = pd.DataFrame({\n",
    "    'schedule_season':seasons,\n",
    "    'schedule_week':weeks,\n",
    "    'team_home':homes,\n",
    "    'weather_temperature':temps,\n",
    "    'weather_wind_mph':winds,\n",
    "    \"weather_humidity\":hums\n",
    "})"
   ]
  },
  {
   "cell_type": "code",
   "execution_count": null,
   "id": "6c9db23f",
   "metadata": {},
   "outputs": [],
   "source": [
    "df"
   ]
  },
  {
   "cell_type": "markdown",
   "id": "6b23af5f",
   "metadata": {},
   "source": [
    "## Write to .csv"
   ]
  },
  {
   "cell_type": "code",
   "execution_count": null,
   "id": "c00823a4",
   "metadata": {},
   "outputs": [],
   "source": [
    "df.to_csv('season_2022_w1.csv', index=False)"
   ]
  },
  {
   "cell_type": "markdown",
   "id": "d87b3b26",
   "metadata": {},
   "source": [
    "---\n",
    "---\n",
    "## NEXT WEEK"
   ]
  },
  {
   "cell_type": "code",
   "execution_count": null,
   "id": "0c50fc19",
   "metadata": {},
   "outputs": [],
   "source": [
    "url = 'https://www.pro-football-reference.com/years/2022/week_2.htm'"
   ]
  },
  {
   "cell_type": "code",
   "execution_count": null,
   "id": "c1987a0d",
   "metadata": {},
   "outputs": [],
   "source": [
    "response = requests.get(url)"
   ]
  },
  {
   "cell_type": "code",
   "execution_count": null,
   "id": "b3b9f10d",
   "metadata": {},
   "outputs": [],
   "source": [
    "response"
   ]
  },
  {
   "cell_type": "code",
   "execution_count": null,
   "id": "b7f15925",
   "metadata": {},
   "outputs": [],
   "source": [
    "soup = BeautifulSoup(response.content, 'html.parser')\n",
    "html_links = soup.find_all('td', class_='right gamelink')\n",
    "games = [item.find('a')['href'] for item in html_links]"
   ]
  },
  {
   "cell_type": "code",
   "execution_count": null,
   "id": "bc951837",
   "metadata": {},
   "outputs": [],
   "source": [
    "games"
   ]
  },
  {
   "cell_type": "markdown",
   "id": "c46c6e8d",
   "metadata": {},
   "source": [
    "## List of homes"
   ]
  },
  {
   "cell_type": "code",
   "execution_count": null,
   "id": "20feac2a",
   "metadata": {},
   "outputs": [],
   "source": [
    "home_re = r'[a-z]{3}'\n",
    "homes = [re.findall(home_re,i)[3] for i in games]"
   ]
  },
  {
   "cell_type": "code",
   "execution_count": null,
   "id": "9ec371a8",
   "metadata": {},
   "outputs": [],
   "source": [
    "homes"
   ]
  },
  {
   "cell_type": "markdown",
   "id": "d7f2adb3",
   "metadata": {},
   "source": [
    "## List of seasons"
   ]
  },
  {
   "cell_type": "code",
   "execution_count": null,
   "id": "a936194a",
   "metadata": {},
   "outputs": [],
   "source": [
    "date_re = r'[0-9]{4}'\n",
    "seasons = [re.findall(date_re,i)[0] for i in games]"
   ]
  },
  {
   "cell_type": "code",
   "execution_count": null,
   "id": "72a24a6d",
   "metadata": {},
   "outputs": [],
   "source": [
    "seasons"
   ]
  },
  {
   "cell_type": "markdown",
   "id": "a988f8c8",
   "metadata": {},
   "source": [
    "## List of weeks"
   ]
  },
  {
   "cell_type": "code",
   "execution_count": null,
   "id": "c71177c7",
   "metadata": {},
   "outputs": [],
   "source": [
    "weeks = [2 for i in games]"
   ]
  },
  {
   "cell_type": "code",
   "execution_count": null,
   "id": "1932568b",
   "metadata": {},
   "outputs": [],
   "source": [
    "weeks"
   ]
  },
  {
   "cell_type": "markdown",
   "id": "bbe94002",
   "metadata": {},
   "source": [
    "## List of temps"
   ]
  },
  {
   "cell_type": "code",
   "execution_count": null,
   "id": "b4241540",
   "metadata": {},
   "outputs": [],
   "source": [
    "temps = []\n",
    "for game in games:\n",
    "    url = f'https://www.pro-football-reference.com/{game}'\n",
    "    response = requests.get(url)\n",
    "    wx_digits = r'\\d{1,2}'\n",
    "    soup = BeautifulSoup(response.content, 'html.parser')\n",
    "    div_grid = soup.find_all('div', class_='content_grid')[0]\n",
    "    div = div_grid.find_all('div')[0]\n",
    "    div_wrap = div.find_all('div')[0]\n",
    "    soup_wrap4 = div_wrap.contents[4]\n",
    "    soup4 = BeautifulSoup(soup_wrap4, 'html.parser')\n",
    "    wx = soup4.find_all('td','center')[-3]\n",
    "    content = str(wx.contents[0])\n",
    "    temp = re.findall(wx_digits,content)[0]\n",
    "    temps.append(temp)"
   ]
  },
  {
   "cell_type": "code",
   "execution_count": null,
   "id": "cafaabfd",
   "metadata": {},
   "outputs": [],
   "source": [
    "temps"
   ]
  },
  {
   "cell_type": "markdown",
   "id": "240d88c9",
   "metadata": {},
   "source": [
    "## List of winds"
   ]
  },
  {
   "cell_type": "code",
   "execution_count": null,
   "id": "ffdcb30b",
   "metadata": {},
   "outputs": [],
   "source": [
    "response"
   ]
  },
  {
   "cell_type": "code",
   "execution_count": null,
   "id": "06a8f1ea",
   "metadata": {},
   "outputs": [],
   "source": [
    "winds = []\n",
    "for game in games:\n",
    "    url = f'https://www.pro-football-reference.com/{game}'\n",
    "    response = requests.get(url)\n",
    "    wx_digits = r'\\d{1,2}'\n",
    "    soup = BeautifulSoup(response.content, 'html.parser')\n",
    "    div_grid = soup.find_all('div', class_='content_grid')[0]\n",
    "    div = div_grid.find_all('div')[0]\n",
    "    div_wrap = div.find_all('div')[0]\n",
    "    soup_wrap4 = div_wrap.contents[4]\n",
    "    soup4 = BeautifulSoup(soup_wrap4, 'html.parser')\n",
    "    wx = soup4.find_all('td','center')[-3]\n",
    "    content = str(wx.contents[0])\n",
    "    wind = re.findall(wx_digits,content)[2]\n",
    "    winds.append(wind)"
   ]
  },
  {
   "cell_type": "code",
   "execution_count": null,
   "id": "2be22350",
   "metadata": {},
   "outputs": [],
   "source": [
    "winds"
   ]
  },
  {
   "cell_type": "markdown",
   "id": "14b76003",
   "metadata": {},
   "source": [
    "## List of hums"
   ]
  },
  {
   "cell_type": "code",
   "execution_count": null,
   "id": "65363614",
   "metadata": {},
   "outputs": [],
   "source": [
    "response"
   ]
  },
  {
   "cell_type": "code",
   "execution_count": null,
   "id": "0b2f421f",
   "metadata": {},
   "outputs": [],
   "source": [
    "hums = []\n",
    "for game in games:\n",
    "    url = f'https://www.pro-football-reference.com/{game}'\n",
    "    response = requests.get(url)\n",
    "    wx_digits = r'\\d{1,2}'\n",
    "    soup = BeautifulSoup(response.content, 'html.parser')\n",
    "    div_grid = soup.find_all('div', class_='content_grid')[0]\n",
    "    div = div_grid.find_all('div')[0]\n",
    "    div_wrap = div.find_all('div')[0]\n",
    "    soup_wrap4 = div_wrap.contents[4]\n",
    "    soup4 = BeautifulSoup(soup_wrap4, 'html.parser')\n",
    "    wx = soup4.find_all('td','center')[-3]\n",
    "    content = str(wx.contents[0])\n",
    "    hum = re.findall(wx_digits,content)[1]\n",
    "    hums.append(hum)"
   ]
  },
  {
   "cell_type": "code",
   "execution_count": null,
   "id": "0c6a3133",
   "metadata": {},
   "outputs": [],
   "source": [
    "hums"
   ]
  },
  {
   "cell_type": "code",
   "execution_count": null,
   "id": "67983abe",
   "metadata": {},
   "outputs": [],
   "source": [
    "df = pd.DataFrame({\n",
    "    'schedule_season':seasons,\n",
    "    'schedule_week':weeks,\n",
    "    'team_home':homes,\n",
    "    'weather_temperature':temps,\n",
    "    'weather_wind_mph':winds,\n",
    "    \"weather_humidity\":hums\n",
    "})"
   ]
  },
  {
   "cell_type": "code",
   "execution_count": null,
   "id": "b91073f4",
   "metadata": {},
   "outputs": [],
   "source": [
    "df"
   ]
  },
  {
   "cell_type": "markdown",
   "id": "c250f02e",
   "metadata": {},
   "source": [
    "## Write to .csv"
   ]
  },
  {
   "cell_type": "code",
   "execution_count": null,
   "id": "98d8acfa",
   "metadata": {},
   "outputs": [],
   "source": [
    "df.to_csv('season_2022_w2.csv', index=False)"
   ]
  },
  {
   "cell_type": "markdown",
   "id": "0e926953",
   "metadata": {},
   "source": [
    "---\n",
    "---\n",
    "## NEXT WEEK with SLEEEEEEEEEEEP......"
   ]
  },
  {
   "cell_type": "code",
   "execution_count": null,
   "id": "40ca3be5",
   "metadata": {},
   "outputs": [],
   "source": [
    "url = 'https://www.pro-football-reference.com/years/2022/week_3.htm'\n",
    "response = requests.get(url)"
   ]
  },
  {
   "cell_type": "code",
   "execution_count": null,
   "id": "500ac670",
   "metadata": {},
   "outputs": [],
   "source": [
    "response"
   ]
  },
  {
   "cell_type": "code",
   "execution_count": null,
   "id": "626a2d7b",
   "metadata": {},
   "outputs": [],
   "source": [
    "soup = BeautifulSoup(response.content, 'html.parser')\n",
    "html_links = soup.find_all('td', class_='right gamelink')\n",
    "games = [item.find('a')['href'] for item in html_links]\n",
    "games"
   ]
  },
  {
   "cell_type": "markdown",
   "id": "3e9961c5",
   "metadata": {},
   "source": [
    "## List of homes"
   ]
  },
  {
   "cell_type": "code",
   "execution_count": null,
   "id": "88cddd6d",
   "metadata": {},
   "outputs": [],
   "source": [
    "home_re = r'[a-z]{3}'\n",
    "homes = [re.findall(home_re,i)[3] for i in games]\n",
    "homes"
   ]
  },
  {
   "cell_type": "markdown",
   "id": "43f2b0f8",
   "metadata": {},
   "source": [
    "## List of seasons"
   ]
  },
  {
   "cell_type": "code",
   "execution_count": null,
   "id": "40e9d30b",
   "metadata": {},
   "outputs": [],
   "source": [
    "date_re = r'[0-9]{4}'\n",
    "seasons = [re.findall(date_re,i)[0] for i in games]\n",
    "seasons"
   ]
  },
  {
   "cell_type": "markdown",
   "id": "a30ffd05",
   "metadata": {},
   "source": [
    "## List of weeks"
   ]
  },
  {
   "cell_type": "code",
   "execution_count": null,
   "id": "6043a9c8",
   "metadata": {},
   "outputs": [],
   "source": [
    "weeks = [3 for i in games]\n",
    "weeks"
   ]
  },
  {
   "cell_type": "markdown",
   "id": "6634ee73",
   "metadata": {},
   "source": [
    "## List of temps"
   ]
  },
  {
   "cell_type": "code",
   "execution_count": null,
   "id": "8560e34e",
   "metadata": {},
   "outputs": [],
   "source": [
    "temps = []\n",
    "for game in games:\n",
    "    url = f'https://www.pro-football-reference.com/{game}'\n",
    "    response = requests.get(url)\n",
    "    wx_digits = r'\\d{1,2}'\n",
    "    soup = BeautifulSoup(response.content, 'html.parser')\n",
    "    div_grid = soup.find_all('div', class_='content_grid')[0]\n",
    "    div = div_grid.find_all('div')[0]\n",
    "    div_wrap = div.find_all('div')[0]\n",
    "    soup_wrap4 = div_wrap.contents[4]\n",
    "    soup4 = BeautifulSoup(soup_wrap4, 'html.parser')\n",
    "    wx = soup4.find_all('td','center')[-3]\n",
    "    content = str(wx.contents[0])\n",
    "    temp = re.findall(wx_digits,content)[0]\n",
    "    temps.append(temp)"
   ]
  },
  {
   "cell_type": "code",
   "execution_count": null,
   "id": "954115be",
   "metadata": {},
   "outputs": [],
   "source": [
    "temps"
   ]
  },
  {
   "cell_type": "markdown",
   "id": "ebb4909e",
   "metadata": {},
   "source": [
    "## List of winds"
   ]
  },
  {
   "cell_type": "code",
   "execution_count": null,
   "id": "95b372b5",
   "metadata": {},
   "outputs": [],
   "source": [
    "response"
   ]
  },
  {
   "cell_type": "code",
   "execution_count": null,
   "id": "2ad753ea",
   "metadata": {},
   "outputs": [],
   "source": [
    "winds = []\n",
    "for game in games:\n",
    "    url = f'https://www.pro-football-reference.com/{game}'\n",
    "    response = requests.get(url)\n",
    "    wx_digits = r'\\d{1,2}'\n",
    "    soup = BeautifulSoup(response.content, 'html.parser')\n",
    "    div_grid = soup.find_all('div', class_='content_grid')[0]\n",
    "    div = div_grid.find_all('div')[0]\n",
    "    div_wrap = div.find_all('div')[0]\n",
    "    soup_wrap4 = div_wrap.contents[4]\n",
    "    soup4 = BeautifulSoup(soup_wrap4, 'html.parser')\n",
    "    wx = soup4.find_all('td','center')[-3]\n",
    "    content = str(wx.contents[0])\n",
    "    wind = re.findall(wx_digits,content)[2]\n",
    "    winds.append(wind)"
   ]
  },
  {
   "cell_type": "code",
   "execution_count": null,
   "id": "ce1cc3ba",
   "metadata": {},
   "outputs": [],
   "source": [
    "winds"
   ]
  },
  {
   "cell_type": "markdown",
   "id": "4ca8f488",
   "metadata": {},
   "source": [
    "## List of hums"
   ]
  },
  {
   "cell_type": "code",
   "execution_count": null,
   "id": "2e5d5f0e",
   "metadata": {},
   "outputs": [],
   "source": [
    "response"
   ]
  },
  {
   "cell_type": "code",
   "execution_count": null,
   "id": "84513744",
   "metadata": {},
   "outputs": [],
   "source": [
    "hums = []\n",
    "for game in games:\n",
    "    url = f'https://www.pro-football-reference.com/{game}'\n",
    "    response = requests.get(url)\n",
    "    wx_digits = r'\\d{1,2}'\n",
    "    soup = BeautifulSoup(response.content, 'html.parser')\n",
    "    div_grid = soup.find_all('div', class_='content_grid')[0]\n",
    "    div = div_grid.find_all('div')[0]\n",
    "    div_wrap = div.find_all('div')[0]\n",
    "    soup_wrap4 = div_wrap.contents[4]\n",
    "    soup4 = BeautifulSoup(soup_wrap4, 'html.parser')\n",
    "    wx = soup4.find_all('td','center')[-3]\n",
    "    content = str(wx.contents[0])\n",
    "    hum = re.findall(wx_digits,content)[1]\n",
    "    hums.append(hum)"
   ]
  },
  {
   "cell_type": "code",
   "execution_count": null,
   "id": "626a0d5b",
   "metadata": {},
   "outputs": [],
   "source": [
    "hums"
   ]
  },
  {
   "cell_type": "code",
   "execution_count": null,
   "id": "51380954",
   "metadata": {},
   "outputs": [],
   "source": [
    "df = pd.DataFrame({\n",
    "    'schedule_season':seasons,\n",
    "    'schedule_week':weeks,\n",
    "    'team_home':homes,\n",
    "    'weather_temperature':temps,\n",
    "    'weather_wind_mph':winds,\n",
    "    \"weather_humidity\":hums\n",
    "})"
   ]
  },
  {
   "cell_type": "code",
   "execution_count": null,
   "id": "9c5d6c10",
   "metadata": {},
   "outputs": [],
   "source": [
    "df"
   ]
  },
  {
   "cell_type": "markdown",
   "id": "3e53d1ba",
   "metadata": {},
   "source": [
    "## Write to .csv"
   ]
  },
  {
   "cell_type": "code",
   "execution_count": null,
   "id": "02d1b0c4",
   "metadata": {},
   "outputs": [],
   "source": [
    "df.to_csv('season_2022_w3.csv', index=False)"
   ]
  },
  {
   "cell_type": "markdown",
   "id": "d57e116e",
   "metadata": {},
   "source": [
    "## List of home_teams"
   ]
  },
  {
   "cell_type": "code",
   "execution_count": null,
   "id": "e1e75d5c",
   "metadata": {},
   "outputs": [],
   "source": [
    "url = 'https://www.pro-football-reference.com/boxscores/202210020nor.htm'\n",
    "response = requests.get(url)"
   ]
  },
  {
   "cell_type": "code",
   "execution_count": null,
   "id": "6c1d07aa",
   "metadata": {},
   "outputs": [],
   "source": [
    "response"
   ]
  },
  {
   "cell_type": "code",
   "execution_count": null,
   "id": "ae858c69",
   "metadata": {},
   "outputs": [],
   "source": [
    "soup = BeautifulSoup(response.content, 'html.parser')"
   ]
  },
  {
   "cell_type": "code",
   "execution_count": null,
   "id": "4ebd35d4",
   "metadata": {},
   "outputs": [],
   "source": [
    "href = soup.find_all('div', class_='scorebox')[0].find_all('a')[8]"
   ]
  },
  {
   "cell_type": "code",
   "execution_count": null,
   "id": "dcd8f1f3",
   "metadata": {},
   "outputs": [],
   "source": [
    "href"
   ]
  },
  {
   "cell_type": "code",
   "execution_count": null,
   "id": "21096ee8",
   "metadata": {},
   "outputs": [],
   "source": [
    "href.text"
   ]
  },
  {
   "cell_type": "code",
   "execution_count": null,
   "id": "cdafd677",
   "metadata": {},
   "outputs": [],
   "source": [
    "team = href.text"
   ]
  },
  {
   "cell_type": "code",
   "execution_count": null,
   "id": "f60cc4ae",
   "metadata": {},
   "outputs": [],
   "source": []
  },
  {
   "cell_type": "code",
   "execution_count": null,
   "id": "69179fe0",
   "metadata": {},
   "outputs": [],
   "source": []
  },
  {
   "cell_type": "code",
   "execution_count": null,
   "id": "fbac8a28",
   "metadata": {},
   "outputs": [],
   "source": []
  },
  {
   "cell_type": "code",
   "execution_count": null,
   "id": "dc2caa52",
   "metadata": {},
   "outputs": [],
   "source": []
  },
  {
   "cell_type": "code",
   "execution_count": null,
   "id": "54bef060",
   "metadata": {},
   "outputs": [],
   "source": []
  },
  {
   "cell_type": "code",
   "execution_count": null,
   "id": "14e7814a",
   "metadata": {},
   "outputs": [],
   "source": []
  },
  {
   "cell_type": "code",
   "execution_count": null,
   "id": "6a0bb281",
   "metadata": {},
   "outputs": [],
   "source": [
    "response"
   ]
  },
  {
   "cell_type": "code",
   "execution_count": null,
   "id": "40b35968",
   "metadata": {},
   "outputs": [],
   "source": [
    "wk = [str(i) for i in range(1,23)]"
   ]
  },
  {
   "cell_type": "code",
   "execution_count": null,
   "id": "2bcdf8e1",
   "metadata": {},
   "outputs": [],
   "source": [
    "wk"
   ]
  },
  {
   "cell_type": "code",
   "execution_count": null,
   "id": "e123ddf9",
   "metadata": {},
   "outputs": [],
   "source": []
  },
  {
   "cell_type": "markdown",
   "id": "23946732",
   "metadata": {},
   "source": [
    "## List of weeks"
   ]
  },
  {
   "cell_type": "code",
   "execution_count": null,
   "id": "102b01f4",
   "metadata": {},
   "outputs": [],
   "source": [
    "url = 'https://www.pro-football-reference.com/boxscores/202210090gnb.htm'\n",
    "response = requests.get(url)"
   ]
  },
  {
   "cell_type": "code",
   "execution_count": null,
   "id": "e8d7a65b",
   "metadata": {},
   "outputs": [],
   "source": [
    "response"
   ]
  },
  {
   "cell_type": "code",
   "execution_count": null,
   "id": "c396b5d0",
   "metadata": {},
   "outputs": [],
   "source": [
    "soup = BeautifulSoup(response.content, 'html.parser')"
   ]
  },
  {
   "cell_type": "code",
   "execution_count": null,
   "id": "8e5540bf",
   "metadata": {},
   "outputs": [],
   "source": [
    "span = soup.find_all('div', class_='section_wrapper')[0].find_all('span')[0]"
   ]
  },
  {
   "cell_type": "code",
   "execution_count": null,
   "id": "6b034e13",
   "metadata": {},
   "outputs": [],
   "source": [
    "span"
   ]
  },
  {
   "cell_type": "code",
   "execution_count": null,
   "id": "b30d386d",
   "metadata": {},
   "outputs": [],
   "source": [
    "span = str(span)"
   ]
  },
  {
   "cell_type": "code",
   "execution_count": null,
   "id": "26c455c2",
   "metadata": {},
   "outputs": [],
   "source": [
    "span"
   ]
  },
  {
   "cell_type": "code",
   "execution_count": null,
   "id": "1e20e10e",
   "metadata": {
    "scrolled": true
   },
   "outputs": [],
   "source": [
    "week_re = r'[0-9]{1,2}'\n",
    "week = re.findall(week_re,span)"
   ]
  },
  {
   "cell_type": "code",
   "execution_count": null,
   "id": "0f4c7b04",
   "metadata": {},
   "outputs": [],
   "source": [
    "week[0]"
   ]
  },
  {
   "cell_type": "code",
   "execution_count": null,
   "id": "47f90cbb",
   "metadata": {},
   "outputs": [],
   "source": [
    "week_list = []\n",
    "for game in games:\n",
    "    url = f'https://www.pro-football-reference.com/{game}'\n",
    "    response = requests.get(url)\n",
    "    soup = BeautifulSoup(response.content, 'html.parser')\n",
    "    span = soup.find_all('div', class_='section_wrapper')[0].find_all('span')[0]\n",
    "    span = str(span)\n",
    "    week_re = r'[0-9]{1,2}'\n",
    "    week = re.findall(week_re,span)\n",
    "    week = week[0]\n",
    "    week_list.append(week)"
   ]
  },
  {
   "cell_type": "code",
   "execution_count": null,
   "id": "50964d0f",
   "metadata": {},
   "outputs": [],
   "source": [
    "week_list"
   ]
  },
  {
   "cell_type": "code",
   "execution_count": null,
   "id": "87009c86",
   "metadata": {},
   "outputs": [],
   "source": []
  },
  {
   "cell_type": "code",
   "execution_count": null,
   "id": "49b1128c",
   "metadata": {},
   "outputs": [],
   "source": []
  },
  {
   "cell_type": "code",
   "execution_count": null,
   "id": "923a68e9",
   "metadata": {},
   "outputs": [],
   "source": []
  }
 ],
 "metadata": {
  "kernelspec": {
   "display_name": "Python 3 (ipykernel)",
   "language": "python",
   "name": "python3"
  },
  "language_info": {
   "codemirror_mode": {
    "name": "ipython",
    "version": 3
   },
   "file_extension": ".py",
   "mimetype": "text/x-python",
   "name": "python",
   "nbconvert_exporter": "python",
   "pygments_lexer": "ipython3",
   "version": "3.9.13"
  }
 },
 "nbformat": 4,
 "nbformat_minor": 5
}
