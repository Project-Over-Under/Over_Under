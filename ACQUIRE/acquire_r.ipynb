{
 "cells": [
  {
   "cell_type": "code",
   "execution_count": 1,
   "id": "2ac20759",
   "metadata": {},
   "outputs": [],
   "source": [
    "from bs4 import BeautifulSoup\n",
    "import requests\n",
    "import os\n",
    "import pandas as pd\n",
    "import re"
   ]
  },
  {
   "cell_type": "code",
   "execution_count": 2,
   "id": "bc6332c9",
   "metadata": {},
   "outputs": [
    {
     "data": {
      "text/plain": [
       "<Response [200]>"
      ]
     },
     "execution_count": 2,
     "metadata": {},
     "output_type": "execute_result"
    }
   ],
   "source": [
    "url = 'https://www.pro-football-reference.com/boxscores/202109120nor.htm'\n",
    "response = requests.get(url)\n",
    "response"
   ]
  },
  {
   "cell_type": "markdown",
   "id": "fd0fc730",
   "metadata": {},
   "source": [
    "- 1 SOUP\n",
    "- 2 div_grid [0]\n",
    "- 3 div [0]\n",
    "- 4 div_wrap [0]\n",
    "- 5 soup_wrap4 [4]\n",
    "- 6 soup4 : reparse soup_wrap4\n",
    "- 7 wx"
   ]
  },
  {
   "cell_type": "code",
   "execution_count": null,
   "id": "bc7a07c7",
   "metadata": {},
   "outputs": [],
   "source": [
    "#1\n",
    "soup = BeautifulSoup(response.content, 'html.parser')\n",
    "#2\n",
    "div_grid = soup.find_all('div', class_='content_grid')[0]\n",
    "#3\n",
    "div = div_grid.find_all('div')[0]\n",
    "#4\n",
    "div_wrap = div.find_all('div')[0]\n",
    "#5\n",
    "soup_wrap4 = div_wrap.contents[4]\n",
    "#6\n",
    "soup4 = BeautifulSoup(soup_wrap4, 'html.parser')\n",
    "#7\n",
    "wx = soup4.find_all('td','center')[6]"
   ]
  },
  {
   "cell_type": "code",
   "execution_count": null,
   "id": "d89efa19",
   "metadata": {},
   "outputs": [],
   "source": [
    "wx.contents"
   ]
  },
  {
   "cell_type": "code",
   "execution_count": null,
   "id": "b9cef832",
   "metadata": {},
   "outputs": [],
   "source": [
    "wx.contents[0]"
   ]
  },
  {
   "cell_type": "code",
   "execution_count": null,
   "id": "a7b8bbb1",
   "metadata": {},
   "outputs": [],
   "source": [
    "content = wx.contents[0]"
   ]
  },
  {
   "cell_type": "code",
   "execution_count": null,
   "id": "11aa1dfb",
   "metadata": {},
   "outputs": [],
   "source": [
    "content = str(content)"
   ]
  },
  {
   "cell_type": "code",
   "execution_count": null,
   "id": "14dd6209",
   "metadata": {},
   "outputs": [],
   "source": [
    "type(content)"
   ]
  },
  {
   "cell_type": "markdown",
   "id": "85f93d68",
   "metadata": {},
   "source": [
    "## So now we have options..."
   ]
  },
  {
   "cell_type": "code",
   "execution_count": null,
   "id": "d9d42960",
   "metadata": {},
   "outputs": [],
   "source": [
    "# regex to return numerical string at start of object\n",
    "temp = r'^\\d{1,2}'\n",
    "re.findall(temp,content)"
   ]
  },
  {
   "cell_type": "code",
   "execution_count": null,
   "id": "ed75d9a3",
   "metadata": {},
   "outputs": [],
   "source": [
    "wind = r'\\d{1,2}[\\smph]'\n",
    "# etc...."
   ]
  },
  {
   "cell_type": "markdown",
   "id": "27b6afbc",
   "metadata": {},
   "source": [
    "## Or, a different approach"
   ]
  },
  {
   "cell_type": "code",
   "execution_count": null,
   "id": "e6685c50",
   "metadata": {},
   "outputs": [],
   "source": [
    "wx_digits = r'\\d{1,2}'\n",
    "re.findall(wx_digits,content)"
   ]
  },
  {
   "cell_type": "code",
   "execution_count": null,
   "id": "fd0fb7f4",
   "metadata": {},
   "outputs": [],
   "source": []
  },
  {
   "cell_type": "code",
   "execution_count": null,
   "id": "ff996a6b",
   "metadata": {},
   "outputs": [],
   "source": [
    "re.findall(wx_digits,content)[0]"
   ]
  },
  {
   "cell_type": "code",
   "execution_count": null,
   "id": "91424569",
   "metadata": {},
   "outputs": [],
   "source": [
    "re.findall(wx_digits,content)[0]"
   ]
  },
  {
   "cell_type": "code",
   "execution_count": null,
   "id": "922c46da",
   "metadata": {},
   "outputs": [],
   "source": [
    "re.findall(wx_digits,content)[1]"
   ]
  },
  {
   "cell_type": "code",
   "execution_count": null,
   "id": "122ac807",
   "metadata": {},
   "outputs": [],
   "source": [
    "re.findall(wx_digits,content)[2]"
   ]
  },
  {
   "cell_type": "markdown",
   "id": "91e5cb16",
   "metadata": {},
   "source": [
    "## Ok, now we increase the scale to WEEKLY"
   ]
  },
  {
   "cell_type": "code",
   "execution_count": 3,
   "id": "b5774f60",
   "metadata": {},
   "outputs": [],
   "source": [
    "url = 'https://www.pro-football-reference.com/years/2022/week_1.htm'"
   ]
  },
  {
   "cell_type": "code",
   "execution_count": 4,
   "id": "e8e84cb9",
   "metadata": {},
   "outputs": [
    {
     "data": {
      "text/plain": [
       "<Response [200]>"
      ]
     },
     "execution_count": 4,
     "metadata": {},
     "output_type": "execute_result"
    }
   ],
   "source": [
    "response = requests.get(url)\n",
    "response"
   ]
  },
  {
   "cell_type": "code",
   "execution_count": 33,
   "id": "3de1baf8",
   "metadata": {},
   "outputs": [
    {
     "data": {
      "text/plain": [
       "<Response [429]>"
      ]
     },
     "execution_count": 33,
     "metadata": {},
     "output_type": "execute_result"
    }
   ],
   "source": [
    "response"
   ]
  },
  {
   "cell_type": "code",
   "execution_count": 5,
   "id": "73f7168a",
   "metadata": {},
   "outputs": [],
   "source": [
    "soup = BeautifulSoup(response.content, 'html.parser')"
   ]
  },
  {
   "cell_type": "code",
   "execution_count": 6,
   "id": "4c621a6a",
   "metadata": {},
   "outputs": [],
   "source": [
    "html_links = soup.find_all('td', class_='right gamelink')"
   ]
  },
  {
   "cell_type": "code",
   "execution_count": 7,
   "id": "2676d1a4",
   "metadata": {},
   "outputs": [
    {
     "data": {
      "text/plain": [
       "'/boxscores/202209080ram.htm'"
      ]
     },
     "execution_count": 7,
     "metadata": {},
     "output_type": "execute_result"
    }
   ],
   "source": [
    "html_links[0].find('a')['href']"
   ]
  },
  {
   "cell_type": "markdown",
   "id": "82ff3a62",
   "metadata": {},
   "source": [
    "## List of Games"
   ]
  },
  {
   "cell_type": "code",
   "execution_count": 8,
   "id": "228869b6",
   "metadata": {},
   "outputs": [
    {
     "data": {
      "text/plain": [
       "['/boxscores/202209080ram.htm',\n",
       " '/boxscores/202209110atl.htm',\n",
       " '/boxscores/202209110car.htm',\n",
       " '/boxscores/202209110chi.htm',\n",
       " '/boxscores/202209110cin.htm',\n",
       " '/boxscores/202209110det.htm',\n",
       " '/boxscores/202209110htx.htm',\n",
       " '/boxscores/202209110mia.htm',\n",
       " '/boxscores/202209110nyj.htm',\n",
       " '/boxscores/202209110was.htm',\n",
       " '/boxscores/202209110crd.htm',\n",
       " '/boxscores/202209110min.htm',\n",
       " '/boxscores/202209110oti.htm',\n",
       " '/boxscores/202209110sdg.htm',\n",
       " '/boxscores/202209110dal.htm',\n",
       " '/boxscores/202209120sea.htm']"
      ]
     },
     "execution_count": 8,
     "metadata": {},
     "output_type": "execute_result"
    }
   ],
   "source": [
    "[item.find('a')['href'] for item in html_links]"
   ]
  },
  {
   "cell_type": "code",
   "execution_count": 9,
   "id": "8fefeda8",
   "metadata": {},
   "outputs": [],
   "source": [
    "games = [item.find('a')['href'] for item in html_links]"
   ]
  },
  {
   "cell_type": "code",
   "execution_count": 10,
   "id": "001280fb",
   "metadata": {
    "scrolled": true
   },
   "outputs": [
    {
     "data": {
      "text/plain": [
       "['/boxscores/202209080ram.htm',\n",
       " '/boxscores/202209110atl.htm',\n",
       " '/boxscores/202209110car.htm',\n",
       " '/boxscores/202209110chi.htm',\n",
       " '/boxscores/202209110cin.htm',\n",
       " '/boxscores/202209110det.htm',\n",
       " '/boxscores/202209110htx.htm',\n",
       " '/boxscores/202209110mia.htm',\n",
       " '/boxscores/202209110nyj.htm',\n",
       " '/boxscores/202209110was.htm',\n",
       " '/boxscores/202209110crd.htm',\n",
       " '/boxscores/202209110min.htm',\n",
       " '/boxscores/202209110oti.htm',\n",
       " '/boxscores/202209110sdg.htm',\n",
       " '/boxscores/202209110dal.htm',\n",
       " '/boxscores/202209120sea.htm']"
      ]
     },
     "execution_count": 10,
     "metadata": {},
     "output_type": "execute_result"
    }
   ],
   "source": [
    "games"
   ]
  },
  {
   "cell_type": "markdown",
   "id": "ed9fabef",
   "metadata": {},
   "source": [
    "## List of homes"
   ]
  },
  {
   "cell_type": "code",
   "execution_count": 11,
   "id": "30509812",
   "metadata": {},
   "outputs": [],
   "source": [
    "home_re = r'[a-z]{3}'"
   ]
  },
  {
   "cell_type": "code",
   "execution_count": 12,
   "id": "5c7cbc66",
   "metadata": {},
   "outputs": [],
   "source": [
    "home = re.findall(home_re,games[0])[3]"
   ]
  },
  {
   "cell_type": "code",
   "execution_count": 13,
   "id": "51d5d7cc",
   "metadata": {},
   "outputs": [
    {
     "data": {
      "text/plain": [
       "str"
      ]
     },
     "execution_count": 13,
     "metadata": {},
     "output_type": "execute_result"
    }
   ],
   "source": [
    "type(home)"
   ]
  },
  {
   "cell_type": "code",
   "execution_count": 14,
   "id": "06a51417",
   "metadata": {},
   "outputs": [
    {
     "data": {
      "text/plain": [
       "'ram'"
      ]
     },
     "execution_count": 14,
     "metadata": {},
     "output_type": "execute_result"
    }
   ],
   "source": [
    "home"
   ]
  },
  {
   "cell_type": "code",
   "execution_count": 15,
   "id": "ce568e3e",
   "metadata": {},
   "outputs": [],
   "source": [
    "homes = [re.findall(home_re,i)[3] for i in games]"
   ]
  },
  {
   "cell_type": "code",
   "execution_count": null,
   "id": "34c58e51",
   "metadata": {},
   "outputs": [],
   "source": [
    "# homes_2 = []\n",
    "# for i in games:\n",
    "#     home_re = r'[a-z]{3}'\n",
    "#     home = re.findall(home_re,i)[3]\n",
    "#     homes.append(home)"
   ]
  },
  {
   "cell_type": "code",
   "execution_count": 16,
   "id": "5fdc0fab",
   "metadata": {},
   "outputs": [
    {
     "data": {
      "text/plain": [
       "['ram',\n",
       " 'atl',\n",
       " 'car',\n",
       " 'chi',\n",
       " 'cin',\n",
       " 'det',\n",
       " 'htx',\n",
       " 'mia',\n",
       " 'nyj',\n",
       " 'was',\n",
       " 'crd',\n",
       " 'min',\n",
       " 'oti',\n",
       " 'sdg',\n",
       " 'dal',\n",
       " 'sea']"
      ]
     },
     "execution_count": 16,
     "metadata": {},
     "output_type": "execute_result"
    }
   ],
   "source": [
    "homes"
   ]
  },
  {
   "cell_type": "code",
   "execution_count": null,
   "id": "db2c5473",
   "metadata": {},
   "outputs": [],
   "source": []
  },
  {
   "cell_type": "markdown",
   "id": "468948d3",
   "metadata": {},
   "source": [
    "## List of seasons"
   ]
  },
  {
   "cell_type": "code",
   "execution_count": 17,
   "id": "04ded509",
   "metadata": {},
   "outputs": [],
   "source": [
    "date_re = r'[0-9]{4}'"
   ]
  },
  {
   "cell_type": "code",
   "execution_count": 18,
   "id": "7c63416f",
   "metadata": {},
   "outputs": [
    {
     "data": {
      "text/plain": [
       "'2022'"
      ]
     },
     "execution_count": 18,
     "metadata": {},
     "output_type": "execute_result"
    }
   ],
   "source": [
    "re.findall(date_re,games[0])[0]"
   ]
  },
  {
   "cell_type": "code",
   "execution_count": 19,
   "id": "6ffc029a",
   "metadata": {},
   "outputs": [],
   "source": [
    "season = re.findall(date_re,games[0])[0]"
   ]
  },
  {
   "cell_type": "code",
   "execution_count": 20,
   "id": "651d1b07",
   "metadata": {},
   "outputs": [
    {
     "data": {
      "text/plain": [
       "'2022'"
      ]
     },
     "execution_count": 20,
     "metadata": {},
     "output_type": "execute_result"
    }
   ],
   "source": [
    "season"
   ]
  },
  {
   "cell_type": "code",
   "execution_count": 21,
   "id": "398c3f57",
   "metadata": {},
   "outputs": [],
   "source": [
    "seasons = [re.findall(date_re,i)[0] for i in games]"
   ]
  },
  {
   "cell_type": "code",
   "execution_count": 22,
   "id": "f420752b",
   "metadata": {},
   "outputs": [
    {
     "data": {
      "text/plain": [
       "['2022',\n",
       " '2022',\n",
       " '2022',\n",
       " '2022',\n",
       " '2022',\n",
       " '2022',\n",
       " '2022',\n",
       " '2022',\n",
       " '2022',\n",
       " '2022',\n",
       " '2022',\n",
       " '2022',\n",
       " '2022',\n",
       " '2022',\n",
       " '2022',\n",
       " '2022']"
      ]
     },
     "execution_count": 22,
     "metadata": {},
     "output_type": "execute_result"
    }
   ],
   "source": [
    "seasons"
   ]
  },
  {
   "cell_type": "markdown",
   "id": "87b7100e",
   "metadata": {},
   "source": [
    "## List of weeks"
   ]
  },
  {
   "cell_type": "code",
   "execution_count": 23,
   "id": "3f34c712",
   "metadata": {},
   "outputs": [],
   "source": [
    "weeks = [1 for i in games]"
   ]
  },
  {
   "cell_type": "code",
   "execution_count": 24,
   "id": "1ab30878",
   "metadata": {},
   "outputs": [
    {
     "data": {
      "text/plain": [
       "[1, 1, 1, 1, 1, 1, 1, 1, 1, 1, 1, 1, 1, 1, 1, 1]"
      ]
     },
     "execution_count": 24,
     "metadata": {},
     "output_type": "execute_result"
    }
   ],
   "source": [
    "weeks"
   ]
  },
  {
   "cell_type": "code",
   "execution_count": null,
   "id": "341fbcca",
   "metadata": {},
   "outputs": [],
   "source": []
  },
  {
   "cell_type": "markdown",
   "id": "87195c2c",
   "metadata": {},
   "source": [
    "## List of temps"
   ]
  },
  {
   "cell_type": "code",
   "execution_count": 25,
   "id": "79f097ee",
   "metadata": {},
   "outputs": [],
   "source": [
    "temps = []\n",
    "for game in games:\n",
    "    url = f'https://www.pro-football-reference.com/{game}'\n",
    "    response = requests.get(url)\n",
    "    wx_digits = r'\\d{1,2}'\n",
    "    soup = BeautifulSoup(response.content, 'html.parser')\n",
    "    div_grid = soup.find_all('div', class_='content_grid')[0]\n",
    "    div = div_grid.find_all('div')[0]\n",
    "    div_wrap = div.find_all('div')[0]\n",
    "    soup_wrap4 = div_wrap.contents[4]\n",
    "    soup4 = BeautifulSoup(soup_wrap4, 'html.parser')\n",
    "    wx = soup4.find_all('td','center')[-3]\n",
    "    content = str(wx.contents[0])\n",
    "    temp = re.findall(wx_digits,content)[0]\n",
    "    temps.append(temp)"
   ]
  },
  {
   "cell_type": "code",
   "execution_count": 26,
   "id": "8f5af6b7",
   "metadata": {},
   "outputs": [
    {
     "data": {
      "text/plain": [
       "['20',\n",
       " '20',\n",
       " '80',\n",
       " '69',\n",
       " '76',\n",
       " '20',\n",
       " '20',\n",
       " '92',\n",
       " '73',\n",
       " '74',\n",
       " '20',\n",
       " '20',\n",
       " '75',\n",
       " '20',\n",
       " '20',\n",
       " '74']"
      ]
     },
     "execution_count": 26,
     "metadata": {},
     "output_type": "execute_result"
    }
   ],
   "source": [
    "temps"
   ]
  },
  {
   "cell_type": "code",
   "execution_count": null,
   "id": "d6b12c11",
   "metadata": {},
   "outputs": [],
   "source": [
    "df = pd.DataFrame({\n",
    "    'season':seasons,\n",
    "    'week':weeks,\n",
    "    'home':homes,\n",
    "    'temp':temps\n",
    "})"
   ]
  },
  {
   "cell_type": "code",
   "execution_count": null,
   "id": "f12e7ef1",
   "metadata": {},
   "outputs": [],
   "source": [
    "df"
   ]
  },
  {
   "cell_type": "markdown",
   "id": "e399a67b",
   "metadata": {},
   "source": [
    "## List of winds"
   ]
  },
  {
   "cell_type": "code",
   "execution_count": 30,
   "id": "b90b40c0",
   "metadata": {},
   "outputs": [
    {
     "ename": "IndexError",
     "evalue": "list index out of range",
     "output_type": "error",
     "traceback": [
      "\u001b[0;31m---------------------------------------------------------------------------\u001b[0m",
      "\u001b[0;31mIndexError\u001b[0m                                Traceback (most recent call last)",
      "Input \u001b[0;32mIn [30]\u001b[0m, in \u001b[0;36m<cell line: 2>\u001b[0;34m()\u001b[0m\n\u001b[1;32m      5\u001b[0m wx_digits \u001b[38;5;241m=\u001b[39m \u001b[38;5;124mr\u001b[39m\u001b[38;5;124m'\u001b[39m\u001b[38;5;124m\\\u001b[39m\u001b[38;5;124md\u001b[39m\u001b[38;5;124m{\u001b[39m\u001b[38;5;124m1,2}\u001b[39m\u001b[38;5;124m'\u001b[39m\n\u001b[1;32m      6\u001b[0m soup \u001b[38;5;241m=\u001b[39m BeautifulSoup(response\u001b[38;5;241m.\u001b[39mcontent, \u001b[38;5;124m'\u001b[39m\u001b[38;5;124mhtml.parser\u001b[39m\u001b[38;5;124m'\u001b[39m)\n\u001b[0;32m----> 7\u001b[0m div_grid \u001b[38;5;241m=\u001b[39m \u001b[43msoup\u001b[49m\u001b[38;5;241;43m.\u001b[39;49m\u001b[43mfind_all\u001b[49m\u001b[43m(\u001b[49m\u001b[38;5;124;43m'\u001b[39;49m\u001b[38;5;124;43mdiv\u001b[39;49m\u001b[38;5;124;43m'\u001b[39;49m\u001b[43m,\u001b[49m\u001b[43m \u001b[49m\u001b[43mclass_\u001b[49m\u001b[38;5;241;43m=\u001b[39;49m\u001b[38;5;124;43m'\u001b[39;49m\u001b[38;5;124;43mcontent_grid\u001b[39;49m\u001b[38;5;124;43m'\u001b[39;49m\u001b[43m)\u001b[49m\u001b[43m[\u001b[49m\u001b[38;5;241;43m0\u001b[39;49m\u001b[43m]\u001b[49m\n\u001b[1;32m      8\u001b[0m div \u001b[38;5;241m=\u001b[39m div_grid\u001b[38;5;241m.\u001b[39mfind_all(\u001b[38;5;124m'\u001b[39m\u001b[38;5;124mdiv\u001b[39m\u001b[38;5;124m'\u001b[39m)[\u001b[38;5;241m0\u001b[39m]\n\u001b[1;32m      9\u001b[0m div_wrap \u001b[38;5;241m=\u001b[39m div\u001b[38;5;241m.\u001b[39mfind_all(\u001b[38;5;124m'\u001b[39m\u001b[38;5;124mdiv\u001b[39m\u001b[38;5;124m'\u001b[39m)[\u001b[38;5;241m0\u001b[39m]\n",
      "\u001b[0;31mIndexError\u001b[0m: list index out of range"
     ]
    }
   ],
   "source": [
    "winds = []\n",
    "for game in games:\n",
    "    url = f'https://www.pro-football-reference.com/{game}'\n",
    "    response = requests.get(url)\n",
    "    wx_digits = r'\\d{1,2}'\n",
    "    soup = BeautifulSoup(response.content, 'html.parser')\n",
    "    div_grid = soup.find_all('div', class_='content_grid')[0]\n",
    "    div = div_grid.find_all('div')[0]\n",
    "    div_wrap = div.find_all('div')[0]\n",
    "    soup_wrap4 = div_wrap.contents[4]\n",
    "    soup4 = BeautifulSoup(soup_wrap4, 'html.parser')\n",
    "    wx = soup4.find_all('td','center')[-3]\n",
    "    content = str(wx.contents[0])\n",
    "    wind = re.findall(wx_digits,content)[2]\n",
    "    winds.append(wind)"
   ]
  },
  {
   "cell_type": "code",
   "execution_count": null,
   "id": "83089fa9",
   "metadata": {},
   "outputs": [],
   "source": [
    "winds"
   ]
  },
  {
   "cell_type": "markdown",
   "id": "885b002c",
   "metadata": {},
   "source": [
    "## List of hums"
   ]
  },
  {
   "cell_type": "code",
   "execution_count": null,
   "id": "e69e5bc7",
   "metadata": {},
   "outputs": [],
   "source": [
    "hums = []\n",
    "for game in games:\n",
    "    url = f'https://www.pro-football-reference.com/{game}'\n",
    "    response = requests.get(url)\n",
    "    wx_digits = r'\\d{1,2}'\n",
    "    soup = BeautifulSoup(response.content, 'html.parser')\n",
    "    div_grid = soup.find_all('div', class_='content_grid')[0]\n",
    "    div = div_grid.find_all('div')[0]\n",
    "    div_wrap = div.find_all('div')[0]\n",
    "    soup_wrap4 = div_wrap.contents[4]\n",
    "    soup4 = BeautifulSoup(soup_wrap4, 'html.parser')\n",
    "    wx = soup4.find_all('td','center')[-3]\n",
    "    content = str(wx.contents[0])\n",
    "    hum = re.findall(wx_digits,content)[1]\n",
    "    hums.append(hum)"
   ]
  },
  {
   "cell_type": "code",
   "execution_count": null,
   "id": "312a2ab9",
   "metadata": {},
   "outputs": [],
   "source": [
    "hums"
   ]
  },
  {
   "cell_type": "code",
   "execution_count": null,
   "id": "60e08a33",
   "metadata": {},
   "outputs": [],
   "source": [
    "df = pd.DataFrame({\n",
    "    'schedule_season':seasons,\n",
    "    'schedule_week':weeks,\n",
    "    'team_home':homes,\n",
    "    'weather_temperature':temps,\n",
    "    'weather_wind_mph':winds,\n",
    "    \"weather_humidity\":hums\n",
    "})"
   ]
  },
  {
   "cell_type": "code",
   "execution_count": null,
   "id": "6c9db23f",
   "metadata": {},
   "outputs": [],
   "source": [
    "df"
   ]
  },
  {
   "cell_type": "code",
   "execution_count": null,
   "id": "c00823a4",
   "metadata": {},
   "outputs": [],
   "source": []
  },
  {
   "cell_type": "code",
   "execution_count": null,
   "id": "db700394",
   "metadata": {},
   "outputs": [],
   "source": []
  },
  {
   "cell_type": "code",
   "execution_count": null,
   "id": "bc951837",
   "metadata": {},
   "outputs": [],
   "source": []
  },
  {
   "cell_type": "code",
   "execution_count": null,
   "id": "20feac2a",
   "metadata": {},
   "outputs": [],
   "source": []
  },
  {
   "cell_type": "code",
   "execution_count": null,
   "id": "9ec371a8",
   "metadata": {},
   "outputs": [],
   "source": []
  },
  {
   "cell_type": "code",
   "execution_count": null,
   "id": "a936194a",
   "metadata": {},
   "outputs": [],
   "source": []
  }
 ],
 "metadata": {
  "kernelspec": {
   "display_name": "Python 3 (ipykernel)",
   "language": "python",
   "name": "python3"
  },
  "language_info": {
   "codemirror_mode": {
    "name": "ipython",
    "version": 3
   },
   "file_extension": ".py",
   "mimetype": "text/x-python",
   "name": "python",
   "nbconvert_exporter": "python",
   "pygments_lexer": "ipython3",
   "version": "3.9.13"
  }
 },
 "nbformat": 4,
 "nbformat_minor": 5
}
