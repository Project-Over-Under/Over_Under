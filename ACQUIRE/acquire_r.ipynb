{
 "cells": [
  {
   "cell_type": "code",
   "execution_count": 81,
   "id": "2ac20759",
   "metadata": {},
   "outputs": [],
   "source": [
    "from bs4 import BeautifulSoup\n",
    "import requests\n",
    "import os\n",
    "import pandas as pd\n",
    "import re\n",
    "from time import sleep\n",
    "import acquire_r as ar"
   ]
  },
  {
   "cell_type": "code",
   "execution_count": 2,
   "id": "bc6332c9",
   "metadata": {},
   "outputs": [
    {
     "data": {
      "text/plain": [
       "<Response [200]>"
      ]
     },
     "execution_count": 2,
     "metadata": {},
     "output_type": "execute_result"
    }
   ],
   "source": [
    "url = 'https://www.pro-football-reference.com/boxscores/202109120nor.htm'\n",
    "response = requests.get(url)\n",
    "response"
   ]
  },
  {
   "cell_type": "markdown",
   "id": "fd0fc730",
   "metadata": {},
   "source": [
    "- 1 SOUP\n",
    "- 2 div_grid [0]\n",
    "- 3 div [0]\n",
    "- 4 div_wrap [0]\n",
    "- 5 soup_wrap4 [4]\n",
    "- 6 soup4 : reparse soup_wrap4\n",
    "- 7 wx"
   ]
  },
  {
   "cell_type": "code",
   "execution_count": null,
   "id": "bc7a07c7",
   "metadata": {},
   "outputs": [],
   "source": [
    "#1\n",
    "soup = BeautifulSoup(response.content, 'html.parser')\n",
    "#2\n",
    "div_grid = soup.find_all('div', class_='content_grid')[0]\n",
    "#3\n",
    "div = div_grid.find_all('div')[0]\n",
    "#4\n",
    "div_wrap = div.find_all('div')[0]\n",
    "#5\n",
    "soup_wrap4 = div_wrap.contents[4]\n",
    "#6\n",
    "soup4 = BeautifulSoup(soup_wrap4, 'html.parser')\n",
    "#7\n",
    "wx = soup4.find_all('td','center')[6]"
   ]
  },
  {
   "cell_type": "code",
   "execution_count": null,
   "id": "d89efa19",
   "metadata": {},
   "outputs": [],
   "source": [
    "wx.contents"
   ]
  },
  {
   "cell_type": "code",
   "execution_count": null,
   "id": "b9cef832",
   "metadata": {},
   "outputs": [],
   "source": [
    "wx.contents[0]"
   ]
  },
  {
   "cell_type": "code",
   "execution_count": null,
   "id": "a7b8bbb1",
   "metadata": {},
   "outputs": [],
   "source": [
    "content = wx.contents[0]"
   ]
  },
  {
   "cell_type": "code",
   "execution_count": null,
   "id": "11aa1dfb",
   "metadata": {},
   "outputs": [],
   "source": [
    "content = str(content)"
   ]
  },
  {
   "cell_type": "code",
   "execution_count": null,
   "id": "14dd6209",
   "metadata": {},
   "outputs": [],
   "source": [
    "type(content)"
   ]
  },
  {
   "cell_type": "markdown",
   "id": "85f93d68",
   "metadata": {},
   "source": [
    "## So now we have options..."
   ]
  },
  {
   "cell_type": "code",
   "execution_count": null,
   "id": "d9d42960",
   "metadata": {},
   "outputs": [],
   "source": [
    "# regex to return numerical string at start of object\n",
    "temp = r'^\\d{1,2}'\n",
    "re.findall(temp,content)"
   ]
  },
  {
   "cell_type": "code",
   "execution_count": null,
   "id": "ed75d9a3",
   "metadata": {},
   "outputs": [],
   "source": [
    "wind = r'\\d{1,2}[\\smph]'\n",
    "# etc...."
   ]
  },
  {
   "cell_type": "markdown",
   "id": "27b6afbc",
   "metadata": {},
   "source": [
    "## Or, a different approach"
   ]
  },
  {
   "cell_type": "code",
   "execution_count": null,
   "id": "e6685c50",
   "metadata": {},
   "outputs": [],
   "source": [
    "wx_digits = r'\\d{1,2}'\n",
    "re.findall(wx_digits,content)"
   ]
  },
  {
   "cell_type": "code",
   "execution_count": null,
   "id": "fd0fb7f4",
   "metadata": {},
   "outputs": [],
   "source": []
  },
  {
   "cell_type": "code",
   "execution_count": null,
   "id": "ff996a6b",
   "metadata": {},
   "outputs": [],
   "source": [
    "re.findall(wx_digits,content)[0]"
   ]
  },
  {
   "cell_type": "code",
   "execution_count": null,
   "id": "91424569",
   "metadata": {},
   "outputs": [],
   "source": [
    "re.findall(wx_digits,content)[0]"
   ]
  },
  {
   "cell_type": "code",
   "execution_count": null,
   "id": "922c46da",
   "metadata": {},
   "outputs": [],
   "source": [
    "re.findall(wx_digits,content)[1]"
   ]
  },
  {
   "cell_type": "code",
   "execution_count": null,
   "id": "122ac807",
   "metadata": {},
   "outputs": [],
   "source": [
    "re.findall(wx_digits,content)[2]"
   ]
  },
  {
   "cell_type": "markdown",
   "id": "91e5cb16",
   "metadata": {},
   "source": [
    "## Ok, now we increase the scale to WEEKLY"
   ]
  },
  {
   "cell_type": "code",
   "execution_count": 3,
   "id": "b5774f60",
   "metadata": {},
   "outputs": [],
   "source": [
    "url = 'https://www.pro-football-reference.com/years/2022/week_1.htm'"
   ]
  },
  {
   "cell_type": "code",
   "execution_count": 4,
   "id": "e8e84cb9",
   "metadata": {},
   "outputs": [
    {
     "data": {
      "text/plain": [
       "<Response [200]>"
      ]
     },
     "execution_count": 4,
     "metadata": {},
     "output_type": "execute_result"
    }
   ],
   "source": [
    "response = requests.get(url)\n",
    "response"
   ]
  },
  {
   "cell_type": "code",
   "execution_count": null,
   "id": "3de1baf8",
   "metadata": {},
   "outputs": [],
   "source": [
    "response"
   ]
  },
  {
   "cell_type": "code",
   "execution_count": 5,
   "id": "73f7168a",
   "metadata": {},
   "outputs": [],
   "source": [
    "soup = BeautifulSoup(response.content, 'html.parser')"
   ]
  },
  {
   "cell_type": "code",
   "execution_count": 6,
   "id": "4c621a6a",
   "metadata": {},
   "outputs": [],
   "source": [
    "html_links = soup.find_all('td', class_='right gamelink')"
   ]
  },
  {
   "cell_type": "code",
   "execution_count": 7,
   "id": "2676d1a4",
   "metadata": {},
   "outputs": [
    {
     "data": {
      "text/plain": [
       "'/boxscores/202209080ram.htm'"
      ]
     },
     "execution_count": 7,
     "metadata": {},
     "output_type": "execute_result"
    }
   ],
   "source": [
    "html_links[0].find('a')['href']"
   ]
  },
  {
   "cell_type": "markdown",
   "id": "82ff3a62",
   "metadata": {},
   "source": [
    "## List of Games"
   ]
  },
  {
   "cell_type": "code",
   "execution_count": 8,
   "id": "228869b6",
   "metadata": {},
   "outputs": [
    {
     "data": {
      "text/plain": [
       "['/boxscores/202209080ram.htm',\n",
       " '/boxscores/202209110atl.htm',\n",
       " '/boxscores/202209110car.htm',\n",
       " '/boxscores/202209110chi.htm',\n",
       " '/boxscores/202209110cin.htm',\n",
       " '/boxscores/202209110det.htm',\n",
       " '/boxscores/202209110htx.htm',\n",
       " '/boxscores/202209110mia.htm',\n",
       " '/boxscores/202209110nyj.htm',\n",
       " '/boxscores/202209110was.htm',\n",
       " '/boxscores/202209110crd.htm',\n",
       " '/boxscores/202209110min.htm',\n",
       " '/boxscores/202209110oti.htm',\n",
       " '/boxscores/202209110sdg.htm',\n",
       " '/boxscores/202209110dal.htm',\n",
       " '/boxscores/202209120sea.htm']"
      ]
     },
     "execution_count": 8,
     "metadata": {},
     "output_type": "execute_result"
    }
   ],
   "source": [
    "[item.find('a')['href'] for item in html_links]"
   ]
  },
  {
   "cell_type": "code",
   "execution_count": 9,
   "id": "8fefeda8",
   "metadata": {},
   "outputs": [],
   "source": [
    "games = [item.find('a')['href'] for item in html_links]"
   ]
  },
  {
   "cell_type": "code",
   "execution_count": 10,
   "id": "001280fb",
   "metadata": {
    "scrolled": true
   },
   "outputs": [
    {
     "data": {
      "text/plain": [
       "['/boxscores/202209080ram.htm',\n",
       " '/boxscores/202209110atl.htm',\n",
       " '/boxscores/202209110car.htm',\n",
       " '/boxscores/202209110chi.htm',\n",
       " '/boxscores/202209110cin.htm',\n",
       " '/boxscores/202209110det.htm',\n",
       " '/boxscores/202209110htx.htm',\n",
       " '/boxscores/202209110mia.htm',\n",
       " '/boxscores/202209110nyj.htm',\n",
       " '/boxscores/202209110was.htm',\n",
       " '/boxscores/202209110crd.htm',\n",
       " '/boxscores/202209110min.htm',\n",
       " '/boxscores/202209110oti.htm',\n",
       " '/boxscores/202209110sdg.htm',\n",
       " '/boxscores/202209110dal.htm',\n",
       " '/boxscores/202209120sea.htm']"
      ]
     },
     "execution_count": 10,
     "metadata": {},
     "output_type": "execute_result"
    }
   ],
   "source": [
    "games"
   ]
  },
  {
   "cell_type": "markdown",
   "id": "ed9fabef",
   "metadata": {},
   "source": [
    "## List of homes"
   ]
  },
  {
   "cell_type": "code",
   "execution_count": 11,
   "id": "30509812",
   "metadata": {},
   "outputs": [],
   "source": [
    "home_re = r'[a-z]{3}'"
   ]
  },
  {
   "cell_type": "code",
   "execution_count": 12,
   "id": "5c7cbc66",
   "metadata": {},
   "outputs": [],
   "source": [
    "home = re.findall(home_re,games[0])[3]"
   ]
  },
  {
   "cell_type": "code",
   "execution_count": 13,
   "id": "51d5d7cc",
   "metadata": {},
   "outputs": [
    {
     "data": {
      "text/plain": [
       "str"
      ]
     },
     "execution_count": 13,
     "metadata": {},
     "output_type": "execute_result"
    }
   ],
   "source": [
    "type(home)"
   ]
  },
  {
   "cell_type": "code",
   "execution_count": 14,
   "id": "06a51417",
   "metadata": {},
   "outputs": [
    {
     "data": {
      "text/plain": [
       "'ram'"
      ]
     },
     "execution_count": 14,
     "metadata": {},
     "output_type": "execute_result"
    }
   ],
   "source": [
    "home"
   ]
  },
  {
   "cell_type": "code",
   "execution_count": 15,
   "id": "ce568e3e",
   "metadata": {},
   "outputs": [],
   "source": [
    "homes = [re.findall(home_re,i)[3] for i in games]"
   ]
  },
  {
   "cell_type": "code",
   "execution_count": null,
   "id": "34c58e51",
   "metadata": {},
   "outputs": [],
   "source": [
    "# homes_2 = []\n",
    "# for i in games:\n",
    "#     home_re = r'[a-z]{3}'\n",
    "#     home = re.findall(home_re,i)[3]\n",
    "#     homes.append(home)"
   ]
  },
  {
   "cell_type": "code",
   "execution_count": 16,
   "id": "5fdc0fab",
   "metadata": {},
   "outputs": [
    {
     "data": {
      "text/plain": [
       "['ram',\n",
       " 'atl',\n",
       " 'car',\n",
       " 'chi',\n",
       " 'cin',\n",
       " 'det',\n",
       " 'htx',\n",
       " 'mia',\n",
       " 'nyj',\n",
       " 'was',\n",
       " 'crd',\n",
       " 'min',\n",
       " 'oti',\n",
       " 'sdg',\n",
       " 'dal',\n",
       " 'sea']"
      ]
     },
     "execution_count": 16,
     "metadata": {},
     "output_type": "execute_result"
    }
   ],
   "source": [
    "homes"
   ]
  },
  {
   "cell_type": "code",
   "execution_count": null,
   "id": "db2c5473",
   "metadata": {},
   "outputs": [],
   "source": []
  },
  {
   "cell_type": "markdown",
   "id": "468948d3",
   "metadata": {},
   "source": [
    "## List of seasons"
   ]
  },
  {
   "cell_type": "code",
   "execution_count": 17,
   "id": "04ded509",
   "metadata": {},
   "outputs": [],
   "source": [
    "date_re = r'[0-9]{4}'"
   ]
  },
  {
   "cell_type": "code",
   "execution_count": 18,
   "id": "7c63416f",
   "metadata": {},
   "outputs": [
    {
     "data": {
      "text/plain": [
       "'2022'"
      ]
     },
     "execution_count": 18,
     "metadata": {},
     "output_type": "execute_result"
    }
   ],
   "source": [
    "re.findall(date_re,games[0])[0]"
   ]
  },
  {
   "cell_type": "code",
   "execution_count": 19,
   "id": "6ffc029a",
   "metadata": {},
   "outputs": [],
   "source": [
    "season = re.findall(date_re,games[0])[0]"
   ]
  },
  {
   "cell_type": "code",
   "execution_count": 20,
   "id": "651d1b07",
   "metadata": {},
   "outputs": [
    {
     "data": {
      "text/plain": [
       "'2022'"
      ]
     },
     "execution_count": 20,
     "metadata": {},
     "output_type": "execute_result"
    }
   ],
   "source": [
    "season"
   ]
  },
  {
   "cell_type": "code",
   "execution_count": 21,
   "id": "398c3f57",
   "metadata": {},
   "outputs": [],
   "source": [
    "seasons = [re.findall(date_re,i)[0] for i in games]"
   ]
  },
  {
   "cell_type": "code",
   "execution_count": 22,
   "id": "f420752b",
   "metadata": {},
   "outputs": [
    {
     "data": {
      "text/plain": [
       "['2022',\n",
       " '2022',\n",
       " '2022',\n",
       " '2022',\n",
       " '2022',\n",
       " '2022',\n",
       " '2022',\n",
       " '2022',\n",
       " '2022',\n",
       " '2022',\n",
       " '2022',\n",
       " '2022',\n",
       " '2022',\n",
       " '2022',\n",
       " '2022',\n",
       " '2022']"
      ]
     },
     "execution_count": 22,
     "metadata": {},
     "output_type": "execute_result"
    }
   ],
   "source": [
    "seasons"
   ]
  },
  {
   "cell_type": "markdown",
   "id": "87b7100e",
   "metadata": {},
   "source": [
    "## List of weeks"
   ]
  },
  {
   "cell_type": "code",
   "execution_count": 23,
   "id": "3f34c712",
   "metadata": {},
   "outputs": [],
   "source": [
    "weeks = [1 for i in games]"
   ]
  },
  {
   "cell_type": "code",
   "execution_count": 24,
   "id": "1ab30878",
   "metadata": {},
   "outputs": [
    {
     "data": {
      "text/plain": [
       "[1, 1, 1, 1, 1, 1, 1, 1, 1, 1, 1, 1, 1, 1, 1, 1]"
      ]
     },
     "execution_count": 24,
     "metadata": {},
     "output_type": "execute_result"
    }
   ],
   "source": [
    "weeks"
   ]
  },
  {
   "cell_type": "code",
   "execution_count": null,
   "id": "341fbcca",
   "metadata": {},
   "outputs": [],
   "source": []
  },
  {
   "cell_type": "markdown",
   "id": "87195c2c",
   "metadata": {},
   "source": [
    "## List of temps"
   ]
  },
  {
   "cell_type": "code",
   "execution_count": 25,
   "id": "79f097ee",
   "metadata": {},
   "outputs": [],
   "source": [
    "temps = []\n",
    "for game in games:\n",
    "    url = f'https://www.pro-football-reference.com/{game}'\n",
    "    response = requests.get(url)\n",
    "    wx_digits = r'\\d{1,2}'\n",
    "    soup = BeautifulSoup(response.content, 'html.parser')\n",
    "    div_grid = soup.find_all('div', class_='content_grid')[0]\n",
    "    div = div_grid.find_all('div')[0]\n",
    "    div_wrap = div.find_all('div')[0]\n",
    "    soup_wrap4 = div_wrap.contents[4]\n",
    "    soup4 = BeautifulSoup(soup_wrap4, 'html.parser')\n",
    "    wx = soup4.find_all('td','center')[-3]\n",
    "    content = str(wx.contents[0])\n",
    "    temp = re.findall(wx_digits,content)[0]\n",
    "    temps.append(temp)"
   ]
  },
  {
   "cell_type": "code",
   "execution_count": 26,
   "id": "8f5af6b7",
   "metadata": {},
   "outputs": [
    {
     "data": {
      "text/plain": [
       "['20',\n",
       " '20',\n",
       " '80',\n",
       " '69',\n",
       " '76',\n",
       " '20',\n",
       " '20',\n",
       " '92',\n",
       " '73',\n",
       " '74',\n",
       " '20',\n",
       " '20',\n",
       " '75',\n",
       " '20',\n",
       " '20',\n",
       " '74']"
      ]
     },
     "execution_count": 26,
     "metadata": {},
     "output_type": "execute_result"
    }
   ],
   "source": [
    "temps"
   ]
  },
  {
   "cell_type": "code",
   "execution_count": null,
   "id": "d6b12c11",
   "metadata": {},
   "outputs": [],
   "source": [
    "df = pd.DataFrame({\n",
    "    'season':seasons,\n",
    "    'week':weeks,\n",
    "    'home':homes,\n",
    "    'temp':temps\n",
    "})"
   ]
  },
  {
   "cell_type": "code",
   "execution_count": null,
   "id": "f12e7ef1",
   "metadata": {},
   "outputs": [],
   "source": [
    "df"
   ]
  },
  {
   "cell_type": "markdown",
   "id": "e399a67b",
   "metadata": {},
   "source": [
    "## List of winds"
   ]
  },
  {
   "cell_type": "code",
   "execution_count": 29,
   "id": "1747ee02",
   "metadata": {},
   "outputs": [
    {
     "data": {
      "text/plain": [
       "<Response [200]>"
      ]
     },
     "execution_count": 29,
     "metadata": {},
     "output_type": "execute_result"
    }
   ],
   "source": [
    "response"
   ]
  },
  {
   "cell_type": "code",
   "execution_count": 30,
   "id": "b90b40c0",
   "metadata": {},
   "outputs": [],
   "source": [
    "winds = []\n",
    "for game in games:\n",
    "    url = f'https://www.pro-football-reference.com/{game}'\n",
    "    response = requests.get(url)\n",
    "    wx_digits = r'\\d{1,2}'\n",
    "    soup = BeautifulSoup(response.content, 'html.parser')\n",
    "    div_grid = soup.find_all('div', class_='content_grid')[0]\n",
    "    div = div_grid.find_all('div')[0]\n",
    "    div_wrap = div.find_all('div')[0]\n",
    "    soup_wrap4 = div_wrap.contents[4]\n",
    "    soup4 = BeautifulSoup(soup_wrap4, 'html.parser')\n",
    "    wx = soup4.find_all('td','center')[-3]\n",
    "    content = str(wx.contents[0])\n",
    "    wind = re.findall(wx_digits,content)[2]\n",
    "    winds.append(wind)"
   ]
  },
  {
   "cell_type": "code",
   "execution_count": 31,
   "id": "83089fa9",
   "metadata": {},
   "outputs": [
    {
     "data": {
      "text/plain": [
       "['73',\n",
       " '70',\n",
       " '8',\n",
       " '16',\n",
       " '5',\n",
       " '64',\n",
       " '69',\n",
       " '12',\n",
       " '3',\n",
       " '4',\n",
       " '63',\n",
       " '66',\n",
       " '9',\n",
       " '70',\n",
       " '93',\n",
       " '6']"
      ]
     },
     "execution_count": 31,
     "metadata": {},
     "output_type": "execute_result"
    }
   ],
   "source": [
    "winds"
   ]
  },
  {
   "cell_type": "markdown",
   "id": "885b002c",
   "metadata": {},
   "source": [
    "## List of hums"
   ]
  },
  {
   "cell_type": "code",
   "execution_count": 32,
   "id": "4610f02a",
   "metadata": {},
   "outputs": [
    {
     "data": {
      "text/plain": [
       "<Response [200]>"
      ]
     },
     "execution_count": 32,
     "metadata": {},
     "output_type": "execute_result"
    }
   ],
   "source": [
    "response"
   ]
  },
  {
   "cell_type": "code",
   "execution_count": 33,
   "id": "e69e5bc7",
   "metadata": {},
   "outputs": [],
   "source": [
    "hums = []\n",
    "for game in games:\n",
    "    url = f'https://www.pro-football-reference.com/{game}'\n",
    "    response = requests.get(url)\n",
    "    wx_digits = r'\\d{1,2}'\n",
    "    soup = BeautifulSoup(response.content, 'html.parser')\n",
    "    div_grid = soup.find_all('div', class_='content_grid')[0]\n",
    "    div = div_grid.find_all('div')[0]\n",
    "    div_wrap = div.find_all('div')[0]\n",
    "    soup_wrap4 = div_wrap.contents[4]\n",
    "    soup4 = BeautifulSoup(soup_wrap4, 'html.parser')\n",
    "    wx = soup4.find_all('td','center')[-3]\n",
    "    content = str(wx.contents[0])\n",
    "    hum = re.findall(wx_digits,content)[1]\n",
    "    hums.append(hum)"
   ]
  },
  {
   "cell_type": "code",
   "execution_count": 34,
   "id": "312a2ab9",
   "metadata": {},
   "outputs": [
    {
     "data": {
      "text/plain": [
       "['22',\n",
       " '22',\n",
       " '81',\n",
       " '87',\n",
       " '83',\n",
       " '22',\n",
       " '22',\n",
       " '58',\n",
       " '79',\n",
       " '95',\n",
       " '22',\n",
       " '22',\n",
       " '87',\n",
       " '22',\n",
       " '22',\n",
       " '53']"
      ]
     },
     "execution_count": 34,
     "metadata": {},
     "output_type": "execute_result"
    }
   ],
   "source": [
    "hums"
   ]
  },
  {
   "cell_type": "code",
   "execution_count": 35,
   "id": "60e08a33",
   "metadata": {},
   "outputs": [],
   "source": [
    "df = pd.DataFrame({\n",
    "    'schedule_season':seasons,\n",
    "    'schedule_week':weeks,\n",
    "    'team_home':homes,\n",
    "    'weather_temperature':temps,\n",
    "    'weather_wind_mph':winds,\n",
    "    \"weather_humidity\":hums\n",
    "})"
   ]
  },
  {
   "cell_type": "code",
   "execution_count": 36,
   "id": "6c9db23f",
   "metadata": {},
   "outputs": [
    {
     "data": {
      "text/html": [
       "<div>\n",
       "<style scoped>\n",
       "    .dataframe tbody tr th:only-of-type {\n",
       "        vertical-align: middle;\n",
       "    }\n",
       "\n",
       "    .dataframe tbody tr th {\n",
       "        vertical-align: top;\n",
       "    }\n",
       "\n",
       "    .dataframe thead th {\n",
       "        text-align: right;\n",
       "    }\n",
       "</style>\n",
       "<table border=\"1\" class=\"dataframe\">\n",
       "  <thead>\n",
       "    <tr style=\"text-align: right;\">\n",
       "      <th></th>\n",
       "      <th>schedule_season</th>\n",
       "      <th>schedule_week</th>\n",
       "      <th>team_home</th>\n",
       "      <th>weather_temperature</th>\n",
       "      <th>weather_wind_mph</th>\n",
       "      <th>weather_humidity</th>\n",
       "    </tr>\n",
       "  </thead>\n",
       "  <tbody>\n",
       "    <tr>\n",
       "      <th>0</th>\n",
       "      <td>2022</td>\n",
       "      <td>1</td>\n",
       "      <td>ram</td>\n",
       "      <td>20</td>\n",
       "      <td>73</td>\n",
       "      <td>22</td>\n",
       "    </tr>\n",
       "    <tr>\n",
       "      <th>1</th>\n",
       "      <td>2022</td>\n",
       "      <td>1</td>\n",
       "      <td>atl</td>\n",
       "      <td>20</td>\n",
       "      <td>70</td>\n",
       "      <td>22</td>\n",
       "    </tr>\n",
       "    <tr>\n",
       "      <th>2</th>\n",
       "      <td>2022</td>\n",
       "      <td>1</td>\n",
       "      <td>car</td>\n",
       "      <td>80</td>\n",
       "      <td>8</td>\n",
       "      <td>81</td>\n",
       "    </tr>\n",
       "    <tr>\n",
       "      <th>3</th>\n",
       "      <td>2022</td>\n",
       "      <td>1</td>\n",
       "      <td>chi</td>\n",
       "      <td>69</td>\n",
       "      <td>16</td>\n",
       "      <td>87</td>\n",
       "    </tr>\n",
       "    <tr>\n",
       "      <th>4</th>\n",
       "      <td>2022</td>\n",
       "      <td>1</td>\n",
       "      <td>cin</td>\n",
       "      <td>76</td>\n",
       "      <td>5</td>\n",
       "      <td>83</td>\n",
       "    </tr>\n",
       "    <tr>\n",
       "      <th>5</th>\n",
       "      <td>2022</td>\n",
       "      <td>1</td>\n",
       "      <td>det</td>\n",
       "      <td>20</td>\n",
       "      <td>64</td>\n",
       "      <td>22</td>\n",
       "    </tr>\n",
       "    <tr>\n",
       "      <th>6</th>\n",
       "      <td>2022</td>\n",
       "      <td>1</td>\n",
       "      <td>htx</td>\n",
       "      <td>20</td>\n",
       "      <td>69</td>\n",
       "      <td>22</td>\n",
       "    </tr>\n",
       "    <tr>\n",
       "      <th>7</th>\n",
       "      <td>2022</td>\n",
       "      <td>1</td>\n",
       "      <td>mia</td>\n",
       "      <td>92</td>\n",
       "      <td>12</td>\n",
       "      <td>58</td>\n",
       "    </tr>\n",
       "    <tr>\n",
       "      <th>8</th>\n",
       "      <td>2022</td>\n",
       "      <td>1</td>\n",
       "      <td>nyj</td>\n",
       "      <td>73</td>\n",
       "      <td>3</td>\n",
       "      <td>79</td>\n",
       "    </tr>\n",
       "    <tr>\n",
       "      <th>9</th>\n",
       "      <td>2022</td>\n",
       "      <td>1</td>\n",
       "      <td>was</td>\n",
       "      <td>74</td>\n",
       "      <td>4</td>\n",
       "      <td>95</td>\n",
       "    </tr>\n",
       "    <tr>\n",
       "      <th>10</th>\n",
       "      <td>2022</td>\n",
       "      <td>1</td>\n",
       "      <td>crd</td>\n",
       "      <td>20</td>\n",
       "      <td>63</td>\n",
       "      <td>22</td>\n",
       "    </tr>\n",
       "    <tr>\n",
       "      <th>11</th>\n",
       "      <td>2022</td>\n",
       "      <td>1</td>\n",
       "      <td>min</td>\n",
       "      <td>20</td>\n",
       "      <td>66</td>\n",
       "      <td>22</td>\n",
       "    </tr>\n",
       "    <tr>\n",
       "      <th>12</th>\n",
       "      <td>2022</td>\n",
       "      <td>1</td>\n",
       "      <td>oti</td>\n",
       "      <td>75</td>\n",
       "      <td>9</td>\n",
       "      <td>87</td>\n",
       "    </tr>\n",
       "    <tr>\n",
       "      <th>13</th>\n",
       "      <td>2022</td>\n",
       "      <td>1</td>\n",
       "      <td>sdg</td>\n",
       "      <td>20</td>\n",
       "      <td>70</td>\n",
       "      <td>22</td>\n",
       "    </tr>\n",
       "    <tr>\n",
       "      <th>14</th>\n",
       "      <td>2022</td>\n",
       "      <td>1</td>\n",
       "      <td>dal</td>\n",
       "      <td>20</td>\n",
       "      <td>93</td>\n",
       "      <td>22</td>\n",
       "    </tr>\n",
       "    <tr>\n",
       "      <th>15</th>\n",
       "      <td>2022</td>\n",
       "      <td>1</td>\n",
       "      <td>sea</td>\n",
       "      <td>74</td>\n",
       "      <td>6</td>\n",
       "      <td>53</td>\n",
       "    </tr>\n",
       "  </tbody>\n",
       "</table>\n",
       "</div>"
      ],
      "text/plain": [
       "   schedule_season  schedule_week team_home weather_temperature  \\\n",
       "0             2022              1       ram                  20   \n",
       "1             2022              1       atl                  20   \n",
       "2             2022              1       car                  80   \n",
       "3             2022              1       chi                  69   \n",
       "4             2022              1       cin                  76   \n",
       "5             2022              1       det                  20   \n",
       "6             2022              1       htx                  20   \n",
       "7             2022              1       mia                  92   \n",
       "8             2022              1       nyj                  73   \n",
       "9             2022              1       was                  74   \n",
       "10            2022              1       crd                  20   \n",
       "11            2022              1       min                  20   \n",
       "12            2022              1       oti                  75   \n",
       "13            2022              1       sdg                  20   \n",
       "14            2022              1       dal                  20   \n",
       "15            2022              1       sea                  74   \n",
       "\n",
       "   weather_wind_mph weather_humidity  \n",
       "0                73               22  \n",
       "1                70               22  \n",
       "2                 8               81  \n",
       "3                16               87  \n",
       "4                 5               83  \n",
       "5                64               22  \n",
       "6                69               22  \n",
       "7                12               58  \n",
       "8                 3               79  \n",
       "9                 4               95  \n",
       "10               63               22  \n",
       "11               66               22  \n",
       "12                9               87  \n",
       "13               70               22  \n",
       "14               93               22  \n",
       "15                6               53  "
      ]
     },
     "execution_count": 36,
     "metadata": {},
     "output_type": "execute_result"
    }
   ],
   "source": [
    "df"
   ]
  },
  {
   "cell_type": "markdown",
   "id": "47623deb",
   "metadata": {},
   "source": [
    "## Write to .csv"
   ]
  },
  {
   "cell_type": "code",
   "execution_count": 37,
   "id": "c00823a4",
   "metadata": {},
   "outputs": [],
   "source": [
    "df.to_csv('season_2022_w1.csv', index=False)"
   ]
  },
  {
   "cell_type": "markdown",
   "id": "752fc074",
   "metadata": {},
   "source": [
    "---\n",
    "---\n",
    "## NEXT WEEK"
   ]
  },
  {
   "cell_type": "code",
   "execution_count": 38,
   "id": "4575c8ba",
   "metadata": {},
   "outputs": [],
   "source": [
    "url = 'https://www.pro-football-reference.com/years/2022/week_2.htm'"
   ]
  },
  {
   "cell_type": "code",
   "execution_count": 39,
   "id": "aabae4c0",
   "metadata": {},
   "outputs": [],
   "source": [
    "response = requests.get(url)"
   ]
  },
  {
   "cell_type": "code",
   "execution_count": 40,
   "id": "f009c5e7",
   "metadata": {},
   "outputs": [
    {
     "data": {
      "text/plain": [
       "<Response [200]>"
      ]
     },
     "execution_count": 40,
     "metadata": {},
     "output_type": "execute_result"
    }
   ],
   "source": [
    "response"
   ]
  },
  {
   "cell_type": "code",
   "execution_count": 41,
   "id": "d1c1b0d0",
   "metadata": {},
   "outputs": [],
   "source": [
    "soup = BeautifulSoup(response.content, 'html.parser')\n",
    "html_links = soup.find_all('td', class_='right gamelink')\n",
    "games = [item.find('a')['href'] for item in html_links]"
   ]
  },
  {
   "cell_type": "code",
   "execution_count": 42,
   "id": "bc951837",
   "metadata": {},
   "outputs": [
    {
     "data": {
      "text/plain": [
       "['/boxscores/202209150kan.htm',\n",
       " '/boxscores/202209180cle.htm',\n",
       " '/boxscores/202209180det.htm',\n",
       " '/boxscores/202209180jax.htm',\n",
       " '/boxscores/202209180nor.htm',\n",
       " '/boxscores/202209180nyg.htm',\n",
       " '/boxscores/202209180pit.htm',\n",
       " '/boxscores/202209180rav.htm',\n",
       " '/boxscores/202209180ram.htm',\n",
       " '/boxscores/202209180sfo.htm',\n",
       " '/boxscores/202209180dal.htm',\n",
       " '/boxscores/202209180den.htm',\n",
       " '/boxscores/202209180rai.htm',\n",
       " '/boxscores/202209180gnb.htm',\n",
       " '/boxscores/202209190buf.htm',\n",
       " '/boxscores/202209190phi.htm']"
      ]
     },
     "execution_count": 42,
     "metadata": {},
     "output_type": "execute_result"
    }
   ],
   "source": [
    "games"
   ]
  },
  {
   "cell_type": "markdown",
   "id": "7fe87b31",
   "metadata": {},
   "source": [
    "## List of homes"
   ]
  },
  {
   "cell_type": "code",
   "execution_count": 43,
   "id": "20feac2a",
   "metadata": {},
   "outputs": [],
   "source": [
    "home_re = r'[a-z]{3}'\n",
    "homes = [re.findall(home_re,i)[3] for i in games]"
   ]
  },
  {
   "cell_type": "code",
   "execution_count": 44,
   "id": "9ec371a8",
   "metadata": {},
   "outputs": [
    {
     "data": {
      "text/plain": [
       "['kan',\n",
       " 'cle',\n",
       " 'det',\n",
       " 'jax',\n",
       " 'nor',\n",
       " 'nyg',\n",
       " 'pit',\n",
       " 'rav',\n",
       " 'ram',\n",
       " 'sfo',\n",
       " 'dal',\n",
       " 'den',\n",
       " 'rai',\n",
       " 'gnb',\n",
       " 'buf',\n",
       " 'phi']"
      ]
     },
     "execution_count": 44,
     "metadata": {},
     "output_type": "execute_result"
    }
   ],
   "source": [
    "homes"
   ]
  },
  {
   "cell_type": "markdown",
   "id": "933bcd80",
   "metadata": {},
   "source": [
    "## List of seasons"
   ]
  },
  {
   "cell_type": "code",
   "execution_count": 45,
   "id": "a936194a",
   "metadata": {},
   "outputs": [],
   "source": [
    "date_re = r'[0-9]{4}'\n",
    "seasons = [re.findall(date_re,i)[0] for i in games]"
   ]
  },
  {
   "cell_type": "code",
   "execution_count": 46,
   "id": "792572eb",
   "metadata": {},
   "outputs": [
    {
     "data": {
      "text/plain": [
       "['2022',\n",
       " '2022',\n",
       " '2022',\n",
       " '2022',\n",
       " '2022',\n",
       " '2022',\n",
       " '2022',\n",
       " '2022',\n",
       " '2022',\n",
       " '2022',\n",
       " '2022',\n",
       " '2022',\n",
       " '2022',\n",
       " '2022',\n",
       " '2022',\n",
       " '2022']"
      ]
     },
     "execution_count": 46,
     "metadata": {},
     "output_type": "execute_result"
    }
   ],
   "source": [
    "seasons"
   ]
  },
  {
   "cell_type": "markdown",
   "id": "8957829e",
   "metadata": {},
   "source": [
    "## List of weeks"
   ]
  },
  {
   "cell_type": "code",
   "execution_count": 47,
   "id": "81dd5fb0",
   "metadata": {},
   "outputs": [],
   "source": [
    "weeks = [2 for i in games]"
   ]
  },
  {
   "cell_type": "code",
   "execution_count": 48,
   "id": "8885e35a",
   "metadata": {},
   "outputs": [
    {
     "data": {
      "text/plain": [
       "[2, 2, 2, 2, 2, 2, 2, 2, 2, 2, 2, 2, 2, 2, 2, 2]"
      ]
     },
     "execution_count": 48,
     "metadata": {},
     "output_type": "execute_result"
    }
   ],
   "source": [
    "weeks"
   ]
  },
  {
   "cell_type": "markdown",
   "id": "8fff43c9",
   "metadata": {},
   "source": [
    "## List of temps"
   ]
  },
  {
   "cell_type": "code",
   "execution_count": 49,
   "id": "91f99145",
   "metadata": {},
   "outputs": [],
   "source": [
    "temps = []\n",
    "for game in games:\n",
    "    url = f'https://www.pro-football-reference.com/{game}'\n",
    "    response = requests.get(url)\n",
    "    wx_digits = r'\\d{1,2}'\n",
    "    soup = BeautifulSoup(response.content, 'html.parser')\n",
    "    div_grid = soup.find_all('div', class_='content_grid')[0]\n",
    "    div = div_grid.find_all('div')[0]\n",
    "    div_wrap = div.find_all('div')[0]\n",
    "    soup_wrap4 = div_wrap.contents[4]\n",
    "    soup4 = BeautifulSoup(soup_wrap4, 'html.parser')\n",
    "    wx = soup4.find_all('td','center')[-3]\n",
    "    content = str(wx.contents[0])\n",
    "    temp = re.findall(wx_digits,content)[0]\n",
    "    temps.append(temp)"
   ]
  },
  {
   "cell_type": "code",
   "execution_count": 50,
   "id": "1310aac6",
   "metadata": {},
   "outputs": [
    {
     "data": {
      "text/plain": [
       "['20',\n",
       " '80',\n",
       " '20',\n",
       " '20',\n",
       " '20',\n",
       " '73',\n",
       " '81',\n",
       " '82',\n",
       " '20',\n",
       " '20',\n",
       " '20',\n",
       " '77',\n",
       " '20',\n",
       " '73',\n",
       " '70',\n",
       " '76']"
      ]
     },
     "execution_count": 50,
     "metadata": {},
     "output_type": "execute_result"
    }
   ],
   "source": [
    "temps"
   ]
  },
  {
   "cell_type": "markdown",
   "id": "02013516",
   "metadata": {},
   "source": [
    "## List of winds"
   ]
  },
  {
   "cell_type": "code",
   "execution_count": 51,
   "id": "44f4583e",
   "metadata": {},
   "outputs": [
    {
     "data": {
      "text/plain": [
       "<Response [200]>"
      ]
     },
     "execution_count": 51,
     "metadata": {},
     "output_type": "execute_result"
    }
   ],
   "source": [
    "response"
   ]
  },
  {
   "cell_type": "code",
   "execution_count": 52,
   "id": "5f0dfb16",
   "metadata": {},
   "outputs": [],
   "source": [
    "winds = []\n",
    "for game in games:\n",
    "    url = f'https://www.pro-football-reference.com/{game}'\n",
    "    response = requests.get(url)\n",
    "    wx_digits = r'\\d{1,2}'\n",
    "    soup = BeautifulSoup(response.content, 'html.parser')\n",
    "    div_grid = soup.find_all('div', class_='content_grid')[0]\n",
    "    div = div_grid.find_all('div')[0]\n",
    "    div_wrap = div.find_all('div')[0]\n",
    "    soup_wrap4 = div_wrap.contents[4]\n",
    "    soup4 = BeautifulSoup(soup_wrap4, 'html.parser')\n",
    "    wx = soup4.find_all('td','center')[-3]\n",
    "    content = str(wx.contents[0])\n",
    "    wind = re.findall(wx_digits,content)[2]\n",
    "    winds.append(wind)"
   ]
  },
  {
   "cell_type": "code",
   "execution_count": 53,
   "id": "60257234",
   "metadata": {},
   "outputs": [
    {
     "data": {
      "text/plain": [
       "['73',\n",
       " '11',\n",
       " '57',\n",
       " '58',\n",
       " '70',\n",
       " '12',\n",
       " '8',\n",
       " '6',\n",
       " '71',\n",
       " '71',\n",
       " '92',\n",
       " '11',\n",
       " '61',\n",
       " '5',\n",
       " '11',\n",
       " '4']"
      ]
     },
     "execution_count": 53,
     "metadata": {},
     "output_type": "execute_result"
    }
   ],
   "source": [
    "winds"
   ]
  },
  {
   "cell_type": "markdown",
   "id": "9a650cf6",
   "metadata": {},
   "source": [
    "## List of hums"
   ]
  },
  {
   "cell_type": "code",
   "execution_count": 82,
   "id": "01d8b4ee",
   "metadata": {},
   "outputs": [
    {
     "data": {
      "text/plain": [
       "<Response [200]>"
      ]
     },
     "execution_count": 82,
     "metadata": {},
     "output_type": "execute_result"
    }
   ],
   "source": [
    "response"
   ]
  },
  {
   "cell_type": "code",
   "execution_count": 55,
   "id": "f7449abb",
   "metadata": {},
   "outputs": [],
   "source": [
    "hums = []\n",
    "for game in games:\n",
    "    url = f'https://www.pro-football-reference.com/{game}'\n",
    "    response = requests.get(url)\n",
    "    wx_digits = r'\\d{1,2}'\n",
    "    soup = BeautifulSoup(response.content, 'html.parser')\n",
    "    div_grid = soup.find_all('div', class_='content_grid')[0]\n",
    "    div = div_grid.find_all('div')[0]\n",
    "    div_wrap = div.find_all('div')[0]\n",
    "    soup_wrap4 = div_wrap.contents[4]\n",
    "    soup4 = BeautifulSoup(soup_wrap4, 'html.parser')\n",
    "    wx = soup4.find_all('td','center')[-3]\n",
    "    content = str(wx.contents[0])\n",
    "    hum = re.findall(wx_digits,content)[1]\n",
    "    hums.append(hum)"
   ]
  },
  {
   "cell_type": "code",
   "execution_count": 56,
   "id": "0ae4dbe5",
   "metadata": {},
   "outputs": [
    {
     "data": {
      "text/plain": [
       "['22',\n",
       " '55',\n",
       " '22',\n",
       " '22',\n",
       " '22',\n",
       " '74',\n",
       " '51',\n",
       " '61',\n",
       " '22',\n",
       " '22',\n",
       " '22',\n",
       " '28',\n",
       " '22',\n",
       " '76',\n",
       " '84',\n",
       " '62']"
      ]
     },
     "execution_count": 56,
     "metadata": {},
     "output_type": "execute_result"
    }
   ],
   "source": [
    "hums"
   ]
  },
  {
   "cell_type": "code",
   "execution_count": 57,
   "id": "8630756b",
   "metadata": {},
   "outputs": [],
   "source": [
    "df = pd.DataFrame({\n",
    "    'schedule_season':seasons,\n",
    "    'schedule_week':weeks,\n",
    "    'team_home':homes,\n",
    "    'weather_temperature':temps,\n",
    "    'weather_wind_mph':winds,\n",
    "    \"weather_humidity\":hums\n",
    "})"
   ]
  },
  {
   "cell_type": "code",
   "execution_count": 58,
   "id": "6e3c4cd3",
   "metadata": {},
   "outputs": [
    {
     "data": {
      "text/html": [
       "<div>\n",
       "<style scoped>\n",
       "    .dataframe tbody tr th:only-of-type {\n",
       "        vertical-align: middle;\n",
       "    }\n",
       "\n",
       "    .dataframe tbody tr th {\n",
       "        vertical-align: top;\n",
       "    }\n",
       "\n",
       "    .dataframe thead th {\n",
       "        text-align: right;\n",
       "    }\n",
       "</style>\n",
       "<table border=\"1\" class=\"dataframe\">\n",
       "  <thead>\n",
       "    <tr style=\"text-align: right;\">\n",
       "      <th></th>\n",
       "      <th>schedule_season</th>\n",
       "      <th>schedule_week</th>\n",
       "      <th>team_home</th>\n",
       "      <th>weather_temperature</th>\n",
       "      <th>weather_wind_mph</th>\n",
       "      <th>weather_humidity</th>\n",
       "    </tr>\n",
       "  </thead>\n",
       "  <tbody>\n",
       "    <tr>\n",
       "      <th>0</th>\n",
       "      <td>2022</td>\n",
       "      <td>2</td>\n",
       "      <td>kan</td>\n",
       "      <td>20</td>\n",
       "      <td>73</td>\n",
       "      <td>22</td>\n",
       "    </tr>\n",
       "    <tr>\n",
       "      <th>1</th>\n",
       "      <td>2022</td>\n",
       "      <td>2</td>\n",
       "      <td>cle</td>\n",
       "      <td>80</td>\n",
       "      <td>11</td>\n",
       "      <td>55</td>\n",
       "    </tr>\n",
       "    <tr>\n",
       "      <th>2</th>\n",
       "      <td>2022</td>\n",
       "      <td>2</td>\n",
       "      <td>det</td>\n",
       "      <td>20</td>\n",
       "      <td>57</td>\n",
       "      <td>22</td>\n",
       "    </tr>\n",
       "    <tr>\n",
       "      <th>3</th>\n",
       "      <td>2022</td>\n",
       "      <td>2</td>\n",
       "      <td>jax</td>\n",
       "      <td>20</td>\n",
       "      <td>58</td>\n",
       "      <td>22</td>\n",
       "    </tr>\n",
       "    <tr>\n",
       "      <th>4</th>\n",
       "      <td>2022</td>\n",
       "      <td>2</td>\n",
       "      <td>nor</td>\n",
       "      <td>20</td>\n",
       "      <td>70</td>\n",
       "      <td>22</td>\n",
       "    </tr>\n",
       "    <tr>\n",
       "      <th>5</th>\n",
       "      <td>2022</td>\n",
       "      <td>2</td>\n",
       "      <td>nyg</td>\n",
       "      <td>73</td>\n",
       "      <td>12</td>\n",
       "      <td>74</td>\n",
       "    </tr>\n",
       "    <tr>\n",
       "      <th>6</th>\n",
       "      <td>2022</td>\n",
       "      <td>2</td>\n",
       "      <td>pit</td>\n",
       "      <td>81</td>\n",
       "      <td>8</td>\n",
       "      <td>51</td>\n",
       "    </tr>\n",
       "    <tr>\n",
       "      <th>7</th>\n",
       "      <td>2022</td>\n",
       "      <td>2</td>\n",
       "      <td>rav</td>\n",
       "      <td>82</td>\n",
       "      <td>6</td>\n",
       "      <td>61</td>\n",
       "    </tr>\n",
       "    <tr>\n",
       "      <th>8</th>\n",
       "      <td>2022</td>\n",
       "      <td>2</td>\n",
       "      <td>ram</td>\n",
       "      <td>20</td>\n",
       "      <td>71</td>\n",
       "      <td>22</td>\n",
       "    </tr>\n",
       "    <tr>\n",
       "      <th>9</th>\n",
       "      <td>2022</td>\n",
       "      <td>2</td>\n",
       "      <td>sfo</td>\n",
       "      <td>20</td>\n",
       "      <td>71</td>\n",
       "      <td>22</td>\n",
       "    </tr>\n",
       "    <tr>\n",
       "      <th>10</th>\n",
       "      <td>2022</td>\n",
       "      <td>2</td>\n",
       "      <td>dal</td>\n",
       "      <td>20</td>\n",
       "      <td>92</td>\n",
       "      <td>22</td>\n",
       "    </tr>\n",
       "    <tr>\n",
       "      <th>11</th>\n",
       "      <td>2022</td>\n",
       "      <td>2</td>\n",
       "      <td>den</td>\n",
       "      <td>77</td>\n",
       "      <td>11</td>\n",
       "      <td>28</td>\n",
       "    </tr>\n",
       "    <tr>\n",
       "      <th>12</th>\n",
       "      <td>2022</td>\n",
       "      <td>2</td>\n",
       "      <td>rai</td>\n",
       "      <td>20</td>\n",
       "      <td>61</td>\n",
       "      <td>22</td>\n",
       "    </tr>\n",
       "    <tr>\n",
       "      <th>13</th>\n",
       "      <td>2022</td>\n",
       "      <td>2</td>\n",
       "      <td>gnb</td>\n",
       "      <td>73</td>\n",
       "      <td>5</td>\n",
       "      <td>76</td>\n",
       "    </tr>\n",
       "    <tr>\n",
       "      <th>14</th>\n",
       "      <td>2022</td>\n",
       "      <td>2</td>\n",
       "      <td>buf</td>\n",
       "      <td>70</td>\n",
       "      <td>11</td>\n",
       "      <td>84</td>\n",
       "    </tr>\n",
       "    <tr>\n",
       "      <th>15</th>\n",
       "      <td>2022</td>\n",
       "      <td>2</td>\n",
       "      <td>phi</td>\n",
       "      <td>76</td>\n",
       "      <td>4</td>\n",
       "      <td>62</td>\n",
       "    </tr>\n",
       "  </tbody>\n",
       "</table>\n",
       "</div>"
      ],
      "text/plain": [
       "   schedule_season  schedule_week team_home weather_temperature  \\\n",
       "0             2022              2       kan                  20   \n",
       "1             2022              2       cle                  80   \n",
       "2             2022              2       det                  20   \n",
       "3             2022              2       jax                  20   \n",
       "4             2022              2       nor                  20   \n",
       "5             2022              2       nyg                  73   \n",
       "6             2022              2       pit                  81   \n",
       "7             2022              2       rav                  82   \n",
       "8             2022              2       ram                  20   \n",
       "9             2022              2       sfo                  20   \n",
       "10            2022              2       dal                  20   \n",
       "11            2022              2       den                  77   \n",
       "12            2022              2       rai                  20   \n",
       "13            2022              2       gnb                  73   \n",
       "14            2022              2       buf                  70   \n",
       "15            2022              2       phi                  76   \n",
       "\n",
       "   weather_wind_mph weather_humidity  \n",
       "0                73               22  \n",
       "1                11               55  \n",
       "2                57               22  \n",
       "3                58               22  \n",
       "4                70               22  \n",
       "5                12               74  \n",
       "6                 8               51  \n",
       "7                 6               61  \n",
       "8                71               22  \n",
       "9                71               22  \n",
       "10               92               22  \n",
       "11               11               28  \n",
       "12               61               22  \n",
       "13                5               76  \n",
       "14               11               84  \n",
       "15                4               62  "
      ]
     },
     "execution_count": 58,
     "metadata": {},
     "output_type": "execute_result"
    }
   ],
   "source": [
    "df"
   ]
  },
  {
   "cell_type": "markdown",
   "id": "075a92f3",
   "metadata": {},
   "source": [
    "## Write to .csv"
   ]
  },
  {
   "cell_type": "code",
   "execution_count": 59,
   "id": "ab8bee5f",
   "metadata": {},
   "outputs": [],
   "source": [
    "df.to_csv('season_2022_w2.csv', index=False)"
   ]
  },
  {
   "cell_type": "markdown",
   "id": "f2e6240b",
   "metadata": {},
   "source": [
    "---\n",
    "---\n",
    "## NEXT WEEK with SLEEEEEEEEEEEP......"
   ]
  },
  {
   "cell_type": "code",
   "execution_count": 63,
   "id": "10f9226d",
   "metadata": {},
   "outputs": [],
   "source": [
    "url = 'https://www.pro-football-reference.com/years/2022/week_3.htm'\n",
    "response = requests.get(url)"
   ]
  },
  {
   "cell_type": "code",
   "execution_count": 64,
   "id": "465b56fe",
   "metadata": {},
   "outputs": [
    {
     "data": {
      "text/plain": [
       "<Response [200]>"
      ]
     },
     "execution_count": 64,
     "metadata": {},
     "output_type": "execute_result"
    }
   ],
   "source": [
    "response"
   ]
  },
  {
   "cell_type": "code",
   "execution_count": 65,
   "id": "fd62c966",
   "metadata": {},
   "outputs": [
    {
     "data": {
      "text/plain": [
       "['/boxscores/202209220cle.htm',\n",
       " '/boxscores/202209250car.htm',\n",
       " '/boxscores/202209250chi.htm',\n",
       " '/boxscores/202209250clt.htm',\n",
       " '/boxscores/202209250mia.htm',\n",
       " '/boxscores/202209250min.htm',\n",
       " '/boxscores/202209250nwe.htm',\n",
       " '/boxscores/202209250nyj.htm',\n",
       " '/boxscores/202209250oti.htm',\n",
       " '/boxscores/202209250was.htm',\n",
       " '/boxscores/202209250sdg.htm',\n",
       " '/boxscores/202209250crd.htm',\n",
       " '/boxscores/202209250sea.htm',\n",
       " '/boxscores/202209250tam.htm',\n",
       " '/boxscores/202209250den.htm',\n",
       " '/boxscores/202209260nyg.htm']"
      ]
     },
     "execution_count": 65,
     "metadata": {},
     "output_type": "execute_result"
    }
   ],
   "source": [
    "soup = BeautifulSoup(response.content, 'html.parser')\n",
    "html_links = soup.find_all('td', class_='right gamelink')\n",
    "games = [item.find('a')['href'] for item in html_links]\n",
    "games"
   ]
  },
  {
   "cell_type": "markdown",
   "id": "ecfa2e6a",
   "metadata": {},
   "source": [
    "## List of homes"
   ]
  },
  {
   "cell_type": "code",
   "execution_count": 66,
   "id": "8a42165f",
   "metadata": {},
   "outputs": [
    {
     "data": {
      "text/plain": [
       "['cle',\n",
       " 'car',\n",
       " 'chi',\n",
       " 'clt',\n",
       " 'mia',\n",
       " 'min',\n",
       " 'nwe',\n",
       " 'nyj',\n",
       " 'oti',\n",
       " 'was',\n",
       " 'sdg',\n",
       " 'crd',\n",
       " 'sea',\n",
       " 'tam',\n",
       " 'den',\n",
       " 'nyg']"
      ]
     },
     "execution_count": 66,
     "metadata": {},
     "output_type": "execute_result"
    }
   ],
   "source": [
    "home_re = r'[a-z]{3}'\n",
    "homes = [re.findall(home_re,i)[3] for i in games]\n",
    "homes"
   ]
  },
  {
   "cell_type": "markdown",
   "id": "4381e6a3",
   "metadata": {},
   "source": [
    "## List of seasons"
   ]
  },
  {
   "cell_type": "code",
   "execution_count": 67,
   "id": "886c1a19",
   "metadata": {},
   "outputs": [
    {
     "data": {
      "text/plain": [
       "['2022',\n",
       " '2022',\n",
       " '2022',\n",
       " '2022',\n",
       " '2022',\n",
       " '2022',\n",
       " '2022',\n",
       " '2022',\n",
       " '2022',\n",
       " '2022',\n",
       " '2022',\n",
       " '2022',\n",
       " '2022',\n",
       " '2022',\n",
       " '2022',\n",
       " '2022']"
      ]
     },
     "execution_count": 67,
     "metadata": {},
     "output_type": "execute_result"
    }
   ],
   "source": [
    "date_re = r'[0-9]{4}'\n",
    "seasons = [re.findall(date_re,i)[0] for i in games]\n",
    "seasons"
   ]
  },
  {
   "cell_type": "markdown",
   "id": "55ce1329",
   "metadata": {},
   "source": [
    "## List of weeks"
   ]
  },
  {
   "cell_type": "code",
   "execution_count": 68,
   "id": "a4ca1a55",
   "metadata": {},
   "outputs": [
    {
     "data": {
      "text/plain": [
       "[3, 3, 3, 3, 3, 3, 3, 3, 3, 3, 3, 3, 3, 3, 3, 3]"
      ]
     },
     "execution_count": 68,
     "metadata": {},
     "output_type": "execute_result"
    }
   ],
   "source": [
    "weeks = [3 for i in games]\n",
    "weeks"
   ]
  },
  {
   "cell_type": "markdown",
   "id": "ceb38be6",
   "metadata": {},
   "source": [
    "## List of temps"
   ]
  },
  {
   "cell_type": "code",
   "execution_count": 69,
   "id": "0ab65d77",
   "metadata": {},
   "outputs": [],
   "source": [
    "temps = []\n",
    "for game in games:\n",
    "    url = f'https://www.pro-football-reference.com/{game}'\n",
    "    response = requests.get(url)\n",
    "    wx_digits = r'\\d{1,2}'\n",
    "    soup = BeautifulSoup(response.content, 'html.parser')\n",
    "    div_grid = soup.find_all('div', class_='content_grid')[0]\n",
    "    div = div_grid.find_all('div')[0]\n",
    "    div_wrap = div.find_all('div')[0]\n",
    "    soup_wrap4 = div_wrap.contents[4]\n",
    "    soup4 = BeautifulSoup(soup_wrap4, 'html.parser')\n",
    "    wx = soup4.find_all('td','center')[-3]\n",
    "    content = str(wx.contents[0])\n",
    "    temp = re.findall(wx_digits,content)[0]\n",
    "    temps.append(temp)"
   ]
  },
  {
   "cell_type": "code",
   "execution_count": 70,
   "id": "d3351192",
   "metadata": {},
   "outputs": [
    {
     "data": {
      "text/plain": [
       "['60',\n",
       " '68',\n",
       " '66',\n",
       " '20',\n",
       " '89',\n",
       " '20',\n",
       " '66',\n",
       " '66',\n",
       " '77',\n",
       " '72',\n",
       " '20',\n",
       " '20',\n",
       " '67',\n",
       " '88',\n",
       " '73',\n",
       " '66']"
      ]
     },
     "execution_count": 70,
     "metadata": {},
     "output_type": "execute_result"
    }
   ],
   "source": [
    "temps"
   ]
  },
  {
   "cell_type": "markdown",
   "id": "ac3b58d6",
   "metadata": {},
   "source": [
    "## List of winds"
   ]
  },
  {
   "cell_type": "code",
   "execution_count": 71,
   "id": "dd02208b",
   "metadata": {},
   "outputs": [
    {
     "data": {
      "text/plain": [
       "<Response [200]>"
      ]
     },
     "execution_count": 71,
     "metadata": {},
     "output_type": "execute_result"
    }
   ],
   "source": [
    "response"
   ]
  },
  {
   "cell_type": "code",
   "execution_count": 72,
   "id": "87b6dca6",
   "metadata": {},
   "outputs": [],
   "source": [
    "winds = []\n",
    "for game in games:\n",
    "    url = f'https://www.pro-football-reference.com/{game}'\n",
    "    response = requests.get(url)\n",
    "    wx_digits = r'\\d{1,2}'\n",
    "    soup = BeautifulSoup(response.content, 'html.parser')\n",
    "    div_grid = soup.find_all('div', class_='content_grid')[0]\n",
    "    div = div_grid.find_all('div')[0]\n",
    "    div_wrap = div.find_all('div')[0]\n",
    "    soup_wrap4 = div_wrap.contents[4]\n",
    "    soup4 = BeautifulSoup(soup_wrap4, 'html.parser')\n",
    "    wx = soup4.find_all('td','center')[-3]\n",
    "    content = str(wx.contents[0])\n",
    "    wind = re.findall(wx_digits,content)[2]\n",
    "    winds.append(wind)"
   ]
  },
  {
   "cell_type": "code",
   "execution_count": 73,
   "id": "04c4cede",
   "metadata": {},
   "outputs": [
    {
     "data": {
      "text/plain": [
       "['21',\n",
       " '7',\n",
       " '13',\n",
       " '65',\n",
       " '5',\n",
       " '66',\n",
       " '10',\n",
       " '8',\n",
       " '5',\n",
       " '9',\n",
       " '67',\n",
       " '63',\n",
       " '6',\n",
       " '5',\n",
       " '8',\n",
       " '5']"
      ]
     },
     "execution_count": 73,
     "metadata": {},
     "output_type": "execute_result"
    }
   ],
   "source": [
    "winds"
   ]
  },
  {
   "cell_type": "markdown",
   "id": "936e55fa",
   "metadata": {},
   "source": [
    "## List of hums"
   ]
  },
  {
   "cell_type": "code",
   "execution_count": 74,
   "id": "d733bba7",
   "metadata": {},
   "outputs": [
    {
     "data": {
      "text/plain": [
       "<Response [200]>"
      ]
     },
     "execution_count": 74,
     "metadata": {},
     "output_type": "execute_result"
    }
   ],
   "source": [
    "response"
   ]
  },
  {
   "cell_type": "code",
   "execution_count": 75,
   "id": "07e724e8",
   "metadata": {},
   "outputs": [],
   "source": [
    "hums = []\n",
    "for game in games:\n",
    "    url = f'https://www.pro-football-reference.com/{game}'\n",
    "    response = requests.get(url)\n",
    "    wx_digits = r'\\d{1,2}'\n",
    "    soup = BeautifulSoup(response.content, 'html.parser')\n",
    "    div_grid = soup.find_all('div', class_='content_grid')[0]\n",
    "    div = div_grid.find_all('div')[0]\n",
    "    div_wrap = div.find_all('div')[0]\n",
    "    soup_wrap4 = div_wrap.contents[4]\n",
    "    soup4 = BeautifulSoup(soup_wrap4, 'html.parser')\n",
    "    wx = soup4.find_all('td','center')[-3]\n",
    "    content = str(wx.contents[0])\n",
    "    hum = re.findall(wx_digits,content)[1]\n",
    "    hums.append(hum)"
   ]
  },
  {
   "cell_type": "code",
   "execution_count": 76,
   "id": "400d10b8",
   "metadata": {},
   "outputs": [
    {
     "data": {
      "text/plain": [
       "['54',\n",
       " '70',\n",
       " '68',\n",
       " '22',\n",
       " '63',\n",
       " '22',\n",
       " '61',\n",
       " '62',\n",
       " '72',\n",
       " '60',\n",
       " '22',\n",
       " '22',\n",
       " '67',\n",
       " '58',\n",
       " '21',\n",
       " '44']"
      ]
     },
     "execution_count": 76,
     "metadata": {},
     "output_type": "execute_result"
    }
   ],
   "source": [
    "hums"
   ]
  },
  {
   "cell_type": "code",
   "execution_count": 77,
   "id": "25293e0a",
   "metadata": {},
   "outputs": [],
   "source": [
    "df = pd.DataFrame({\n",
    "    'schedule_season':seasons,\n",
    "    'schedule_week':weeks,\n",
    "    'team_home':homes,\n",
    "    'weather_temperature':temps,\n",
    "    'weather_wind_mph':winds,\n",
    "    \"weather_humidity\":hums\n",
    "})"
   ]
  },
  {
   "cell_type": "code",
   "execution_count": 78,
   "id": "87a99be5",
   "metadata": {},
   "outputs": [
    {
     "data": {
      "text/html": [
       "<div>\n",
       "<style scoped>\n",
       "    .dataframe tbody tr th:only-of-type {\n",
       "        vertical-align: middle;\n",
       "    }\n",
       "\n",
       "    .dataframe tbody tr th {\n",
       "        vertical-align: top;\n",
       "    }\n",
       "\n",
       "    .dataframe thead th {\n",
       "        text-align: right;\n",
       "    }\n",
       "</style>\n",
       "<table border=\"1\" class=\"dataframe\">\n",
       "  <thead>\n",
       "    <tr style=\"text-align: right;\">\n",
       "      <th></th>\n",
       "      <th>schedule_season</th>\n",
       "      <th>schedule_week</th>\n",
       "      <th>team_home</th>\n",
       "      <th>weather_temperature</th>\n",
       "      <th>weather_wind_mph</th>\n",
       "      <th>weather_humidity</th>\n",
       "    </tr>\n",
       "  </thead>\n",
       "  <tbody>\n",
       "    <tr>\n",
       "      <th>0</th>\n",
       "      <td>2022</td>\n",
       "      <td>3</td>\n",
       "      <td>cle</td>\n",
       "      <td>60</td>\n",
       "      <td>21</td>\n",
       "      <td>54</td>\n",
       "    </tr>\n",
       "    <tr>\n",
       "      <th>1</th>\n",
       "      <td>2022</td>\n",
       "      <td>3</td>\n",
       "      <td>car</td>\n",
       "      <td>68</td>\n",
       "      <td>7</td>\n",
       "      <td>70</td>\n",
       "    </tr>\n",
       "    <tr>\n",
       "      <th>2</th>\n",
       "      <td>2022</td>\n",
       "      <td>3</td>\n",
       "      <td>chi</td>\n",
       "      <td>66</td>\n",
       "      <td>13</td>\n",
       "      <td>68</td>\n",
       "    </tr>\n",
       "    <tr>\n",
       "      <th>3</th>\n",
       "      <td>2022</td>\n",
       "      <td>3</td>\n",
       "      <td>clt</td>\n",
       "      <td>20</td>\n",
       "      <td>65</td>\n",
       "      <td>22</td>\n",
       "    </tr>\n",
       "    <tr>\n",
       "      <th>4</th>\n",
       "      <td>2022</td>\n",
       "      <td>3</td>\n",
       "      <td>mia</td>\n",
       "      <td>89</td>\n",
       "      <td>5</td>\n",
       "      <td>63</td>\n",
       "    </tr>\n",
       "    <tr>\n",
       "      <th>5</th>\n",
       "      <td>2022</td>\n",
       "      <td>3</td>\n",
       "      <td>min</td>\n",
       "      <td>20</td>\n",
       "      <td>66</td>\n",
       "      <td>22</td>\n",
       "    </tr>\n",
       "    <tr>\n",
       "      <th>6</th>\n",
       "      <td>2022</td>\n",
       "      <td>3</td>\n",
       "      <td>nwe</td>\n",
       "      <td>66</td>\n",
       "      <td>10</td>\n",
       "      <td>61</td>\n",
       "    </tr>\n",
       "    <tr>\n",
       "      <th>7</th>\n",
       "      <td>2022</td>\n",
       "      <td>3</td>\n",
       "      <td>nyj</td>\n",
       "      <td>66</td>\n",
       "      <td>8</td>\n",
       "      <td>62</td>\n",
       "    </tr>\n",
       "    <tr>\n",
       "      <th>8</th>\n",
       "      <td>2022</td>\n",
       "      <td>3</td>\n",
       "      <td>oti</td>\n",
       "      <td>77</td>\n",
       "      <td>5</td>\n",
       "      <td>72</td>\n",
       "    </tr>\n",
       "    <tr>\n",
       "      <th>9</th>\n",
       "      <td>2022</td>\n",
       "      <td>3</td>\n",
       "      <td>was</td>\n",
       "      <td>72</td>\n",
       "      <td>9</td>\n",
       "      <td>60</td>\n",
       "    </tr>\n",
       "    <tr>\n",
       "      <th>10</th>\n",
       "      <td>2022</td>\n",
       "      <td>3</td>\n",
       "      <td>sdg</td>\n",
       "      <td>20</td>\n",
       "      <td>67</td>\n",
       "      <td>22</td>\n",
       "    </tr>\n",
       "    <tr>\n",
       "      <th>11</th>\n",
       "      <td>2022</td>\n",
       "      <td>3</td>\n",
       "      <td>crd</td>\n",
       "      <td>20</td>\n",
       "      <td>63</td>\n",
       "      <td>22</td>\n",
       "    </tr>\n",
       "    <tr>\n",
       "      <th>12</th>\n",
       "      <td>2022</td>\n",
       "      <td>3</td>\n",
       "      <td>sea</td>\n",
       "      <td>67</td>\n",
       "      <td>6</td>\n",
       "      <td>67</td>\n",
       "    </tr>\n",
       "    <tr>\n",
       "      <th>13</th>\n",
       "      <td>2022</td>\n",
       "      <td>3</td>\n",
       "      <td>tam</td>\n",
       "      <td>88</td>\n",
       "      <td>5</td>\n",
       "      <td>58</td>\n",
       "    </tr>\n",
       "    <tr>\n",
       "      <th>14</th>\n",
       "      <td>2022</td>\n",
       "      <td>3</td>\n",
       "      <td>den</td>\n",
       "      <td>73</td>\n",
       "      <td>8</td>\n",
       "      <td>21</td>\n",
       "    </tr>\n",
       "    <tr>\n",
       "      <th>15</th>\n",
       "      <td>2022</td>\n",
       "      <td>3</td>\n",
       "      <td>nyg</td>\n",
       "      <td>66</td>\n",
       "      <td>5</td>\n",
       "      <td>44</td>\n",
       "    </tr>\n",
       "  </tbody>\n",
       "</table>\n",
       "</div>"
      ],
      "text/plain": [
       "   schedule_season  schedule_week team_home weather_temperature  \\\n",
       "0             2022              3       cle                  60   \n",
       "1             2022              3       car                  68   \n",
       "2             2022              3       chi                  66   \n",
       "3             2022              3       clt                  20   \n",
       "4             2022              3       mia                  89   \n",
       "5             2022              3       min                  20   \n",
       "6             2022              3       nwe                  66   \n",
       "7             2022              3       nyj                  66   \n",
       "8             2022              3       oti                  77   \n",
       "9             2022              3       was                  72   \n",
       "10            2022              3       sdg                  20   \n",
       "11            2022              3       crd                  20   \n",
       "12            2022              3       sea                  67   \n",
       "13            2022              3       tam                  88   \n",
       "14            2022              3       den                  73   \n",
       "15            2022              3       nyg                  66   \n",
       "\n",
       "   weather_wind_mph weather_humidity  \n",
       "0                21               54  \n",
       "1                 7               70  \n",
       "2                13               68  \n",
       "3                65               22  \n",
       "4                 5               63  \n",
       "5                66               22  \n",
       "6                10               61  \n",
       "7                 8               62  \n",
       "8                 5               72  \n",
       "9                 9               60  \n",
       "10               67               22  \n",
       "11               63               22  \n",
       "12                6               67  \n",
       "13                5               58  \n",
       "14                8               21  \n",
       "15                5               44  "
      ]
     },
     "execution_count": 78,
     "metadata": {},
     "output_type": "execute_result"
    }
   ],
   "source": [
    "df"
   ]
  },
  {
   "cell_type": "markdown",
   "id": "d74a99ae",
   "metadata": {},
   "source": [
    "## Write to .csv"
   ]
  },
  {
   "cell_type": "code",
   "execution_count": 79,
   "id": "43c115aa",
   "metadata": {},
   "outputs": [],
   "source": [
    "df.to_csv('season_2022_w3.csv', index=False)"
   ]
  },
  {
   "cell_type": "markdown",
   "id": "365036cf",
   "metadata": {},
   "source": [
    "## List of home_teams"
   ]
  },
  {
   "cell_type": "code",
   "execution_count": 119,
   "id": "e36c477a",
   "metadata": {},
   "outputs": [],
   "source": [
    "url = 'https://www.pro-football-reference.com/boxscores/202210020nor.htm'\n",
    "response = requests.get(url)"
   ]
  },
  {
   "cell_type": "code",
   "execution_count": 120,
   "id": "3bcee8b2",
   "metadata": {},
   "outputs": [
    {
     "data": {
      "text/plain": [
       "<Response [200]>"
      ]
     },
     "execution_count": 120,
     "metadata": {},
     "output_type": "execute_result"
    }
   ],
   "source": [
    "response"
   ]
  },
  {
   "cell_type": "code",
   "execution_count": 87,
   "id": "792322dd",
   "metadata": {},
   "outputs": [],
   "source": [
    "soup = BeautifulSoup(response.content, 'html.parser')"
   ]
  },
  {
   "cell_type": "code",
   "execution_count": 106,
   "id": "d7510d0c",
   "metadata": {},
   "outputs": [],
   "source": [
    "href = soup.find_all('div', class_='scorebox')[0].find_all('a')[8]"
   ]
  },
  {
   "cell_type": "code",
   "execution_count": 107,
   "id": "b93d04b4",
   "metadata": {},
   "outputs": [
    {
     "data": {
      "text/plain": [
       "<a href=\"/teams/nor/2022.htm\">New Orleans Saints</a>"
      ]
     },
     "execution_count": 107,
     "metadata": {},
     "output_type": "execute_result"
    }
   ],
   "source": [
    "href"
   ]
  },
  {
   "cell_type": "code",
   "execution_count": 109,
   "id": "43f37de8",
   "metadata": {},
   "outputs": [
    {
     "data": {
      "text/plain": [
       "'New Orleans Saints'"
      ]
     },
     "execution_count": 109,
     "metadata": {},
     "output_type": "execute_result"
    }
   ],
   "source": [
    "href.text"
   ]
  },
  {
   "cell_type": "code",
   "execution_count": 110,
   "id": "e9858922",
   "metadata": {},
   "outputs": [],
   "source": [
    "team = href.text"
   ]
  },
  {
   "cell_type": "code",
   "execution_count": null,
   "id": "3662da82",
   "metadata": {},
   "outputs": [],
   "source": []
  },
  {
   "cell_type": "code",
   "execution_count": null,
   "id": "631359f5",
   "metadata": {},
   "outputs": [],
   "source": []
  },
  {
   "cell_type": "code",
   "execution_count": null,
   "id": "b32632b8",
   "metadata": {},
   "outputs": [],
   "source": []
  },
  {
   "cell_type": "code",
   "execution_count": null,
   "id": "63dfe699",
   "metadata": {},
   "outputs": [],
   "source": []
  },
  {
   "cell_type": "code",
   "execution_count": null,
   "id": "3f172639",
   "metadata": {},
   "outputs": [],
   "source": []
  },
  {
   "cell_type": "code",
   "execution_count": null,
   "id": "bd7b2e11",
   "metadata": {},
   "outputs": [],
   "source": []
  },
  {
   "cell_type": "code",
   "execution_count": 83,
   "id": "ee6289e5",
   "metadata": {},
   "outputs": [
    {
     "data": {
      "text/plain": [
       "<Response [200]>"
      ]
     },
     "execution_count": 83,
     "metadata": {},
     "output_type": "execute_result"
    }
   ],
   "source": [
    "response"
   ]
  },
  {
   "cell_type": "code",
   "execution_count": 75,
   "id": "0fb42536",
   "metadata": {},
   "outputs": [],
   "source": [
    "home_teams = []\n",
    "for game in games:\n",
    "    url = f'https://www.pro-football-reference.com/{game}'\n",
    "    response = requests.get(url)\n",
    "    wx_digits = r'\\d{1,2}'\n",
    "    soup = BeautifulSoup(response.content, 'html.parser')\n",
    "    div_grid = soup.find_all('div', class_='content_grid')[0]\n",
    "    div = div_grid.find_all('div')[0]\n",
    "    div_wrap = div.find_all('div')[0]\n",
    "    soup_wrap4 = div_wrap.contents[4]\n",
    "    soup4 = BeautifulSoup(soup_wrap4, 'html.parser')\n",
    "    wx = soup4.find_all('td','center')[-3]\n",
    "    content = str(wx.contents[0])\n",
    "    hum = re.findall(wx_digits,content)[1]\n",
    "    hums.append(hum)"
   ]
  },
  {
   "cell_type": "code",
   "execution_count": 76,
   "id": "2d39f51b",
   "metadata": {},
   "outputs": [
    {
     "data": {
      "text/plain": [
       "['54',\n",
       " '70',\n",
       " '68',\n",
       " '22',\n",
       " '63',\n",
       " '22',\n",
       " '61',\n",
       " '62',\n",
       " '72',\n",
       " '60',\n",
       " '22',\n",
       " '22',\n",
       " '67',\n",
       " '58',\n",
       " '21',\n",
       " '44']"
      ]
     },
     "execution_count": 76,
     "metadata": {},
     "output_type": "execute_result"
    }
   ],
   "source": [
    "hums"
   ]
  },
  {
   "cell_type": "code",
   "execution_count": 113,
   "id": "c64b955a",
   "metadata": {},
   "outputs": [],
   "source": [
    "wk = [i for i in range(1,23)]"
   ]
  },
  {
   "cell_type": "code",
   "execution_count": 114,
   "id": "03f1548f",
   "metadata": {},
   "outputs": [
    {
     "data": {
      "text/plain": [
       "[1, 2, 3, 4, 5, 6, 7, 8, 9, 10, 11, 12, 13, 14, 15, 16, 17, 18, 19, 20, 21, 22]"
      ]
     },
     "execution_count": 114,
     "metadata": {},
     "output_type": "execute_result"
    }
   ],
   "source": [
    "wk"
   ]
  },
  {
   "cell_type": "code",
   "execution_count": null,
   "id": "a6804f2c",
   "metadata": {},
   "outputs": [],
   "source": []
  }
 ],
 "metadata": {
  "kernelspec": {
   "display_name": "Python 3 (ipykernel)",
   "language": "python",
   "name": "python3"
  },
  "language_info": {
   "codemirror_mode": {
    "name": "ipython",
    "version": 3
   },
   "file_extension": ".py",
   "mimetype": "text/x-python",
   "name": "python",
   "nbconvert_exporter": "python",
   "pygments_lexer": "ipython3",
   "version": "3.9.13"
  }
 },
 "nbformat": 4,
 "nbformat_minor": 5
}
