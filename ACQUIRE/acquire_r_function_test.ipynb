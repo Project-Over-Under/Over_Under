{
 "cells": [
  {
   "cell_type": "code",
   "execution_count": 1,
   "id": "607c5983",
   "metadata": {},
   "outputs": [],
   "source": [
    "from bs4 import BeautifulSoup\n",
    "import requests\n",
    "import os\n",
    "import pandas as pd\n",
    "import re\n",
    "from time import sleep\n",
    "import acquire_r as ar\n",
    "import random"
   ]
  },
  {
   "cell_type": "code",
   "execution_count": 18,
   "id": "07900282",
   "metadata": {},
   "outputs": [],
   "source": [
    "url = 'https://www.pro-football-reference.com/years/2022/week_3.htm'\n",
    "response = requests.get(url)"
   ]
  },
  {
   "cell_type": "code",
   "execution_count": 19,
   "id": "f072a9dd",
   "metadata": {
    "scrolled": true
   },
   "outputs": [
    {
     "data": {
      "text/plain": [
       "<Response [200]>"
      ]
     },
     "execution_count": 19,
     "metadata": {},
     "output_type": "execute_result"
    }
   ],
   "source": [
    "response"
   ]
  },
  {
   "cell_type": "markdown",
   "id": "8f551638",
   "metadata": {},
   "source": [
    "# Testing each piece..."
   ]
  },
  {
   "cell_type": "code",
   "execution_count": null,
   "id": "aa294dc9",
   "metadata": {},
   "outputs": [],
   "source": [
    "games = ar.get_games(y='2022',w='5')"
   ]
  },
  {
   "cell_type": "code",
   "execution_count": null,
   "id": "00d236f5",
   "metadata": {},
   "outputs": [],
   "source": [
    "games"
   ]
  },
  {
   "cell_type": "code",
   "execution_count": null,
   "id": "1a7c286c",
   "metadata": {},
   "outputs": [],
   "source": [
    "homes = ar.get_homes(games)"
   ]
  },
  {
   "cell_type": "code",
   "execution_count": null,
   "id": "ec2efe3e",
   "metadata": {},
   "outputs": [],
   "source": [
    "homes"
   ]
  },
  {
   "cell_type": "code",
   "execution_count": null,
   "id": "a3a1a1f3",
   "metadata": {},
   "outputs": [],
   "source": [
    "home_teams = ar.get_home_teams(games)"
   ]
  },
  {
   "cell_type": "code",
   "execution_count": null,
   "id": "ff3921ab",
   "metadata": {},
   "outputs": [],
   "source": [
    "home_teams"
   ]
  },
  {
   "cell_type": "code",
   "execution_count": null,
   "id": "25aa4577",
   "metadata": {},
   "outputs": [],
   "source": [
    "seasons = ar.get_seasons(games)"
   ]
  },
  {
   "cell_type": "code",
   "execution_count": null,
   "id": "2557e89a",
   "metadata": {},
   "outputs": [],
   "source": [
    "seasons"
   ]
  },
  {
   "cell_type": "code",
   "execution_count": null,
   "id": "c5b299d7",
   "metadata": {},
   "outputs": [],
   "source": [
    "weeks = ar.get_weeks(games,w=4)"
   ]
  },
  {
   "cell_type": "code",
   "execution_count": null,
   "id": "8b0894c7",
   "metadata": {},
   "outputs": [],
   "source": [
    "weeks"
   ]
  },
  {
   "cell_type": "code",
   "execution_count": null,
   "id": "ea153db6",
   "metadata": {},
   "outputs": [],
   "source": [
    "temps = ar.get_temps(games)"
   ]
  },
  {
   "cell_type": "code",
   "execution_count": null,
   "id": "2c1d7963",
   "metadata": {},
   "outputs": [],
   "source": [
    "temps"
   ]
  },
  {
   "cell_type": "code",
   "execution_count": null,
   "id": "4d6f37c1",
   "metadata": {},
   "outputs": [],
   "source": [
    "winds = ar.get_winds(games)"
   ]
  },
  {
   "cell_type": "code",
   "execution_count": null,
   "id": "8eef6c71",
   "metadata": {},
   "outputs": [],
   "source": [
    "winds"
   ]
  },
  {
   "cell_type": "code",
   "execution_count": null,
   "id": "f489b3bb",
   "metadata": {},
   "outputs": [],
   "source": [
    "hums = ar.get_hums(games)"
   ]
  },
  {
   "cell_type": "code",
   "execution_count": null,
   "id": "95f2097b",
   "metadata": {},
   "outputs": [],
   "source": [
    "hums"
   ]
  },
  {
   "cell_type": "markdown",
   "id": "38a28ca7",
   "metadata": {},
   "source": [
    "# Testing the combination to create a 1 week df..."
   ]
  },
  {
   "cell_type": "code",
   "execution_count": null,
   "id": "3fa76a70",
   "metadata": {},
   "outputs": [],
   "source": [
    "df = ar.create_wx_df(y='2022',w='4',s=120)"
   ]
  },
  {
   "cell_type": "code",
   "execution_count": null,
   "id": "3a02b925",
   "metadata": {},
   "outputs": [],
   "source": [
    "df"
   ]
  },
  {
   "cell_type": "markdown",
   "id": "e3954625",
   "metadata": {},
   "source": [
    "## Write to .csv"
   ]
  },
  {
   "cell_type": "code",
   "execution_count": null,
   "id": "58c2d8ab",
   "metadata": {},
   "outputs": [],
   "source": [
    "df.to_csv('season_2022_w4.csv', index=False)"
   ]
  },
  {
   "cell_type": "markdown",
   "id": "fbeb55e5",
   "metadata": {},
   "source": [
    "# Testing again with new Home_team"
   ]
  },
  {
   "cell_type": "markdown",
   "id": "6d47ed6f",
   "metadata": {},
   "source": [
    "---\n",
    "---\n",
    "## 2022 wk 5"
   ]
  },
  {
   "cell_type": "code",
   "execution_count": null,
   "id": "f22c4fad",
   "metadata": {},
   "outputs": [],
   "source": [
    "df = ar.create_wx_df(y='2022',w='5',s=150)"
   ]
  },
  {
   "cell_type": "code",
   "execution_count": null,
   "id": "beefadae",
   "metadata": {},
   "outputs": [],
   "source": [
    "df"
   ]
  },
  {
   "cell_type": "markdown",
   "id": "a3ba6159",
   "metadata": {},
   "source": [
    "## Write to .csv"
   ]
  },
  {
   "cell_type": "code",
   "execution_count": null,
   "id": "7f3b651f",
   "metadata": {},
   "outputs": [],
   "source": [
    "df.to_csv('season_2022_w5.csv', index=False)"
   ]
  },
  {
   "cell_type": "markdown",
   "id": "e202853b",
   "metadata": {},
   "source": [
    "# Testing again with 2 weeks in a single df"
   ]
  },
  {
   "cell_type": "markdown",
   "id": "00865de8",
   "metadata": {},
   "source": [
    "---\n",
    "---\n",
    "## 2022 wk 6/7"
   ]
  },
  {
   "cell_type": "code",
   "execution_count": null,
   "id": "832ec18c",
   "metadata": {},
   "outputs": [],
   "source": [
    "weeks = ['6','7']\n",
    "df = ar.create_wx_df_mult('2022',weeks,s=90)"
   ]
  },
  {
   "cell_type": "code",
   "execution_count": null,
   "id": "fd1816b8",
   "metadata": {},
   "outputs": [],
   "source": [
    "df"
   ]
  },
  {
   "cell_type": "markdown",
   "id": "6994b8e6",
   "metadata": {},
   "source": [
    "## Write to .csv"
   ]
  },
  {
   "cell_type": "code",
   "execution_count": null,
   "id": "256b0b35",
   "metadata": {},
   "outputs": [],
   "source": [
    "df.to_csv('season_2022_w67.csv', index=False)"
   ]
  },
  {
   "cell_type": "markdown",
   "id": "6b315b24",
   "metadata": {},
   "source": [
    "# Testing again with 3 weeks in a single df"
   ]
  },
  {
   "cell_type": "markdown",
   "id": "bc8e27e2",
   "metadata": {},
   "source": [
    "---\n",
    "---\n",
    "## 2022 wk 8-10"
   ]
  },
  {
   "cell_type": "code",
   "execution_count": null,
   "id": "7eea976d",
   "metadata": {},
   "outputs": [],
   "source": [
    "wk = [str(i) for i in range(8,11)]\n",
    "wk"
   ]
  },
  {
   "cell_type": "code",
   "execution_count": null,
   "id": "655b34f7",
   "metadata": {},
   "outputs": [],
   "source": [
    "weeks = [str(i) for i in range(8,11)]\n",
    "df = ar.create_wx_df_mult('2022',weeks,s=180)"
   ]
  },
  {
   "cell_type": "code",
   "execution_count": null,
   "id": "473edae6",
   "metadata": {},
   "outputs": [],
   "source": [
    "df"
   ]
  },
  {
   "cell_type": "markdown",
   "id": "972ff597",
   "metadata": {},
   "source": [
    "## Write to .csv"
   ]
  },
  {
   "cell_type": "code",
   "execution_count": null,
   "id": "b09f4301",
   "metadata": {},
   "outputs": [],
   "source": [
    "df.to_csv('season_2022_w810.csv', index=False)"
   ]
  },
  {
   "cell_type": "markdown",
   "id": "da4d9f57",
   "metadata": {},
   "source": [
    "# Testing again with 4 weeks in a single df"
   ]
  },
  {
   "cell_type": "markdown",
   "id": "c142b84f",
   "metadata": {},
   "source": [
    "---\n",
    "---\n",
    "## 2022 wk 11"
   ]
  },
  {
   "cell_type": "code",
   "execution_count": null,
   "id": "237c7ccf",
   "metadata": {},
   "outputs": [],
   "source": [
    "wk = [str(i) for i in range(11,12)]\n",
    "wk"
   ]
  },
  {
   "cell_type": "code",
   "execution_count": null,
   "id": "29a59f4b",
   "metadata": {},
   "outputs": [],
   "source": [
    "weeks = [str(i) for i in range(11,12)]\n",
    "df = ar.create_wx_df_mult('2022',weeks,s=200)"
   ]
  },
  {
   "cell_type": "code",
   "execution_count": null,
   "id": "4cc77e0b",
   "metadata": {},
   "outputs": [],
   "source": [
    "df"
   ]
  },
  {
   "cell_type": "markdown",
   "id": "4544824b",
   "metadata": {},
   "source": [
    "## Write to .csv"
   ]
  },
  {
   "cell_type": "code",
   "execution_count": null,
   "id": "195b1473",
   "metadata": {},
   "outputs": [],
   "source": [
    "df.to_csv('season_2022_w11.csv', index=False)"
   ]
  },
  {
   "cell_type": "markdown",
   "id": "851ce64b",
   "metadata": {},
   "source": [
    "---\n",
    "---\n",
    "## 2022 wk 12"
   ]
  },
  {
   "cell_type": "code",
   "execution_count": null,
   "id": "16351d55",
   "metadata": {},
   "outputs": [],
   "source": [
    "wk = [str(i) for i in range(12,13)]\n",
    "wk"
   ]
  },
  {
   "cell_type": "code",
   "execution_count": null,
   "id": "59117c91",
   "metadata": {},
   "outputs": [],
   "source": [
    "weeks = [str(i) for i in range(12,13)]\n",
    "df = ar.create_wx_df_mult('2022',weeks,s=200)"
   ]
  },
  {
   "cell_type": "code",
   "execution_count": null,
   "id": "b755c209",
   "metadata": {},
   "outputs": [],
   "source": [
    "df"
   ]
  },
  {
   "cell_type": "markdown",
   "id": "4d222fa1",
   "metadata": {},
   "source": [
    "## Write to .csv"
   ]
  },
  {
   "cell_type": "code",
   "execution_count": null,
   "id": "583a5ff7",
   "metadata": {},
   "outputs": [],
   "source": [
    "df.to_csv('season_2022_w12.csv', index=False)"
   ]
  },
  {
   "cell_type": "markdown",
   "id": "1ca50556",
   "metadata": {},
   "source": [
    "---\n",
    "---\n",
    "## 2022 wk 13-15"
   ]
  },
  {
   "cell_type": "code",
   "execution_count": null,
   "id": "a389130f",
   "metadata": {},
   "outputs": [],
   "source": [
    "wk = [str(i) for i in range(13,16)]\n",
    "wk"
   ]
  },
  {
   "cell_type": "code",
   "execution_count": null,
   "id": "ec169cfc",
   "metadata": {},
   "outputs": [],
   "source": [
    "weeks = [str(i) for i in range(13,16)]\n",
    "df = ar.create_wx_df_mult('2022',weeks,s=180)"
   ]
  },
  {
   "cell_type": "code",
   "execution_count": null,
   "id": "d0553d0c",
   "metadata": {},
   "outputs": [],
   "source": [
    "df"
   ]
  },
  {
   "cell_type": "markdown",
   "id": "abde6c91",
   "metadata": {},
   "source": [
    "## Write to .csv"
   ]
  },
  {
   "cell_type": "code",
   "execution_count": null,
   "id": "59858ed5",
   "metadata": {},
   "outputs": [],
   "source": [
    "df.to_csv('season_2022_w1315.csv', index=False)"
   ]
  },
  {
   "cell_type": "markdown",
   "id": "9d2a1b6b",
   "metadata": {},
   "source": [
    "---\n",
    "---\n",
    "## 2022 wk 16-17"
   ]
  },
  {
   "cell_type": "code",
   "execution_count": null,
   "id": "d628f0a1",
   "metadata": {},
   "outputs": [],
   "source": [
    "wk = [str(i) for i in range(16,18)]\n",
    "wk"
   ]
  },
  {
   "cell_type": "code",
   "execution_count": null,
   "id": "779c0bd4",
   "metadata": {},
   "outputs": [],
   "source": [
    "weeks = [str(i) for i in range(16,18)]\n",
    "df = ar.create_wx_df_mult('2022',weeks,s=330)"
   ]
  },
  {
   "cell_type": "code",
   "execution_count": null,
   "id": "882747eb",
   "metadata": {},
   "outputs": [],
   "source": [
    "df"
   ]
  },
  {
   "cell_type": "markdown",
   "id": "20c3799c",
   "metadata": {},
   "source": [
    "## Write to .csv"
   ]
  },
  {
   "cell_type": "code",
   "execution_count": null,
   "id": "3cdab614",
   "metadata": {},
   "outputs": [],
   "source": [
    "df.to_csv('season_2022_w1617.csv', index=False)"
   ]
  },
  {
   "cell_type": "markdown",
   "id": "b3a6e367",
   "metadata": {},
   "source": [
    "---\n",
    "---\n",
    "## 2022 wk 18"
   ]
  },
  {
   "cell_type": "code",
   "execution_count": null,
   "id": "a67e953c",
   "metadata": {},
   "outputs": [],
   "source": [
    "wk = [str(i) for i in range(18,19)]\n",
    "wk"
   ]
  },
  {
   "cell_type": "code",
   "execution_count": null,
   "id": "398048b3",
   "metadata": {},
   "outputs": [],
   "source": [
    "weeks = [str(i) for i in range(18,19)]\n",
    "df = ar.create_wx_df_mult('2022',weeks,s=210)"
   ]
  },
  {
   "cell_type": "code",
   "execution_count": null,
   "id": "ef218bcb",
   "metadata": {},
   "outputs": [],
   "source": [
    "df"
   ]
  },
  {
   "cell_type": "markdown",
   "id": "f1c454d9",
   "metadata": {},
   "source": [
    "## Write to .csv"
   ]
  },
  {
   "cell_type": "code",
   "execution_count": null,
   "id": "99f89bba",
   "metadata": {},
   "outputs": [],
   "source": [
    "df.to_csv('season_2022_w18.csv', index=False)"
   ]
  },
  {
   "cell_type": "markdown",
   "id": "6f18f341",
   "metadata": {},
   "source": [
    "---\n",
    "---\n",
    "## 2022 wk 19-22 playoffs"
   ]
  },
  {
   "cell_type": "code",
   "execution_count": null,
   "id": "9b5eb5a0",
   "metadata": {},
   "outputs": [],
   "source": [
    "wk = [str(i) for i in range(19,23)]\n",
    "wk"
   ]
  },
  {
   "cell_type": "code",
   "execution_count": null,
   "id": "f27d9430",
   "metadata": {},
   "outputs": [],
   "source": [
    "weeks = [str(i) for i in range(19,23)]\n",
    "df = ar.create_wx_df_mult('2022',weeks,s=150)"
   ]
  },
  {
   "cell_type": "code",
   "execution_count": null,
   "id": "1b22e059",
   "metadata": {},
   "outputs": [],
   "source": [
    "games = ar.get_games(y='2022',w='19')"
   ]
  },
  {
   "cell_type": "code",
   "execution_count": null,
   "id": "624cd2e6",
   "metadata": {},
   "outputs": [],
   "source": [
    "games"
   ]
  },
  {
   "cell_type": "code",
   "execution_count": null,
   "id": "e4ca42ca",
   "metadata": {},
   "outputs": [],
   "source": [
    "df = ar.create_wx_df_playoffs(y='2022',w='19',s=90)"
   ]
  },
  {
   "cell_type": "code",
   "execution_count": null,
   "id": "b2f6b6fa",
   "metadata": {},
   "outputs": [],
   "source": [
    "df"
   ]
  },
  {
   "cell_type": "markdown",
   "id": "da676217",
   "metadata": {},
   "source": [
    "---\n",
    "---\n",
    "# 2021 wk 1"
   ]
  },
  {
   "cell_type": "code",
   "execution_count": 4,
   "id": "3c362bbd",
   "metadata": {},
   "outputs": [],
   "source": [
    "df = ar.create_wx_df(y='2021',w='1',s=100)"
   ]
  },
  {
   "cell_type": "code",
   "execution_count": 5,
   "id": "cad9eb28",
   "metadata": {},
   "outputs": [
    {
     "data": {
      "text/html": [
       "<div>\n",
       "<style scoped>\n",
       "    .dataframe tbody tr th:only-of-type {\n",
       "        vertical-align: middle;\n",
       "    }\n",
       "\n",
       "    .dataframe tbody tr th {\n",
       "        vertical-align: top;\n",
       "    }\n",
       "\n",
       "    .dataframe thead th {\n",
       "        text-align: right;\n",
       "    }\n",
       "</style>\n",
       "<table border=\"1\" class=\"dataframe\">\n",
       "  <thead>\n",
       "    <tr style=\"text-align: right;\">\n",
       "      <th></th>\n",
       "      <th>schedule_season</th>\n",
       "      <th>schedule_week</th>\n",
       "      <th>team_home</th>\n",
       "      <th>weather_temperature</th>\n",
       "      <th>weather_wind_mph</th>\n",
       "      <th>weather_humidity</th>\n",
       "    </tr>\n",
       "  </thead>\n",
       "  <tbody>\n",
       "    <tr>\n",
       "      <th>0</th>\n",
       "      <td>2021</td>\n",
       "      <td>1</td>\n",
       "      <td>Next Game</td>\n",
       "      <td>82</td>\n",
       "      <td>None</td>\n",
       "      <td>85</td>\n",
       "    </tr>\n",
       "    <tr>\n",
       "      <th>1</th>\n",
       "      <td>2021</td>\n",
       "      <td>1</td>\n",
       "      <td>Next Game</td>\n",
       "      <td>20</td>\n",
       "      <td>None</td>\n",
       "      <td>21</td>\n",
       "    </tr>\n",
       "    <tr>\n",
       "      <th>2</th>\n",
       "      <td>2021</td>\n",
       "      <td>1</td>\n",
       "      <td>Next Game</td>\n",
       "      <td>73</td>\n",
       "      <td>None</td>\n",
       "      <td>79</td>\n",
       "    </tr>\n",
       "    <tr>\n",
       "      <th>3</th>\n",
       "      <td>2021</td>\n",
       "      <td>1</td>\n",
       "      <td>Next Game</td>\n",
       "      <td>81</td>\n",
       "      <td>None</td>\n",
       "      <td>51</td>\n",
       "    </tr>\n",
       "    <tr>\n",
       "      <th>4</th>\n",
       "      <td>2021</td>\n",
       "      <td>1</td>\n",
       "      <td>Next Game</td>\n",
       "      <td>81</td>\n",
       "      <td>None</td>\n",
       "      <td>54</td>\n",
       "    </tr>\n",
       "    <tr>\n",
       "      <th>5</th>\n",
       "      <td>2021</td>\n",
       "      <td>1</td>\n",
       "      <td>Next Game</td>\n",
       "      <td>20</td>\n",
       "      <td>None</td>\n",
       "      <td>21</td>\n",
       "    </tr>\n",
       "    <tr>\n",
       "      <th>6</th>\n",
       "      <td>2021</td>\n",
       "      <td>1</td>\n",
       "      <td>Next Game</td>\n",
       "      <td>20</td>\n",
       "      <td>None</td>\n",
       "      <td>21</td>\n",
       "    </tr>\n",
       "    <tr>\n",
       "      <th>7</th>\n",
       "      <td>2021</td>\n",
       "      <td>1</td>\n",
       "      <td>Next Game</td>\n",
       "      <td>20</td>\n",
       "      <td>None</td>\n",
       "      <td>21</td>\n",
       "    </tr>\n",
       "    <tr>\n",
       "      <th>8</th>\n",
       "      <td>2021</td>\n",
       "      <td>1</td>\n",
       "      <td>Next Game</td>\n",
       "      <td>82</td>\n",
       "      <td>None</td>\n",
       "      <td>55</td>\n",
       "    </tr>\n",
       "    <tr>\n",
       "      <th>9</th>\n",
       "      <td>2021</td>\n",
       "      <td>1</td>\n",
       "      <td>Next Game</td>\n",
       "      <td>81</td>\n",
       "      <td>None</td>\n",
       "      <td>49</td>\n",
       "    </tr>\n",
       "    <tr>\n",
       "      <th>10</th>\n",
       "      <td>2021</td>\n",
       "      <td>1</td>\n",
       "      <td>Next Game</td>\n",
       "      <td>88</td>\n",
       "      <td>None</td>\n",
       "      <td>43</td>\n",
       "    </tr>\n",
       "    <tr>\n",
       "      <th>11</th>\n",
       "      <td>2021</td>\n",
       "      <td>1</td>\n",
       "      <td>Next Game</td>\n",
       "      <td>86</td>\n",
       "      <td>None</td>\n",
       "      <td>57</td>\n",
       "    </tr>\n",
       "    <tr>\n",
       "      <th>12</th>\n",
       "      <td>2021</td>\n",
       "      <td>1</td>\n",
       "      <td>Next Game</td>\n",
       "      <td>81</td>\n",
       "      <td>None</td>\n",
       "      <td>58</td>\n",
       "    </tr>\n",
       "    <tr>\n",
       "      <th>13</th>\n",
       "      <td>2021</td>\n",
       "      <td>1</td>\n",
       "      <td>Next Game</td>\n",
       "      <td>82</td>\n",
       "      <td>None</td>\n",
       "      <td>56</td>\n",
       "    </tr>\n",
       "    <tr>\n",
       "      <th>14</th>\n",
       "      <td>2021</td>\n",
       "      <td>1</td>\n",
       "      <td>Next Game</td>\n",
       "      <td>20</td>\n",
       "      <td>None</td>\n",
       "      <td>21</td>\n",
       "    </tr>\n",
       "    <tr>\n",
       "      <th>15</th>\n",
       "      <td>2021</td>\n",
       "      <td>1</td>\n",
       "      <td>Next Game</td>\n",
       "      <td>20</td>\n",
       "      <td>None</td>\n",
       "      <td>21</td>\n",
       "    </tr>\n",
       "  </tbody>\n",
       "</table>\n",
       "</div>"
      ],
      "text/plain": [
       "    schedule_season schedule_week  team_home weather_temperature  \\\n",
       "0              2021             1  Next Game                  82   \n",
       "1              2021             1  Next Game                  20   \n",
       "2              2021             1  Next Game                  73   \n",
       "3              2021             1  Next Game                  81   \n",
       "4              2021             1  Next Game                  81   \n",
       "5              2021             1  Next Game                  20   \n",
       "6              2021             1  Next Game                  20   \n",
       "7              2021             1  Next Game                  20   \n",
       "8              2021             1  Next Game                  82   \n",
       "9              2021             1  Next Game                  81   \n",
       "10             2021             1  Next Game                  88   \n",
       "11             2021             1  Next Game                  86   \n",
       "12             2021             1  Next Game                  81   \n",
       "13             2021             1  Next Game                  82   \n",
       "14             2021             1  Next Game                  20   \n",
       "15             2021             1  Next Game                  20   \n",
       "\n",
       "   weather_wind_mph weather_humidity  \n",
       "0              None               85  \n",
       "1              None               21  \n",
       "2              None               79  \n",
       "3              None               51  \n",
       "4              None               54  \n",
       "5              None               21  \n",
       "6              None               21  \n",
       "7              None               21  \n",
       "8              None               55  \n",
       "9              None               49  \n",
       "10             None               43  \n",
       "11             None               57  \n",
       "12             None               58  \n",
       "13             None               56  \n",
       "14             None               21  \n",
       "15             None               21  "
      ]
     },
     "execution_count": 5,
     "metadata": {},
     "output_type": "execute_result"
    }
   ],
   "source": [
    "df"
   ]
  },
  {
   "cell_type": "markdown",
   "id": "aec37d8f",
   "metadata": {},
   "source": [
    "## Write to .csv"
   ]
  },
  {
   "cell_type": "code",
   "execution_count": 6,
   "id": "733242e2",
   "metadata": {},
   "outputs": [],
   "source": [
    "df.to_csv('season_2021_w1.csv', index=False)"
   ]
  },
  {
   "cell_type": "code",
   "execution_count": null,
   "id": "7524e62b",
   "metadata": {},
   "outputs": [],
   "source": []
  },
  {
   "cell_type": "markdown",
   "id": "76124822",
   "metadata": {},
   "source": [
    "---\n",
    "---\n",
    "## 2021 wk 2-4"
   ]
  },
  {
   "cell_type": "code",
   "execution_count": 7,
   "id": "b13613d2",
   "metadata": {},
   "outputs": [
    {
     "data": {
      "text/plain": [
       "['2', '3', '4']"
      ]
     },
     "execution_count": 7,
     "metadata": {},
     "output_type": "execute_result"
    }
   ],
   "source": [
    "wk = [str(i) for i in range(2,5)]\n",
    "wk"
   ]
  },
  {
   "cell_type": "code",
   "execution_count": 8,
   "id": "aa95e116",
   "metadata": {},
   "outputs": [],
   "source": [
    "weeks = [str(i) for i in range(2,5)]\n",
    "df = ar.create_wx_df_mult('2021',weeks,s=180)"
   ]
  },
  {
   "cell_type": "code",
   "execution_count": 9,
   "id": "59474c86",
   "metadata": {
    "scrolled": true
   },
   "outputs": [
    {
     "data": {
      "text/html": [
       "<div>\n",
       "<style scoped>\n",
       "    .dataframe tbody tr th:only-of-type {\n",
       "        vertical-align: middle;\n",
       "    }\n",
       "\n",
       "    .dataframe tbody tr th {\n",
       "        vertical-align: top;\n",
       "    }\n",
       "\n",
       "    .dataframe thead th {\n",
       "        text-align: right;\n",
       "    }\n",
       "</style>\n",
       "<table border=\"1\" class=\"dataframe\">\n",
       "  <thead>\n",
       "    <tr style=\"text-align: right;\">\n",
       "      <th></th>\n",
       "      <th>schedule_season</th>\n",
       "      <th>schedule_week</th>\n",
       "      <th>team_home</th>\n",
       "      <th>weather_temperature</th>\n",
       "      <th>weather_wind_mph</th>\n",
       "      <th>weather_humidity</th>\n",
       "    </tr>\n",
       "  </thead>\n",
       "  <tbody>\n",
       "    <tr>\n",
       "      <th>0</th>\n",
       "      <td>2021</td>\n",
       "      <td>2</td>\n",
       "      <td>Washington Football Team</td>\n",
       "      <td>71</td>\n",
       "      <td>None</td>\n",
       "      <td>94</td>\n",
       "    </tr>\n",
       "    <tr>\n",
       "      <th>1</th>\n",
       "      <td>2021</td>\n",
       "      <td>2</td>\n",
       "      <td>Carolina Panthers</td>\n",
       "      <td>83</td>\n",
       "      <td>None</td>\n",
       "      <td>65</td>\n",
       "    </tr>\n",
       "    <tr>\n",
       "      <th>2</th>\n",
       "      <td>2021</td>\n",
       "      <td>2</td>\n",
       "      <td>Chicago Bears</td>\n",
       "      <td>80</td>\n",
       "      <td>None</td>\n",
       "      <td>52</td>\n",
       "    </tr>\n",
       "    <tr>\n",
       "      <th>3</th>\n",
       "      <td>2021</td>\n",
       "      <td>2</td>\n",
       "      <td>Cleveland Browns</td>\n",
       "      <td>75</td>\n",
       "      <td>None</td>\n",
       "      <td>66</td>\n",
       "    </tr>\n",
       "    <tr>\n",
       "      <th>4</th>\n",
       "      <td>2021</td>\n",
       "      <td>2</td>\n",
       "      <td>Indianapolis Colts</td>\n",
       "      <td>20</td>\n",
       "      <td>None</td>\n",
       "      <td>21</td>\n",
       "    </tr>\n",
       "    <tr>\n",
       "      <th>5</th>\n",
       "      <td>2021</td>\n",
       "      <td>2</td>\n",
       "      <td>Jacksonville Jaguars</td>\n",
       "      <td>80</td>\n",
       "      <td>None</td>\n",
       "      <td>87</td>\n",
       "    </tr>\n",
       "    <tr>\n",
       "      <th>6</th>\n",
       "      <td>2021</td>\n",
       "      <td>2</td>\n",
       "      <td>Miami Dolphins</td>\n",
       "      <td>89</td>\n",
       "      <td>None</td>\n",
       "      <td>59</td>\n",
       "    </tr>\n",
       "    <tr>\n",
       "      <th>7</th>\n",
       "      <td>2021</td>\n",
       "      <td>2</td>\n",
       "      <td>New York Jets</td>\n",
       "      <td>72</td>\n",
       "      <td>None</td>\n",
       "      <td>49</td>\n",
       "    </tr>\n",
       "    <tr>\n",
       "      <th>8</th>\n",
       "      <td>2021</td>\n",
       "      <td>2</td>\n",
       "      <td>Philadelphia Eagles</td>\n",
       "      <td>76</td>\n",
       "      <td>None</td>\n",
       "      <td>42</td>\n",
       "    </tr>\n",
       "    <tr>\n",
       "      <th>9</th>\n",
       "      <td>2021</td>\n",
       "      <td>2</td>\n",
       "      <td>Pittsburgh Steelers</td>\n",
       "      <td>77</td>\n",
       "      <td>None</td>\n",
       "      <td>60</td>\n",
       "    </tr>\n",
       "    <tr>\n",
       "      <th>10</th>\n",
       "      <td>2021</td>\n",
       "      <td>2</td>\n",
       "      <td>Arizona Cardinals</td>\n",
       "      <td>20</td>\n",
       "      <td>None</td>\n",
       "      <td>21</td>\n",
       "    </tr>\n",
       "    <tr>\n",
       "      <th>11</th>\n",
       "      <td>2021</td>\n",
       "      <td>2</td>\n",
       "      <td>Tampa Bay Buccaneers</td>\n",
       "      <td>85</td>\n",
       "      <td>None</td>\n",
       "      <td>72</td>\n",
       "    </tr>\n",
       "    <tr>\n",
       "      <th>12</th>\n",
       "      <td>2021</td>\n",
       "      <td>2</td>\n",
       "      <td>Los Angeles Chargers</td>\n",
       "      <td>20</td>\n",
       "      <td>None</td>\n",
       "      <td>21</td>\n",
       "    </tr>\n",
       "    <tr>\n",
       "      <th>13</th>\n",
       "      <td>2021</td>\n",
       "      <td>2</td>\n",
       "      <td>Seattle Seahawks</td>\n",
       "      <td>62</td>\n",
       "      <td>None</td>\n",
       "      <td>70</td>\n",
       "    </tr>\n",
       "    <tr>\n",
       "      <th>14</th>\n",
       "      <td>2021</td>\n",
       "      <td>2</td>\n",
       "      <td>Baltimore Ravens</td>\n",
       "      <td>82</td>\n",
       "      <td>None</td>\n",
       "      <td>38</td>\n",
       "    </tr>\n",
       "    <tr>\n",
       "      <th>15</th>\n",
       "      <td>2021</td>\n",
       "      <td>2</td>\n",
       "      <td>Green Bay Packers</td>\n",
       "      <td>73</td>\n",
       "      <td>None</td>\n",
       "      <td>84</td>\n",
       "    </tr>\n",
       "    <tr>\n",
       "      <th>16</th>\n",
       "      <td>2021</td>\n",
       "      <td>3</td>\n",
       "      <td>Houston Texans</td>\n",
       "      <td>20</td>\n",
       "      <td>68</td>\n",
       "      <td>21</td>\n",
       "    </tr>\n",
       "    <tr>\n",
       "      <th>17</th>\n",
       "      <td>2021</td>\n",
       "      <td>3</td>\n",
       "      <td>Buffalo Bills</td>\n",
       "      <td>67</td>\n",
       "      <td>21</td>\n",
       "      <td>40</td>\n",
       "    </tr>\n",
       "    <tr>\n",
       "      <th>18</th>\n",
       "      <td>2021</td>\n",
       "      <td>3</td>\n",
       "      <td>Cleveland Browns</td>\n",
       "      <td>70</td>\n",
       "      <td>22</td>\n",
       "      <td>38</td>\n",
       "    </tr>\n",
       "    <tr>\n",
       "      <th>19</th>\n",
       "      <td>2021</td>\n",
       "      <td>3</td>\n",
       "      <td>Detroit Lions</td>\n",
       "      <td>20</td>\n",
       "      <td>50</td>\n",
       "      <td>21</td>\n",
       "    </tr>\n",
       "    <tr>\n",
       "      <th>20</th>\n",
       "      <td>2021</td>\n",
       "      <td>3</td>\n",
       "      <td>Jacksonville Jaguars</td>\n",
       "      <td>81</td>\n",
       "      <td>4</td>\n",
       "      <td>49</td>\n",
       "    </tr>\n",
       "    <tr>\n",
       "      <th>21</th>\n",
       "      <td>2021</td>\n",
       "      <td>3</td>\n",
       "      <td>Kansas City Chiefs</td>\n",
       "      <td>81</td>\n",
       "      <td>19</td>\n",
       "      <td>34</td>\n",
       "    </tr>\n",
       "    <tr>\n",
       "      <th>22</th>\n",
       "      <td>2021</td>\n",
       "      <td>3</td>\n",
       "      <td>New England Patriots</td>\n",
       "      <td>73</td>\n",
       "      <td>11</td>\n",
       "      <td>55</td>\n",
       "    </tr>\n",
       "    <tr>\n",
       "      <th>23</th>\n",
       "      <td>2021</td>\n",
       "      <td>3</td>\n",
       "      <td>New York Giants</td>\n",
       "      <td>69</td>\n",
       "      <td>13</td>\n",
       "      <td>45</td>\n",
       "    </tr>\n",
       "    <tr>\n",
       "      <th>24</th>\n",
       "      <td>2021</td>\n",
       "      <td>3</td>\n",
       "      <td>Tennessee Titans</td>\n",
       "      <td>72</td>\n",
       "      <td>4</td>\n",
       "      <td>66</td>\n",
       "    </tr>\n",
       "    <tr>\n",
       "      <th>25</th>\n",
       "      <td>2021</td>\n",
       "      <td>3</td>\n",
       "      <td>Pittsburgh Steelers</td>\n",
       "      <td>67</td>\n",
       "      <td>9</td>\n",
       "      <td>42</td>\n",
       "    </tr>\n",
       "    <tr>\n",
       "      <th>26</th>\n",
       "      <td>2021</td>\n",
       "      <td>3</td>\n",
       "      <td>Denver Broncos</td>\n",
       "      <td>82</td>\n",
       "      <td>6</td>\n",
       "      <td>13</td>\n",
       "    </tr>\n",
       "    <tr>\n",
       "      <th>27</th>\n",
       "      <td>2021</td>\n",
       "      <td>3</td>\n",
       "      <td>Las Vegas Raiders</td>\n",
       "      <td>20</td>\n",
       "      <td>59</td>\n",
       "      <td>21</td>\n",
       "    </tr>\n",
       "    <tr>\n",
       "      <th>28</th>\n",
       "      <td>2021</td>\n",
       "      <td>3</td>\n",
       "      <td>Minnesota Vikings</td>\n",
       "      <td>20</td>\n",
       "      <td>66</td>\n",
       "      <td>21</td>\n",
       "    </tr>\n",
       "    <tr>\n",
       "      <th>29</th>\n",
       "      <td>2021</td>\n",
       "      <td>3</td>\n",
       "      <td>Los Angeles Rams</td>\n",
       "      <td>20</td>\n",
       "      <td>73</td>\n",
       "      <td>21</td>\n",
       "    </tr>\n",
       "    <tr>\n",
       "      <th>30</th>\n",
       "      <td>2021</td>\n",
       "      <td>3</td>\n",
       "      <td>San Francisco 49ers</td>\n",
       "      <td>69</td>\n",
       "      <td>15</td>\n",
       "      <td>57</td>\n",
       "    </tr>\n",
       "    <tr>\n",
       "      <th>31</th>\n",
       "      <td>2021</td>\n",
       "      <td>3</td>\n",
       "      <td>Dallas Cowboys</td>\n",
       "      <td>20</td>\n",
       "      <td>93</td>\n",
       "      <td>21</td>\n",
       "    </tr>\n",
       "    <tr>\n",
       "      <th>32</th>\n",
       "      <td>2021</td>\n",
       "      <td>4</td>\n",
       "      <td>Cincinnati Bengals</td>\n",
       "      <td>65</td>\n",
       "      <td>None</td>\n",
       "      <td>84</td>\n",
       "    </tr>\n",
       "    <tr>\n",
       "      <th>33</th>\n",
       "      <td>2021</td>\n",
       "      <td>4</td>\n",
       "      <td>Atlanta Falcons</td>\n",
       "      <td>20</td>\n",
       "      <td>None</td>\n",
       "      <td>21</td>\n",
       "    </tr>\n",
       "    <tr>\n",
       "      <th>34</th>\n",
       "      <td>2021</td>\n",
       "      <td>4</td>\n",
       "      <td>Buffalo Bills</td>\n",
       "      <td>67</td>\n",
       "      <td>None</td>\n",
       "      <td>93</td>\n",
       "    </tr>\n",
       "    <tr>\n",
       "      <th>35</th>\n",
       "      <td>2021</td>\n",
       "      <td>4</td>\n",
       "      <td>Chicago Bears</td>\n",
       "      <td>72</td>\n",
       "      <td>None</td>\n",
       "      <td>79</td>\n",
       "    </tr>\n",
       "    <tr>\n",
       "      <th>36</th>\n",
       "      <td>2021</td>\n",
       "      <td>4</td>\n",
       "      <td>Dallas Cowboys</td>\n",
       "      <td>20</td>\n",
       "      <td>None</td>\n",
       "      <td>21</td>\n",
       "    </tr>\n",
       "    <tr>\n",
       "      <th>37</th>\n",
       "      <td>2021</td>\n",
       "      <td>4</td>\n",
       "      <td>Miami Dolphins</td>\n",
       "      <td>85</td>\n",
       "      <td>None</td>\n",
       "      <td>57</td>\n",
       "    </tr>\n",
       "    <tr>\n",
       "      <th>38</th>\n",
       "      <td>2021</td>\n",
       "      <td>4</td>\n",
       "      <td>Minnesota Vikings</td>\n",
       "      <td>20</td>\n",
       "      <td>None</td>\n",
       "      <td>21</td>\n",
       "    </tr>\n",
       "    <tr>\n",
       "      <th>39</th>\n",
       "      <td>2021</td>\n",
       "      <td>4</td>\n",
       "      <td>New Orleans Saints</td>\n",
       "      <td>20</td>\n",
       "      <td>None</td>\n",
       "      <td>21</td>\n",
       "    </tr>\n",
       "    <tr>\n",
       "      <th>40</th>\n",
       "      <td>2021</td>\n",
       "      <td>4</td>\n",
       "      <td>New York Jets</td>\n",
       "      <td>78</td>\n",
       "      <td>None</td>\n",
       "      <td>50</td>\n",
       "    </tr>\n",
       "    <tr>\n",
       "      <th>41</th>\n",
       "      <td>2021</td>\n",
       "      <td>4</td>\n",
       "      <td>Philadelphia Eagles</td>\n",
       "      <td>73</td>\n",
       "      <td>None</td>\n",
       "      <td>69</td>\n",
       "    </tr>\n",
       "    <tr>\n",
       "      <th>42</th>\n",
       "      <td>2021</td>\n",
       "      <td>4</td>\n",
       "      <td>Los Angeles Rams</td>\n",
       "      <td>20</td>\n",
       "      <td>None</td>\n",
       "      <td>21</td>\n",
       "    </tr>\n",
       "    <tr>\n",
       "      <th>43</th>\n",
       "      <td>2021</td>\n",
       "      <td>4</td>\n",
       "      <td>San Francisco 49ers</td>\n",
       "      <td>80</td>\n",
       "      <td>None</td>\n",
       "      <td>33</td>\n",
       "    </tr>\n",
       "    <tr>\n",
       "      <th>44</th>\n",
       "      <td>2021</td>\n",
       "      <td>4</td>\n",
       "      <td>Denver Broncos</td>\n",
       "      <td>77</td>\n",
       "      <td>None</td>\n",
       "      <td>14</td>\n",
       "    </tr>\n",
       "    <tr>\n",
       "      <th>45</th>\n",
       "      <td>2021</td>\n",
       "      <td>4</td>\n",
       "      <td>Green Bay Packers</td>\n",
       "      <td>67</td>\n",
       "      <td>None</td>\n",
       "      <td>87</td>\n",
       "    </tr>\n",
       "    <tr>\n",
       "      <th>46</th>\n",
       "      <td>2021</td>\n",
       "      <td>4</td>\n",
       "      <td>New England Patriots</td>\n",
       "      <td>62</td>\n",
       "      <td>None</td>\n",
       "      <td>84</td>\n",
       "    </tr>\n",
       "    <tr>\n",
       "      <th>47</th>\n",
       "      <td>2021</td>\n",
       "      <td>4</td>\n",
       "      <td>Los Angeles Chargers</td>\n",
       "      <td>20</td>\n",
       "      <td>None</td>\n",
       "      <td>21</td>\n",
       "    </tr>\n",
       "  </tbody>\n",
       "</table>\n",
       "</div>"
      ],
      "text/plain": [
       "    schedule_season schedule_week                 team_home  \\\n",
       "0              2021             2  Washington Football Team   \n",
       "1              2021             2         Carolina Panthers   \n",
       "2              2021             2             Chicago Bears   \n",
       "3              2021             2          Cleveland Browns   \n",
       "4              2021             2        Indianapolis Colts   \n",
       "5              2021             2      Jacksonville Jaguars   \n",
       "6              2021             2            Miami Dolphins   \n",
       "7              2021             2             New York Jets   \n",
       "8              2021             2       Philadelphia Eagles   \n",
       "9              2021             2       Pittsburgh Steelers   \n",
       "10             2021             2         Arizona Cardinals   \n",
       "11             2021             2      Tampa Bay Buccaneers   \n",
       "12             2021             2      Los Angeles Chargers   \n",
       "13             2021             2          Seattle Seahawks   \n",
       "14             2021             2          Baltimore Ravens   \n",
       "15             2021             2         Green Bay Packers   \n",
       "16             2021             3            Houston Texans   \n",
       "17             2021             3             Buffalo Bills   \n",
       "18             2021             3          Cleveland Browns   \n",
       "19             2021             3             Detroit Lions   \n",
       "20             2021             3      Jacksonville Jaguars   \n",
       "21             2021             3        Kansas City Chiefs   \n",
       "22             2021             3      New England Patriots   \n",
       "23             2021             3           New York Giants   \n",
       "24             2021             3          Tennessee Titans   \n",
       "25             2021             3       Pittsburgh Steelers   \n",
       "26             2021             3            Denver Broncos   \n",
       "27             2021             3         Las Vegas Raiders   \n",
       "28             2021             3         Minnesota Vikings   \n",
       "29             2021             3          Los Angeles Rams   \n",
       "30             2021             3       San Francisco 49ers   \n",
       "31             2021             3            Dallas Cowboys   \n",
       "32             2021             4        Cincinnati Bengals   \n",
       "33             2021             4           Atlanta Falcons   \n",
       "34             2021             4             Buffalo Bills   \n",
       "35             2021             4             Chicago Bears   \n",
       "36             2021             4            Dallas Cowboys   \n",
       "37             2021             4            Miami Dolphins   \n",
       "38             2021             4         Minnesota Vikings   \n",
       "39             2021             4        New Orleans Saints   \n",
       "40             2021             4             New York Jets   \n",
       "41             2021             4       Philadelphia Eagles   \n",
       "42             2021             4          Los Angeles Rams   \n",
       "43             2021             4       San Francisco 49ers   \n",
       "44             2021             4            Denver Broncos   \n",
       "45             2021             4         Green Bay Packers   \n",
       "46             2021             4      New England Patriots   \n",
       "47             2021             4      Los Angeles Chargers   \n",
       "\n",
       "   weather_temperature weather_wind_mph weather_humidity  \n",
       "0                   71             None               94  \n",
       "1                   83             None               65  \n",
       "2                   80             None               52  \n",
       "3                   75             None               66  \n",
       "4                   20             None               21  \n",
       "5                   80             None               87  \n",
       "6                   89             None               59  \n",
       "7                   72             None               49  \n",
       "8                   76             None               42  \n",
       "9                   77             None               60  \n",
       "10                  20             None               21  \n",
       "11                  85             None               72  \n",
       "12                  20             None               21  \n",
       "13                  62             None               70  \n",
       "14                  82             None               38  \n",
       "15                  73             None               84  \n",
       "16                  20               68               21  \n",
       "17                  67               21               40  \n",
       "18                  70               22               38  \n",
       "19                  20               50               21  \n",
       "20                  81                4               49  \n",
       "21                  81               19               34  \n",
       "22                  73               11               55  \n",
       "23                  69               13               45  \n",
       "24                  72                4               66  \n",
       "25                  67                9               42  \n",
       "26                  82                6               13  \n",
       "27                  20               59               21  \n",
       "28                  20               66               21  \n",
       "29                  20               73               21  \n",
       "30                  69               15               57  \n",
       "31                  20               93               21  \n",
       "32                  65             None               84  \n",
       "33                  20             None               21  \n",
       "34                  67             None               93  \n",
       "35                  72             None               79  \n",
       "36                  20             None               21  \n",
       "37                  85             None               57  \n",
       "38                  20             None               21  \n",
       "39                  20             None               21  \n",
       "40                  78             None               50  \n",
       "41                  73             None               69  \n",
       "42                  20             None               21  \n",
       "43                  80             None               33  \n",
       "44                  77             None               14  \n",
       "45                  67             None               87  \n",
       "46                  62             None               84  \n",
       "47                  20             None               21  "
      ]
     },
     "execution_count": 9,
     "metadata": {},
     "output_type": "execute_result"
    }
   ],
   "source": [
    "df"
   ]
  },
  {
   "cell_type": "markdown",
   "id": "0a99cbd3",
   "metadata": {},
   "source": [
    "## Write to .csv"
   ]
  },
  {
   "cell_type": "code",
   "execution_count": 10,
   "id": "c9713044",
   "metadata": {},
   "outputs": [],
   "source": [
    "df.to_csv('season_2021_w24.csv', index=False)"
   ]
  },
  {
   "cell_type": "markdown",
   "id": "b765f836",
   "metadata": {},
   "source": [
    "---\n",
    "---\n",
    "## 2021 wk 5-7"
   ]
  },
  {
   "cell_type": "code",
   "execution_count": 11,
   "id": "d1285467",
   "metadata": {},
   "outputs": [
    {
     "data": {
      "text/plain": [
       "['5', '6', '7']"
      ]
     },
     "execution_count": 11,
     "metadata": {},
     "output_type": "execute_result"
    }
   ],
   "source": [
    "wk = [str(i) for i in range(5,8)]\n",
    "wk"
   ]
  },
  {
   "cell_type": "code",
   "execution_count": 14,
   "id": "d7430d04",
   "metadata": {},
   "outputs": [],
   "source": [
    "weeks = [str(i) for i in range(5,8)]\n",
    "df = ar.create_wx_df_mult('2021',weeks,s=180)"
   ]
  },
  {
   "cell_type": "code",
   "execution_count": 15,
   "id": "b564fd0c",
   "metadata": {
    "collapsed": true
   },
   "outputs": [
    {
     "data": {
      "text/html": [
       "<div>\n",
       "<style scoped>\n",
       "    .dataframe tbody tr th:only-of-type {\n",
       "        vertical-align: middle;\n",
       "    }\n",
       "\n",
       "    .dataframe tbody tr th {\n",
       "        vertical-align: top;\n",
       "    }\n",
       "\n",
       "    .dataframe thead th {\n",
       "        text-align: right;\n",
       "    }\n",
       "</style>\n",
       "<table border=\"1\" class=\"dataframe\">\n",
       "  <thead>\n",
       "    <tr style=\"text-align: right;\">\n",
       "      <th></th>\n",
       "      <th>schedule_season</th>\n",
       "      <th>schedule_week</th>\n",
       "      <th>team_home</th>\n",
       "      <th>weather_temperature</th>\n",
       "      <th>weather_wind_mph</th>\n",
       "      <th>weather_humidity</th>\n",
       "    </tr>\n",
       "  </thead>\n",
       "  <tbody>\n",
       "    <tr>\n",
       "      <th>0</th>\n",
       "      <td>2021</td>\n",
       "      <td>5</td>\n",
       "      <td>Seattle Seahawks</td>\n",
       "      <td>56</td>\n",
       "      <td>None</td>\n",
       "      <td>53</td>\n",
       "    </tr>\n",
       "    <tr>\n",
       "      <th>1</th>\n",
       "      <td>2021</td>\n",
       "      <td>5</td>\n",
       "      <td>Atlanta Falcons</td>\n",
       "      <td>63</td>\n",
       "      <td>None</td>\n",
       "      <td>77</td>\n",
       "    </tr>\n",
       "    <tr>\n",
       "      <th>2</th>\n",
       "      <td>2021</td>\n",
       "      <td>5</td>\n",
       "      <td>Carolina Panthers</td>\n",
       "      <td>76</td>\n",
       "      <td>None</td>\n",
       "      <td>60</td>\n",
       "    </tr>\n",
       "    <tr>\n",
       "      <th>3</th>\n",
       "      <td>2021</td>\n",
       "      <td>5</td>\n",
       "      <td>Cincinnati Bengals</td>\n",
       "      <td>76</td>\n",
       "      <td>None</td>\n",
       "      <td>67</td>\n",
       "    </tr>\n",
       "    <tr>\n",
       "      <th>4</th>\n",
       "      <td>2021</td>\n",
       "      <td>5</td>\n",
       "      <td>Houston Texans</td>\n",
       "      <td>20</td>\n",
       "      <td>None</td>\n",
       "      <td>21</td>\n",
       "    </tr>\n",
       "    <tr>\n",
       "      <th>5</th>\n",
       "      <td>2021</td>\n",
       "      <td>5</td>\n",
       "      <td>Jacksonville Jaguars</td>\n",
       "      <td>78</td>\n",
       "      <td>None</td>\n",
       "      <td>71</td>\n",
       "    </tr>\n",
       "    <tr>\n",
       "      <th>6</th>\n",
       "      <td>2021</td>\n",
       "      <td>5</td>\n",
       "      <td>Minnesota Vikings</td>\n",
       "      <td>20</td>\n",
       "      <td>None</td>\n",
       "      <td>21</td>\n",
       "    </tr>\n",
       "    <tr>\n",
       "      <th>7</th>\n",
       "      <td>2021</td>\n",
       "      <td>5</td>\n",
       "      <td>Pittsburgh Steelers</td>\n",
       "      <td>71</td>\n",
       "      <td>None</td>\n",
       "      <td>61</td>\n",
       "    </tr>\n",
       "    <tr>\n",
       "      <th>8</th>\n",
       "      <td>2021</td>\n",
       "      <td>5</td>\n",
       "      <td>Tampa Bay Buccaneers</td>\n",
       "      <td>84</td>\n",
       "      <td>None</td>\n",
       "      <td>59</td>\n",
       "    </tr>\n",
       "    <tr>\n",
       "      <th>9</th>\n",
       "      <td>2021</td>\n",
       "      <td>5</td>\n",
       "      <td>Washington Football Team</td>\n",
       "      <td>70</td>\n",
       "      <td>None</td>\n",
       "      <td>78</td>\n",
       "    </tr>\n",
       "    <tr>\n",
       "      <th>10</th>\n",
       "      <td>2021</td>\n",
       "      <td>5</td>\n",
       "      <td>Las Vegas Raiders</td>\n",
       "      <td>20</td>\n",
       "      <td>None</td>\n",
       "      <td>21</td>\n",
       "    </tr>\n",
       "    <tr>\n",
       "      <th>11</th>\n",
       "      <td>2021</td>\n",
       "      <td>5</td>\n",
       "      <td>Los Angeles Chargers</td>\n",
       "      <td>20</td>\n",
       "      <td>None</td>\n",
       "      <td>21</td>\n",
       "    </tr>\n",
       "    <tr>\n",
       "      <th>12</th>\n",
       "      <td>2021</td>\n",
       "      <td>5</td>\n",
       "      <td>Arizona Cardinals</td>\n",
       "      <td>20</td>\n",
       "      <td>None</td>\n",
       "      <td>21</td>\n",
       "    </tr>\n",
       "    <tr>\n",
       "      <th>13</th>\n",
       "      <td>2021</td>\n",
       "      <td>5</td>\n",
       "      <td>Dallas Cowboys</td>\n",
       "      <td>20</td>\n",
       "      <td>None</td>\n",
       "      <td>21</td>\n",
       "    </tr>\n",
       "    <tr>\n",
       "      <th>14</th>\n",
       "      <td>2021</td>\n",
       "      <td>5</td>\n",
       "      <td>Kansas City Chiefs</td>\n",
       "      <td>76</td>\n",
       "      <td>None</td>\n",
       "      <td>52</td>\n",
       "    </tr>\n",
       "    <tr>\n",
       "      <th>15</th>\n",
       "      <td>2021</td>\n",
       "      <td>5</td>\n",
       "      <td>Baltimore Ravens</td>\n",
       "      <td>69</td>\n",
       "      <td>None</td>\n",
       "      <td>75</td>\n",
       "    </tr>\n",
       "    <tr>\n",
       "      <th>16</th>\n",
       "      <td>2021</td>\n",
       "      <td>6</td>\n",
       "      <td>Philadelphia Eagles</td>\n",
       "      <td>74</td>\n",
       "      <td>8</td>\n",
       "      <td>56</td>\n",
       "    </tr>\n",
       "    <tr>\n",
       "      <th>17</th>\n",
       "      <td>2021</td>\n",
       "      <td>6</td>\n",
       "      <td>Jacksonville Jaguars</td>\n",
       "      <td>63</td>\n",
       "      <td>11</td>\n",
       "      <td>72</td>\n",
       "    </tr>\n",
       "    <tr>\n",
       "      <th>18</th>\n",
       "      <td>2021</td>\n",
       "      <td>6</td>\n",
       "      <td>Carolina Panthers</td>\n",
       "      <td>62</td>\n",
       "      <td>7</td>\n",
       "      <td>39</td>\n",
       "    </tr>\n",
       "    <tr>\n",
       "      <th>19</th>\n",
       "      <td>2021</td>\n",
       "      <td>6</td>\n",
       "      <td>Chicago Bears</td>\n",
       "      <td>59</td>\n",
       "      <td>6</td>\n",
       "      <td>39</td>\n",
       "    </tr>\n",
       "    <tr>\n",
       "      <th>20</th>\n",
       "      <td>2021</td>\n",
       "      <td>6</td>\n",
       "      <td>Indianapolis Colts</td>\n",
       "      <td>20</td>\n",
       "      <td>57</td>\n",
       "      <td>21</td>\n",
       "    </tr>\n",
       "    <tr>\n",
       "      <th>21</th>\n",
       "      <td>2021</td>\n",
       "      <td>6</td>\n",
       "      <td>Detroit Lions</td>\n",
       "      <td>20</td>\n",
       "      <td>50</td>\n",
       "      <td>21</td>\n",
       "    </tr>\n",
       "    <tr>\n",
       "      <th>22</th>\n",
       "      <td>2021</td>\n",
       "      <td>6</td>\n",
       "      <td>New York Giants</td>\n",
       "      <td>61</td>\n",
       "      <td>13</td>\n",
       "      <td>56</td>\n",
       "    </tr>\n",
       "    <tr>\n",
       "      <th>23</th>\n",
       "      <td>2021</td>\n",
       "      <td>6</td>\n",
       "      <td>Baltimore Ravens</td>\n",
       "      <td>63</td>\n",
       "      <td>15</td>\n",
       "      <td>46</td>\n",
       "    </tr>\n",
       "    <tr>\n",
       "      <th>24</th>\n",
       "      <td>2021</td>\n",
       "      <td>6</td>\n",
       "      <td>Washington Football Team</td>\n",
       "      <td>62</td>\n",
       "      <td>13</td>\n",
       "      <td>39</td>\n",
       "    </tr>\n",
       "    <tr>\n",
       "      <th>25</th>\n",
       "      <td>2021</td>\n",
       "      <td>6</td>\n",
       "      <td>Cleveland Browns</td>\n",
       "      <td>58</td>\n",
       "      <td>23</td>\n",
       "      <td>55</td>\n",
       "    </tr>\n",
       "    <tr>\n",
       "      <th>26</th>\n",
       "      <td>2021</td>\n",
       "      <td>6</td>\n",
       "      <td>Denver Broncos</td>\n",
       "      <td>76</td>\n",
       "      <td>8</td>\n",
       "      <td>10</td>\n",
       "    </tr>\n",
       "    <tr>\n",
       "      <th>27</th>\n",
       "      <td>2021</td>\n",
       "      <td>6</td>\n",
       "      <td>New England Patriots</td>\n",
       "      <td>62</td>\n",
       "      <td>11</td>\n",
       "      <td>46</td>\n",
       "    </tr>\n",
       "    <tr>\n",
       "      <th>28</th>\n",
       "      <td>2021</td>\n",
       "      <td>6</td>\n",
       "      <td>Pittsburgh Steelers</td>\n",
       "      <td>49</td>\n",
       "      <td>6</td>\n",
       "      <td>77</td>\n",
       "    </tr>\n",
       "    <tr>\n",
       "      <th>29</th>\n",
       "      <td>2021</td>\n",
       "      <td>6</td>\n",
       "      <td>Tennessee Titans</td>\n",
       "      <td>66</td>\n",
       "      <td>6</td>\n",
       "      <td>40</td>\n",
       "    </tr>\n",
       "    <tr>\n",
       "      <th>30</th>\n",
       "      <td>2021</td>\n",
       "      <td>7</td>\n",
       "      <td>Cleveland Browns</td>\n",
       "      <td>59</td>\n",
       "      <td>None</td>\n",
       "      <td>69</td>\n",
       "    </tr>\n",
       "    <tr>\n",
       "      <th>31</th>\n",
       "      <td>2021</td>\n",
       "      <td>7</td>\n",
       "      <td>Green Bay Packers</td>\n",
       "      <td>49</td>\n",
       "      <td>None</td>\n",
       "      <td>56</td>\n",
       "    </tr>\n",
       "    <tr>\n",
       "      <th>32</th>\n",
       "      <td>2021</td>\n",
       "      <td>7</td>\n",
       "      <td>Miami Dolphins</td>\n",
       "      <td>85</td>\n",
       "      <td>None</td>\n",
       "      <td>70</td>\n",
       "    </tr>\n",
       "    <tr>\n",
       "      <th>33</th>\n",
       "      <td>2021</td>\n",
       "      <td>7</td>\n",
       "      <td>New England Patriots</td>\n",
       "      <td>52</td>\n",
       "      <td>None</td>\n",
       "      <td>44</td>\n",
       "    </tr>\n",
       "    <tr>\n",
       "      <th>34</th>\n",
       "      <td>2021</td>\n",
       "      <td>7</td>\n",
       "      <td>New York Giants</td>\n",
       "      <td>57</td>\n",
       "      <td>None</td>\n",
       "      <td>51</td>\n",
       "    </tr>\n",
       "    <tr>\n",
       "      <th>35</th>\n",
       "      <td>2021</td>\n",
       "      <td>7</td>\n",
       "      <td>Tennessee Titans</td>\n",
       "      <td>74</td>\n",
       "      <td>None</td>\n",
       "      <td>48</td>\n",
       "    </tr>\n",
       "    <tr>\n",
       "      <th>36</th>\n",
       "      <td>2021</td>\n",
       "      <td>7</td>\n",
       "      <td>Baltimore Ravens</td>\n",
       "      <td>61</td>\n",
       "      <td>None</td>\n",
       "      <td>60</td>\n",
       "    </tr>\n",
       "    <tr>\n",
       "      <th>37</th>\n",
       "      <td>2021</td>\n",
       "      <td>7</td>\n",
       "      <td>Las Vegas Raiders</td>\n",
       "      <td>20</td>\n",
       "      <td>None</td>\n",
       "      <td>21</td>\n",
       "    </tr>\n",
       "    <tr>\n",
       "      <th>38</th>\n",
       "      <td>2021</td>\n",
       "      <td>7</td>\n",
       "      <td>Los Angeles Rams</td>\n",
       "      <td>20</td>\n",
       "      <td>None</td>\n",
       "      <td>21</td>\n",
       "    </tr>\n",
       "    <tr>\n",
       "      <th>39</th>\n",
       "      <td>2021</td>\n",
       "      <td>7</td>\n",
       "      <td>Arizona Cardinals</td>\n",
       "      <td>20</td>\n",
       "      <td>None</td>\n",
       "      <td>21</td>\n",
       "    </tr>\n",
       "    <tr>\n",
       "      <th>40</th>\n",
       "      <td>2021</td>\n",
       "      <td>7</td>\n",
       "      <td>Tampa Bay Buccaneers</td>\n",
       "      <td>83</td>\n",
       "      <td>None</td>\n",
       "      <td>65</td>\n",
       "    </tr>\n",
       "    <tr>\n",
       "      <th>41</th>\n",
       "      <td>2021</td>\n",
       "      <td>7</td>\n",
       "      <td>San Francisco 49ers</td>\n",
       "      <td>64</td>\n",
       "      <td>None</td>\n",
       "      <td>84</td>\n",
       "    </tr>\n",
       "    <tr>\n",
       "      <th>42</th>\n",
       "      <td>2021</td>\n",
       "      <td>7</td>\n",
       "      <td>Seattle Seahawks</td>\n",
       "      <td>54</td>\n",
       "      <td>None</td>\n",
       "      <td>77</td>\n",
       "    </tr>\n",
       "  </tbody>\n",
       "</table>\n",
       "</div>"
      ],
      "text/plain": [
       "    schedule_season schedule_week                 team_home  \\\n",
       "0              2021             5          Seattle Seahawks   \n",
       "1              2021             5           Atlanta Falcons   \n",
       "2              2021             5         Carolina Panthers   \n",
       "3              2021             5        Cincinnati Bengals   \n",
       "4              2021             5            Houston Texans   \n",
       "5              2021             5      Jacksonville Jaguars   \n",
       "6              2021             5         Minnesota Vikings   \n",
       "7              2021             5       Pittsburgh Steelers   \n",
       "8              2021             5      Tampa Bay Buccaneers   \n",
       "9              2021             5  Washington Football Team   \n",
       "10             2021             5         Las Vegas Raiders   \n",
       "11             2021             5      Los Angeles Chargers   \n",
       "12             2021             5         Arizona Cardinals   \n",
       "13             2021             5            Dallas Cowboys   \n",
       "14             2021             5        Kansas City Chiefs   \n",
       "15             2021             5          Baltimore Ravens   \n",
       "16             2021             6       Philadelphia Eagles   \n",
       "17             2021             6      Jacksonville Jaguars   \n",
       "18             2021             6         Carolina Panthers   \n",
       "19             2021             6             Chicago Bears   \n",
       "20             2021             6        Indianapolis Colts   \n",
       "21             2021             6             Detroit Lions   \n",
       "22             2021             6           New York Giants   \n",
       "23             2021             6          Baltimore Ravens   \n",
       "24             2021             6  Washington Football Team   \n",
       "25             2021             6          Cleveland Browns   \n",
       "26             2021             6            Denver Broncos   \n",
       "27             2021             6      New England Patriots   \n",
       "28             2021             6       Pittsburgh Steelers   \n",
       "29             2021             6          Tennessee Titans   \n",
       "30             2021             7          Cleveland Browns   \n",
       "31             2021             7         Green Bay Packers   \n",
       "32             2021             7            Miami Dolphins   \n",
       "33             2021             7      New England Patriots   \n",
       "34             2021             7           New York Giants   \n",
       "35             2021             7          Tennessee Titans   \n",
       "36             2021             7          Baltimore Ravens   \n",
       "37             2021             7         Las Vegas Raiders   \n",
       "38             2021             7          Los Angeles Rams   \n",
       "39             2021             7         Arizona Cardinals   \n",
       "40             2021             7      Tampa Bay Buccaneers   \n",
       "41             2021             7       San Francisco 49ers   \n",
       "42             2021             7          Seattle Seahawks   \n",
       "\n",
       "   weather_temperature weather_wind_mph weather_humidity  \n",
       "0                   56             None               53  \n",
       "1                   63             None               77  \n",
       "2                   76             None               60  \n",
       "3                   76             None               67  \n",
       "4                   20             None               21  \n",
       "5                   78             None               71  \n",
       "6                   20             None               21  \n",
       "7                   71             None               61  \n",
       "8                   84             None               59  \n",
       "9                   70             None               78  \n",
       "10                  20             None               21  \n",
       "11                  20             None               21  \n",
       "12                  20             None               21  \n",
       "13                  20             None               21  \n",
       "14                  76             None               52  \n",
       "15                  69             None               75  \n",
       "16                  74                8               56  \n",
       "17                  63               11               72  \n",
       "18                  62                7               39  \n",
       "19                  59                6               39  \n",
       "20                  20               57               21  \n",
       "21                  20               50               21  \n",
       "22                  61               13               56  \n",
       "23                  63               15               46  \n",
       "24                  62               13               39  \n",
       "25                  58               23               55  \n",
       "26                  76                8               10  \n",
       "27                  62               11               46  \n",
       "28                  49                6               77  \n",
       "29                  66                6               40  \n",
       "30                  59             None               69  \n",
       "31                  49             None               56  \n",
       "32                  85             None               70  \n",
       "33                  52             None               44  \n",
       "34                  57             None               51  \n",
       "35                  74             None               48  \n",
       "36                  61             None               60  \n",
       "37                  20             None               21  \n",
       "38                  20             None               21  \n",
       "39                  20             None               21  \n",
       "40                  83             None               65  \n",
       "41                  64             None               84  \n",
       "42                  54             None               77  "
      ]
     },
     "execution_count": 15,
     "metadata": {},
     "output_type": "execute_result"
    }
   ],
   "source": [
    "df"
   ]
  },
  {
   "cell_type": "markdown",
   "id": "1bd3e4db",
   "metadata": {},
   "source": [
    "## Write to .csv"
   ]
  },
  {
   "cell_type": "code",
   "execution_count": 16,
   "id": "315c139b",
   "metadata": {},
   "outputs": [],
   "source": [
    "df.to_csv('season_2021_w57.csv', index=False)"
   ]
  },
  {
   "cell_type": "markdown",
   "id": "405eb643",
   "metadata": {},
   "source": [
    "---\n",
    "---\n",
    "## 2021 wk 8-11"
   ]
  },
  {
   "cell_type": "code",
   "execution_count": 17,
   "id": "44e8ee6c",
   "metadata": {},
   "outputs": [
    {
     "data": {
      "text/plain": [
       "['8', '9', '10', '11']"
      ]
     },
     "execution_count": 17,
     "metadata": {},
     "output_type": "execute_result"
    }
   ],
   "source": [
    "wk = [str(i) for i in range(8,12)]\n",
    "wk"
   ]
  },
  {
   "cell_type": "code",
   "execution_count": null,
   "id": "f86e8e56",
   "metadata": {},
   "outputs": [],
   "source": [
    "weeks = [str(i) for i in range(8,12)]\n",
    "df = ar.create_wx_df_mult('2021',weeks,s=180)"
   ]
  }
 ],
 "metadata": {
  "kernelspec": {
   "display_name": "Python 3 (ipykernel)",
   "language": "python",
   "name": "python3"
  },
  "language_info": {
   "codemirror_mode": {
    "name": "ipython",
    "version": 3
   },
   "file_extension": ".py",
   "mimetype": "text/x-python",
   "name": "python",
   "nbconvert_exporter": "python",
   "pygments_lexer": "ipython3",
   "version": "3.9.13"
  }
 },
 "nbformat": 4,
 "nbformat_minor": 5
}
