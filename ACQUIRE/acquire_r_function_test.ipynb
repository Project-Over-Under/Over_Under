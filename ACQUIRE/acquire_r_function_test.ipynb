{
 "cells": [
  {
   "cell_type": "code",
   "execution_count": 1,
   "id": "d5cf767d",
   "metadata": {},
   "outputs": [],
   "source": [
    "from bs4 import BeautifulSoup\n",
    "import requests\n",
    "import os\n",
    "import pandas as pd\n",
    "import re\n",
    "from time import sleep\n",
    "import acquire_r as ar"
   ]
  },
  {
   "cell_type": "code",
   "execution_count": 6,
   "id": "9f0e0eeb",
   "metadata": {},
   "outputs": [],
   "source": [
    "url = 'https://www.pro-football-reference.com/years/2022/week_3.htm'\n",
    "response = requests.get(url)"
   ]
  },
  {
   "cell_type": "code",
   "execution_count": 7,
   "id": "37f0ccae",
   "metadata": {
    "scrolled": true
   },
   "outputs": [
    {
     "data": {
      "text/plain": [
       "<Response [200]>"
      ]
     },
     "execution_count": 7,
     "metadata": {},
     "output_type": "execute_result"
    }
   ],
   "source": [
    "response"
   ]
  },
  {
   "cell_type": "markdown",
   "id": "b9304b89",
   "metadata": {},
   "source": [
    "# Testing each piece..."
   ]
  },
  {
   "cell_type": "code",
   "execution_count": null,
   "id": "00a5c5ca",
   "metadata": {},
   "outputs": [],
   "source": [
    "games = ar.get_games(y='2022',w='5')"
   ]
  },
  {
   "cell_type": "code",
   "execution_count": null,
   "id": "2e353926",
   "metadata": {},
   "outputs": [],
   "source": [
    "games"
   ]
  },
  {
   "cell_type": "code",
   "execution_count": null,
   "id": "e89a1ab4",
   "metadata": {},
   "outputs": [],
   "source": [
    "homes = ar.get_homes(games)"
   ]
  },
  {
   "cell_type": "code",
   "execution_count": null,
   "id": "3aad0ee5",
   "metadata": {},
   "outputs": [],
   "source": [
    "homes"
   ]
  },
  {
   "cell_type": "code",
   "execution_count": null,
   "id": "cdcf3218",
   "metadata": {},
   "outputs": [],
   "source": [
    "home_teams = ar.get_home_teams(games)"
   ]
  },
  {
   "cell_type": "code",
   "execution_count": null,
   "id": "0ad68b42",
   "metadata": {},
   "outputs": [],
   "source": [
    "home_teams"
   ]
  },
  {
   "cell_type": "code",
   "execution_count": null,
   "id": "3ddb911a",
   "metadata": {},
   "outputs": [],
   "source": [
    "seasons = ar.get_seasons(games)"
   ]
  },
  {
   "cell_type": "code",
   "execution_count": null,
   "id": "0438c694",
   "metadata": {},
   "outputs": [],
   "source": [
    "seasons"
   ]
  },
  {
   "cell_type": "code",
   "execution_count": null,
   "id": "72f7adde",
   "metadata": {},
   "outputs": [],
   "source": [
    "weeks = ar.get_weeks(games,w=4)"
   ]
  },
  {
   "cell_type": "code",
   "execution_count": null,
   "id": "0a284c67",
   "metadata": {},
   "outputs": [],
   "source": [
    "weeks"
   ]
  },
  {
   "cell_type": "code",
   "execution_count": null,
   "id": "bf1be794",
   "metadata": {},
   "outputs": [],
   "source": [
    "temps = ar.get_temps(games)"
   ]
  },
  {
   "cell_type": "code",
   "execution_count": null,
   "id": "5c0269e3",
   "metadata": {},
   "outputs": [],
   "source": [
    "temps"
   ]
  },
  {
   "cell_type": "code",
   "execution_count": null,
   "id": "28cffd6f",
   "metadata": {},
   "outputs": [],
   "source": [
    "winds = ar.get_winds(games)"
   ]
  },
  {
   "cell_type": "code",
   "execution_count": null,
   "id": "d7de6d03",
   "metadata": {},
   "outputs": [],
   "source": [
    "winds"
   ]
  },
  {
   "cell_type": "code",
   "execution_count": null,
   "id": "a84a595e",
   "metadata": {},
   "outputs": [],
   "source": [
    "hums = ar.get_hums(games)"
   ]
  },
  {
   "cell_type": "code",
   "execution_count": null,
   "id": "7f6c7700",
   "metadata": {},
   "outputs": [],
   "source": [
    "hums"
   ]
  },
  {
   "cell_type": "markdown",
   "id": "c25c362d",
   "metadata": {},
   "source": [
    "# Testing the combination to create a 1 week df..."
   ]
  },
  {
   "cell_type": "code",
   "execution_count": null,
   "id": "f0b1789f",
   "metadata": {},
   "outputs": [],
   "source": [
    "df = ar.create_wx_df(y='2022',w='4',s=120)"
   ]
  },
  {
   "cell_type": "code",
   "execution_count": null,
   "id": "b132cf7b",
   "metadata": {},
   "outputs": [],
   "source": [
    "df"
   ]
  },
  {
   "cell_type": "markdown",
   "id": "803d97b3",
   "metadata": {},
   "source": [
    "## Write to .csv"
   ]
  },
  {
   "cell_type": "code",
   "execution_count": null,
   "id": "aee8c1f3",
   "metadata": {},
   "outputs": [],
   "source": [
    "df.to_csv('season_2022_w4.csv', index=False)"
   ]
  },
  {
   "cell_type": "markdown",
   "id": "0f39dfa4",
   "metadata": {},
   "source": [
    "# Testing again with new Home_team"
   ]
  },
  {
   "cell_type": "markdown",
   "id": "9b034a48",
   "metadata": {},
   "source": [
    "---\n",
    "---\n",
    "## 2022 wk 5"
   ]
  },
  {
   "cell_type": "code",
   "execution_count": 8,
   "id": "44ed2404",
   "metadata": {},
   "outputs": [],
   "source": [
    "df = ar.create_wx_df(y='2022',w='5',s=150)"
   ]
  },
  {
   "cell_type": "code",
   "execution_count": 9,
   "id": "b09e7006",
   "metadata": {},
   "outputs": [
    {
     "data": {
      "text/html": [
       "<div>\n",
       "<style scoped>\n",
       "    .dataframe tbody tr th:only-of-type {\n",
       "        vertical-align: middle;\n",
       "    }\n",
       "\n",
       "    .dataframe tbody tr th {\n",
       "        vertical-align: top;\n",
       "    }\n",
       "\n",
       "    .dataframe thead th {\n",
       "        text-align: right;\n",
       "    }\n",
       "</style>\n",
       "<table border=\"1\" class=\"dataframe\">\n",
       "  <thead>\n",
       "    <tr style=\"text-align: right;\">\n",
       "      <th></th>\n",
       "      <th>schedule_season</th>\n",
       "      <th>schedule_week</th>\n",
       "      <th>team_home</th>\n",
       "      <th>weather_temperature</th>\n",
       "      <th>weather_wind_mph</th>\n",
       "      <th>weather_humidity</th>\n",
       "    </tr>\n",
       "  </thead>\n",
       "  <tbody>\n",
       "    <tr>\n",
       "      <th>0</th>\n",
       "      <td>2022</td>\n",
       "      <td>4</td>\n",
       "      <td>Denver Broncos</td>\n",
       "      <td>69</td>\n",
       "      <td>6</td>\n",
       "      <td>24</td>\n",
       "    </tr>\n",
       "    <tr>\n",
       "      <th>1</th>\n",
       "      <td>2022</td>\n",
       "      <td>4</td>\n",
       "      <td>Green Bay Packers</td>\n",
       "      <td>64</td>\n",
       "      <td>10</td>\n",
       "      <td>48</td>\n",
       "    </tr>\n",
       "    <tr>\n",
       "      <th>2</th>\n",
       "      <td>2022</td>\n",
       "      <td>4</td>\n",
       "      <td>Buffalo Bills</td>\n",
       "      <td>55</td>\n",
       "      <td>16</td>\n",
       "      <td>62</td>\n",
       "    </tr>\n",
       "    <tr>\n",
       "      <th>3</th>\n",
       "      <td>2022</td>\n",
       "      <td>4</td>\n",
       "      <td>Cleveland Browns</td>\n",
       "      <td>59</td>\n",
       "      <td>15</td>\n",
       "      <td>44</td>\n",
       "    </tr>\n",
       "    <tr>\n",
       "      <th>4</th>\n",
       "      <td>2022</td>\n",
       "      <td>4</td>\n",
       "      <td>Jacksonville Jaguars</td>\n",
       "      <td>80</td>\n",
       "      <td>8</td>\n",
       "      <td>69</td>\n",
       "    </tr>\n",
       "    <tr>\n",
       "      <th>5</th>\n",
       "      <td>2022</td>\n",
       "      <td>4</td>\n",
       "      <td>Minnesota Vikings</td>\n",
       "      <td>20</td>\n",
       "      <td>66</td>\n",
       "      <td>22</td>\n",
       "    </tr>\n",
       "    <tr>\n",
       "      <th>6</th>\n",
       "      <td>2022</td>\n",
       "      <td>4</td>\n",
       "      <td>New Orleans Saints</td>\n",
       "      <td>20</td>\n",
       "      <td>70</td>\n",
       "      <td>22</td>\n",
       "    </tr>\n",
       "    <tr>\n",
       "      <th>7</th>\n",
       "      <td>2022</td>\n",
       "      <td>4</td>\n",
       "      <td>New England Patriots</td>\n",
       "      <td>58</td>\n",
       "      <td>12</td>\n",
       "      <td>44</td>\n",
       "    </tr>\n",
       "    <tr>\n",
       "      <th>8</th>\n",
       "      <td>2022</td>\n",
       "      <td>4</td>\n",
       "      <td>New York Jets</td>\n",
       "      <td>63</td>\n",
       "      <td>12</td>\n",
       "      <td>37</td>\n",
       "    </tr>\n",
       "    <tr>\n",
       "      <th>9</th>\n",
       "      <td>2022</td>\n",
       "      <td>4</td>\n",
       "      <td>Tampa Bay Buccaneers</td>\n",
       "      <td>83</td>\n",
       "      <td>8</td>\n",
       "      <td>57</td>\n",
       "    </tr>\n",
       "    <tr>\n",
       "      <th>10</th>\n",
       "      <td>2022</td>\n",
       "      <td>4</td>\n",
       "      <td>Washington Commanders</td>\n",
       "      <td>61</td>\n",
       "      <td>9</td>\n",
       "      <td>36</td>\n",
       "    </tr>\n",
       "    <tr>\n",
       "      <th>11</th>\n",
       "      <td>2022</td>\n",
       "      <td>4</td>\n",
       "      <td>Carolina Panthers</td>\n",
       "      <td>68</td>\n",
       "      <td>3</td>\n",
       "      <td>53</td>\n",
       "    </tr>\n",
       "    <tr>\n",
       "      <th>12</th>\n",
       "      <td>2022</td>\n",
       "      <td>4</td>\n",
       "      <td>Arizona Cardinals</td>\n",
       "      <td>20</td>\n",
       "      <td>63</td>\n",
       "      <td>22</td>\n",
       "    </tr>\n",
       "    <tr>\n",
       "      <th>13</th>\n",
       "      <td>2022</td>\n",
       "      <td>4</td>\n",
       "      <td>Los Angeles Rams</td>\n",
       "      <td>20</td>\n",
       "      <td>74</td>\n",
       "      <td>22</td>\n",
       "    </tr>\n",
       "    <tr>\n",
       "      <th>14</th>\n",
       "      <td>2022</td>\n",
       "      <td>4</td>\n",
       "      <td>Baltimore Ravens</td>\n",
       "      <td>60</td>\n",
       "      <td>3</td>\n",
       "      <td>42</td>\n",
       "    </tr>\n",
       "    <tr>\n",
       "      <th>15</th>\n",
       "      <td>2022</td>\n",
       "      <td>4</td>\n",
       "      <td>Kansas City Chiefs</td>\n",
       "      <td>77</td>\n",
       "      <td>5</td>\n",
       "      <td>37</td>\n",
       "    </tr>\n",
       "  </tbody>\n",
       "</table>\n",
       "</div>"
      ],
      "text/plain": [
       "    schedule_season  schedule_week              team_home weather_temperature  \\\n",
       "0              2022              4         Denver Broncos                  69   \n",
       "1              2022              4      Green Bay Packers                  64   \n",
       "2              2022              4          Buffalo Bills                  55   \n",
       "3              2022              4       Cleveland Browns                  59   \n",
       "4              2022              4   Jacksonville Jaguars                  80   \n",
       "5              2022              4      Minnesota Vikings                  20   \n",
       "6              2022              4     New Orleans Saints                  20   \n",
       "7              2022              4   New England Patriots                  58   \n",
       "8              2022              4          New York Jets                  63   \n",
       "9              2022              4   Tampa Bay Buccaneers                  83   \n",
       "10             2022              4  Washington Commanders                  61   \n",
       "11             2022              4      Carolina Panthers                  68   \n",
       "12             2022              4      Arizona Cardinals                  20   \n",
       "13             2022              4       Los Angeles Rams                  20   \n",
       "14             2022              4       Baltimore Ravens                  60   \n",
       "15             2022              4     Kansas City Chiefs                  77   \n",
       "\n",
       "   weather_wind_mph weather_humidity  \n",
       "0                 6               24  \n",
       "1                10               48  \n",
       "2                16               62  \n",
       "3                15               44  \n",
       "4                 8               69  \n",
       "5                66               22  \n",
       "6                70               22  \n",
       "7                12               44  \n",
       "8                12               37  \n",
       "9                 8               57  \n",
       "10                9               36  \n",
       "11                3               53  \n",
       "12               63               22  \n",
       "13               74               22  \n",
       "14                3               42  \n",
       "15                5               37  "
      ]
     },
     "execution_count": 9,
     "metadata": {},
     "output_type": "execute_result"
    }
   ],
   "source": [
    "df"
   ]
  },
  {
   "cell_type": "markdown",
   "id": "f802d066",
   "metadata": {},
   "source": [
    "## Write to .csv"
   ]
  },
  {
   "cell_type": "code",
   "execution_count": 10,
   "id": "80bc8d63",
   "metadata": {},
   "outputs": [],
   "source": [
    "df.to_csv('season_2022_w5.csv', index=False)"
   ]
  }
 ],
 "metadata": {
  "kernelspec": {
   "display_name": "Python 3 (ipykernel)",
   "language": "python",
   "name": "python3"
  },
  "language_info": {
   "codemirror_mode": {
    "name": "ipython",
    "version": 3
   },
   "file_extension": ".py",
   "mimetype": "text/x-python",
   "name": "python",
   "nbconvert_exporter": "python",
   "pygments_lexer": "ipython3",
   "version": "3.9.13"
  }
 },
 "nbformat": 4,
 "nbformat_minor": 5
}
