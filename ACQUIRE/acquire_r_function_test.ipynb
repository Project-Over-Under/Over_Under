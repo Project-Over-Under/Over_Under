{
 "cells": [
  {
   "cell_type": "code",
   "execution_count": 1,
   "id": "df1b1143",
   "metadata": {},
   "outputs": [],
   "source": [
    "from bs4 import BeautifulSoup\n",
    "import requests\n",
    "import os\n",
    "import pandas as pd\n",
    "import re\n",
    "from time import sleep\n",
    "import acquire_r as ar\n",
    "import random"
   ]
  },
  {
   "cell_type": "code",
   "execution_count": 2,
   "id": "5879cdf2",
   "metadata": {},
   "outputs": [],
   "source": [
    "url = 'https://www.pro-football-reference.com/years/2022/week_3.htm'\n",
    "response = requests.get(url)"
   ]
  },
  {
   "cell_type": "code",
   "execution_count": 3,
   "id": "dfd8f386",
   "metadata": {
    "scrolled": true
   },
   "outputs": [
    {
     "data": {
      "text/plain": [
       "<Response [200]>"
      ]
     },
     "execution_count": 3,
     "metadata": {},
     "output_type": "execute_result"
    }
   ],
   "source": [
    "response"
   ]
  },
  {
   "cell_type": "markdown",
   "id": "53f9242d",
   "metadata": {},
   "source": [
    "# Testing each piece..."
   ]
  },
  {
   "cell_type": "code",
   "execution_count": 4,
   "id": "4ea9b8eb",
   "metadata": {},
   "outputs": [],
   "source": [
    "games = ar.get_games(y='2020',w='10')"
   ]
  },
  {
   "cell_type": "code",
   "execution_count": 5,
   "id": "a7e1260a",
   "metadata": {},
   "outputs": [
    {
     "data": {
      "text/plain": [
       "['/boxscores/202011120oti.htm',\n",
       " '/boxscores/202011150car.htm',\n",
       " '/boxscores/202011150cle.htm',\n",
       " '/boxscores/202011150det.htm',\n",
       " '/boxscores/202011150gnb.htm',\n",
       " '/boxscores/202011150nyg.htm',\n",
       " '/boxscores/202011150crd.htm',\n",
       " '/boxscores/202011150mia.htm',\n",
       " '/boxscores/202011150rai.htm',\n",
       " '/boxscores/202011150nor.htm',\n",
       " '/boxscores/202011150pit.htm',\n",
       " '/boxscores/202011150ram.htm',\n",
       " '/boxscores/202011150nwe.htm',\n",
       " '/boxscores/202011160chi.htm']"
      ]
     },
     "execution_count": 5,
     "metadata": {},
     "output_type": "execute_result"
    }
   ],
   "source": [
    "games"
   ]
  },
  {
   "cell_type": "code",
   "execution_count": null,
   "id": "94927086",
   "metadata": {},
   "outputs": [],
   "source": [
    "homes = ar.get_homes(games)"
   ]
  },
  {
   "cell_type": "code",
   "execution_count": null,
   "id": "d7ddfe0c",
   "metadata": {},
   "outputs": [],
   "source": [
    "homes"
   ]
  },
  {
   "cell_type": "code",
   "execution_count": null,
   "id": "71d2f5f0",
   "metadata": {},
   "outputs": [],
   "source": [
    "home_teams = ar.get_home_teams(games)"
   ]
  },
  {
   "cell_type": "code",
   "execution_count": null,
   "id": "d9ca8f3e",
   "metadata": {},
   "outputs": [],
   "source": [
    "home_teams"
   ]
  },
  {
   "cell_type": "code",
   "execution_count": null,
   "id": "eeb58b1d",
   "metadata": {},
   "outputs": [],
   "source": [
    "seasons = ar.get_seasons(games)"
   ]
  },
  {
   "cell_type": "code",
   "execution_count": null,
   "id": "9314b6b5",
   "metadata": {},
   "outputs": [],
   "source": [
    "seasons"
   ]
  },
  {
   "cell_type": "code",
   "execution_count": null,
   "id": "287b808e",
   "metadata": {},
   "outputs": [],
   "source": [
    "weeks = ar.get_weeks(games,w=4)"
   ]
  },
  {
   "cell_type": "code",
   "execution_count": null,
   "id": "9e85f4e8",
   "metadata": {},
   "outputs": [],
   "source": [
    "weeks"
   ]
  },
  {
   "cell_type": "code",
   "execution_count": null,
   "id": "370f2d97",
   "metadata": {},
   "outputs": [],
   "source": [
    "temps = ar.get_temps(games)"
   ]
  },
  {
   "cell_type": "code",
   "execution_count": null,
   "id": "a7eb242c",
   "metadata": {},
   "outputs": [],
   "source": [
    "temps"
   ]
  },
  {
   "cell_type": "code",
   "execution_count": null,
   "id": "78afe962",
   "metadata": {},
   "outputs": [],
   "source": [
    "winds = ar.get_winds(games)"
   ]
  },
  {
   "cell_type": "code",
   "execution_count": null,
   "id": "86537bc9",
   "metadata": {},
   "outputs": [],
   "source": [
    "winds"
   ]
  },
  {
   "cell_type": "code",
   "execution_count": null,
   "id": "4db66099",
   "metadata": {},
   "outputs": [],
   "source": [
    "hums = ar.get_hums(games)"
   ]
  },
  {
   "cell_type": "code",
   "execution_count": null,
   "id": "c06dde6f",
   "metadata": {},
   "outputs": [],
   "source": [
    "hums"
   ]
  },
  {
   "cell_type": "markdown",
   "id": "0c6a5fcb",
   "metadata": {},
   "source": [
    "# Testing the combination to create a 1 week df..."
   ]
  },
  {
   "cell_type": "code",
   "execution_count": null,
   "id": "f061d44f",
   "metadata": {},
   "outputs": [],
   "source": [
    "df = ar.create_wx_df(y='2022',w='4',s=120)"
   ]
  },
  {
   "cell_type": "code",
   "execution_count": null,
   "id": "9a8d338d",
   "metadata": {},
   "outputs": [],
   "source": [
    "df"
   ]
  },
  {
   "cell_type": "markdown",
   "id": "43a9e035",
   "metadata": {},
   "source": [
    "## Write to .csv"
   ]
  },
  {
   "cell_type": "code",
   "execution_count": null,
   "id": "c6c3c2b1",
   "metadata": {},
   "outputs": [],
   "source": [
    "df.to_csv('season_2022_w4.csv', index=False)"
   ]
  },
  {
   "cell_type": "markdown",
   "id": "62672faf",
   "metadata": {},
   "source": [
    "# Testing again with new Home_team"
   ]
  },
  {
   "cell_type": "markdown",
   "id": "4a38cf8d",
   "metadata": {},
   "source": [
    "---\n",
    "---\n",
    "## 2022 wk 5"
   ]
  },
  {
   "cell_type": "code",
   "execution_count": null,
   "id": "ed37dcad",
   "metadata": {},
   "outputs": [],
   "source": [
    "df = ar.create_wx_df(y='2022',w='5',s=150)"
   ]
  },
  {
   "cell_type": "code",
   "execution_count": null,
   "id": "0a2f40d7",
   "metadata": {},
   "outputs": [],
   "source": [
    "df"
   ]
  },
  {
   "cell_type": "markdown",
   "id": "7f0515ae",
   "metadata": {},
   "source": [
    "## Write to .csv"
   ]
  },
  {
   "cell_type": "code",
   "execution_count": null,
   "id": "deeb8756",
   "metadata": {},
   "outputs": [],
   "source": [
    "df.to_csv('season_2022_w5.csv', index=False)"
   ]
  },
  {
   "cell_type": "markdown",
   "id": "9392203f",
   "metadata": {},
   "source": [
    "# Testing again with 2 weeks in a single df"
   ]
  },
  {
   "cell_type": "markdown",
   "id": "3f9f5297",
   "metadata": {},
   "source": [
    "---\n",
    "---\n",
    "## 2022 wk 6/7"
   ]
  },
  {
   "cell_type": "code",
   "execution_count": null,
   "id": "4506f101",
   "metadata": {},
   "outputs": [],
   "source": [
    "weeks = ['6','7']\n",
    "df = ar.create_wx_df_mult('2022',weeks,s=90)"
   ]
  },
  {
   "cell_type": "code",
   "execution_count": null,
   "id": "81af5881",
   "metadata": {},
   "outputs": [],
   "source": [
    "df"
   ]
  },
  {
   "cell_type": "markdown",
   "id": "0760f5fa",
   "metadata": {},
   "source": [
    "## Write to .csv"
   ]
  },
  {
   "cell_type": "code",
   "execution_count": null,
   "id": "eef36b5b",
   "metadata": {},
   "outputs": [],
   "source": [
    "df.to_csv('season_2022_w67.csv', index=False)"
   ]
  },
  {
   "cell_type": "markdown",
   "id": "12667688",
   "metadata": {},
   "source": [
    "# Testing again with 3 weeks in a single df"
   ]
  },
  {
   "cell_type": "markdown",
   "id": "79f08e0e",
   "metadata": {},
   "source": [
    "---\n",
    "---\n",
    "## 2022 wk 8-10"
   ]
  },
  {
   "cell_type": "code",
   "execution_count": null,
   "id": "d79e00fa",
   "metadata": {},
   "outputs": [],
   "source": [
    "wk = [str(i) for i in range(8,11)]\n",
    "wk"
   ]
  },
  {
   "cell_type": "code",
   "execution_count": null,
   "id": "11f9c5e1",
   "metadata": {},
   "outputs": [],
   "source": [
    "weeks = [str(i) for i in range(8,11)]\n",
    "df = ar.create_wx_df_mult('2022',weeks,s=180)"
   ]
  },
  {
   "cell_type": "code",
   "execution_count": null,
   "id": "ed700aca",
   "metadata": {},
   "outputs": [],
   "source": [
    "df"
   ]
  },
  {
   "cell_type": "markdown",
   "id": "6102b13d",
   "metadata": {},
   "source": [
    "## Write to .csv"
   ]
  },
  {
   "cell_type": "code",
   "execution_count": null,
   "id": "9081bc74",
   "metadata": {},
   "outputs": [],
   "source": [
    "df.to_csv('season_2022_w810.csv', index=False)"
   ]
  },
  {
   "cell_type": "markdown",
   "id": "050fa067",
   "metadata": {},
   "source": [
    "# Testing again with 4 weeks in a single df"
   ]
  },
  {
   "cell_type": "markdown",
   "id": "21947a39",
   "metadata": {},
   "source": [
    "---\n",
    "---\n",
    "## 2022 wk 11"
   ]
  },
  {
   "cell_type": "code",
   "execution_count": null,
   "id": "9a1f56a8",
   "metadata": {},
   "outputs": [],
   "source": [
    "wk = [str(i) for i in range(11,12)]\n",
    "wk"
   ]
  },
  {
   "cell_type": "code",
   "execution_count": null,
   "id": "19cb1dcd",
   "metadata": {},
   "outputs": [],
   "source": [
    "weeks = [str(i) for i in range(11,12)]\n",
    "df = ar.create_wx_df_mult('2022',weeks,s=200)"
   ]
  },
  {
   "cell_type": "code",
   "execution_count": null,
   "id": "13a80330",
   "metadata": {},
   "outputs": [],
   "source": [
    "df"
   ]
  },
  {
   "cell_type": "markdown",
   "id": "a03018d9",
   "metadata": {},
   "source": [
    "## Write to .csv"
   ]
  },
  {
   "cell_type": "code",
   "execution_count": null,
   "id": "8ab0648a",
   "metadata": {},
   "outputs": [],
   "source": [
    "df.to_csv('season_2022_w11.csv', index=False)"
   ]
  },
  {
   "cell_type": "markdown",
   "id": "9b75d594",
   "metadata": {},
   "source": [
    "---\n",
    "---\n",
    "## 2022 wk 12"
   ]
  },
  {
   "cell_type": "code",
   "execution_count": null,
   "id": "cc7e861e",
   "metadata": {},
   "outputs": [],
   "source": [
    "wk = [str(i) for i in range(12,13)]\n",
    "wk"
   ]
  },
  {
   "cell_type": "code",
   "execution_count": null,
   "id": "b6435b01",
   "metadata": {},
   "outputs": [],
   "source": [
    "weeks = [str(i) for i in range(12,13)]\n",
    "df = ar.create_wx_df_mult('2022',weeks,s=200)"
   ]
  },
  {
   "cell_type": "code",
   "execution_count": null,
   "id": "171aa29e",
   "metadata": {},
   "outputs": [],
   "source": [
    "df"
   ]
  },
  {
   "cell_type": "markdown",
   "id": "33950882",
   "metadata": {},
   "source": [
    "## Write to .csv"
   ]
  },
  {
   "cell_type": "code",
   "execution_count": null,
   "id": "9552a9c2",
   "metadata": {},
   "outputs": [],
   "source": [
    "df.to_csv('season_2022_w12.csv', index=False)"
   ]
  },
  {
   "cell_type": "markdown",
   "id": "41efbce0",
   "metadata": {},
   "source": [
    "---\n",
    "---\n",
    "## 2022 wk 13-15"
   ]
  },
  {
   "cell_type": "code",
   "execution_count": null,
   "id": "a50e06ca",
   "metadata": {},
   "outputs": [],
   "source": [
    "wk = [str(i) for i in range(13,16)]\n",
    "wk"
   ]
  },
  {
   "cell_type": "code",
   "execution_count": null,
   "id": "09ddae1c",
   "metadata": {},
   "outputs": [],
   "source": [
    "weeks = [str(i) for i in range(13,16)]\n",
    "df = ar.create_wx_df_mult('2022',weeks,s=180)"
   ]
  },
  {
   "cell_type": "code",
   "execution_count": null,
   "id": "d4cdd2a7",
   "metadata": {},
   "outputs": [],
   "source": [
    "df"
   ]
  },
  {
   "cell_type": "markdown",
   "id": "0a5662db",
   "metadata": {},
   "source": [
    "## Write to .csv"
   ]
  },
  {
   "cell_type": "code",
   "execution_count": null,
   "id": "253752b4",
   "metadata": {},
   "outputs": [],
   "source": [
    "df.to_csv('season_2022_w1315.csv', index=False)"
   ]
  },
  {
   "cell_type": "markdown",
   "id": "66c7af1e",
   "metadata": {},
   "source": [
    "---\n",
    "---\n",
    "## 2022 wk 16-17"
   ]
  },
  {
   "cell_type": "code",
   "execution_count": null,
   "id": "2f7f3cd2",
   "metadata": {},
   "outputs": [],
   "source": [
    "wk = [str(i) for i in range(16,18)]\n",
    "wk"
   ]
  },
  {
   "cell_type": "code",
   "execution_count": null,
   "id": "f4bb1f35",
   "metadata": {},
   "outputs": [],
   "source": [
    "weeks = [str(i) for i in range(16,18)]\n",
    "df = ar.create_wx_df_mult('2022',weeks,s=330)"
   ]
  },
  {
   "cell_type": "code",
   "execution_count": null,
   "id": "863c4bbc",
   "metadata": {},
   "outputs": [],
   "source": [
    "df"
   ]
  },
  {
   "cell_type": "markdown",
   "id": "ad765508",
   "metadata": {},
   "source": [
    "## Write to .csv"
   ]
  },
  {
   "cell_type": "code",
   "execution_count": null,
   "id": "69e8714e",
   "metadata": {},
   "outputs": [],
   "source": [
    "df.to_csv('season_2022_w1617.csv', index=False)"
   ]
  },
  {
   "cell_type": "markdown",
   "id": "65d1a330",
   "metadata": {},
   "source": [
    "---\n",
    "---\n",
    "## 2022 wk 18"
   ]
  },
  {
   "cell_type": "code",
   "execution_count": null,
   "id": "9aaaeaf7",
   "metadata": {},
   "outputs": [],
   "source": [
    "wk = [str(i) for i in range(18,19)]\n",
    "wk"
   ]
  },
  {
   "cell_type": "code",
   "execution_count": null,
   "id": "2b70da28",
   "metadata": {},
   "outputs": [],
   "source": [
    "weeks = [str(i) for i in range(18,19)]\n",
    "df = ar.create_wx_df_mult('2022',weeks,s=210)"
   ]
  },
  {
   "cell_type": "code",
   "execution_count": null,
   "id": "a0c5ea1e",
   "metadata": {},
   "outputs": [],
   "source": [
    "df"
   ]
  },
  {
   "cell_type": "markdown",
   "id": "34ca11a6",
   "metadata": {},
   "source": [
    "## Write to .csv"
   ]
  },
  {
   "cell_type": "code",
   "execution_count": null,
   "id": "f7e8241f",
   "metadata": {},
   "outputs": [],
   "source": [
    "df.to_csv('season_2022_w18.csv', index=False)"
   ]
  },
  {
   "cell_type": "markdown",
   "id": "85b9d53e",
   "metadata": {},
   "source": [
    "---\n",
    "---\n",
    "## 2022 wk 19-22 playoffs"
   ]
  },
  {
   "cell_type": "code",
   "execution_count": null,
   "id": "bc506827",
   "metadata": {},
   "outputs": [],
   "source": [
    "wk = [str(i) for i in range(19,23)]\n",
    "wk"
   ]
  },
  {
   "cell_type": "code",
   "execution_count": null,
   "id": "1638d340",
   "metadata": {},
   "outputs": [],
   "source": [
    "weeks = [str(i) for i in range(19,23)]\n",
    "df = ar.create_wx_df_mult('2022',weeks,s=150)"
   ]
  },
  {
   "cell_type": "code",
   "execution_count": null,
   "id": "1a2b185e",
   "metadata": {},
   "outputs": [],
   "source": [
    "games = ar.get_games(y='2022',w='19')"
   ]
  },
  {
   "cell_type": "code",
   "execution_count": null,
   "id": "00b28dd8",
   "metadata": {},
   "outputs": [],
   "source": [
    "games"
   ]
  },
  {
   "cell_type": "code",
   "execution_count": null,
   "id": "e7bfca40",
   "metadata": {},
   "outputs": [],
   "source": [
    "df = ar.create_wx_df_playoffs(y='2022',w='19',s=90)"
   ]
  },
  {
   "cell_type": "code",
   "execution_count": null,
   "id": "572a2a8a",
   "metadata": {},
   "outputs": [],
   "source": [
    "df"
   ]
  },
  {
   "cell_type": "markdown",
   "id": "532be756",
   "metadata": {},
   "source": [
    "---\n",
    "---\n",
    "# 2021 wk 1"
   ]
  },
  {
   "cell_type": "code",
   "execution_count": null,
   "id": "82a6f733",
   "metadata": {},
   "outputs": [],
   "source": [
    "df = ar.create_wx_df(y='2021',w='1',s=100)"
   ]
  },
  {
   "cell_type": "code",
   "execution_count": null,
   "id": "910547f1",
   "metadata": {},
   "outputs": [],
   "source": [
    "df"
   ]
  },
  {
   "cell_type": "markdown",
   "id": "4c4596e9",
   "metadata": {},
   "source": [
    "## Write to .csv"
   ]
  },
  {
   "cell_type": "code",
   "execution_count": null,
   "id": "a59b0d07",
   "metadata": {},
   "outputs": [],
   "source": [
    "df.to_csv('season_2021_w1.csv', index=False)"
   ]
  },
  {
   "cell_type": "code",
   "execution_count": null,
   "id": "3d85a0f6",
   "metadata": {},
   "outputs": [],
   "source": []
  },
  {
   "cell_type": "markdown",
   "id": "38f20a49",
   "metadata": {},
   "source": [
    "---\n",
    "---\n",
    "## 2021 wk 2-4"
   ]
  },
  {
   "cell_type": "code",
   "execution_count": null,
   "id": "be1a30d0",
   "metadata": {},
   "outputs": [],
   "source": [
    "wk = [str(i) for i in range(2,5)]\n",
    "wk"
   ]
  },
  {
   "cell_type": "code",
   "execution_count": null,
   "id": "81ccc44c",
   "metadata": {},
   "outputs": [],
   "source": [
    "weeks = [str(i) for i in range(2,5)]\n",
    "df = ar.create_wx_df_mult('2021',weeks,s=180)"
   ]
  },
  {
   "cell_type": "code",
   "execution_count": null,
   "id": "2b04b1fe",
   "metadata": {
    "scrolled": true
   },
   "outputs": [],
   "source": [
    "df"
   ]
  },
  {
   "cell_type": "markdown",
   "id": "8e7889b9",
   "metadata": {},
   "source": [
    "## Write to .csv"
   ]
  },
  {
   "cell_type": "code",
   "execution_count": null,
   "id": "394da374",
   "metadata": {},
   "outputs": [],
   "source": [
    "df.to_csv('season_2021_w24.csv', index=False)"
   ]
  },
  {
   "cell_type": "markdown",
   "id": "dceb06e9",
   "metadata": {},
   "source": [
    "---\n",
    "---\n",
    "## 2021 wk 5-7"
   ]
  },
  {
   "cell_type": "code",
   "execution_count": null,
   "id": "961b15d4",
   "metadata": {},
   "outputs": [],
   "source": [
    "wk = [str(i) for i in range(5,8)]\n",
    "wk"
   ]
  },
  {
   "cell_type": "code",
   "execution_count": null,
   "id": "563f5140",
   "metadata": {},
   "outputs": [],
   "source": [
    "weeks = [str(i) for i in range(5,8)]\n",
    "df = ar.create_wx_df_mult('2021',weeks,s=180)"
   ]
  },
  {
   "cell_type": "code",
   "execution_count": null,
   "id": "81b9da22",
   "metadata": {},
   "outputs": [],
   "source": [
    "df"
   ]
  },
  {
   "cell_type": "markdown",
   "id": "c38c655a",
   "metadata": {},
   "source": [
    "## Write to .csv"
   ]
  },
  {
   "cell_type": "code",
   "execution_count": null,
   "id": "b245a484",
   "metadata": {},
   "outputs": [],
   "source": [
    "df.to_csv('season_2021_w57.csv', index=False)"
   ]
  },
  {
   "cell_type": "markdown",
   "id": "713f17c7",
   "metadata": {},
   "source": [
    "---\n",
    "---\n",
    "## 2021 wk 8-11"
   ]
  },
  {
   "cell_type": "code",
   "execution_count": null,
   "id": "d0f55195",
   "metadata": {},
   "outputs": [],
   "source": [
    "wk = [str(i) for i in range(8,12)]\n",
    "wk"
   ]
  },
  {
   "cell_type": "code",
   "execution_count": null,
   "id": "d9756a01",
   "metadata": {},
   "outputs": [],
   "source": [
    "weeks = [str(i) for i in range(8,12)]\n",
    "df = ar.create_wx_df_mult('2021',weeks,s=180)"
   ]
  },
  {
   "cell_type": "code",
   "execution_count": null,
   "id": "171623be",
   "metadata": {},
   "outputs": [],
   "source": [
    "df"
   ]
  },
  {
   "cell_type": "markdown",
   "id": "5e636b3f",
   "metadata": {},
   "source": [
    "## Write to .csv"
   ]
  },
  {
   "cell_type": "code",
   "execution_count": null,
   "id": "e913d63c",
   "metadata": {},
   "outputs": [],
   "source": [
    "df.to_csv('season_2021_w811.csv', index=False)"
   ]
  },
  {
   "cell_type": "markdown",
   "id": "dabcc486",
   "metadata": {},
   "source": [
    "---\n",
    "---\n",
    "## 2021 wk 12-14"
   ]
  },
  {
   "cell_type": "code",
   "execution_count": null,
   "id": "ec8e0111",
   "metadata": {},
   "outputs": [],
   "source": [
    "wk = [str(i) for i in range(12,15)]\n",
    "wk"
   ]
  },
  {
   "cell_type": "code",
   "execution_count": null,
   "id": "5a814528",
   "metadata": {},
   "outputs": [],
   "source": [
    "weeks = [str(i) for i in range(12,15)]\n",
    "df = ar.create_wx_df_mult('2021',weeks,s=180)"
   ]
  },
  {
   "cell_type": "code",
   "execution_count": null,
   "id": "110d49b9",
   "metadata": {},
   "outputs": [],
   "source": [
    "df"
   ]
  },
  {
   "cell_type": "markdown",
   "id": "e1c13e10",
   "metadata": {},
   "source": [
    "## Write to .csv"
   ]
  },
  {
   "cell_type": "code",
   "execution_count": null,
   "id": "9262f122",
   "metadata": {},
   "outputs": [],
   "source": [
    "df.to_csv('season_2021_w1214.csv', index=False)"
   ]
  },
  {
   "cell_type": "markdown",
   "id": "64034eb3",
   "metadata": {},
   "source": [
    "---\n",
    "---\n",
    "## 2020 wk 1-4"
   ]
  },
  {
   "cell_type": "code",
   "execution_count": null,
   "id": "8081517e",
   "metadata": {},
   "outputs": [],
   "source": [
    "wk = [str(i) for i in range(1,5)]\n",
    "wk"
   ]
  },
  {
   "cell_type": "code",
   "execution_count": null,
   "id": "f69a7602",
   "metadata": {},
   "outputs": [],
   "source": [
    "weeks = [str(i) for i in range(1,5)]\n",
    "df = ar.create_wx_df_mult('2020',weeks,s=150)"
   ]
  },
  {
   "cell_type": "code",
   "execution_count": null,
   "id": "b36a65ec",
   "metadata": {},
   "outputs": [],
   "source": [
    "df"
   ]
  },
  {
   "cell_type": "markdown",
   "id": "c8a267c5",
   "metadata": {},
   "source": [
    "## Write to .csv"
   ]
  },
  {
   "cell_type": "code",
   "execution_count": null,
   "id": "338098ab",
   "metadata": {},
   "outputs": [],
   "source": [
    "df.to_csv('season_2020_w14.csv', index=False)"
   ]
  },
  {
   "cell_type": "markdown",
   "id": "f5190931",
   "metadata": {},
   "source": [
    "---\n",
    "---\n",
    "# 2020 wk 5"
   ]
  },
  {
   "cell_type": "code",
   "execution_count": null,
   "id": "918a499e",
   "metadata": {},
   "outputs": [],
   "source": [
    "df = ar.create_wx_df(y='2020',w='5',s=100)"
   ]
  },
  {
   "cell_type": "code",
   "execution_count": null,
   "id": "f744ef9b",
   "metadata": {},
   "outputs": [],
   "source": [
    "df"
   ]
  },
  {
   "cell_type": "markdown",
   "id": "cf1e2e9c",
   "metadata": {},
   "source": [
    "## Write to .csv"
   ]
  },
  {
   "cell_type": "code",
   "execution_count": null,
   "id": "2910ba43",
   "metadata": {},
   "outputs": [],
   "source": [
    "df.to_csv('season_2020_w5.csv', index=False)"
   ]
  },
  {
   "cell_type": "markdown",
   "id": "0fcc1f44",
   "metadata": {},
   "source": [
    "---\n",
    "---\n",
    "# 2020 wk 1"
   ]
  },
  {
   "cell_type": "code",
   "execution_count": null,
   "id": "87e1760c",
   "metadata": {},
   "outputs": [],
   "source": [
    "df = ar.create_wx_df(y='2020',w='1',s=100)"
   ]
  },
  {
   "cell_type": "code",
   "execution_count": null,
   "id": "f38b5699",
   "metadata": {},
   "outputs": [],
   "source": [
    "df"
   ]
  },
  {
   "cell_type": "markdown",
   "id": "1b1c28f7",
   "metadata": {},
   "source": [
    "---\n",
    "---\n",
    "## 2020 wk 6-9"
   ]
  },
  {
   "cell_type": "code",
   "execution_count": null,
   "id": "2e361529",
   "metadata": {},
   "outputs": [],
   "source": [
    "wk = [str(i) for i in range(6,10)]\n",
    "wk"
   ]
  },
  {
   "cell_type": "code",
   "execution_count": null,
   "id": "a2bd159c",
   "metadata": {},
   "outputs": [],
   "source": [
    "weeks = [str(i) for i in range(6,10)]\n",
    "df = ar.create_wx_df_mult('2020',weeks,s=140)"
   ]
  },
  {
   "cell_type": "code",
   "execution_count": null,
   "id": "8ec41e52",
   "metadata": {},
   "outputs": [],
   "source": [
    "df"
   ]
  },
  {
   "cell_type": "markdown",
   "id": "966bdc85",
   "metadata": {},
   "source": [
    "## Write to .csv"
   ]
  },
  {
   "cell_type": "code",
   "execution_count": null,
   "id": "d717639c",
   "metadata": {},
   "outputs": [],
   "source": [
    "df.to_csv('season_2020_w69.csv', index=False)"
   ]
  },
  {
   "cell_type": "markdown",
   "id": "f4c066c7",
   "metadata": {},
   "source": [
    "---\n",
    "---\n",
    "## 2020 wk 10-13"
   ]
  },
  {
   "cell_type": "code",
   "execution_count": null,
   "id": "8e0a1965",
   "metadata": {},
   "outputs": [],
   "source": [
    "wk = [str(i) for i in range(10,14)]\n",
    "wk"
   ]
  },
  {
   "cell_type": "code",
   "execution_count": null,
   "id": "bdf07204",
   "metadata": {},
   "outputs": [],
   "source": [
    "weeks = [str(i) for i in range(10,14)]\n",
    "df = ar.create_wx_df_mult('2020',weeks,s=130)"
   ]
  },
  {
   "cell_type": "code",
   "execution_count": null,
   "id": "cb0bdd67",
   "metadata": {},
   "outputs": [],
   "source": [
    "df"
   ]
  },
  {
   "cell_type": "markdown",
   "id": "d23d13df",
   "metadata": {},
   "source": [
    "## Write to .csv"
   ]
  },
  {
   "cell_type": "code",
   "execution_count": null,
   "id": "b533ff7b",
   "metadata": {},
   "outputs": [],
   "source": [
    "df.to_csv('season_2020_w1013.csv', index=False)"
   ]
  },
  {
   "cell_type": "markdown",
   "id": "c44c0b92",
   "metadata": {},
   "source": [
    "---\n",
    "---\n",
    "# 2020 wk 14"
   ]
  },
  {
   "cell_type": "code",
   "execution_count": null,
   "id": "00f7b88f",
   "metadata": {},
   "outputs": [],
   "source": [
    "df = ar.create_wx_df(y='2020',w='14',s=100)"
   ]
  },
  {
   "cell_type": "code",
   "execution_count": null,
   "id": "222e790d",
   "metadata": {},
   "outputs": [],
   "source": [
    "df"
   ]
  },
  {
   "cell_type": "markdown",
   "id": "6cf85c46",
   "metadata": {},
   "source": [
    "## Write to .csv"
   ]
  },
  {
   "cell_type": "code",
   "execution_count": null,
   "id": "f862e3e7",
   "metadata": {},
   "outputs": [],
   "source": [
    "df.to_csv('season_2020_w14.csv', index=False)"
   ]
  },
  {
   "cell_type": "markdown",
   "id": "9e3d47b6",
   "metadata": {},
   "source": [
    "---\n",
    "---\n",
    "# 2020 wk 15"
   ]
  },
  {
   "cell_type": "code",
   "execution_count": null,
   "id": "c42197ba",
   "metadata": {},
   "outputs": [],
   "source": [
    "df = ar.create_wx_df(y='2020',w='15',s=100)"
   ]
  },
  {
   "cell_type": "code",
   "execution_count": null,
   "id": "f590a956",
   "metadata": {},
   "outputs": [],
   "source": [
    "df"
   ]
  },
  {
   "cell_type": "markdown",
   "id": "9d6a6189",
   "metadata": {},
   "source": [
    "## Write to .csv"
   ]
  },
  {
   "cell_type": "code",
   "execution_count": null,
   "id": "c311a0c6",
   "metadata": {},
   "outputs": [],
   "source": [
    "df.to_csv('season_2020_w15.csv', index=False)"
   ]
  },
  {
   "cell_type": "markdown",
   "id": "d372aa6e",
   "metadata": {},
   "source": [
    "---\n",
    "---\n",
    "## 2020 wk 16-17"
   ]
  },
  {
   "cell_type": "code",
   "execution_count": null,
   "id": "09439650",
   "metadata": {},
   "outputs": [],
   "source": [
    "wk = [str(i) for i in range(16,18)]\n",
    "wk"
   ]
  },
  {
   "cell_type": "code",
   "execution_count": null,
   "id": "f551985e",
   "metadata": {},
   "outputs": [],
   "source": [
    "weeks = [str(i) for i in range(16,18)]\n",
    "df = ar.create_wx_df_mult('2020',weeks,s=130)"
   ]
  },
  {
   "cell_type": "code",
   "execution_count": null,
   "id": "932a0308",
   "metadata": {},
   "outputs": [],
   "source": [
    "df"
   ]
  },
  {
   "cell_type": "markdown",
   "id": "2d4d6da9",
   "metadata": {},
   "source": [
    "## Write to .csv"
   ]
  },
  {
   "cell_type": "code",
   "execution_count": null,
   "id": "a6cf7c93",
   "metadata": {},
   "outputs": [],
   "source": [
    "df.to_csv('season_2020_w1617.csv', index=False)"
   ]
  }
 ],
 "metadata": {
  "kernelspec": {
   "display_name": "Python 3 (ipykernel)",
   "language": "python",
   "name": "python3"
  },
  "language_info": {
   "codemirror_mode": {
    "name": "ipython",
    "version": 3
   },
   "file_extension": ".py",
   "mimetype": "text/x-python",
   "name": "python",
   "nbconvert_exporter": "python",
   "pygments_lexer": "ipython3",
   "version": "3.9.13"
  }
 },
 "nbformat": 4,
 "nbformat_minor": 5
}
