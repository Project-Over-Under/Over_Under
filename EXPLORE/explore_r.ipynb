{
 "cells": [
  {
   "cell_type": "code",
   "execution_count": null,
   "id": "32139846",
   "metadata": {},
   "outputs": [],
   "source": [
    "import pandas as pd\n",
    "import numpy as np\n",
    "import os\n",
    "import explore_r as ex\n",
    "import matplotlib.pyplot as plt\n",
    "import seaborn as sns\n",
    "plt.rcParams[\"figure.figsize\"] = (12,4)\n",
    "plt.rcParams[\"font.size\"] = 10\n",
    "from sklearn.model_selection import train_test_split\n",
    "import scipy.stats as stats\n",
    "import re"
   ]
  },
  {
   "cell_type": "markdown",
   "id": "ee9deeba",
   "metadata": {},
   "source": [
    "## READ .csv"
   ]
  },
  {
   "cell_type": "code",
   "execution_count": 2,
   "id": "9b2bd4a4",
   "metadata": {},
   "outputs": [],
   "source": [
    "df = pd.read_csv('prepped_data.csv')"
   ]
  },
  {
   "cell_type": "code",
   "execution_count": 3,
   "id": "93ed0ba9",
   "metadata": {},
   "outputs": [
    {
     "data": {
      "text/html": [
       "<div>\n",
       "<style scoped>\n",
       "    .dataframe tbody tr th:only-of-type {\n",
       "        vertical-align: middle;\n",
       "    }\n",
       "\n",
       "    .dataframe tbody tr th {\n",
       "        vertical-align: top;\n",
       "    }\n",
       "\n",
       "    .dataframe thead th {\n",
       "        text-align: right;\n",
       "    }\n",
       "</style>\n",
       "<table border=\"1\" class=\"dataframe\">\n",
       "  <thead>\n",
       "    <tr style=\"text-align: right;\">\n",
       "      <th></th>\n",
       "      <th>date</th>\n",
       "      <th>day_of_week</th>\n",
       "      <th>start_time</th>\n",
       "      <th>week_num</th>\n",
       "      <th>home_score</th>\n",
       "      <th>home_wins</th>\n",
       "      <th>away_score</th>\n",
       "      <th>away_wins</th>\n",
       "      <th>temp</th>\n",
       "      <th>humidity</th>\n",
       "      <th>...</th>\n",
       "      <th>ou</th>\n",
       "      <th>is_under</th>\n",
       "      <th>is_push</th>\n",
       "      <th>abnormal_start</th>\n",
       "      <th>playoffs</th>\n",
       "      <th>total_scores</th>\n",
       "      <th>is_playoff</th>\n",
       "      <th>playoff_implications</th>\n",
       "      <th>is_turf</th>\n",
       "      <th>is_outdoor</th>\n",
       "    </tr>\n",
       "  </thead>\n",
       "  <tbody>\n",
       "    <tr>\n",
       "      <th>4743</th>\n",
       "      <td>2005-09-18</td>\n",
       "      <td>Sunday</td>\n",
       "      <td>1</td>\n",
       "      <td>2</td>\n",
       "      <td>42</td>\n",
       "      <td>0</td>\n",
       "      <td>3</td>\n",
       "      <td>1</td>\n",
       "      <td>82</td>\n",
       "      <td>49</td>\n",
       "      <td>...</td>\n",
       "      <td>43.0</td>\n",
       "      <td>0</td>\n",
       "      <td>0</td>\n",
       "      <td>0</td>\n",
       "      <td>0</td>\n",
       "      <td>45</td>\n",
       "      <td>0</td>\n",
       "      <td>0</td>\n",
       "      <td>0</td>\n",
       "      <td>1</td>\n",
       "    </tr>\n",
       "    <tr>\n",
       "      <th>2358</th>\n",
       "      <td>2014-09-28</td>\n",
       "      <td>Sunday</td>\n",
       "      <td>4</td>\n",
       "      <td>4</td>\n",
       "      <td>33</td>\n",
       "      <td>2</td>\n",
       "      <td>14</td>\n",
       "      <td>0</td>\n",
       "      <td>73</td>\n",
       "      <td>54</td>\n",
       "      <td>...</td>\n",
       "      <td>45.0</td>\n",
       "      <td>0</td>\n",
       "      <td>0</td>\n",
       "      <td>0</td>\n",
       "      <td>0</td>\n",
       "      <td>47</td>\n",
       "      <td>0</td>\n",
       "      <td>0</td>\n",
       "      <td>0</td>\n",
       "      <td>1</td>\n",
       "    </tr>\n",
       "    <tr>\n",
       "      <th>8361</th>\n",
       "      <td>1990-10-28</td>\n",
       "      <td>Sunday</td>\n",
       "      <td>1</td>\n",
       "      <td>8</td>\n",
       "      <td>10</td>\n",
       "      <td>2</td>\n",
       "      <td>27</td>\n",
       "      <td>2</td>\n",
       "      <td>72</td>\n",
       "      <td>0</td>\n",
       "      <td>...</td>\n",
       "      <td>43.0</td>\n",
       "      <td>1</td>\n",
       "      <td>0</td>\n",
       "      <td>0</td>\n",
       "      <td>0</td>\n",
       "      <td>37</td>\n",
       "      <td>0</td>\n",
       "      <td>0</td>\n",
       "      <td>1</td>\n",
       "      <td>0</td>\n",
       "    </tr>\n",
       "    <tr>\n",
       "      <th>10480</th>\n",
       "      <td>1980-11-02</td>\n",
       "      <td>Sunday</td>\n",
       "      <td>4</td>\n",
       "      <td>9</td>\n",
       "      <td>14</td>\n",
       "      <td>3</td>\n",
       "      <td>39</td>\n",
       "      <td>3</td>\n",
       "      <td>50</td>\n",
       "      <td>45</td>\n",
       "      <td>...</td>\n",
       "      <td>33.0</td>\n",
       "      <td>0</td>\n",
       "      <td>0</td>\n",
       "      <td>0</td>\n",
       "      <td>0</td>\n",
       "      <td>53</td>\n",
       "      <td>0</td>\n",
       "      <td>0</td>\n",
       "      <td>0</td>\n",
       "      <td>1</td>\n",
       "    </tr>\n",
       "    <tr>\n",
       "      <th>8120</th>\n",
       "      <td>1991-10-27</td>\n",
       "      <td>Sunday</td>\n",
       "      <td>4</td>\n",
       "      <td>9</td>\n",
       "      <td>0</td>\n",
       "      <td>4</td>\n",
       "      <td>28</td>\n",
       "      <td>3</td>\n",
       "      <td>65</td>\n",
       "      <td>49</td>\n",
       "      <td>...</td>\n",
       "      <td>34.0</td>\n",
       "      <td>1</td>\n",
       "      <td>0</td>\n",
       "      <td>0</td>\n",
       "      <td>0</td>\n",
       "      <td>28</td>\n",
       "      <td>0</td>\n",
       "      <td>0</td>\n",
       "      <td>0</td>\n",
       "      <td>1</td>\n",
       "    </tr>\n",
       "    <tr>\n",
       "      <th>712</th>\n",
       "      <td>2020-11-01</td>\n",
       "      <td>Sunday</td>\n",
       "      <td>1</td>\n",
       "      <td>8</td>\n",
       "      <td>31</td>\n",
       "      <td>1</td>\n",
       "      <td>20</td>\n",
       "      <td>5</td>\n",
       "      <td>48</td>\n",
       "      <td>52</td>\n",
       "      <td>...</td>\n",
       "      <td>49.5</td>\n",
       "      <td>0</td>\n",
       "      <td>0</td>\n",
       "      <td>0</td>\n",
       "      <td>0</td>\n",
       "      <td>51</td>\n",
       "      <td>0</td>\n",
       "      <td>0</td>\n",
       "      <td>0</td>\n",
       "      <td>1</td>\n",
       "    </tr>\n",
       "    <tr>\n",
       "      <th>7297</th>\n",
       "      <td>1995-09-03</td>\n",
       "      <td>Sunday</td>\n",
       "      <td>1</td>\n",
       "      <td>1</td>\n",
       "      <td>6</td>\n",
       "      <td>0</td>\n",
       "      <td>21</td>\n",
       "      <td>0</td>\n",
       "      <td>74</td>\n",
       "      <td>51</td>\n",
       "      <td>...</td>\n",
       "      <td>39.0</td>\n",
       "      <td>1</td>\n",
       "      <td>0</td>\n",
       "      <td>0</td>\n",
       "      <td>0</td>\n",
       "      <td>27</td>\n",
       "      <td>0</td>\n",
       "      <td>0</td>\n",
       "      <td>1</td>\n",
       "      <td>1</td>\n",
       "    </tr>\n",
       "    <tr>\n",
       "      <th>8071</th>\n",
       "      <td>1991-11-24</td>\n",
       "      <td>Sunday</td>\n",
       "      <td>4</td>\n",
       "      <td>13</td>\n",
       "      <td>24</td>\n",
       "      <td>6</td>\n",
       "      <td>3</td>\n",
       "      <td>3</td>\n",
       "      <td>54</td>\n",
       "      <td>88</td>\n",
       "      <td>...</td>\n",
       "      <td>38.0</td>\n",
       "      <td>1</td>\n",
       "      <td>0</td>\n",
       "      <td>0</td>\n",
       "      <td>0</td>\n",
       "      <td>27</td>\n",
       "      <td>0</td>\n",
       "      <td>1</td>\n",
       "      <td>1</td>\n",
       "      <td>1</td>\n",
       "    </tr>\n",
       "    <tr>\n",
       "      <th>3227</th>\n",
       "      <td>2010-12-27</td>\n",
       "      <td>Monday</td>\n",
       "      <td>8</td>\n",
       "      <td>16</td>\n",
       "      <td>14</td>\n",
       "      <td>12</td>\n",
       "      <td>17</td>\n",
       "      <td>10</td>\n",
       "      <td>72</td>\n",
       "      <td>0</td>\n",
       "      <td>...</td>\n",
       "      <td>49.5</td>\n",
       "      <td>1</td>\n",
       "      <td>0</td>\n",
       "      <td>1</td>\n",
       "      <td>0</td>\n",
       "      <td>31</td>\n",
       "      <td>0</td>\n",
       "      <td>1</td>\n",
       "      <td>1</td>\n",
       "      <td>0</td>\n",
       "    </tr>\n",
       "    <tr>\n",
       "      <th>2116</th>\n",
       "      <td>2015-09-21</td>\n",
       "      <td>Monday</td>\n",
       "      <td>8</td>\n",
       "      <td>2</td>\n",
       "      <td>7</td>\n",
       "      <td>0</td>\n",
       "      <td>20</td>\n",
       "      <td>1</td>\n",
       "      <td>72</td>\n",
       "      <td>0</td>\n",
       "      <td>...</td>\n",
       "      <td>46.5</td>\n",
       "      <td>1</td>\n",
       "      <td>0</td>\n",
       "      <td>1</td>\n",
       "      <td>0</td>\n",
       "      <td>27</td>\n",
       "      <td>0</td>\n",
       "      <td>0</td>\n",
       "      <td>1</td>\n",
       "      <td>0</td>\n",
       "    </tr>\n",
       "    <tr>\n",
       "      <th>2333</th>\n",
       "      <td>2014-10-12</td>\n",
       "      <td>Sunday</td>\n",
       "      <td>4</td>\n",
       "      <td>6</td>\n",
       "      <td>23</td>\n",
       "      <td>3</td>\n",
       "      <td>30</td>\n",
       "      <td>4</td>\n",
       "      <td>60</td>\n",
       "      <td>81</td>\n",
       "      <td>...</td>\n",
       "      <td>47.0</td>\n",
       "      <td>0</td>\n",
       "      <td>0</td>\n",
       "      <td>0</td>\n",
       "      <td>0</td>\n",
       "      <td>53</td>\n",
       "      <td>0</td>\n",
       "      <td>0</td>\n",
       "      <td>1</td>\n",
       "      <td>1</td>\n",
       "    </tr>\n",
       "    <tr>\n",
       "      <th>3147</th>\n",
       "      <td>2011-10-02</td>\n",
       "      <td>Sunday</td>\n",
       "      <td>4</td>\n",
       "      <td>4</td>\n",
       "      <td>27</td>\n",
       "      <td>1</td>\n",
       "      <td>31</td>\n",
       "      <td>2</td>\n",
       "      <td>72</td>\n",
       "      <td>0</td>\n",
       "      <td>...</td>\n",
       "      <td>45.0</td>\n",
       "      <td>0</td>\n",
       "      <td>0</td>\n",
       "      <td>0</td>\n",
       "      <td>0</td>\n",
       "      <td>58</td>\n",
       "      <td>0</td>\n",
       "      <td>0</td>\n",
       "      <td>0</td>\n",
       "      <td>0</td>\n",
       "    </tr>\n",
       "    <tr>\n",
       "      <th>7154</th>\n",
       "      <td>1995-11-19</td>\n",
       "      <td>Sunday</td>\n",
       "      <td>4</td>\n",
       "      <td>12</td>\n",
       "      <td>43</td>\n",
       "      <td>5</td>\n",
       "      <td>24</td>\n",
       "      <td>4</td>\n",
       "      <td>72</td>\n",
       "      <td>0</td>\n",
       "      <td>...</td>\n",
       "      <td>40.5</td>\n",
       "      <td>0</td>\n",
       "      <td>0</td>\n",
       "      <td>0</td>\n",
       "      <td>0</td>\n",
       "      <td>67</td>\n",
       "      <td>0</td>\n",
       "      <td>1</td>\n",
       "      <td>1</td>\n",
       "      <td>0</td>\n",
       "    </tr>\n",
       "    <tr>\n",
       "      <th>3720</th>\n",
       "      <td>2009-09-13</td>\n",
       "      <td>Sunday</td>\n",
       "      <td>4</td>\n",
       "      <td>1</td>\n",
       "      <td>28</td>\n",
       "      <td>0</td>\n",
       "      <td>0</td>\n",
       "      <td>0</td>\n",
       "      <td>73</td>\n",
       "      <td>55</td>\n",
       "      <td>...</td>\n",
       "      <td>41.0</td>\n",
       "      <td>1</td>\n",
       "      <td>0</td>\n",
       "      <td>0</td>\n",
       "      <td>0</td>\n",
       "      <td>28</td>\n",
       "      <td>0</td>\n",
       "      <td>0</td>\n",
       "      <td>1</td>\n",
       "      <td>1</td>\n",
       "    </tr>\n",
       "    <tr>\n",
       "      <th>1689</th>\n",
       "      <td>2016-12-11</td>\n",
       "      <td>Sunday</td>\n",
       "      <td>1</td>\n",
       "      <td>14</td>\n",
       "      <td>26</td>\n",
       "      <td>7</td>\n",
       "      <td>23</td>\n",
       "      <td>5</td>\n",
       "      <td>77</td>\n",
       "      <td>0</td>\n",
       "      <td>...</td>\n",
       "      <td>44.0</td>\n",
       "      <td>0</td>\n",
       "      <td>0</td>\n",
       "      <td>0</td>\n",
       "      <td>0</td>\n",
       "      <td>49</td>\n",
       "      <td>0</td>\n",
       "      <td>1</td>\n",
       "      <td>0</td>\n",
       "      <td>1</td>\n",
       "    </tr>\n",
       "    <tr>\n",
       "      <th>5481</th>\n",
       "      <td>2002-10-13</td>\n",
       "      <td>Sunday</td>\n",
       "      <td>8</td>\n",
       "      <td>6</td>\n",
       "      <td>22</td>\n",
       "      <td>4</td>\n",
       "      <td>24</td>\n",
       "      <td>4</td>\n",
       "      <td>58</td>\n",
       "      <td>31</td>\n",
       "      <td>...</td>\n",
       "      <td>41.0</td>\n",
       "      <td>0</td>\n",
       "      <td>0</td>\n",
       "      <td>1</td>\n",
       "      <td>0</td>\n",
       "      <td>46</td>\n",
       "      <td>0</td>\n",
       "      <td>0</td>\n",
       "      <td>0</td>\n",
       "      <td>1</td>\n",
       "    </tr>\n",
       "    <tr>\n",
       "      <th>1377</th>\n",
       "      <td>2017-12-31</td>\n",
       "      <td>Sunday</td>\n",
       "      <td>4</td>\n",
       "      <td>17</td>\n",
       "      <td>16</td>\n",
       "      <td>6</td>\n",
       "      <td>22</td>\n",
       "      <td>8</td>\n",
       "      <td>71</td>\n",
       "      <td>0</td>\n",
       "      <td>...</td>\n",
       "      <td>41.5</td>\n",
       "      <td>1</td>\n",
       "      <td>0</td>\n",
       "      <td>0</td>\n",
       "      <td>0</td>\n",
       "      <td>38</td>\n",
       "      <td>0</td>\n",
       "      <td>1</td>\n",
       "      <td>0</td>\n",
       "      <td>1</td>\n",
       "    </tr>\n",
       "    <tr>\n",
       "      <th>209</th>\n",
       "      <td>2022-10-09</td>\n",
       "      <td>Sunday</td>\n",
       "      <td>1</td>\n",
       "      <td>5</td>\n",
       "      <td>39</td>\n",
       "      <td>1</td>\n",
       "      <td>32</td>\n",
       "      <td>2</td>\n",
       "      <td>72</td>\n",
       "      <td>0</td>\n",
       "      <td>...</td>\n",
       "      <td>45.0</td>\n",
       "      <td>0</td>\n",
       "      <td>0</td>\n",
       "      <td>0</td>\n",
       "      <td>0</td>\n",
       "      <td>71</td>\n",
       "      <td>0</td>\n",
       "      <td>0</td>\n",
       "      <td>1</td>\n",
       "      <td>0</td>\n",
       "    </tr>\n",
       "    <tr>\n",
       "      <th>7251</th>\n",
       "      <td>1995-09-25</td>\n",
       "      <td>Monday</td>\n",
       "      <td>9</td>\n",
       "      <td>4</td>\n",
       "      <td>27</td>\n",
       "      <td>0</td>\n",
       "      <td>24</td>\n",
       "      <td>3</td>\n",
       "      <td>72</td>\n",
       "      <td>0</td>\n",
       "      <td>...</td>\n",
       "      <td>48.0</td>\n",
       "      <td>0</td>\n",
       "      <td>0</td>\n",
       "      <td>1</td>\n",
       "      <td>0</td>\n",
       "      <td>51</td>\n",
       "      <td>0</td>\n",
       "      <td>0</td>\n",
       "      <td>1</td>\n",
       "      <td>0</td>\n",
       "    </tr>\n",
       "    <tr>\n",
       "      <th>198</th>\n",
       "      <td>2022-10-16</td>\n",
       "      <td>Sunday</td>\n",
       "      <td>4</td>\n",
       "      <td>6</td>\n",
       "      <td>24</td>\n",
       "      <td>2</td>\n",
       "      <td>10</td>\n",
       "      <td>1</td>\n",
       "      <td>72</td>\n",
       "      <td>0</td>\n",
       "      <td>...</td>\n",
       "      <td>41.5</td>\n",
       "      <td>1</td>\n",
       "      <td>0</td>\n",
       "      <td>0</td>\n",
       "      <td>0</td>\n",
       "      <td>34</td>\n",
       "      <td>0</td>\n",
       "      <td>0</td>\n",
       "      <td>1</td>\n",
       "      <td>0</td>\n",
       "    </tr>\n",
       "  </tbody>\n",
       "</table>\n",
       "<p>20 rows × 22 columns</p>\n",
       "</div>"
      ],
      "text/plain": [
       "             date day_of_week  start_time  week_num  home_score  home_wins  \\\n",
       "4743   2005-09-18      Sunday           1         2          42          0   \n",
       "2358   2014-09-28      Sunday           4         4          33          2   \n",
       "8361   1990-10-28      Sunday           1         8          10          2   \n",
       "10480  1980-11-02      Sunday           4         9          14          3   \n",
       "8120   1991-10-27      Sunday           4         9           0          4   \n",
       "712    2020-11-01      Sunday           1         8          31          1   \n",
       "7297   1995-09-03      Sunday           1         1           6          0   \n",
       "8071   1991-11-24      Sunday           4        13          24          6   \n",
       "3227   2010-12-27      Monday           8        16          14         12   \n",
       "2116   2015-09-21      Monday           8         2           7          0   \n",
       "2333   2014-10-12      Sunday           4         6          23          3   \n",
       "3147   2011-10-02      Sunday           4         4          27          1   \n",
       "7154   1995-11-19      Sunday           4        12          43          5   \n",
       "3720   2009-09-13      Sunday           4         1          28          0   \n",
       "1689   2016-12-11      Sunday           1        14          26          7   \n",
       "5481   2002-10-13      Sunday           8         6          22          4   \n",
       "1377   2017-12-31      Sunday           4        17          16          6   \n",
       "209    2022-10-09      Sunday           1         5          39          1   \n",
       "7251   1995-09-25      Monday           9         4          27          0   \n",
       "198    2022-10-16      Sunday           4         6          24          2   \n",
       "\n",
       "       away_score  away_wins  temp  humidity  ...    ou  is_under  is_push  \\\n",
       "4743            3          1    82        49  ...  43.0         0        0   \n",
       "2358           14          0    73        54  ...  45.0         0        0   \n",
       "8361           27          2    72         0  ...  43.0         1        0   \n",
       "10480          39          3    50        45  ...  33.0         0        0   \n",
       "8120           28          3    65        49  ...  34.0         1        0   \n",
       "712            20          5    48        52  ...  49.5         0        0   \n",
       "7297           21          0    74        51  ...  39.0         1        0   \n",
       "8071            3          3    54        88  ...  38.0         1        0   \n",
       "3227           17         10    72         0  ...  49.5         1        0   \n",
       "2116           20          1    72         0  ...  46.5         1        0   \n",
       "2333           30          4    60        81  ...  47.0         0        0   \n",
       "3147           31          2    72         0  ...  45.0         0        0   \n",
       "7154           24          4    72         0  ...  40.5         0        0   \n",
       "3720            0          0    73        55  ...  41.0         1        0   \n",
       "1689           23          5    77         0  ...  44.0         0        0   \n",
       "5481           24          4    58        31  ...  41.0         0        0   \n",
       "1377           22          8    71         0  ...  41.5         1        0   \n",
       "209            32          2    72         0  ...  45.0         0        0   \n",
       "7251           24          3    72         0  ...  48.0         0        0   \n",
       "198            10          1    72         0  ...  41.5         1        0   \n",
       "\n",
       "       abnormal_start  playoffs  total_scores  is_playoff  \\\n",
       "4743                0         0            45           0   \n",
       "2358                0         0            47           0   \n",
       "8361                0         0            37           0   \n",
       "10480               0         0            53           0   \n",
       "8120                0         0            28           0   \n",
       "712                 0         0            51           0   \n",
       "7297                0         0            27           0   \n",
       "8071                0         0            27           0   \n",
       "3227                1         0            31           0   \n",
       "2116                1         0            27           0   \n",
       "2333                0         0            53           0   \n",
       "3147                0         0            58           0   \n",
       "7154                0         0            67           0   \n",
       "3720                0         0            28           0   \n",
       "1689                0         0            49           0   \n",
       "5481                1         0            46           0   \n",
       "1377                0         0            38           0   \n",
       "209                 0         0            71           0   \n",
       "7251                1         0            51           0   \n",
       "198                 0         0            34           0   \n",
       "\n",
       "       playoff_implications  is_turf  is_outdoor  \n",
       "4743                      0        0           1  \n",
       "2358                      0        0           1  \n",
       "8361                      0        1           0  \n",
       "10480                     0        0           1  \n",
       "8120                      0        0           1  \n",
       "712                       0        0           1  \n",
       "7297                      0        1           1  \n",
       "8071                      1        1           1  \n",
       "3227                      1        1           0  \n",
       "2116                      0        1           0  \n",
       "2333                      0        1           1  \n",
       "3147                      0        0           0  \n",
       "7154                      1        1           0  \n",
       "3720                      0        1           1  \n",
       "1689                      1        0           1  \n",
       "5481                      0        0           1  \n",
       "1377                      1        0           1  \n",
       "209                       0        1           0  \n",
       "7251                      0        1           0  \n",
       "198                       0        1           0  \n",
       "\n",
       "[20 rows x 22 columns]"
      ]
     },
     "execution_count": 3,
     "metadata": {},
     "output_type": "execute_result"
    }
   ],
   "source": [
    "df.sample(20)"
   ]
  },
  {
   "cell_type": "markdown",
   "id": "373aba5a",
   "metadata": {},
   "source": [
    "## drop cols"
   ]
  },
  {
   "cell_type": "code",
   "execution_count": 4,
   "id": "36e13fe9",
   "metadata": {},
   "outputs": [],
   "source": [
    "df.drop(columns=['playoffs', 'is_push','day_of_week','start_time'], inplace=True)"
   ]
  },
  {
   "cell_type": "code",
   "execution_count": 5,
   "id": "da1c6b86",
   "metadata": {},
   "outputs": [
    {
     "name": "stdout",
     "output_type": "stream",
     "text": [
      "<class 'pandas.core.frame.DataFrame'>\n",
      "RangeIndex: 10811 entries, 0 to 10810\n",
      "Data columns (total 18 columns):\n",
      " #   Column                Non-Null Count  Dtype  \n",
      "---  ------                --------------  -----  \n",
      " 0   date                  10811 non-null  object \n",
      " 1   week_num              10811 non-null  int64  \n",
      " 2   home_score            10811 non-null  int64  \n",
      " 3   home_wins             10811 non-null  int64  \n",
      " 4   away_score            10811 non-null  int64  \n",
      " 5   away_wins             10811 non-null  int64  \n",
      " 6   temp                  10811 non-null  int64  \n",
      " 7   humidity              10811 non-null  int64  \n",
      " 8   wind                  10811 non-null  int64  \n",
      " 9   spread                10811 non-null  float64\n",
      " 10  ou                    10811 non-null  float64\n",
      " 11  is_under              10811 non-null  int64  \n",
      " 12  abnormal_start        10811 non-null  int64  \n",
      " 13  total_scores          10811 non-null  int64  \n",
      " 14  is_playoff            10811 non-null  int64  \n",
      " 15  playoff_implications  10811 non-null  int64  \n",
      " 16  is_turf               10811 non-null  int64  \n",
      " 17  is_outdoor            10811 non-null  int64  \n",
      "dtypes: float64(2), int64(15), object(1)\n",
      "memory usage: 1.5+ MB\n"
     ]
    }
   ],
   "source": [
    "df.info()"
   ]
  },
  {
   "cell_type": "markdown",
   "id": "5deb9acf",
   "metadata": {},
   "source": [
    "## redefine spread column"
   ]
  },
  {
   "cell_type": "code",
   "execution_count": 6,
   "id": "b7d6ca36",
   "metadata": {},
   "outputs": [],
   "source": [
    "df['spread'] = abs(df['spread'])"
   ]
  },
  {
   "cell_type": "code",
   "execution_count": 7,
   "id": "dbae2a73",
   "metadata": {},
   "outputs": [
    {
     "data": {
      "text/html": [
       "<div>\n",
       "<style scoped>\n",
       "    .dataframe tbody tr th:only-of-type {\n",
       "        vertical-align: middle;\n",
       "    }\n",
       "\n",
       "    .dataframe tbody tr th {\n",
       "        vertical-align: top;\n",
       "    }\n",
       "\n",
       "    .dataframe thead th {\n",
       "        text-align: right;\n",
       "    }\n",
       "</style>\n",
       "<table border=\"1\" class=\"dataframe\">\n",
       "  <thead>\n",
       "    <tr style=\"text-align: right;\">\n",
       "      <th></th>\n",
       "      <th>date</th>\n",
       "      <th>week_num</th>\n",
       "      <th>home_score</th>\n",
       "      <th>home_wins</th>\n",
       "      <th>away_score</th>\n",
       "      <th>away_wins</th>\n",
       "      <th>temp</th>\n",
       "      <th>humidity</th>\n",
       "      <th>wind</th>\n",
       "      <th>spread</th>\n",
       "      <th>ou</th>\n",
       "      <th>is_under</th>\n",
       "      <th>abnormal_start</th>\n",
       "      <th>total_scores</th>\n",
       "      <th>is_playoff</th>\n",
       "      <th>playoff_implications</th>\n",
       "      <th>is_turf</th>\n",
       "      <th>is_outdoor</th>\n",
       "    </tr>\n",
       "  </thead>\n",
       "  <tbody>\n",
       "    <tr>\n",
       "      <th>3198</th>\n",
       "      <td>2011-09-08</td>\n",
       "      <td>1</td>\n",
       "      <td>42</td>\n",
       "      <td>0</td>\n",
       "      <td>34</td>\n",
       "      <td>0</td>\n",
       "      <td>68</td>\n",
       "      <td>67</td>\n",
       "      <td>5</td>\n",
       "      <td>5.0</td>\n",
       "      <td>48.0</td>\n",
       "      <td>0</td>\n",
       "      <td>1</td>\n",
       "      <td>76</td>\n",
       "      <td>0</td>\n",
       "      <td>0</td>\n",
       "      <td>0</td>\n",
       "      <td>1</td>\n",
       "    </tr>\n",
       "    <tr>\n",
       "      <th>8779</th>\n",
       "      <td>1988-11-06</td>\n",
       "      <td>10</td>\n",
       "      <td>29</td>\n",
       "      <td>6</td>\n",
       "      <td>21</td>\n",
       "      <td>2</td>\n",
       "      <td>59</td>\n",
       "      <td>78</td>\n",
       "      <td>18</td>\n",
       "      <td>6.0</td>\n",
       "      <td>37.0</td>\n",
       "      <td>0</td>\n",
       "      <td>0</td>\n",
       "      <td>50</td>\n",
       "      <td>0</td>\n",
       "      <td>1</td>\n",
       "      <td>1</td>\n",
       "      <td>1</td>\n",
       "    </tr>\n",
       "    <tr>\n",
       "      <th>3436</th>\n",
       "      <td>2010-09-19</td>\n",
       "      <td>2</td>\n",
       "      <td>11</td>\n",
       "      <td>1</td>\n",
       "      <td>19</td>\n",
       "      <td>1</td>\n",
       "      <td>87</td>\n",
       "      <td>49</td>\n",
       "      <td>3</td>\n",
       "      <td>6.0</td>\n",
       "      <td>37.0</td>\n",
       "      <td>1</td>\n",
       "      <td>0</td>\n",
       "      <td>30</td>\n",
       "      <td>0</td>\n",
       "      <td>0</td>\n",
       "      <td>0</td>\n",
       "      <td>1</td>\n",
       "    </tr>\n",
       "    <tr>\n",
       "      <th>5082</th>\n",
       "      <td>2003-12-14</td>\n",
       "      <td>15</td>\n",
       "      <td>20</td>\n",
       "      <td>3</td>\n",
       "      <td>12</td>\n",
       "      <td>8</td>\n",
       "      <td>55</td>\n",
       "      <td>57</td>\n",
       "      <td>7</td>\n",
       "      <td>7.0</td>\n",
       "      <td>38.0</td>\n",
       "      <td>1</td>\n",
       "      <td>0</td>\n",
       "      <td>32</td>\n",
       "      <td>0</td>\n",
       "      <td>1</td>\n",
       "      <td>0</td>\n",
       "      <td>1</td>\n",
       "    </tr>\n",
       "    <tr>\n",
       "      <th>8000</th>\n",
       "      <td>1992-01-05</td>\n",
       "      <td>19</td>\n",
       "      <td>38</td>\n",
       "      <td>12</td>\n",
       "      <td>6</td>\n",
       "      <td>12</td>\n",
       "      <td>72</td>\n",
       "      <td>0</td>\n",
       "      <td>0</td>\n",
       "      <td>0.0</td>\n",
       "      <td>43.0</td>\n",
       "      <td>0</td>\n",
       "      <td>0</td>\n",
       "      <td>44</td>\n",
       "      <td>1</td>\n",
       "      <td>1</td>\n",
       "      <td>1</td>\n",
       "      <td>0</td>\n",
       "    </tr>\n",
       "    <tr>\n",
       "      <th>5205</th>\n",
       "      <td>2003-10-12</td>\n",
       "      <td>6</td>\n",
       "      <td>20</td>\n",
       "      <td>5</td>\n",
       "      <td>23</td>\n",
       "      <td>4</td>\n",
       "      <td>72</td>\n",
       "      <td>0</td>\n",
       "      <td>0</td>\n",
       "      <td>4.0</td>\n",
       "      <td>37.5</td>\n",
       "      <td>0</td>\n",
       "      <td>0</td>\n",
       "      <td>43</td>\n",
       "      <td>0</td>\n",
       "      <td>0</td>\n",
       "      <td>1</td>\n",
       "      <td>0</td>\n",
       "    </tr>\n",
       "    <tr>\n",
       "      <th>7387</th>\n",
       "      <td>1994-11-20</td>\n",
       "      <td>12</td>\n",
       "      <td>13</td>\n",
       "      <td>2</td>\n",
       "      <td>17</td>\n",
       "      <td>4</td>\n",
       "      <td>53</td>\n",
       "      <td>47</td>\n",
       "      <td>11</td>\n",
       "      <td>1.0</td>\n",
       "      <td>39.5</td>\n",
       "      <td>1</td>\n",
       "      <td>0</td>\n",
       "      <td>30</td>\n",
       "      <td>0</td>\n",
       "      <td>0</td>\n",
       "      <td>1</td>\n",
       "      <td>1</td>\n",
       "    </tr>\n",
       "    <tr>\n",
       "      <th>3109</th>\n",
       "      <td>2011-10-23</td>\n",
       "      <td>7</td>\n",
       "      <td>27</td>\n",
       "      <td>1</td>\n",
       "      <td>33</td>\n",
       "      <td>6</td>\n",
       "      <td>72</td>\n",
       "      <td>0</td>\n",
       "      <td>0</td>\n",
       "      <td>11.0</td>\n",
       "      <td>47.0</td>\n",
       "      <td>0</td>\n",
       "      <td>0</td>\n",
       "      <td>60</td>\n",
       "      <td>0</td>\n",
       "      <td>0</td>\n",
       "      <td>1</td>\n",
       "      <td>0</td>\n",
       "    </tr>\n",
       "    <tr>\n",
       "      <th>6472</th>\n",
       "      <td>1998-10-25</td>\n",
       "      <td>8</td>\n",
       "      <td>14</td>\n",
       "      <td>0</td>\n",
       "      <td>30</td>\n",
       "      <td>3</td>\n",
       "      <td>55</td>\n",
       "      <td>63</td>\n",
       "      <td>3</td>\n",
       "      <td>1.5</td>\n",
       "      <td>38.0</td>\n",
       "      <td>0</td>\n",
       "      <td>1</td>\n",
       "      <td>44</td>\n",
       "      <td>0</td>\n",
       "      <td>0</td>\n",
       "      <td>0</td>\n",
       "      <td>1</td>\n",
       "    </tr>\n",
       "    <tr>\n",
       "      <th>7894</th>\n",
       "      <td>1992-11-01</td>\n",
       "      <td>9</td>\n",
       "      <td>30</td>\n",
       "      <td>2</td>\n",
       "      <td>10</td>\n",
       "      <td>4</td>\n",
       "      <td>52</td>\n",
       "      <td>85</td>\n",
       "      <td>12</td>\n",
       "      <td>2.0</td>\n",
       "      <td>35.0</td>\n",
       "      <td>0</td>\n",
       "      <td>0</td>\n",
       "      <td>40</td>\n",
       "      <td>0</td>\n",
       "      <td>0</td>\n",
       "      <td>1</td>\n",
       "      <td>1</td>\n",
       "    </tr>\n",
       "  </tbody>\n",
       "</table>\n",
       "</div>"
      ],
      "text/plain": [
       "            date  week_num  home_score  home_wins  away_score  away_wins  \\\n",
       "3198  2011-09-08         1          42          0          34          0   \n",
       "8779  1988-11-06        10          29          6          21          2   \n",
       "3436  2010-09-19         2          11          1          19          1   \n",
       "5082  2003-12-14        15          20          3          12          8   \n",
       "8000  1992-01-05        19          38         12           6         12   \n",
       "5205  2003-10-12         6          20          5          23          4   \n",
       "7387  1994-11-20        12          13          2          17          4   \n",
       "3109  2011-10-23         7          27          1          33          6   \n",
       "6472  1998-10-25         8          14          0          30          3   \n",
       "7894  1992-11-01         9          30          2          10          4   \n",
       "\n",
       "      temp  humidity  wind  spread    ou  is_under  abnormal_start  \\\n",
       "3198    68        67     5     5.0  48.0         0               1   \n",
       "8779    59        78    18     6.0  37.0         0               0   \n",
       "3436    87        49     3     6.0  37.0         1               0   \n",
       "5082    55        57     7     7.0  38.0         1               0   \n",
       "8000    72         0     0     0.0  43.0         0               0   \n",
       "5205    72         0     0     4.0  37.5         0               0   \n",
       "7387    53        47    11     1.0  39.5         1               0   \n",
       "3109    72         0     0    11.0  47.0         0               0   \n",
       "6472    55        63     3     1.5  38.0         0               1   \n",
       "7894    52        85    12     2.0  35.0         0               0   \n",
       "\n",
       "      total_scores  is_playoff  playoff_implications  is_turf  is_outdoor  \n",
       "3198            76           0                     0        0           1  \n",
       "8779            50           0                     1        1           1  \n",
       "3436            30           0                     0        0           1  \n",
       "5082            32           0                     1        0           1  \n",
       "8000            44           1                     1        1           0  \n",
       "5205            43           0                     0        1           0  \n",
       "7387            30           0                     0        1           1  \n",
       "3109            60           0                     0        1           0  \n",
       "6472            44           0                     0        0           1  \n",
       "7894            40           0                     0        1           1  "
      ]
     },
     "execution_count": 7,
     "metadata": {},
     "output_type": "execute_result"
    }
   ],
   "source": [
    "df.sample(10)"
   ]
  },
  {
   "cell_type": "markdown",
   "id": "7fe88856",
   "metadata": {},
   "source": [
    "## UNIVARIATE Analysis"
   ]
  },
  {
   "cell_type": "markdown",
   "id": "9fd6a5d3",
   "metadata": {},
   "source": [
    "## Summary"
   ]
  },
  {
   "cell_type": "code",
   "execution_count": 8,
   "id": "53dbbb75",
   "metadata": {
    "scrolled": false
   },
   "outputs": [
    {
     "name": "stdout",
     "output_type": "stream",
     "text": [
      "SUMMARY REPORT\n",
      "=====================================================\n",
      "\n",
      "\n",
      "Dataframe head: \n",
      "         date  week_num  home_score  home_wins  away_score  away_wins  temp  \\\n",
      "0  2023-02-12        19          35         16          38         16    72   \n",
      "1  2023-01-29        19          31         15           7         15    52   \n",
      "2  2023-01-29        19          23         15          20         14    22   \n",
      "3  2023-01-22        19          10         14          27         13    32   \n",
      "4  2023-01-22        19          19         14          12         13    55   \n",
      "\n",
      "   humidity  wind  spread    ou  is_under  abnormal_start  total_scores  \\\n",
      "0         0     0     1.0  51.0         0               0            73   \n",
      "1        48    14     2.5  45.5         1               0            38   \n",
      "2        55    13     1.5  48.0         1               0            43   \n",
      "3        10     0     5.5  49.0         1               0            37   \n",
      "4        47    19     4.0  47.0         1               0            31   \n",
      "\n",
      "   is_playoff  playoff_implications  is_turf  is_outdoor  \n",
      "0           1                     1        0           0  \n",
      "1           1                     1        0           1  \n",
      "2           1                     1        0           1  \n",
      "3           1                     1        1           1  \n",
      "4           1                     1        0           1  \n",
      "=====================================================\n",
      "\n",
      "\n",
      "Dataframe info: \n",
      "<class 'pandas.core.frame.DataFrame'>\n",
      "RangeIndex: 10811 entries, 0 to 10810\n",
      "Data columns (total 18 columns):\n",
      " #   Column                Non-Null Count  Dtype  \n",
      "---  ------                --------------  -----  \n",
      " 0   date                  10811 non-null  object \n",
      " 1   week_num              10811 non-null  int64  \n",
      " 2   home_score            10811 non-null  int64  \n",
      " 3   home_wins             10811 non-null  int64  \n",
      " 4   away_score            10811 non-null  int64  \n",
      " 5   away_wins             10811 non-null  int64  \n",
      " 6   temp                  10811 non-null  int64  \n",
      " 7   humidity              10811 non-null  int64  \n",
      " 8   wind                  10811 non-null  int64  \n",
      " 9   spread                10811 non-null  float64\n",
      " 10  ou                    10811 non-null  float64\n",
      " 11  is_under              10811 non-null  int64  \n",
      " 12  abnormal_start        10811 non-null  int64  \n",
      " 13  total_scores          10811 non-null  int64  \n",
      " 14  is_playoff            10811 non-null  int64  \n",
      " 15  playoff_implications  10811 non-null  int64  \n",
      " 16  is_turf               10811 non-null  int64  \n",
      " 17  is_outdoor            10811 non-null  int64  \n",
      "dtypes: float64(2), int64(15), object(1)\n",
      "memory usage: 1.5+ MB\n",
      "None\n",
      "=====================================================\n",
      "\n",
      "\n",
      "Dataframe Description: \n",
      "           week_num    home_score     home_wins    away_score     away_wins  \\\n",
      "count  10811.000000  10811.000000  10811.000000  10811.000000  10811.000000   \n",
      "mean       9.488299     22.753122      4.069281     20.139950      4.105263   \n",
      "std        5.247274     10.385484      3.398605     10.105115      3.306515   \n",
      "min        1.000000      0.000000      0.000000      0.000000      0.000000   \n",
      "25%        5.000000     16.000000      1.000000     13.000000      1.000000   \n",
      "50%       10.000000     23.000000      3.000000     20.000000      3.000000   \n",
      "75%       14.000000     30.000000      6.000000     27.000000      6.000000   \n",
      "max       19.000000     62.000000     20.000000     59.000000     20.000000   \n",
      "\n",
      "               temp      humidity          wind        spread            ou  \\\n",
      "count  10811.000000  10811.000000  10811.000000  10811.000000  10811.000000   \n",
      "mean      60.333919     43.407085      6.875312      5.373925     42.261373   \n",
      "std       15.843904     32.885909      6.091257      3.430352      4.789288   \n",
      "min        0.000000      0.000000      0.000000      0.000000     28.000000   \n",
      "25%       50.000000      0.000000      0.000000      3.000000     38.500000   \n",
      "50%       64.000000     53.000000      7.000000      4.500000     42.000000   \n",
      "75%       72.000000     71.000000     11.000000      7.000000     45.000000   \n",
      "max       98.000000     99.000000     70.000000     26.500000     63.500000   \n",
      "\n",
      "           is_under  abnormal_start  total_scores    is_playoff  \\\n",
      "count  10811.000000    10811.000000  10811.000000  10811.000000   \n",
      "mean       0.507354        0.190084     42.893072      0.042642   \n",
      "std        0.499969        0.392386     14.409006      0.202057   \n",
      "min        0.000000        0.000000      3.000000      0.000000   \n",
      "25%        0.000000        0.000000     33.000000      0.000000   \n",
      "50%        1.000000        0.000000     42.000000      0.000000   \n",
      "75%        1.000000        0.000000     52.000000      0.000000   \n",
      "max        1.000000        1.000000    106.000000      1.000000   \n",
      "\n",
      "       playoff_implications       is_turf    is_outdoor  \n",
      "count          10811.000000  10811.000000  10811.000000  \n",
      "mean               0.434280      0.465914      0.761632  \n",
      "std                0.495685      0.498860      0.426105  \n",
      "min                0.000000      0.000000      0.000000  \n",
      "25%                0.000000      0.000000      1.000000  \n",
      "50%                0.000000      0.000000      1.000000  \n",
      "75%                1.000000      1.000000      1.000000  \n",
      "max                1.000000      1.000000      1.000000  \n",
      "=====================================================\n",
      "DataFrame value counts: \n",
      "2005-01-02    16\n",
      "2010-01-03    16\n",
      "2016-01-03    16\n",
      "2014-12-28    16\n",
      "2013-12-29    16\n",
      "              ..\n",
      "2007-09-06     1\n",
      "2007-09-17     1\n",
      "2007-09-24     1\n",
      "2007-10-01     1\n",
      "1979-09-01     1\n",
      "Name: date, Length: 2071, dtype: int64 \n",
      "\n",
      "(0.981, 2.8]    1300\n",
      "(2.8, 4.6]      1177\n",
      "(4.6, 6.4]      1138\n",
      "(6.4, 8.2]      1141\n",
      "(8.2, 10.0]     1160\n",
      "(10.0, 11.8]     625\n",
      "(11.8, 13.6]    1305\n",
      "(13.6, 15.4]    1292\n",
      "(15.4, 17.2]    1167\n",
      "(17.2, 19.0]     506\n",
      "Name: week_num, dtype: int64 \n",
      "\n",
      "(-0.063, 6.2]     503\n",
      "(6.2, 12.4]      1092\n",
      "(12.4, 18.6]     2208\n",
      "(18.6, 24.8]     2750\n",
      "(24.8, 31.0]     2330\n",
      "(31.0, 37.2]      959\n",
      "(37.2, 43.4]      622\n",
      "(43.4, 49.6]      250\n",
      "(49.6, 55.8]       72\n",
      "(55.8, 62.0]       25\n",
      "Name: home_score, dtype: int64 \n",
      "\n",
      "(-0.021, 2.0]    4258\n",
      "(2.0, 4.0]       2411\n",
      "(4.0, 6.0]       1771\n",
      "(6.0, 8.0]       1137\n",
      "(8.0, 10.0]       638\n",
      "(10.0, 12.0]      342\n",
      "(12.0, 14.0]      196\n",
      "(14.0, 16.0]       46\n",
      "(16.0, 18.0]        3\n",
      "(18.0, 20.0]        9\n",
      "Name: home_wins, dtype: int64 \n",
      "\n",
      "(-0.06, 5.9]     587\n",
      "(5.9, 11.8]     1670\n",
      "(11.8, 17.7]    2594\n",
      "(17.7, 23.6]    2030\n",
      "(23.6, 29.5]    1877\n",
      "(29.5, 35.4]    1285\n",
      "(35.4, 41.3]     534\n",
      "(41.3, 47.2]     171\n",
      "(47.2, 53.1]      51\n",
      "(53.1, 59.0]      12\n",
      "Name: away_score, dtype: int64 \n",
      "\n",
      "(-0.021, 2.0]    4133\n",
      "(2.0, 4.0]       2450\n",
      "(4.0, 6.0]       1803\n",
      "(6.0, 8.0]       1178\n",
      "(8.0, 10.0]       716\n",
      "(10.0, 12.0]      376\n",
      "(12.0, 14.0]      116\n",
      "(14.0, 16.0]       28\n",
      "(16.0, 18.0]        2\n",
      "(18.0, 20.0]        9\n",
      "Name: away_wins, dtype: int64 \n",
      "\n",
      "(-0.099, 9.8]      34\n",
      "(9.8, 19.6]       102\n",
      "(19.6, 29.4]      314\n",
      "(29.4, 39.2]      925\n",
      "(39.2, 49.0]     1271\n",
      "(49.0, 58.8]     1599\n",
      "(58.8, 68.6]     1893\n",
      "(68.6, 78.4]     3904\n",
      "(78.4, 88.2]      696\n",
      "(88.2, 98.0]       73\n",
      "Name: temp, dtype: int64 \n",
      "\n",
      "(-0.1, 9.9]     3384\n",
      "(9.9, 19.8]      146\n",
      "(19.8, 29.7]     167\n",
      "(29.7, 39.6]     458\n",
      "(39.6, 49.5]     871\n",
      "(49.5, 59.4]    1267\n",
      "(59.4, 69.3]    1543\n",
      "(69.3, 79.2]    1512\n",
      "(79.2, 89.1]    1054\n",
      "(89.1, 99.0]     409\n",
      "Name: humidity, dtype: int64 \n",
      "\n",
      "(-0.07100000000000001, 7.0]    5752\n",
      "(7.0, 14.0]                    3845\n",
      "(14.0, 21.0]                   1057\n",
      "(21.0, 28.0]                    138\n",
      "(28.0, 35.0]                     16\n",
      "(35.0, 42.0]                      2\n",
      "(42.0, 49.0]                      0\n",
      "(49.0, 56.0]                      0\n",
      "(56.0, 63.0]                      0\n",
      "(63.0, 70.0]                      1\n",
      "Name: wind, dtype: int64 \n",
      "\n",
      "(-0.0275, 2.65]    2219\n",
      "(2.65, 5.3]        3800\n",
      "(5.3, 7.95]        2612\n",
      "(7.95, 10.6]       1350\n",
      "(10.6, 13.25]       426\n",
      "(13.25, 15.9]       306\n",
      "(15.9, 18.55]        82\n",
      "(18.55, 21.2]        11\n",
      "(21.2, 23.85]         2\n",
      "(23.85, 26.5]         3\n",
      "Name: spread, dtype: int64 \n",
      "\n",
      "(27.962999999999997, 31.55]      32\n",
      "(31.55, 35.1]                   603\n",
      "(35.1, 38.65]                  2081\n",
      "(38.65, 42.2]                  2940\n",
      "(42.2, 45.75]                  2722\n",
      "(45.75, 49.3]                  1600\n",
      "(49.3, 52.85]                   566\n",
      "(52.85, 56.4]                   223\n",
      "(56.4, 59.95]                    39\n",
      "(59.95, 63.5]                     5\n",
      "Name: ou, dtype: int64 \n",
      "\n",
      "(-0.002, 0.1]    5326\n",
      "(0.1, 0.2]          0\n",
      "(0.2, 0.3]          0\n",
      "(0.3, 0.4]          0\n",
      "(0.4, 0.5]          0\n",
      "(0.5, 0.6]          0\n",
      "(0.6, 0.7]          0\n",
      "(0.7, 0.8]          0\n",
      "(0.8, 0.9]          0\n",
      "(0.9, 1.0]       5485\n",
      "Name: is_under, dtype: int64 \n",
      "\n",
      "(-0.002, 0.1]    8756\n",
      "(0.1, 0.2]          0\n",
      "(0.2, 0.3]          0\n",
      "(0.3, 0.4]          0\n",
      "(0.4, 0.5]          0\n",
      "(0.5, 0.6]          0\n",
      "(0.6, 0.7]          0\n",
      "(0.7, 0.8]          0\n",
      "(0.8, 0.9]          0\n",
      "(0.9, 1.0]       2055\n",
      "Name: abnormal_start, dtype: int64 \n",
      "\n",
      "(2.896, 13.3]     106\n",
      "(13.3, 23.6]      827\n",
      "(23.6, 33.9]     2037\n",
      "(33.9, 44.2]     3138\n",
      "(44.2, 54.5]     2482\n",
      "(54.5, 64.8]     1371\n",
      "(64.8, 75.1]      658\n",
      "(75.1, 85.4]      150\n",
      "(85.4, 95.7]       33\n",
      "(95.7, 106.0]       9\n",
      "Name: total_scores, dtype: int64 \n",
      "\n",
      "(-0.002, 0.1]    10350\n",
      "(0.1, 0.2]           0\n",
      "(0.2, 0.3]           0\n",
      "(0.3, 0.4]           0\n",
      "(0.4, 0.5]           0\n",
      "(0.5, 0.6]           0\n",
      "(0.6, 0.7]           0\n",
      "(0.7, 0.8]           0\n",
      "(0.8, 0.9]           0\n",
      "(0.9, 1.0]         461\n",
      "Name: is_playoff, dtype: int64 \n",
      "\n",
      "(-0.002, 0.1]    6116\n",
      "(0.1, 0.2]          0\n",
      "(0.2, 0.3]          0\n",
      "(0.3, 0.4]          0\n",
      "(0.4, 0.5]          0\n",
      "(0.5, 0.6]          0\n",
      "(0.6, 0.7]          0\n",
      "(0.7, 0.8]          0\n",
      "(0.8, 0.9]          0\n",
      "(0.9, 1.0]       4695\n",
      "Name: playoff_implications, dtype: int64 \n",
      "\n",
      "(-0.002, 0.1]    5774\n",
      "(0.1, 0.2]          0\n",
      "(0.2, 0.3]          0\n",
      "(0.3, 0.4]          0\n",
      "(0.4, 0.5]          0\n",
      "(0.5, 0.6]          0\n",
      "(0.6, 0.7]          0\n",
      "(0.7, 0.8]          0\n",
      "(0.8, 0.9]          0\n",
      "(0.9, 1.0]       5037\n",
      "Name: is_turf, dtype: int64 \n",
      "\n",
      "(-0.002, 0.1]    2577\n",
      "(0.1, 0.2]          0\n",
      "(0.2, 0.3]          0\n",
      "(0.3, 0.4]          0\n",
      "(0.4, 0.5]          0\n",
      "(0.5, 0.6]          0\n",
      "(0.6, 0.7]          0\n",
      "(0.7, 0.8]          0\n",
      "(0.8, 0.9]          0\n",
      "(0.9, 1.0]       8234\n",
      "Name: is_outdoor, dtype: int64 \n",
      "\n",
      "=====================================================\n",
      "nulls in dataframe by column: \n",
      "                      num_rows_missing  percent_rows_missing\n",
      "date                                 0                   0.0\n",
      "week_num                             0                   0.0\n",
      "is_turf                              0                   0.0\n",
      "playoff_implications                 0                   0.0\n",
      "is_playoff                           0                   0.0\n",
      "total_scores                         0                   0.0\n",
      "abnormal_start                       0                   0.0\n",
      "is_under                             0                   0.0\n",
      "ou                                   0                   0.0\n",
      "spread                               0                   0.0\n",
      "wind                                 0                   0.0\n",
      "humidity                             0                   0.0\n",
      "temp                                 0                   0.0\n",
      "away_wins                            0                   0.0\n",
      "away_score                           0                   0.0\n",
      "home_wins                            0                   0.0\n",
      "home_score                           0                   0.0\n",
      "is_outdoor                           0                   0.0\n",
      "=====================================================\n",
      "nulls in dataframe by row: \n",
      "       num_cols_missing  percent_cols_missing\n",
      "0                     0                   0.0\n",
      "7210                  0                   0.0\n",
      "7202                  0                   0.0\n",
      "7203                  0                   0.0\n",
      "7204                  0                   0.0\n",
      "...                 ...                   ...\n",
      "3605                  0                   0.0\n",
      "3606                  0                   0.0\n",
      "3607                  0                   0.0\n",
      "3608                  0                   0.0\n",
      "10810                 0                   0.0\n",
      "\n",
      "[10811 rows x 2 columns]\n",
      "=====================================================\n"
     ]
    }
   ],
   "source": [
    "ex.summarize(df)"
   ]
  },
  {
   "cell_type": "code",
   "execution_count": 9,
   "id": "ffa2fa2a",
   "metadata": {
    "collapsed": true
   },
   "outputs": [
    {
     "data": {
      "image/png": "[encoded data removed]",
      "text/plain": [
       "<Figure size 400x200 with 1 Axes>"
      ]
     },
     "metadata": {},
     "output_type": "display_data"
    },
    {
     "data": {
      "image/png": "[encoded data removed]",
      "text/plain": [
       "<Figure size 400x200 with 1 Axes>"
      ]
     },
     "metadata": {},
     "output_type": "display_data"
    },
    {
     "data": {
      "image/png": "[encoded data removed]",
      "text/plain": [
       "<Figure size 400x200 with 1 Axes>"
      ]
     },
     "metadata": {},
     "output_type": "display_data"
    },
    {
     "data": {
      "image/png": "[encoded data removed]",
      "text/plain": [
       "<Figure size 400x200 with 1 Axes>"
      ]
     },
     "metadata": {},
     "output_type": "display_data"
    },
    {
     "data": {
      "image/png": "[encoded data removed]",
      "text/plain": [
       "<Figure size 400x200 with 1 Axes>"
      ]
     },
     "metadata": {},
     "output_type": "display_data"
    },
    {
     "data": {
      "image/png": "[encoded data removed]",
      "text/plain": [
       "<Figure size 400x200 with 1 Axes>"
      ]
     },
     "metadata": {},
     "output_type": "display_data"
    },
    {
     "data": {
      "image/png": "[encoded data removed]",
      "text/plain": [
       "<Figure size 400x200 with 1 Axes>"
      ]
     },
     "metadata": {},
     "output_type": "display_data"
    },
    {
     "data": {
      "image/png": "[encoded data removed]",
      "text/plain": [
       "<Figure size 400x200 with 1 Axes>"
      ]
     },
     "metadata": {},
     "output_type": "display_data"
    },
    {
     "data": {
      "image/png": "[encoded data removed]",
      "text/plain": [
       "<Figure size 400x200 with 1 Axes>"
      ]
     },
     "metadata": {},
     "output_type": "display_data"
    },
    {
     "data": {
      "image/png": "[encoded data removed]",
      "text/plain": [
       "<Figure size 400x200 with 1 Axes>"
      ]
     },
     "metadata": {},
     "output_type": "display_data"
    },
    {
     "data": {
      "image/png": "[encoded data removed]",
      "text/plain": [
       "<Figure size 400x200 with 1 Axes>"
      ]
     },
     "metadata": {},
     "output_type": "display_data"
    },
    {
     "data": {
      "image/png": "[encoded data removed]",
      "text/plain": [
       "<Figure size 400x200 with 1 Axes>"
      ]
     },
     "metadata": {},
     "output_type": "display_data"
    },
    {
     "data": {
      "image/png": "[encoded data removed]",
      "text/plain": [
       "<Figure size 400x200 with 1 Axes>"
      ]
     },
     "metadata": {},
     "output_type": "display_data"
    },
    {
     "data": {
      "image/png": "[encoded data removed]",
      "text/plain": [
       "<Figure size 400x200 with 1 Axes>"
      ]
     },
     "metadata": {},
     "output_type": "display_data"
    },
    {
     "data": {
      "image/png": "[encoded data removed]",
      "text/plain": [
       "<Figure size 400x200 with 1 Axes>"
      ]
     },
     "metadata": {},
     "output_type": "display_data"
    },
    {
     "data": {
      "image/png": "[encoded data removed]",
      "text/plain": [
       "<Figure size 400x200 with 1 Axes>"
      ]
     },
     "metadata": {},
     "output_type": "display_data"
    },
    {
     "data": {
      "image/png": "[encoded data removed]",
      "text/plain": [
       "<Figure size 400x200 with 1 Axes>"
      ]
     },
     "metadata": {},
     "output_type": "display_data"
    }
   ],
   "source": [
    "ex.get_hist(df)"
   ]
  },
  {
   "cell_type": "markdown",
   "id": "ac619a27",
   "metadata": {},
   "source": [
    "## Now we split into TRAIN-VALIDATE-TEST for Bivariate Analysis and Statistical Testing"
   ]
  },
  {
   "cell_type": "code",
   "execution_count": 10,
   "id": "a40eb9ac",
   "metadata": {},
   "outputs": [],
   "source": [
    "train, validate, test = ex.split_data(df)"
   ]
  },
  {
   "cell_type": "code",
   "execution_count": 11,
   "id": "c01224de",
   "metadata": {},
   "outputs": [
    {
     "data": {
      "text/plain": [
       "((6471, 18), (2394, 18), (1946, 18))"
      ]
     },
     "execution_count": 11,
     "metadata": {},
     "output_type": "execute_result"
    }
   ],
   "source": [
    "train.shape, validate.shape, test.shape"
   ]
  },
  {
   "cell_type": "code",
   "execution_count": 12,
   "id": "60dd8928",
   "metadata": {},
   "outputs": [
    {
     "data": {
      "text/plain": [
       "['date',\n",
       " 'week_num',\n",
       " 'home_score',\n",
       " 'home_wins',\n",
       " 'away_score',\n",
       " 'away_wins',\n",
       " 'temp',\n",
       " 'humidity',\n",
       " 'wind',\n",
       " 'spread',\n",
       " 'ou',\n",
       " 'is_under',\n",
       " 'abnormal_start',\n",
       " 'total_scores',\n",
       " 'is_playoff',\n",
       " 'playoff_implications',\n",
       " 'is_turf',\n",
       " 'is_outdoor']"
      ]
     },
     "execution_count": 12,
     "metadata": {},
     "output_type": "execute_result"
    }
   ],
   "source": [
    "train.columns.to_list()"
   ]
  },
  {
   "cell_type": "markdown",
   "id": "b62239ac",
   "metadata": {},
   "source": [
    "## GroupBy Target...just numbers"
   ]
  },
  {
   "cell_type": "code",
   "execution_count": 13,
   "id": "e4a7b272",
   "metadata": {},
   "outputs": [],
   "source": [
    "df_mean_by_target = train.groupby(by=['is_under']).mean()"
   ]
  },
  {
   "cell_type": "code",
   "execution_count": 14,
   "id": "45bc2ebe",
   "metadata": {},
   "outputs": [
    {
     "data": {
      "text/plain": [
       "Index(['week_num', 'home_score', 'home_wins', 'away_score', 'away_wins',\n",
       "       'temp', 'humidity', 'wind', 'spread', 'ou', 'abnormal_start',\n",
       "       'total_scores', 'is_playoff', 'playoff_implications', 'is_turf',\n",
       "       'is_outdoor'],\n",
       "      dtype='object')"
      ]
     },
     "execution_count": 14,
     "metadata": {},
     "output_type": "execute_result"
    }
   ],
   "source": [
    "df_mean_by_target.columns"
   ]
  },
  {
   "cell_type": "code",
   "execution_count": 15,
   "id": "4e22e632",
   "metadata": {},
   "outputs": [],
   "source": [
    "df_mean_by_target.drop(columns=['home_score','home_wins','away_score',\n",
    "                                'away_wins','total_scores'], inplace=True)"
   ]
  },
  {
   "cell_type": "code",
   "execution_count": 16,
   "id": "36002421",
   "metadata": {},
   "outputs": [],
   "source": [
    "df_std_by_target = train.groupby(by='is_under').std()"
   ]
  },
  {
   "cell_type": "code",
   "execution_count": 17,
   "id": "36a602c3",
   "metadata": {},
   "outputs": [],
   "source": [
    "df_std_by_target.drop(columns=['home_score','home_wins','away_score',\n",
    "                                'away_wins','total_scores'], inplace=True)"
   ]
  },
  {
   "cell_type": "code",
   "execution_count": 18,
   "id": "fa55497b",
   "metadata": {},
   "outputs": [
    {
     "data": {
      "text/html": [
       "<div>\n",
       "<style scoped>\n",
       "    .dataframe tbody tr th:only-of-type {\n",
       "        vertical-align: middle;\n",
       "    }\n",
       "\n",
       "    .dataframe tbody tr th {\n",
       "        vertical-align: top;\n",
       "    }\n",
       "\n",
       "    .dataframe thead th {\n",
       "        text-align: right;\n",
       "    }\n",
       "</style>\n",
       "<table border=\"1\" class=\"dataframe\">\n",
       "  <thead>\n",
       "    <tr style=\"text-align: right;\">\n",
       "      <th></th>\n",
       "      <th>week_num</th>\n",
       "      <th>temp</th>\n",
       "      <th>humidity</th>\n",
       "      <th>wind</th>\n",
       "      <th>spread</th>\n",
       "      <th>ou</th>\n",
       "      <th>abnormal_start</th>\n",
       "      <th>is_playoff</th>\n",
       "      <th>playoff_implications</th>\n",
       "      <th>is_turf</th>\n",
       "      <th>is_outdoor</th>\n",
       "    </tr>\n",
       "    <tr>\n",
       "      <th>is_under</th>\n",
       "      <th></th>\n",
       "      <th></th>\n",
       "      <th></th>\n",
       "      <th></th>\n",
       "      <th></th>\n",
       "      <th></th>\n",
       "      <th></th>\n",
       "      <th></th>\n",
       "      <th></th>\n",
       "      <th></th>\n",
       "      <th></th>\n",
       "    </tr>\n",
       "  </thead>\n",
       "  <tbody>\n",
       "    <tr>\n",
       "      <th>0</th>\n",
       "      <td>9.519497</td>\n",
       "      <td>60.322956</td>\n",
       "      <td>42.680189</td>\n",
       "      <td>6.565094</td>\n",
       "      <td>5.378774</td>\n",
       "      <td>42.191038</td>\n",
       "      <td>0.178616</td>\n",
       "      <td>0.043711</td>\n",
       "      <td>0.433333</td>\n",
       "      <td>0.471069</td>\n",
       "      <td>0.753145</td>\n",
       "    </tr>\n",
       "    <tr>\n",
       "      <th>1</th>\n",
       "      <td>9.504710</td>\n",
       "      <td>60.170161</td>\n",
       "      <td>44.421452</td>\n",
       "      <td>7.155880</td>\n",
       "      <td>5.403677</td>\n",
       "      <td>42.405834</td>\n",
       "      <td>0.190520</td>\n",
       "      <td>0.042236</td>\n",
       "      <td>0.430872</td>\n",
       "      <td>0.443634</td>\n",
       "      <td>0.777575</td>\n",
       "    </tr>\n",
       "  </tbody>\n",
       "</table>\n",
       "</div>"
      ],
      "text/plain": [
       "          week_num       temp   humidity      wind    spread         ou  \\\n",
       "is_under                                                                  \n",
       "0         9.519497  60.322956  42.680189  6.565094  5.378774  42.191038   \n",
       "1         9.504710  60.170161  44.421452  7.155880  5.403677  42.405834   \n",
       "\n",
       "          abnormal_start  is_playoff  playoff_implications   is_turf  \\\n",
       "is_under                                                               \n",
       "0               0.178616    0.043711              0.433333  0.471069   \n",
       "1               0.190520    0.042236              0.430872  0.443634   \n",
       "\n",
       "          is_outdoor  \n",
       "is_under              \n",
       "0           0.753145  \n",
       "1           0.777575  "
      ]
     },
     "execution_count": 18,
     "metadata": {},
     "output_type": "execute_result"
    }
   ],
   "source": [
    "df_mean_by_target"
   ]
  },
  {
   "cell_type": "code",
   "execution_count": 19,
   "id": "e2fde3f5",
   "metadata": {},
   "outputs": [
    {
     "data": {
      "text/html": [
       "<div>\n",
       "<style scoped>\n",
       "    .dataframe tbody tr th:only-of-type {\n",
       "        vertical-align: middle;\n",
       "    }\n",
       "\n",
       "    .dataframe tbody tr th {\n",
       "        vertical-align: top;\n",
       "    }\n",
       "\n",
       "    .dataframe thead th {\n",
       "        text-align: right;\n",
       "    }\n",
       "</style>\n",
       "<table border=\"1\" class=\"dataframe\">\n",
       "  <thead>\n",
       "    <tr style=\"text-align: right;\">\n",
       "      <th></th>\n",
       "      <th>week_num</th>\n",
       "      <th>temp</th>\n",
       "      <th>humidity</th>\n",
       "      <th>wind</th>\n",
       "      <th>spread</th>\n",
       "      <th>ou</th>\n",
       "      <th>abnormal_start</th>\n",
       "      <th>is_playoff</th>\n",
       "      <th>playoff_implications</th>\n",
       "      <th>is_turf</th>\n",
       "      <th>is_outdoor</th>\n",
       "    </tr>\n",
       "    <tr>\n",
       "      <th>is_under</th>\n",
       "      <th></th>\n",
       "      <th></th>\n",
       "      <th></th>\n",
       "      <th></th>\n",
       "      <th></th>\n",
       "      <th></th>\n",
       "      <th></th>\n",
       "      <th></th>\n",
       "      <th></th>\n",
       "      <th></th>\n",
       "      <th></th>\n",
       "    </tr>\n",
       "  </thead>\n",
       "  <tbody>\n",
       "    <tr>\n",
       "      <th>0</th>\n",
       "      <td>5.210685</td>\n",
       "      <td>15.930481</td>\n",
       "      <td>32.730705</td>\n",
       "      <td>5.778373</td>\n",
       "      <td>3.453621</td>\n",
       "      <td>4.753079</td>\n",
       "      <td>0.383091</td>\n",
       "      <td>0.204483</td>\n",
       "      <td>0.495614</td>\n",
       "      <td>0.499241</td>\n",
       "      <td>0.431250</td>\n",
       "    </tr>\n",
       "    <tr>\n",
       "      <th>1</th>\n",
       "      <td>5.212758</td>\n",
       "      <td>15.970629</td>\n",
       "      <td>32.649658</td>\n",
       "      <td>6.223034</td>\n",
       "      <td>3.506852</td>\n",
       "      <td>4.755404</td>\n",
       "      <td>0.392771</td>\n",
       "      <td>0.201159</td>\n",
       "      <td>0.495274</td>\n",
       "      <td>0.496888</td>\n",
       "      <td>0.415938</td>\n",
       "    </tr>\n",
       "  </tbody>\n",
       "</table>\n",
       "</div>"
      ],
      "text/plain": [
       "          week_num       temp   humidity      wind    spread        ou  \\\n",
       "is_under                                                                 \n",
       "0         5.210685  15.930481  32.730705  5.778373  3.453621  4.753079   \n",
       "1         5.212758  15.970629  32.649658  6.223034  3.506852  4.755404   \n",
       "\n",
       "          abnormal_start  is_playoff  playoff_implications   is_turf  \\\n",
       "is_under                                                               \n",
       "0               0.383091    0.204483              0.495614  0.499241   \n",
       "1               0.392771    0.201159              0.495274  0.496888   \n",
       "\n",
       "          is_outdoor  \n",
       "is_under              \n",
       "0           0.431250  \n",
       "1           0.415938  "
      ]
     },
     "execution_count": 19,
     "metadata": {},
     "output_type": "execute_result"
    }
   ],
   "source": [
    "df_std_by_target"
   ]
  },
  {
   "cell_type": "code",
   "execution_count": 20,
   "id": "b4757af6",
   "metadata": {},
   "outputs": [],
   "source": [
    "df_mean_by_target_by_inout = train.groupby(by=['is_under','is_outdoor']).mean()"
   ]
  },
  {
   "cell_type": "code",
   "execution_count": 21,
   "id": "cdd26afc",
   "metadata": {},
   "outputs": [],
   "source": [
    "df_mean_by_target_by_inout.drop(columns=['home_score','home_wins','away_score',\n",
    "                                'away_wins','total_scores'], inplace=True)"
   ]
  },
  {
   "cell_type": "code",
   "execution_count": 22,
   "id": "37a5caa1",
   "metadata": {},
   "outputs": [
    {
     "data": {
      "text/html": [
       "<div>\n",
       "<style scoped>\n",
       "    .dataframe tbody tr th:only-of-type {\n",
       "        vertical-align: middle;\n",
       "    }\n",
       "\n",
       "    .dataframe tbody tr th {\n",
       "        vertical-align: top;\n",
       "    }\n",
       "\n",
       "    .dataframe thead th {\n",
       "        text-align: right;\n",
       "    }\n",
       "</style>\n",
       "<table border=\"1\" class=\"dataframe\">\n",
       "  <thead>\n",
       "    <tr style=\"text-align: right;\">\n",
       "      <th></th>\n",
       "      <th></th>\n",
       "      <th>week_num</th>\n",
       "      <th>temp</th>\n",
       "      <th>humidity</th>\n",
       "      <th>wind</th>\n",
       "      <th>spread</th>\n",
       "      <th>ou</th>\n",
       "      <th>abnormal_start</th>\n",
       "      <th>is_playoff</th>\n",
       "      <th>playoff_implications</th>\n",
       "      <th>is_turf</th>\n",
       "    </tr>\n",
       "    <tr>\n",
       "      <th>is_under</th>\n",
       "      <th>is_outdoor</th>\n",
       "      <th></th>\n",
       "      <th></th>\n",
       "      <th></th>\n",
       "      <th></th>\n",
       "      <th></th>\n",
       "      <th></th>\n",
       "      <th></th>\n",
       "      <th></th>\n",
       "      <th></th>\n",
       "      <th></th>\n",
       "    </tr>\n",
       "  </thead>\n",
       "  <tbody>\n",
       "    <tr>\n",
       "      <th rowspan=\"2\" valign=\"top\">0</th>\n",
       "      <th>0</th>\n",
       "      <td>9.633121</td>\n",
       "      <td>72.000000</td>\n",
       "      <td>0.000000</td>\n",
       "      <td>0.000000</td>\n",
       "      <td>5.101911</td>\n",
       "      <td>44.109554</td>\n",
       "      <td>0.201274</td>\n",
       "      <td>0.042038</td>\n",
       "      <td>0.426752</td>\n",
       "      <td>0.866242</td>\n",
       "    </tr>\n",
       "    <tr>\n",
       "      <th>1</th>\n",
       "      <td>9.482255</td>\n",
       "      <td>56.495616</td>\n",
       "      <td>56.669311</td>\n",
       "      <td>8.716910</td>\n",
       "      <td>5.469520</td>\n",
       "      <td>41.562213</td>\n",
       "      <td>0.171190</td>\n",
       "      <td>0.044259</td>\n",
       "      <td>0.435491</td>\n",
       "      <td>0.341545</td>\n",
       "    </tr>\n",
       "    <tr>\n",
       "      <th rowspan=\"2\" valign=\"top\">1</th>\n",
       "      <th>0</th>\n",
       "      <td>9.669399</td>\n",
       "      <td>72.000000</td>\n",
       "      <td>0.000000</td>\n",
       "      <td>0.000000</td>\n",
       "      <td>5.568989</td>\n",
       "      <td>44.278825</td>\n",
       "      <td>0.188525</td>\n",
       "      <td>0.028689</td>\n",
       "      <td>0.452186</td>\n",
       "      <td>0.887978</td>\n",
       "    </tr>\n",
       "    <tr>\n",
       "      <th>1</th>\n",
       "      <td>9.457601</td>\n",
       "      <td>56.786245</td>\n",
       "      <td>57.128175</td>\n",
       "      <td>9.202814</td>\n",
       "      <td>5.356389</td>\n",
       "      <td>41.870066</td>\n",
       "      <td>0.191090</td>\n",
       "      <td>0.046112</td>\n",
       "      <td>0.424775</td>\n",
       "      <td>0.316530</td>\n",
       "    </tr>\n",
       "  </tbody>\n",
       "</table>\n",
       "</div>"
      ],
      "text/plain": [
       "                     week_num       temp   humidity      wind    spread  \\\n",
       "is_under is_outdoor                                                       \n",
       "0        0           9.633121  72.000000   0.000000  0.000000  5.101911   \n",
       "         1           9.482255  56.495616  56.669311  8.716910  5.469520   \n",
       "1        0           9.669399  72.000000   0.000000  0.000000  5.568989   \n",
       "         1           9.457601  56.786245  57.128175  9.202814  5.356389   \n",
       "\n",
       "                            ou  abnormal_start  is_playoff  \\\n",
       "is_under is_outdoor                                          \n",
       "0        0           44.109554        0.201274    0.042038   \n",
       "         1           41.562213        0.171190    0.044259   \n",
       "1        0           44.278825        0.188525    0.028689   \n",
       "         1           41.870066        0.191090    0.046112   \n",
       "\n",
       "                     playoff_implications   is_turf  \n",
       "is_under is_outdoor                                  \n",
       "0        0                       0.426752  0.866242  \n",
       "         1                       0.435491  0.341545  \n",
       "1        0                       0.452186  0.887978  \n",
       "         1                       0.424775  0.316530  "
      ]
     },
     "execution_count": 22,
     "metadata": {},
     "output_type": "execute_result"
    }
   ],
   "source": [
    "df_mean_by_target_by_inout"
   ]
  },
  {
   "cell_type": "markdown",
   "id": "ef3beb17",
   "metadata": {},
   "source": [
    "## TEMP vs TARGET: all games"
   ]
  },
  {
   "cell_type": "code",
   "execution_count": 23,
   "id": "1cf41a29",
   "metadata": {
    "scrolled": false
   },
   "outputs": [
    {
     "data": {
      "image/png": "[encoded data removed]",
      "text/plain": [
       "<Figure size 500x500 with 1 Axes>"
      ]
     },
     "metadata": {},
     "output_type": "display_data"
    }
   ],
   "source": [
    "sns.catplot(data=train, x='is_under', y='temp',hue='is_under',order=[0,1],ec='black',alpha=0.1)\n",
    "plt.xticks(ticks=[0,1],labels=['NO','YES'])\n",
    "# plt.xlabel('playoffs')\n",
    "# plt.ylabel('opp_pts')\n",
    "plt.legend(labels=['NO','YES'],loc='lower left', bbox_to_anchor=(.9, .8))\n",
    "plt.show()"
   ]
  },
  {
   "cell_type": "markdown",
   "id": "8f217f54",
   "metadata": {},
   "source": [
    "#### Solid line is at 72$^{\\circ}$ F: Indoor Games - the preponderance of indoor games (72 $^{\\circ}$) may be skewing this...let's view only OUTDOOR games."
   ]
  },
  {
   "cell_type": "code",
   "execution_count": 24,
   "id": "cd28b6c2",
   "metadata": {},
   "outputs": [
    {
     "data": {
      "text/html": [
       "<div>\n",
       "<style scoped>\n",
       "    .dataframe tbody tr th:only-of-type {\n",
       "        vertical-align: middle;\n",
       "    }\n",
       "\n",
       "    .dataframe tbody tr th {\n",
       "        vertical-align: top;\n",
       "    }\n",
       "\n",
       "    .dataframe thead th {\n",
       "        text-align: right;\n",
       "    }\n",
       "</style>\n",
       "<table border=\"1\" class=\"dataframe\">\n",
       "  <thead>\n",
       "    <tr style=\"text-align: right;\">\n",
       "      <th></th>\n",
       "      <th>date</th>\n",
       "      <th>week_num</th>\n",
       "      <th>home_score</th>\n",
       "      <th>home_wins</th>\n",
       "      <th>away_score</th>\n",
       "      <th>away_wins</th>\n",
       "      <th>temp</th>\n",
       "      <th>humidity</th>\n",
       "      <th>wind</th>\n",
       "      <th>spread</th>\n",
       "      <th>ou</th>\n",
       "      <th>is_under</th>\n",
       "      <th>abnormal_start</th>\n",
       "      <th>total_scores</th>\n",
       "      <th>is_playoff</th>\n",
       "      <th>playoff_implications</th>\n",
       "      <th>is_turf</th>\n",
       "      <th>is_outdoor</th>\n",
       "    </tr>\n",
       "  </thead>\n",
       "  <tbody>\n",
       "    <tr>\n",
       "      <th>0</th>\n",
       "      <td>2023-02-12</td>\n",
       "      <td>19</td>\n",
       "      <td>35</td>\n",
       "      <td>16</td>\n",
       "      <td>38</td>\n",
       "      <td>16</td>\n",
       "      <td>72</td>\n",
       "      <td>0</td>\n",
       "      <td>0</td>\n",
       "      <td>1.0</td>\n",
       "      <td>51.0</td>\n",
       "      <td>0</td>\n",
       "      <td>0</td>\n",
       "      <td>73</td>\n",
       "      <td>1</td>\n",
       "      <td>1</td>\n",
       "      <td>0</td>\n",
       "      <td>0</td>\n",
       "    </tr>\n",
       "    <tr>\n",
       "      <th>1</th>\n",
       "      <td>2023-01-29</td>\n",
       "      <td>19</td>\n",
       "      <td>31</td>\n",
       "      <td>15</td>\n",
       "      <td>7</td>\n",
       "      <td>15</td>\n",
       "      <td>52</td>\n",
       "      <td>48</td>\n",
       "      <td>14</td>\n",
       "      <td>2.5</td>\n",
       "      <td>45.5</td>\n",
       "      <td>1</td>\n",
       "      <td>0</td>\n",
       "      <td>38</td>\n",
       "      <td>1</td>\n",
       "      <td>1</td>\n",
       "      <td>0</td>\n",
       "      <td>1</td>\n",
       "    </tr>\n",
       "    <tr>\n",
       "      <th>2</th>\n",
       "      <td>2023-01-29</td>\n",
       "      <td>19</td>\n",
       "      <td>23</td>\n",
       "      <td>15</td>\n",
       "      <td>20</td>\n",
       "      <td>14</td>\n",
       "      <td>22</td>\n",
       "      <td>55</td>\n",
       "      <td>13</td>\n",
       "      <td>1.5</td>\n",
       "      <td>48.0</td>\n",
       "      <td>1</td>\n",
       "      <td>0</td>\n",
       "      <td>43</td>\n",
       "      <td>1</td>\n",
       "      <td>1</td>\n",
       "      <td>0</td>\n",
       "      <td>1</td>\n",
       "    </tr>\n",
       "    <tr>\n",
       "      <th>3</th>\n",
       "      <td>2023-01-22</td>\n",
       "      <td>19</td>\n",
       "      <td>10</td>\n",
       "      <td>14</td>\n",
       "      <td>27</td>\n",
       "      <td>13</td>\n",
       "      <td>32</td>\n",
       "      <td>10</td>\n",
       "      <td>0</td>\n",
       "      <td>5.5</td>\n",
       "      <td>49.0</td>\n",
       "      <td>1</td>\n",
       "      <td>0</td>\n",
       "      <td>37</td>\n",
       "      <td>1</td>\n",
       "      <td>1</td>\n",
       "      <td>1</td>\n",
       "      <td>1</td>\n",
       "    </tr>\n",
       "    <tr>\n",
       "      <th>4</th>\n",
       "      <td>2023-01-22</td>\n",
       "      <td>19</td>\n",
       "      <td>19</td>\n",
       "      <td>14</td>\n",
       "      <td>12</td>\n",
       "      <td>13</td>\n",
       "      <td>55</td>\n",
       "      <td>47</td>\n",
       "      <td>19</td>\n",
       "      <td>4.0</td>\n",
       "      <td>47.0</td>\n",
       "      <td>1</td>\n",
       "      <td>0</td>\n",
       "      <td>31</td>\n",
       "      <td>1</td>\n",
       "      <td>1</td>\n",
       "      <td>0</td>\n",
       "      <td>1</td>\n",
       "    </tr>\n",
       "  </tbody>\n",
       "</table>\n",
       "</div>"
      ],
      "text/plain": [
       "         date  week_num  home_score  home_wins  away_score  away_wins  temp  \\\n",
       "0  2023-02-12        19          35         16          38         16    72   \n",
       "1  2023-01-29        19          31         15           7         15    52   \n",
       "2  2023-01-29        19          23         15          20         14    22   \n",
       "3  2023-01-22        19          10         14          27         13    32   \n",
       "4  2023-01-22        19          19         14          12         13    55   \n",
       "\n",
       "   humidity  wind  spread    ou  is_under  abnormal_start  total_scores  \\\n",
       "0         0     0     1.0  51.0         0               0            73   \n",
       "1        48    14     2.5  45.5         1               0            38   \n",
       "2        55    13     1.5  48.0         1               0            43   \n",
       "3        10     0     5.5  49.0         1               0            37   \n",
       "4        47    19     4.0  47.0         1               0            31   \n",
       "\n",
       "   is_playoff  playoff_implications  is_turf  is_outdoor  \n",
       "0           1                     1        0           0  \n",
       "1           1                     1        0           1  \n",
       "2           1                     1        0           1  \n",
       "3           1                     1        1           1  \n",
       "4           1                     1        0           1  "
      ]
     },
     "execution_count": 24,
     "metadata": {},
     "output_type": "execute_result"
    }
   ],
   "source": [
    "df.head()"
   ]
  },
  {
   "cell_type": "markdown",
   "id": "cf1ea701",
   "metadata": {},
   "source": [
    "## TEMP vs TARGET: OUTDOOR games"
   ]
  },
  {
   "cell_type": "code",
   "execution_count": 25,
   "id": "1ed4bb1a",
   "metadata": {},
   "outputs": [],
   "source": [
    "train_outdoor = train[train.is_outdoor == 1]\n",
    "train_indoor = train[train.is_outdoor == 0]"
   ]
  },
  {
   "cell_type": "code",
   "execution_count": 26,
   "id": "26e48914",
   "metadata": {
    "scrolled": false
   },
   "outputs": [
    {
     "data": {
      "image/png": "[encoded data removed]",
      "text/plain": [
       "<Figure size 500x500 with 1 Axes>"
      ]
     },
     "metadata": {},
     "output_type": "display_data"
    }
   ],
   "source": [
    "sns.catplot(data=train_outdoor, x='is_under', y='temp',hue='is_under',order=[0,1],ec='black',alpha=0.1)\n",
    "plt.xticks(ticks=[0,1],labels=['NO','YES'])\n",
    "# plt.xlabel('playoffs')\n",
    "# plt.ylabel('opp_pts')\n",
    "plt.legend(labels=['NO','YES'],loc='lower left', bbox_to_anchor=(.9, .8))\n",
    "plt.show()"
   ]
  },
  {
   "cell_type": "markdown",
   "id": "08e57fb7",
   "metadata": {},
   "source": [
    "#### Slightly differeing distributions...colder games may lead to more OVERS, but the difference may not be statistically significant.  However, we may very well have the Power to identify a difference should one exist.  No pressing need to run a T-test yet."
   ]
  },
  {
   "cell_type": "markdown",
   "id": "03d4c6dd",
   "metadata": {},
   "source": [
    "## WIND vs TARGET: OUTDOOR games"
   ]
  },
  {
   "cell_type": "code",
   "execution_count": 27,
   "id": "830ed485",
   "metadata": {
    "scrolled": false
   },
   "outputs": [
    {
     "data": {
      "image/png": "[encoded data removed]",
      "text/plain": [
       "<Figure size 500x500 with 1 Axes>"
      ]
     },
     "metadata": {},
     "output_type": "display_data"
    }
   ],
   "source": [
    "sns.catplot(data=train_outdoor, x='is_under', y='wind',hue='is_under',order=[0,1],ec='black',alpha=0.05,s=6)\n",
    "plt.xticks(ticks=[0,1],labels=['NO','YES'])\n",
    "# plt.xlabel('playoffs')\n",
    "# plt.ylabel('opp_pts')\n",
    "plt.legend(labels=['NO','YES'],loc='lower left', bbox_to_anchor=(.9, .8))\n",
    "plt.show()"
   ]
  },
  {
   "cell_type": "markdown",
   "id": "b8e74fee",
   "metadata": {},
   "source": [
    "## MEAN Wind Speed of ALL UNDER games vs MEAN Wind Speed of ALL OVER games\n",
    "### Does a statistically significant difference exist between Wind Speed of ALL UNDER games vs MEAN Wind Speed of ALL OVER games?\n",
    "#### T-test, 2-sample, 2-tailed\n",
    "### Hypotheses:\n",
    "- ${H_0}$: No statistically significant difference exists between mean wind speed for UNDER games and that of OVER games.\n",
    "- ${H_a}$: A statistically significant difference exists between mean wind speed for UNDER games and that of OVER games."
   ]
  },
  {
   "cell_type": "code",
   "execution_count": 28,
   "id": "c9495bc4",
   "metadata": {},
   "outputs": [
    {
     "name": "stdout",
     "output_type": "stream",
     "text": [
      "3.9540841378709994 7.764812347880434e-05 0.05\n",
      "p = 0.000078\n"
     ]
    }
   ],
   "source": [
    "# type \"\\alpha\", then hit the TAB key\n",
    "α = 0.05\n",
    "wind_under_values = train[train.is_under == 1].wind\n",
    "wind_over_values = train[train.is_under == 0].wind\n",
    "t, p = stats.ttest_ind(wind_under_values,wind_over_values,equal_var=True)\n",
    "print(t,p,α)\n",
    "print(f'p = {p:f}')"
   ]
  },
  {
   "cell_type": "markdown",
   "id": "cb754b6d",
   "metadata": {},
   "source": [
    "### With a p-value well below $\\alpha$ = 0.05, we reject the null hypothesis.  There is evidence to suggest that the two samples were drawn from different populations.  i.e. Wind Speed may play a role in determining the outcome of the wager."
   ]
  },
  {
   "cell_type": "markdown",
   "id": "8f467ba7",
   "metadata": {},
   "source": [
    "## MEAN Wind Speed of OUTDOOR UNDER games vs MEAN Wind Speed of OUTDOOR OVER games\n",
    "### Does a statistically significant difference exist between MEAN Wind Speed of OUTDOOR UNDER games vs MEAN Wind Speed of OUTDOOR OVER games?\n",
    "#### T-test, 2-sample, 2-tailed\n",
    "### Hypotheses:\n",
    "- ${H_0}$: No statistically significant difference exists between mean wind speed for OUTDOOR UNDER games and that of OUTDOOR OVER games.\n",
    "- ${H_a}$: A statistically significant difference exists between mean wind speed for OUTDOOR UNDER games and that of OUTDOOR OVER games."
   ]
  },
  {
   "cell_type": "code",
   "execution_count": 29,
   "id": "979e27ad",
   "metadata": {},
   "outputs": [
    {
     "name": "stdout",
     "output_type": "stream",
     "text": [
      "3.209420840661326 0.0013385130004450586 0.05\n",
      "p = 0.001339\n"
     ]
    }
   ],
   "source": [
    "# type \"\\alpha\", then hit the TAB key\n",
    "α = 0.05\n",
    "wind_under_values = train_outdoor[train_outdoor.is_under == 1].wind\n",
    "wind_over_values = train_outdoor[train_outdoor.is_under == 0].wind\n",
    "t, p = stats.ttest_ind(wind_under_values,wind_over_values,equal_var=True)\n",
    "print(t,p,α)\n",
    "print(f'p = {p:f}')"
   ]
  },
  {
   "cell_type": "markdown",
   "id": "27f2d582",
   "metadata": {},
   "source": [
    "### With a p-value well below $\\alpha$ = 0.05, we reject the null hypothesis.  There is evidence to suggest that the two samples were drawn from different populations.  i.e. Wind Speed may play a role in determining the outcome of the wager."
   ]
  },
  {
   "cell_type": "code",
   "execution_count": 30,
   "id": "8a1c215b",
   "metadata": {},
   "outputs": [],
   "source": [
    "# train.groupby(by='wind').mean()"
   ]
  },
  {
   "cell_type": "code",
   "execution_count": 106,
   "id": "4e22d39e",
   "metadata": {},
   "outputs": [],
   "source": [
    "a = pd.DataFrame(train.groupby(by='wind').is_under.mean())"
   ]
  },
  {
   "cell_type": "code",
   "execution_count": 107,
   "id": "f43faf9f",
   "metadata": {},
   "outputs": [],
   "source": [
    "b = pd.DataFrame(train.groupby(by='wind').wind.count())"
   ]
  },
  {
   "cell_type": "code",
   "execution_count": 108,
   "id": "3ad41bf5",
   "metadata": {},
   "outputs": [],
   "source": [
    "wind_dist = pd.concat([a,b],axis=1)\n",
    "wind_dist.columns = ['under_pct','count']"
   ]
  },
  {
   "cell_type": "code",
   "execution_count": 34,
   "id": "1b73884f",
   "metadata": {
    "scrolled": true
   },
   "outputs": [
    {
     "data": {
      "text/html": [
       "<div>\n",
       "<style scoped>\n",
       "    .dataframe tbody tr th:only-of-type {\n",
       "        vertical-align: middle;\n",
       "    }\n",
       "\n",
       "    .dataframe tbody tr th {\n",
       "        vertical-align: top;\n",
       "    }\n",
       "\n",
       "    .dataframe thead th {\n",
       "        text-align: right;\n",
       "    }\n",
       "</style>\n",
       "<table border=\"1\" class=\"dataframe\">\n",
       "  <thead>\n",
       "    <tr style=\"text-align: right;\">\n",
       "      <th></th>\n",
       "      <th>under_pct</th>\n",
       "      <th>count</th>\n",
       "    </tr>\n",
       "    <tr>\n",
       "      <th>wind</th>\n",
       "      <th></th>\n",
       "      <th></th>\n",
       "    </tr>\n",
       "  </thead>\n",
       "  <tbody>\n",
       "    <tr>\n",
       "      <th>40</th>\n",
       "      <td>1.000000</td>\n",
       "      <td>2</td>\n",
       "    </tr>\n",
       "    <tr>\n",
       "      <th>29</th>\n",
       "      <td>1.000000</td>\n",
       "      <td>1</td>\n",
       "    </tr>\n",
       "    <tr>\n",
       "      <th>28</th>\n",
       "      <td>1.000000</td>\n",
       "      <td>2</td>\n",
       "    </tr>\n",
       "    <tr>\n",
       "      <th>35</th>\n",
       "      <td>1.000000</td>\n",
       "      <td>1</td>\n",
       "    </tr>\n",
       "    <tr>\n",
       "      <th>31</th>\n",
       "      <td>1.000000</td>\n",
       "      <td>2</td>\n",
       "    </tr>\n",
       "    <tr>\n",
       "      <th>25</th>\n",
       "      <td>0.750000</td>\n",
       "      <td>8</td>\n",
       "    </tr>\n",
       "    <tr>\n",
       "      <th>21</th>\n",
       "      <td>0.685714</td>\n",
       "      <td>35</td>\n",
       "    </tr>\n",
       "    <tr>\n",
       "      <th>30</th>\n",
       "      <td>0.666667</td>\n",
       "      <td>6</td>\n",
       "    </tr>\n",
       "    <tr>\n",
       "      <th>18</th>\n",
       "      <td>0.661538</td>\n",
       "      <td>65</td>\n",
       "    </tr>\n",
       "    <tr>\n",
       "      <th>24</th>\n",
       "      <td>0.642857</td>\n",
       "      <td>14</td>\n",
       "    </tr>\n",
       "    <tr>\n",
       "      <th>19</th>\n",
       "      <td>0.641509</td>\n",
       "      <td>53</td>\n",
       "    </tr>\n",
       "    <tr>\n",
       "      <th>27</th>\n",
       "      <td>0.600000</td>\n",
       "      <td>5</td>\n",
       "    </tr>\n",
       "    <tr>\n",
       "      <th>20</th>\n",
       "      <td>0.593220</td>\n",
       "      <td>59</td>\n",
       "    </tr>\n",
       "    <tr>\n",
       "      <th>15</th>\n",
       "      <td>0.576531</td>\n",
       "      <td>196</td>\n",
       "    </tr>\n",
       "    <tr>\n",
       "      <th>26</th>\n",
       "      <td>0.571429</td>\n",
       "      <td>7</td>\n",
       "    </tr>\n",
       "    <tr>\n",
       "      <th>12</th>\n",
       "      <td>0.545161</td>\n",
       "      <td>310</td>\n",
       "    </tr>\n",
       "    <tr>\n",
       "      <th>2</th>\n",
       "      <td>0.544118</td>\n",
       "      <td>68</td>\n",
       "    </tr>\n",
       "    <tr>\n",
       "      <th>14</th>\n",
       "      <td>0.534884</td>\n",
       "      <td>172</td>\n",
       "    </tr>\n",
       "    <tr>\n",
       "      <th>1</th>\n",
       "      <td>0.531250</td>\n",
       "      <td>32</td>\n",
       "    </tr>\n",
       "    <tr>\n",
       "      <th>7</th>\n",
       "      <td>0.529691</td>\n",
       "      <td>421</td>\n",
       "    </tr>\n",
       "    <tr>\n",
       "      <th>9</th>\n",
       "      <td>0.522248</td>\n",
       "      <td>427</td>\n",
       "    </tr>\n",
       "    <tr>\n",
       "      <th>13</th>\n",
       "      <td>0.520000</td>\n",
       "      <td>225</td>\n",
       "    </tr>\n",
       "    <tr>\n",
       "      <th>16</th>\n",
       "      <td>0.516949</td>\n",
       "      <td>118</td>\n",
       "    </tr>\n",
       "    <tr>\n",
       "      <th>11</th>\n",
       "      <td>0.503623</td>\n",
       "      <td>276</td>\n",
       "    </tr>\n",
       "    <tr>\n",
       "      <th>17</th>\n",
       "      <td>0.500000</td>\n",
       "      <td>96</td>\n",
       "    </tr>\n",
       "    <tr>\n",
       "      <th>23</th>\n",
       "      <td>0.500000</td>\n",
       "      <td>18</td>\n",
       "    </tr>\n",
       "    <tr>\n",
       "      <th>4</th>\n",
       "      <td>0.496855</td>\n",
       "      <td>159</td>\n",
       "    </tr>\n",
       "    <tr>\n",
       "      <th>8</th>\n",
       "      <td>0.495816</td>\n",
       "      <td>478</td>\n",
       "    </tr>\n",
       "    <tr>\n",
       "      <th>0</th>\n",
       "      <td>0.492485</td>\n",
       "      <td>1996</td>\n",
       "    </tr>\n",
       "    <tr>\n",
       "      <th>3</th>\n",
       "      <td>0.492308</td>\n",
       "      <td>130</td>\n",
       "    </tr>\n",
       "    <tr>\n",
       "      <th>6</th>\n",
       "      <td>0.470238</td>\n",
       "      <td>336</td>\n",
       "    </tr>\n",
       "    <tr>\n",
       "      <th>10</th>\n",
       "      <td>0.468750</td>\n",
       "      <td>416</td>\n",
       "    </tr>\n",
       "    <tr>\n",
       "      <th>5</th>\n",
       "      <td>0.466454</td>\n",
       "      <td>313</td>\n",
       "    </tr>\n",
       "    <tr>\n",
       "      <th>22</th>\n",
       "      <td>0.458333</td>\n",
       "      <td>24</td>\n",
       "    </tr>\n",
       "  </tbody>\n",
       "</table>\n",
       "</div>"
      ],
      "text/plain": [
       "      under_pct  count\n",
       "wind                  \n",
       "40     1.000000      2\n",
       "29     1.000000      1\n",
       "28     1.000000      2\n",
       "35     1.000000      1\n",
       "31     1.000000      2\n",
       "25     0.750000      8\n",
       "21     0.685714     35\n",
       "30     0.666667      6\n",
       "18     0.661538     65\n",
       "24     0.642857     14\n",
       "19     0.641509     53\n",
       "27     0.600000      5\n",
       "20     0.593220     59\n",
       "15     0.576531    196\n",
       "26     0.571429      7\n",
       "12     0.545161    310\n",
       "2      0.544118     68\n",
       "14     0.534884    172\n",
       "1      0.531250     32\n",
       "7      0.529691    421\n",
       "9      0.522248    427\n",
       "13     0.520000    225\n",
       "16     0.516949    118\n",
       "11     0.503623    276\n",
       "17     0.500000     96\n",
       "23     0.500000     18\n",
       "4      0.496855    159\n",
       "8      0.495816    478\n",
       "0      0.492485   1996\n",
       "3      0.492308    130\n",
       "6      0.470238    336\n",
       "10     0.468750    416\n",
       "5      0.466454    313\n",
       "22     0.458333     24"
      ]
     },
     "execution_count": 34,
     "metadata": {},
     "output_type": "execute_result"
    }
   ],
   "source": [
    "wind_dist.sort_values('under_pct',ascending=False)"
   ]
  },
  {
   "cell_type": "code",
   "execution_count": 143,
   "id": "32aa4e59",
   "metadata": {},
   "outputs": [
    {
     "data": {
      "text/plain": [
       "<matplotlib.lines.Line2D at 0x14736eeb0>"
      ]
     },
     "execution_count": 143,
     "metadata": {},
     "output_type": "execute_result"
    },
    {
     "data": {
      "image/png": "[encoded data removed]",
      "text/plain": [
       "<Figure size 1200x400 with 1 Axes>"
      ]
     },
     "metadata": {},
     "output_type": "display_data"
    }
   ],
   "source": [
    "# comment\n",
    "a.sort_index().plot.bar()\n",
    "plt.axhline(y=0.507,color='red', linewidth=1,ls='--')"
   ]
  },
  {
   "cell_type": "code",
   "execution_count": 125,
   "id": "b9c2b651",
   "metadata": {},
   "outputs": [
    {
     "data": {
      "text/plain": [
       "<AxesSubplot:xlabel='wind'>"
      ]
     },
     "execution_count": 125,
     "metadata": {},
     "output_type": "execute_result"
    },
    {
     "data": {
      "image/png": "[encoded data removed]",
      "text/plain": [
       "<Figure size 1200x400 with 1 Axes>"
      ]
     },
     "metadata": {},
     "output_type": "display_data"
    }
   ],
   "source": [
    "wind_dist[wind_dist.index != 0].sort_index().plot.bar()"
   ]
  },
  {
   "cell_type": "markdown",
   "id": "872dc0d2",
   "metadata": {},
   "source": [
    "### Define WINDY and non-WINDY"
   ]
  },
  {
   "cell_type": "code",
   "execution_count": 37,
   "id": "aa3801d6",
   "metadata": {},
   "outputs": [],
   "source": [
    "train_windy = train[train.wind >= 13]\n",
    "train_not_windy = train[train.wind < 13]"
   ]
  },
  {
   "cell_type": "code",
   "execution_count": 38,
   "id": "860d9071",
   "metadata": {},
   "outputs": [
    {
     "data": {
      "text/plain": [
       "1    0.559964\n",
       "0    0.440036\n",
       "Name: is_under, dtype: float64"
      ]
     },
     "execution_count": 38,
     "metadata": {},
     "output_type": "execute_result"
    }
   ],
   "source": [
    "train_windy.is_under.value_counts(normalize=True)"
   ]
  },
  {
   "cell_type": "markdown",
   "id": "bb5455db",
   "metadata": {},
   "source": [
    "### Ok, done with WIND for now"
   ]
  },
  {
   "cell_type": "code",
   "execution_count": 109,
   "id": "03e90b8d",
   "metadata": {},
   "outputs": [],
   "source": [
    "a = pd.DataFrame(train.groupby(by='ou').is_under.mean())"
   ]
  },
  {
   "cell_type": "code",
   "execution_count": 110,
   "id": "9fc0f748",
   "metadata": {},
   "outputs": [],
   "source": [
    "b = pd.DataFrame(train.groupby(by='ou').ou.count())"
   ]
  },
  {
   "cell_type": "code",
   "execution_count": 111,
   "id": "1dd48f3c",
   "metadata": {},
   "outputs": [],
   "source": [
    "ou_dist = pd.concat([a,b],axis=1)\n",
    "ou_dist.columns = ['under_pct','count']"
   ]
  },
  {
   "cell_type": "code",
   "execution_count": 112,
   "id": "2c306389",
   "metadata": {
    "scrolled": true
   },
   "outputs": [
    {
     "data": {
      "text/html": [
       "<div>\n",
       "<style scoped>\n",
       "    .dataframe tbody tr th:only-of-type {\n",
       "        vertical-align: middle;\n",
       "    }\n",
       "\n",
       "    .dataframe tbody tr th {\n",
       "        vertical-align: top;\n",
       "    }\n",
       "\n",
       "    .dataframe thead th {\n",
       "        text-align: right;\n",
       "    }\n",
       "</style>\n",
       "<table border=\"1\" class=\"dataframe\">\n",
       "  <thead>\n",
       "    <tr style=\"text-align: right;\">\n",
       "      <th></th>\n",
       "      <th>under_pct</th>\n",
       "      <th>count</th>\n",
       "    </tr>\n",
       "    <tr>\n",
       "      <th>ou</th>\n",
       "      <th></th>\n",
       "      <th></th>\n",
       "    </tr>\n",
       "  </thead>\n",
       "  <tbody>\n",
       "    <tr>\n",
       "      <th>63.0</th>\n",
       "      <td>1.000000</td>\n",
       "      <td>1</td>\n",
       "    </tr>\n",
       "    <tr>\n",
       "      <th>36.6</th>\n",
       "      <td>1.000000</td>\n",
       "      <td>1</td>\n",
       "    </tr>\n",
       "    <tr>\n",
       "      <th>61.5</th>\n",
       "      <td>1.000000</td>\n",
       "      <td>1</td>\n",
       "    </tr>\n",
       "    <tr>\n",
       "      <th>31.5</th>\n",
       "      <td>0.800000</td>\n",
       "      <td>5</td>\n",
       "    </tr>\n",
       "    <tr>\n",
       "      <th>55.0</th>\n",
       "      <td>0.730769</td>\n",
       "      <td>26</td>\n",
       "    </tr>\n",
       "    <tr>\n",
       "      <th>...</th>\n",
       "      <td>...</td>\n",
       "      <td>...</td>\n",
       "    </tr>\n",
       "    <tr>\n",
       "      <th>54.5</th>\n",
       "      <td>0.277778</td>\n",
       "      <td>18</td>\n",
       "    </tr>\n",
       "    <tr>\n",
       "      <th>31.0</th>\n",
       "      <td>0.200000</td>\n",
       "      <td>5</td>\n",
       "    </tr>\n",
       "    <tr>\n",
       "      <th>58.5</th>\n",
       "      <td>0.000000</td>\n",
       "      <td>3</td>\n",
       "    </tr>\n",
       "    <tr>\n",
       "      <th>60.0</th>\n",
       "      <td>0.000000</td>\n",
       "      <td>2</td>\n",
       "    </tr>\n",
       "    <tr>\n",
       "      <th>28.0</th>\n",
       "      <td>0.000000</td>\n",
       "      <td>1</td>\n",
       "    </tr>\n",
       "  </tbody>\n",
       "</table>\n",
       "<p>61 rows × 2 columns</p>\n",
       "</div>"
      ],
      "text/plain": [
       "      under_pct  count\n",
       "ou                    \n",
       "63.0   1.000000      1\n",
       "36.6   1.000000      1\n",
       "61.5   1.000000      1\n",
       "31.5   0.800000      5\n",
       "55.0   0.730769     26\n",
       "...         ...    ...\n",
       "54.5   0.277778     18\n",
       "31.0   0.200000      5\n",
       "58.5   0.000000      3\n",
       "60.0   0.000000      2\n",
       "28.0   0.000000      1\n",
       "\n",
       "[61 rows x 2 columns]"
      ]
     },
     "execution_count": 112,
     "metadata": {},
     "output_type": "execute_result"
    }
   ],
   "source": [
    "ou_dist.sort_values('under_pct',ascending=False)"
   ]
  },
  {
   "cell_type": "code",
   "execution_count": 142,
   "id": "4386f305",
   "metadata": {},
   "outputs": [
    {
     "data": {
      "text/plain": [
       "<matplotlib.lines.Line2D at 0x146578250>"
      ]
     },
     "execution_count": 142,
     "metadata": {},
     "output_type": "execute_result"
    },
    {
     "data": {
      "image/png": "[encoded data removed]",
      "text/plain": [
       "<Figure size 1200x400 with 1 Axes>"
      ]
     },
     "metadata": {},
     "output_type": "display_data"
    }
   ],
   "source": [
    "\n",
    "a.sort_index().plot.bar()\n",
    "plt.axhline(y=0.5,color='red', linewidth=1,ls='--')"
   ]
  },
  {
   "cell_type": "code",
   "execution_count": 127,
   "id": "bbff639c",
   "metadata": {},
   "outputs": [
    {
     "data": {
      "text/plain": [
       "<AxesSubplot:xlabel='ou'>"
      ]
     },
     "execution_count": 127,
     "metadata": {},
     "output_type": "execute_result"
    },
    {
     "data": {
      "image/png": "[encoded data removed]",
      "text/plain": [
       "<Figure size 1200x400 with 1 Axes>"
      ]
     },
     "metadata": {},
     "output_type": "display_data"
    }
   ],
   "source": [
    "ou_dist[ou_dist.index != 0].sort_index().plot.bar()"
   ]
  },
  {
   "cell_type": "markdown",
   "id": "678e0970",
   "metadata": {},
   "source": [
    "### Quick look at heat map? You know you want to...  First, lets define a subset of cols"
   ]
  },
  {
   "cell_type": "code",
   "execution_count": 39,
   "id": "38120508",
   "metadata": {},
   "outputs": [
    {
     "data": {
      "text/plain": [
       "Index(['date', 'week_num', 'home_score', 'home_wins', 'away_score',\n",
       "       'away_wins', 'temp', 'humidity', 'wind', 'spread', 'ou', 'is_under',\n",
       "       'abnormal_start', 'total_scores', 'is_playoff', 'playoff_implications',\n",
       "       'is_turf', 'is_outdoor'],\n",
       "      dtype='object')"
      ]
     },
     "execution_count": 39,
     "metadata": {},
     "output_type": "execute_result"
    }
   ],
   "source": [
    "train.columns"
   ]
  },
  {
   "cell_type": "code",
   "execution_count": 40,
   "id": "52bcc9d3",
   "metadata": {},
   "outputs": [],
   "source": [
    "train_heat = train.drop(columns=['date','home_score','home_wins', 'away_score', \n",
    "                                 'away_wins', 'total_scores'])"
   ]
  },
  {
   "cell_type": "code",
   "execution_count": 41,
   "id": "d2e4d302",
   "metadata": {},
   "outputs": [
    {
     "data": {
      "image/png": "[encoded data removed]",
      "text/plain": [
       "<Figure size 1500x500 with 2 Axes>"
      ]
     },
     "metadata": {},
     "output_type": "display_data"
    }
   ],
   "source": [
    "fig = plt.figure(figsize=(15,5))\n",
    "sns.heatmap(train_heat.corr().abs(),\n",
    "           cmap='vlag',\n",
    "           annot=True,\n",
    "           #mask=np.triu(train.corr(),1)\n",
    "           )\n",
    "plt.show()"
   ]
  },
  {
   "cell_type": "markdown",
   "id": "10a97a0d",
   "metadata": {},
   "source": [
    "### Ok, no feature appears to correlate strongly with TARGET (is_under)"
   ]
  },
  {
   "cell_type": "markdown",
   "id": "6ba39b8a",
   "metadata": {},
   "source": [
    "## is_PLAYOFF vs TARGET: ALL games"
   ]
  },
  {
   "cell_type": "code",
   "execution_count": 42,
   "id": "0ae6e460",
   "metadata": {},
   "outputs": [
    {
     "data": {
      "text/plain": [
       "0    0.957039\n",
       "1    0.042961\n",
       "Name: is_playoff, dtype: float64"
      ]
     },
     "execution_count": 42,
     "metadata": {},
     "output_type": "execute_result"
    }
   ],
   "source": [
    "train.is_playoff.value_counts(normalize=True)"
   ]
  },
  {
   "cell_type": "code",
   "execution_count": 43,
   "id": "444c7bf8",
   "metadata": {
    "scrolled": true
   },
   "outputs": [
    {
     "data": {
      "text/plain": [
       "0    0.957764\n",
       "1    0.042236\n",
       "Name: is_playoff, dtype: float64"
      ]
     },
     "execution_count": 43,
     "metadata": {},
     "output_type": "execute_result"
    }
   ],
   "source": [
    "train[train['is_under'] == 1].is_playoff.value_counts(normalize=True)"
   ]
  },
  {
   "cell_type": "code",
   "execution_count": 44,
   "id": "a50e954f",
   "metadata": {
    "scrolled": true
   },
   "outputs": [
    {
     "data": {
      "text/plain": [
       "0    0.956289\n",
       "1    0.043711\n",
       "Name: is_playoff, dtype: float64"
      ]
     },
     "execution_count": 44,
     "metadata": {},
     "output_type": "execute_result"
    }
   ],
   "source": [
    "train[train['is_under'] == 0].is_playoff.value_counts(normalize=True)"
   ]
  },
  {
   "cell_type": "code",
   "execution_count": 45,
   "id": "53c808f7",
   "metadata": {
    "scrolled": true
   },
   "outputs": [
    {
     "data": {
      "text/plain": [
       "0    139\n",
       "1    139\n",
       "Name: is_under, dtype: int64"
      ]
     },
     "execution_count": 45,
     "metadata": {},
     "output_type": "execute_result"
    }
   ],
   "source": [
    "train[train['is_playoff'] == 1].is_under.value_counts()"
   ]
  },
  {
   "cell_type": "code",
   "execution_count": 46,
   "id": "28271928",
   "metadata": {
    "scrolled": false
   },
   "outputs": [
    {
     "data": {
      "text/plain": [
       "1    0.508962\n",
       "0    0.491038\n",
       "Name: is_under, dtype: float64"
      ]
     },
     "execution_count": 46,
     "metadata": {},
     "output_type": "execute_result"
    }
   ],
   "source": [
    "train[train['is_playoff'] == 0].is_under.value_counts(normalize=True)"
   ]
  },
  {
   "cell_type": "markdown",
   "id": "d9c3beff",
   "metadata": {},
   "source": [
    "## MEAN is_UNDER of ALL PLAYOFF games vs MEAN is_UNDER of ALL NON-PLAYOFF games\n",
    "### Does a statistically significant difference exist between MEAN is_UNDER of ALL PLAYOFF games vs MEAN is_UNDER of ALL NON-PLAYOFF games?\n",
    "#### T-test, 2-sample, 2-tailed\n",
    "### Hypotheses:\n",
    "- ${H_0}$: No statistically significant difference exists between MEAN is_UNDER of ALL PLAYOFF games and that of ALL NON-PLAYOFF games.\n",
    "- ${H_a}$: A statistically significant difference exists between MEAN is_UNDER of ALL PLAYOFF games and that of ALL NON-PLAYOFF games."
   ]
  },
  {
   "cell_type": "markdown",
   "id": "c81fcf8c",
   "metadata": {},
   "source": [
    "## chi$^{2}$"
   ]
  },
  {
   "cell_type": "code",
   "execution_count": 47,
   "id": "5d397373",
   "metadata": {},
   "outputs": [
    {
     "data": {
      "text/html": [
       "<div>\n",
       "<style scoped>\n",
       "    .dataframe tbody tr th:only-of-type {\n",
       "        vertical-align: middle;\n",
       "    }\n",
       "\n",
       "    .dataframe tbody tr th {\n",
       "        vertical-align: top;\n",
       "    }\n",
       "\n",
       "    .dataframe thead th {\n",
       "        text-align: right;\n",
       "    }\n",
       "</style>\n",
       "<table border=\"1\" class=\"dataframe\">\n",
       "  <thead>\n",
       "    <tr style=\"text-align: right;\">\n",
       "      <th>is_under</th>\n",
       "      <th>0</th>\n",
       "      <th>1</th>\n",
       "    </tr>\n",
       "    <tr>\n",
       "      <th>is_playoff</th>\n",
       "      <th></th>\n",
       "      <th></th>\n",
       "    </tr>\n",
       "  </thead>\n",
       "  <tbody>\n",
       "    <tr>\n",
       "      <th>0</th>\n",
       "      <td>3041</td>\n",
       "      <td>3152</td>\n",
       "    </tr>\n",
       "    <tr>\n",
       "      <th>1</th>\n",
       "      <td>139</td>\n",
       "      <td>139</td>\n",
       "    </tr>\n",
       "  </tbody>\n",
       "</table>\n",
       "</div>"
      ],
      "text/plain": [
       "is_under       0     1\n",
       "is_playoff            \n",
       "0           3041  3152\n",
       "1            139   139"
      ]
     },
     "execution_count": 47,
     "metadata": {},
     "output_type": "execute_result"
    }
   ],
   "source": [
    "observed = pd.crosstab(train.is_playoff, train.is_under)\n",
    "observed"
   ]
  },
  {
   "cell_type": "code",
   "execution_count": 48,
   "id": "ffc3b6b1",
   "metadata": {},
   "outputs": [],
   "source": [
    "chi2, p, degf, expected = stats.chi2_contingency(observed)"
   ]
  },
  {
   "cell_type": "code",
   "execution_count": 49,
   "id": "1326bbed",
   "metadata": {},
   "outputs": [
    {
     "data": {
      "text/plain": [
       "(0.8172521213831413,\n",
       " array([[3043.38433009, 3149.61566991],\n",
       "        [ 136.61566991,  141.38433009]]))"
      ]
     },
     "execution_count": 49,
     "metadata": {},
     "output_type": "execute_result"
    }
   ],
   "source": [
    "p,expected"
   ]
  },
  {
   "cell_type": "markdown",
   "id": "2ac0deba",
   "metadata": {},
   "source": [
    "### With a p-value well ABOVE $\\alpha$ = 0.05, we FAIL TO REJECT the null hypothesis.  There is evidence to suggest that the two samples were drawn from THE SAME population,  i.e. is_playoff may NOT play a role in determining the outcome of the wager."
   ]
  },
  {
   "cell_type": "markdown",
   "id": "37bd2917",
   "metadata": {},
   "source": [
    "## is_OUTDOOR vs TARGET: ALL games"
   ]
  },
  {
   "cell_type": "code",
   "execution_count": 50,
   "id": "35e0ff30",
   "metadata": {},
   "outputs": [
    {
     "data": {
      "text/plain": [
       "1    0.765569\n",
       "0    0.234431\n",
       "Name: is_outdoor, dtype: float64"
      ]
     },
     "execution_count": 50,
     "metadata": {},
     "output_type": "execute_result"
    }
   ],
   "source": [
    "train.is_outdoor.value_counts(normalize=True)"
   ]
  },
  {
   "cell_type": "code",
   "execution_count": 51,
   "id": "8e946dd6",
   "metadata": {
    "scrolled": true
   },
   "outputs": [
    {
     "data": {
      "text/plain": [
       "1    0.777575\n",
       "0    0.222425\n",
       "Name: is_outdoor, dtype: float64"
      ]
     },
     "execution_count": 51,
     "metadata": {},
     "output_type": "execute_result"
    }
   ],
   "source": [
    "train[train['is_under'] == 1].is_outdoor.value_counts(normalize=True)"
   ]
  },
  {
   "cell_type": "code",
   "execution_count": 52,
   "id": "2db64a02",
   "metadata": {
    "scrolled": true
   },
   "outputs": [
    {
     "data": {
      "text/plain": [
       "1    0.753145\n",
       "0    0.246855\n",
       "Name: is_outdoor, dtype: float64"
      ]
     },
     "execution_count": 52,
     "metadata": {},
     "output_type": "execute_result"
    }
   ],
   "source": [
    "train[train['is_under'] == 0].is_outdoor.value_counts(normalize=True)"
   ]
  },
  {
   "cell_type": "code",
   "execution_count": 53,
   "id": "3e0eab5b",
   "metadata": {
    "scrolled": true
   },
   "outputs": [
    {
     "data": {
      "text/plain": [
       "1    0.516552\n",
       "0    0.483448\n",
       "Name: is_under, dtype: float64"
      ]
     },
     "execution_count": 53,
     "metadata": {},
     "output_type": "execute_result"
    }
   ],
   "source": [
    "train[train['is_outdoor'] == 1].is_under.value_counts(normalize=True)"
   ]
  },
  {
   "cell_type": "code",
   "execution_count": 54,
   "id": "10a8ab35",
   "metadata": {
    "scrolled": false
   },
   "outputs": [
    {
     "data": {
      "text/plain": [
       "0    0.517469\n",
       "1    0.482531\n",
       "Name: is_under, dtype: float64"
      ]
     },
     "execution_count": 54,
     "metadata": {},
     "output_type": "execute_result"
    }
   ],
   "source": [
    "train[train['is_outdoor'] == 0].is_under.value_counts(normalize=True)"
   ]
  },
  {
   "cell_type": "markdown",
   "id": "0ce1f5be",
   "metadata": {},
   "source": [
    "## MEAN is_UNDER of ALL OUTDOOR games vs MEAN is_UNDER of ALL INDOOR games\n",
    "### Does a statistically significant difference exist between MEAN is_UNDER of ALL OUTDOOR games vs MEAN is_UNDER of ALL INDOOR games?\n",
    "#### T-test, 2-sample, 2-tailed\n",
    "### Hypotheses:\n",
    "- ${H_0}$: No statistically significant difference exists between MEAN is_UNDER of ALL OUTDOOR games and that of ALL INDOOR games.\n",
    "- ${H_a}$: A statistically significant difference exists between MEAN is_UNDER of ALL OUTDOOR games and that of ALL INDOOR games."
   ]
  },
  {
   "cell_type": "markdown",
   "id": "af08eeca",
   "metadata": {},
   "source": [
    "## chi$^{2}$"
   ]
  },
  {
   "cell_type": "code",
   "execution_count": 55,
   "id": "62e3e827",
   "metadata": {},
   "outputs": [
    {
     "data": {
      "text/html": [
       "<div>\n",
       "<style scoped>\n",
       "    .dataframe tbody tr th:only-of-type {\n",
       "        vertical-align: middle;\n",
       "    }\n",
       "\n",
       "    .dataframe tbody tr th {\n",
       "        vertical-align: top;\n",
       "    }\n",
       "\n",
       "    .dataframe thead th {\n",
       "        text-align: right;\n",
       "    }\n",
       "</style>\n",
       "<table border=\"1\" class=\"dataframe\">\n",
       "  <thead>\n",
       "    <tr style=\"text-align: right;\">\n",
       "      <th>is_under</th>\n",
       "      <th>0</th>\n",
       "      <th>1</th>\n",
       "    </tr>\n",
       "    <tr>\n",
       "      <th>is_outdoor</th>\n",
       "      <th></th>\n",
       "      <th></th>\n",
       "    </tr>\n",
       "  </thead>\n",
       "  <tbody>\n",
       "    <tr>\n",
       "      <th>0</th>\n",
       "      <td>785</td>\n",
       "      <td>732</td>\n",
       "    </tr>\n",
       "    <tr>\n",
       "      <th>1</th>\n",
       "      <td>2395</td>\n",
       "      <td>2559</td>\n",
       "    </tr>\n",
       "  </tbody>\n",
       "</table>\n",
       "</div>"
      ],
      "text/plain": [
       "is_under       0     1\n",
       "is_outdoor            \n",
       "0            785   732\n",
       "1           2395  2559"
      ]
     },
     "execution_count": 55,
     "metadata": {},
     "output_type": "execute_result"
    }
   ],
   "source": [
    "observed = pd.crosstab(train.is_outdoor, train.is_under)\n",
    "observed"
   ]
  },
  {
   "cell_type": "code",
   "execution_count": 56,
   "id": "6e032791",
   "metadata": {},
   "outputs": [],
   "source": [
    "chi2, p, degf, expected = stats.chi2_contingency(observed)"
   ]
  },
  {
   "cell_type": "code",
   "execution_count": 57,
   "id": "e536f1a4",
   "metadata": {},
   "outputs": [
    {
     "data": {
      "text/plain": [
       "(0.022033779296383678,\n",
       " array([[ 745.48910524,  771.51089476],\n",
       "        [2434.51089476, 2519.48910524]]))"
      ]
     },
     "execution_count": 57,
     "metadata": {},
     "output_type": "execute_result"
    }
   ],
   "source": [
    "p,expected"
   ]
  },
  {
   "cell_type": "markdown",
   "id": "d77a2a3e",
   "metadata": {},
   "source": [
    "### With a p-value BELOW $\\alpha$ = 0.05, we REJECT the null hypothesis.  There is evidence to suggest that the two samples were drawn from DIFFERENT populations,  i.e. is_OUTDOOR may play a role in determining the outcome of the wager."
   ]
  },
  {
   "cell_type": "markdown",
   "id": "e32fe022",
   "metadata": {},
   "source": [
    "## hjfh vs TARGET: ALL games"
   ]
  },
  {
   "cell_type": "code",
   "execution_count": 58,
   "id": "fc36ccd8",
   "metadata": {},
   "outputs": [
    {
     "data": {
      "text/plain": [
       "0    0.567918\n",
       "1    0.432082\n",
       "Name: playoff_implications, dtype: float64"
      ]
     },
     "execution_count": 58,
     "metadata": {},
     "output_type": "execute_result"
    }
   ],
   "source": [
    "train.playoff_implications.value_counts(normalize=True)"
   ]
  },
  {
   "cell_type": "code",
   "execution_count": 59,
   "id": "df0078ce",
   "metadata": {
    "scrolled": true
   },
   "outputs": [
    {
     "data": {
      "text/plain": [
       "0    0.569128\n",
       "1    0.430872\n",
       "Name: playoff_implications, dtype: float64"
      ]
     },
     "execution_count": 59,
     "metadata": {},
     "output_type": "execute_result"
    }
   ],
   "source": [
    "train[train['is_under'] == 1].playoff_implications.value_counts(normalize=True)"
   ]
  },
  {
   "cell_type": "code",
   "execution_count": 60,
   "id": "7643db52",
   "metadata": {
    "scrolled": true
   },
   "outputs": [
    {
     "data": {
      "text/plain": [
       "0    0.566667\n",
       "1    0.433333\n",
       "Name: playoff_implications, dtype: float64"
      ]
     },
     "execution_count": 60,
     "metadata": {},
     "output_type": "execute_result"
    }
   ],
   "source": [
    "train[train['is_under'] == 0].playoff_implications.value_counts(normalize=True)"
   ]
  },
  {
   "cell_type": "code",
   "execution_count": 61,
   "id": "78c72fa3",
   "metadata": {
    "scrolled": true
   },
   "outputs": [
    {
     "data": {
      "text/plain": [
       "1    0.507153\n",
       "0    0.492847\n",
       "Name: is_under, dtype: float64"
      ]
     },
     "execution_count": 61,
     "metadata": {},
     "output_type": "execute_result"
    }
   ],
   "source": [
    "train[train['playoff_implications'] == 1].is_under.value_counts(normalize=True)"
   ]
  },
  {
   "cell_type": "code",
   "execution_count": 62,
   "id": "11f8d437",
   "metadata": {
    "scrolled": false
   },
   "outputs": [
    {
     "data": {
      "text/plain": [
       "1    0.50966\n",
       "0    0.49034\n",
       "Name: is_under, dtype: float64"
      ]
     },
     "execution_count": 62,
     "metadata": {},
     "output_type": "execute_result"
    }
   ],
   "source": [
    "train[train['playoff_implications'] == 0].is_under.value_counts(normalize=True)"
   ]
  },
  {
   "cell_type": "markdown",
   "id": "7ac5e425",
   "metadata": {},
   "source": [
    "## chi$^{2}$"
   ]
  },
  {
   "cell_type": "code",
   "execution_count": 63,
   "id": "5a170103",
   "metadata": {},
   "outputs": [
    {
     "data": {
      "text/html": [
       "<div>\n",
       "<style scoped>\n",
       "    .dataframe tbody tr th:only-of-type {\n",
       "        vertical-align: middle;\n",
       "    }\n",
       "\n",
       "    .dataframe tbody tr th {\n",
       "        vertical-align: top;\n",
       "    }\n",
       "\n",
       "    .dataframe thead th {\n",
       "        text-align: right;\n",
       "    }\n",
       "</style>\n",
       "<table border=\"1\" class=\"dataframe\">\n",
       "  <thead>\n",
       "    <tr style=\"text-align: right;\">\n",
       "      <th>is_under</th>\n",
       "      <th>0</th>\n",
       "      <th>1</th>\n",
       "    </tr>\n",
       "    <tr>\n",
       "      <th>playoff_implications</th>\n",
       "      <th></th>\n",
       "      <th></th>\n",
       "    </tr>\n",
       "  </thead>\n",
       "  <tbody>\n",
       "    <tr>\n",
       "      <th>0</th>\n",
       "      <td>1802</td>\n",
       "      <td>1873</td>\n",
       "    </tr>\n",
       "    <tr>\n",
       "      <th>1</th>\n",
       "      <td>1378</td>\n",
       "      <td>1418</td>\n",
       "    </tr>\n",
       "  </tbody>\n",
       "</table>\n",
       "</div>"
      ],
      "text/plain": [
       "is_under                 0     1\n",
       "playoff_implications            \n",
       "0                     1802  1873\n",
       "1                     1378  1418"
      ]
     },
     "execution_count": 63,
     "metadata": {},
     "output_type": "execute_result"
    }
   ],
   "source": [
    "observed = pd.crosstab(train.playoff_implications, train.is_under)\n",
    "observed"
   ]
  },
  {
   "cell_type": "code",
   "execution_count": 64,
   "id": "5e5048e0",
   "metadata": {},
   "outputs": [],
   "source": [
    "chi2, p, degf, expected = stats.chi2_contingency(observed)"
   ]
  },
  {
   "cell_type": "code",
   "execution_count": 65,
   "id": "a79aa690",
   "metadata": {},
   "outputs": [
    {
     "data": {
      "text/plain": [
       "(0.8613044195827566,\n",
       " array([[1805.98052851, 1869.01947149],\n",
       "        [1374.01947149, 1421.98052851]]),\n",
       " 1)"
      ]
     },
     "execution_count": 65,
     "metadata": {},
     "output_type": "execute_result"
    }
   ],
   "source": [
    "p,expected,degf"
   ]
  },
  {
   "cell_type": "code",
   "execution_count": 66,
   "id": "0872c45b",
   "metadata": {},
   "outputs": [],
   "source": [
    "# # type \"\\alpha\", then hit the TAB key\n",
    "# α = 0.05\n",
    "# playimp_under_values = train[train.playoff_implications == 1].is_under\n",
    "# noplayimp_under_values = train[train.playoff_implications == 0].is_under\n",
    "# t, p = stats.ttest_ind(playimp_under_values,noplayimp_under_values,equal_var=True)\n",
    "# print(t,p,α)\n",
    "# print(f'p = {p:f}')"
   ]
  },
  {
   "cell_type": "markdown",
   "id": "8c9a5249",
   "metadata": {},
   "source": [
    "## is_TURF vs TARGET: ALL games"
   ]
  },
  {
   "cell_type": "code",
   "execution_count": 67,
   "id": "bbccc7a1",
   "metadata": {},
   "outputs": [
    {
     "data": {
      "text/plain": [
       "0    0.542884\n",
       "1    0.457116\n",
       "Name: is_turf, dtype: float64"
      ]
     },
     "execution_count": 67,
     "metadata": {},
     "output_type": "execute_result"
    }
   ],
   "source": [
    "train.is_turf.value_counts(normalize=True)"
   ]
  },
  {
   "cell_type": "code",
   "execution_count": 68,
   "id": "698e8c81",
   "metadata": {
    "scrolled": true
   },
   "outputs": [
    {
     "data": {
      "text/plain": [
       "0    0.556366\n",
       "1    0.443634\n",
       "Name: is_turf, dtype: float64"
      ]
     },
     "execution_count": 68,
     "metadata": {},
     "output_type": "execute_result"
    }
   ],
   "source": [
    "train[train['is_under'] == 1].is_turf.value_counts(normalize=True)"
   ]
  },
  {
   "cell_type": "code",
   "execution_count": 69,
   "id": "b11ac501",
   "metadata": {
    "scrolled": true
   },
   "outputs": [
    {
     "data": {
      "text/plain": [
       "0    0.528931\n",
       "1    0.471069\n",
       "Name: is_turf, dtype: float64"
      ]
     },
     "execution_count": 69,
     "metadata": {},
     "output_type": "execute_result"
    }
   ],
   "source": [
    "train[train['is_under'] == 0].is_turf.value_counts(normalize=True)"
   ]
  },
  {
   "cell_type": "code",
   "execution_count": 70,
   "id": "33d7aeb2",
   "metadata": {
    "scrolled": true
   },
   "outputs": [
    {
     "data": {
      "text/plain": [
       "0    0.506423\n",
       "1    0.493577\n",
       "Name: is_under, dtype: float64"
      ]
     },
     "execution_count": 70,
     "metadata": {},
     "output_type": "execute_result"
    }
   ],
   "source": [
    "train[train['is_turf'] == 1].is_under.value_counts(normalize=True)"
   ]
  },
  {
   "cell_type": "code",
   "execution_count": 71,
   "id": "cfcde180",
   "metadata": {
    "scrolled": false
   },
   "outputs": [
    {
     "data": {
      "text/plain": [
       "1    0.521207\n",
       "0    0.478793\n",
       "Name: is_under, dtype: float64"
      ]
     },
     "execution_count": 71,
     "metadata": {},
     "output_type": "execute_result"
    }
   ],
   "source": [
    "train[train['is_turf'] == 0].is_under.value_counts(normalize=True)"
   ]
  },
  {
   "cell_type": "markdown",
   "id": "56f12554",
   "metadata": {},
   "source": [
    "## chi$^{2}$"
   ]
  },
  {
   "cell_type": "code",
   "execution_count": 72,
   "id": "4b108ed1",
   "metadata": {},
   "outputs": [
    {
     "data": {
      "text/html": [
       "<div>\n",
       "<style scoped>\n",
       "    .dataframe tbody tr th:only-of-type {\n",
       "        vertical-align: middle;\n",
       "    }\n",
       "\n",
       "    .dataframe tbody tr th {\n",
       "        vertical-align: top;\n",
       "    }\n",
       "\n",
       "    .dataframe thead th {\n",
       "        text-align: right;\n",
       "    }\n",
       "</style>\n",
       "<table border=\"1\" class=\"dataframe\">\n",
       "  <thead>\n",
       "    <tr style=\"text-align: right;\">\n",
       "      <th>is_under</th>\n",
       "      <th>0</th>\n",
       "      <th>1</th>\n",
       "    </tr>\n",
       "    <tr>\n",
       "      <th>is_turf</th>\n",
       "      <th></th>\n",
       "      <th></th>\n",
       "    </tr>\n",
       "  </thead>\n",
       "  <tbody>\n",
       "    <tr>\n",
       "      <th>0</th>\n",
       "      <td>1682</td>\n",
       "      <td>1831</td>\n",
       "    </tr>\n",
       "    <tr>\n",
       "      <th>1</th>\n",
       "      <td>1498</td>\n",
       "      <td>1460</td>\n",
       "    </tr>\n",
       "  </tbody>\n",
       "</table>\n",
       "</div>"
      ],
      "text/plain": [
       "is_under     0     1\n",
       "is_turf             \n",
       "0         1682  1831\n",
       "1         1498  1460"
      ]
     },
     "execution_count": 72,
     "metadata": {},
     "output_type": "execute_result"
    }
   ],
   "source": [
    "observed = pd.crosstab(train.is_turf, train.is_under)\n",
    "observed"
   ]
  },
  {
   "cell_type": "code",
   "execution_count": 73,
   "id": "29b09bba",
   "metadata": {},
   "outputs": [],
   "source": [
    "chi2, p, degf, expected = stats.chi2_contingency(observed)"
   ]
  },
  {
   "cell_type": "code",
   "execution_count": 74,
   "id": "a7101958",
   "metadata": {},
   "outputs": [
    {
     "data": {
      "text/plain": [
       "(0.028537205035039762,\n",
       " array([[1726.36995828, 1786.63004172],\n",
       "        [1453.63004172, 1504.36995828]]))"
      ]
     },
     "execution_count": 74,
     "metadata": {},
     "output_type": "execute_result"
    }
   ],
   "source": [
    "p,expected"
   ]
  },
  {
   "cell_type": "code",
   "execution_count": 75,
   "id": "3db622ba",
   "metadata": {},
   "outputs": [],
   "source": [
    "# # type \"\\alpha\", then hit the TAB key\n",
    "# α = 0.05\n",
    "# turf_under_values = train[train.is_turf == 1].is_under\n",
    "# grass_under_values = train[train.is_turf == 0].is_under\n",
    "# t, p = stats.ttest_ind(turf_under_values,grass_under_values,equal_var=True)\n",
    "# print(t,p,α)\n",
    "# print(f'p = {p:f}')"
   ]
  },
  {
   "cell_type": "markdown",
   "id": "5f46d81f",
   "metadata": {},
   "source": [
    "## ABNORMAL_start vs TARGET: ALL games"
   ]
  },
  {
   "cell_type": "code",
   "execution_count": 76,
   "id": "b1f8abf9",
   "metadata": {},
   "outputs": [
    {
     "data": {
      "text/plain": [
       "0    0.81533\n",
       "1    0.18467\n",
       "Name: abnormal_start, dtype: float64"
      ]
     },
     "execution_count": 76,
     "metadata": {},
     "output_type": "execute_result"
    }
   ],
   "source": [
    "train.abnormal_start.value_counts(normalize=True)"
   ]
  },
  {
   "cell_type": "code",
   "execution_count": 77,
   "id": "797c0a62",
   "metadata": {
    "scrolled": true
   },
   "outputs": [
    {
     "data": {
      "text/plain": [
       "0    0.80948\n",
       "1    0.19052\n",
       "Name: abnormal_start, dtype: float64"
      ]
     },
     "execution_count": 77,
     "metadata": {},
     "output_type": "execute_result"
    }
   ],
   "source": [
    "train[train['is_under'] == 1].abnormal_start.value_counts(normalize=True)"
   ]
  },
  {
   "cell_type": "code",
   "execution_count": 78,
   "id": "12c1fe5f",
   "metadata": {
    "scrolled": true
   },
   "outputs": [
    {
     "data": {
      "text/plain": [
       "0    0.821384\n",
       "1    0.178616\n",
       "Name: abnormal_start, dtype: float64"
      ]
     },
     "execution_count": 78,
     "metadata": {},
     "output_type": "execute_result"
    }
   ],
   "source": [
    "train[train['is_under'] == 0].abnormal_start.value_counts(normalize=True)"
   ]
  },
  {
   "cell_type": "code",
   "execution_count": 79,
   "id": "5b6d9a75",
   "metadata": {
    "scrolled": true
   },
   "outputs": [
    {
     "data": {
      "text/plain": [
       "1    0.524686\n",
       "0    0.475314\n",
       "Name: is_under, dtype: float64"
      ]
     },
     "execution_count": 79,
     "metadata": {},
     "output_type": "execute_result"
    }
   ],
   "source": [
    "train[train['abnormal_start'] == 1].is_under.value_counts(normalize=True)"
   ]
  },
  {
   "cell_type": "code",
   "execution_count": 80,
   "id": "30d004aa",
   "metadata": {
    "scrolled": false
   },
   "outputs": [
    {
     "data": {
      "text/plain": [
       "1    0.504928\n",
       "0    0.495072\n",
       "Name: is_under, dtype: float64"
      ]
     },
     "execution_count": 80,
     "metadata": {},
     "output_type": "execute_result"
    }
   ],
   "source": [
    "train[train['abnormal_start'] == 0].is_under.value_counts(normalize=True)"
   ]
  },
  {
   "cell_type": "markdown",
   "id": "a32bd4b2",
   "metadata": {},
   "source": [
    "## chi$^{2}$"
   ]
  },
  {
   "cell_type": "code",
   "execution_count": 81,
   "id": "a6738b36",
   "metadata": {},
   "outputs": [
    {
     "data": {
      "text/html": [
       "<div>\n",
       "<style scoped>\n",
       "    .dataframe tbody tr th:only-of-type {\n",
       "        vertical-align: middle;\n",
       "    }\n",
       "\n",
       "    .dataframe tbody tr th {\n",
       "        vertical-align: top;\n",
       "    }\n",
       "\n",
       "    .dataframe thead th {\n",
       "        text-align: right;\n",
       "    }\n",
       "</style>\n",
       "<table border=\"1\" class=\"dataframe\">\n",
       "  <thead>\n",
       "    <tr style=\"text-align: right;\">\n",
       "      <th>is_under</th>\n",
       "      <th>0</th>\n",
       "      <th>1</th>\n",
       "    </tr>\n",
       "    <tr>\n",
       "      <th>abnormal_start</th>\n",
       "      <th></th>\n",
       "      <th></th>\n",
       "    </tr>\n",
       "  </thead>\n",
       "  <tbody>\n",
       "    <tr>\n",
       "      <th>0</th>\n",
       "      <td>2612</td>\n",
       "      <td>2664</td>\n",
       "    </tr>\n",
       "    <tr>\n",
       "      <th>1</th>\n",
       "      <td>568</td>\n",
       "      <td>627</td>\n",
       "    </tr>\n",
       "  </tbody>\n",
       "</table>\n",
       "</div>"
      ],
      "text/plain": [
       "is_under           0     1\n",
       "abnormal_start            \n",
       "0               2612  2664\n",
       "1                568   627"
      ]
     },
     "execution_count": 81,
     "metadata": {},
     "output_type": "execute_result"
    }
   ],
   "source": [
    "observed = pd.crosstab(train.abnormal_start, train.is_under)\n",
    "observed"
   ]
  },
  {
   "cell_type": "code",
   "execution_count": 82,
   "id": "6acb3af6",
   "metadata": {},
   "outputs": [],
   "source": [
    "chi2, p, degf, expected = stats.chi2_contingency(observed)"
   ]
  },
  {
   "cell_type": "code",
   "execution_count": 83,
   "id": "129d8bce",
   "metadata": {},
   "outputs": [
    {
     "data": {
      "text/plain": [
       "(0.22951489890087268,\n",
       " array([[2592.74918869, 2683.25081131],\n",
       "        [ 587.25081131,  607.74918869]]),\n",
       " 1)"
      ]
     },
     "execution_count": 83,
     "metadata": {},
     "output_type": "execute_result"
    }
   ],
   "source": [
    "p,expected,degf"
   ]
  },
  {
   "cell_type": "code",
   "execution_count": 84,
   "id": "31206043",
   "metadata": {},
   "outputs": [],
   "source": [
    "# # type \"\\alpha\", then hit the TAB key\n",
    "# α = 0.05\n",
    "# abnormal_under_values = train[train.abnormal_start == 1].is_under\n",
    "# normal_under_values = train[train.abnormal_start == 0].is_under\n",
    "# t, p = stats.ttest_ind(abnormal_under_values,normal_under_values,equal_var=True)\n",
    "# print(t,p,α)\n",
    "# print(f'p = {p:f}')"
   ]
  },
  {
   "cell_type": "markdown",
   "id": "eacc662e",
   "metadata": {},
   "source": [
    "## HUMIDITY vs TARGET"
   ]
  },
  {
   "cell_type": "code",
   "execution_count": 85,
   "id": "2d0e991c",
   "metadata": {},
   "outputs": [
    {
     "name": "stdout",
     "output_type": "stream",
     "text": [
      "0.639260902861447 0.5226827866142616 0.05\n",
      "p = 0.522683\n"
     ]
    }
   ],
   "source": [
    "# type \"\\alpha\", then hit the TAB key\n",
    "α = 0.05\n",
    "humidity_under_values = train_outdoor[train_outdoor.is_under == 1].humidity\n",
    "humidity_over_values = train_outdoor[train_outdoor.is_under == 0].humidity\n",
    "t, p = stats.ttest_ind(humidity_under_values,humidity_over_values,equal_var=True)\n",
    "print(t,p,α)\n",
    "print(f'p = {p:f}')"
   ]
  },
  {
   "cell_type": "markdown",
   "id": "bdd852e0",
   "metadata": {},
   "source": [
    "# NOW MULTI-FACTOR vs TARGET"
   ]
  },
  {
   "cell_type": "code",
   "execution_count": 86,
   "id": "7a649acb",
   "metadata": {},
   "outputs": [
    {
     "data": {
      "text/html": [
       "<div>\n",
       "<style scoped>\n",
       "    .dataframe tbody tr th:only-of-type {\n",
       "        vertical-align: middle;\n",
       "    }\n",
       "\n",
       "    .dataframe tbody tr th {\n",
       "        vertical-align: top;\n",
       "    }\n",
       "\n",
       "    .dataframe thead th {\n",
       "        text-align: right;\n",
       "    }\n",
       "</style>\n",
       "<table border=\"1\" class=\"dataframe\">\n",
       "  <thead>\n",
       "    <tr style=\"text-align: right;\">\n",
       "      <th></th>\n",
       "      <th>date</th>\n",
       "      <th>week_num</th>\n",
       "      <th>home_score</th>\n",
       "      <th>home_wins</th>\n",
       "      <th>away_score</th>\n",
       "      <th>away_wins</th>\n",
       "      <th>temp</th>\n",
       "      <th>humidity</th>\n",
       "      <th>wind</th>\n",
       "      <th>spread</th>\n",
       "      <th>ou</th>\n",
       "      <th>is_under</th>\n",
       "      <th>abnormal_start</th>\n",
       "      <th>total_scores</th>\n",
       "      <th>is_playoff</th>\n",
       "      <th>playoff_implications</th>\n",
       "      <th>is_turf</th>\n",
       "      <th>is_outdoor</th>\n",
       "    </tr>\n",
       "  </thead>\n",
       "  <tbody>\n",
       "    <tr>\n",
       "      <th>3117</th>\n",
       "      <td>2011-10-16</td>\n",
       "      <td>6</td>\n",
       "      <td>17</td>\n",
       "      <td>3</td>\n",
       "      <td>13</td>\n",
       "      <td>1</td>\n",
       "      <td>58</td>\n",
       "      <td>52</td>\n",
       "      <td>10</td>\n",
       "      <td>12.5</td>\n",
       "      <td>40.0</td>\n",
       "      <td>1</td>\n",
       "      <td>0</td>\n",
       "      <td>30</td>\n",
       "      <td>0</td>\n",
       "      <td>0</td>\n",
       "      <td>0</td>\n",
       "      <td>1</td>\n",
       "    </tr>\n",
       "    <tr>\n",
       "      <th>9819</th>\n",
       "      <td>1983-11-27</td>\n",
       "      <td>13</td>\n",
       "      <td>26</td>\n",
       "      <td>5</td>\n",
       "      <td>3</td>\n",
       "      <td>6</td>\n",
       "      <td>51</td>\n",
       "      <td>49</td>\n",
       "      <td>14</td>\n",
       "      <td>5.0</td>\n",
       "      <td>39.5</td>\n",
       "      <td>1</td>\n",
       "      <td>0</td>\n",
       "      <td>29</td>\n",
       "      <td>0</td>\n",
       "      <td>1</td>\n",
       "      <td>0</td>\n",
       "      <td>1</td>\n",
       "    </tr>\n",
       "    <tr>\n",
       "      <th>6200</th>\n",
       "      <td>1999-11-07</td>\n",
       "      <td>9</td>\n",
       "      <td>12</td>\n",
       "      <td>1</td>\n",
       "      <td>7</td>\n",
       "      <td>2</td>\n",
       "      <td>48</td>\n",
       "      <td>37</td>\n",
       "      <td>20</td>\n",
       "      <td>7.0</td>\n",
       "      <td>35.0</td>\n",
       "      <td>1</td>\n",
       "      <td>0</td>\n",
       "      <td>19</td>\n",
       "      <td>0</td>\n",
       "      <td>0</td>\n",
       "      <td>1</td>\n",
       "      <td>1</td>\n",
       "    </tr>\n",
       "    <tr>\n",
       "      <th>10797</th>\n",
       "      <td>1979-09-03</td>\n",
       "      <td>1</td>\n",
       "      <td>13</td>\n",
       "      <td>0</td>\n",
       "      <td>16</td>\n",
       "      <td>0</td>\n",
       "      <td>78</td>\n",
       "      <td>80</td>\n",
       "      <td>13</td>\n",
       "      <td>2.0</td>\n",
       "      <td>37.0</td>\n",
       "      <td>1</td>\n",
       "      <td>1</td>\n",
       "      <td>29</td>\n",
       "      <td>0</td>\n",
       "      <td>0</td>\n",
       "      <td>1</td>\n",
       "      <td>1</td>\n",
       "    </tr>\n",
       "    <tr>\n",
       "      <th>2022</th>\n",
       "      <td>2015-11-08</td>\n",
       "      <td>9</td>\n",
       "      <td>28</td>\n",
       "      <td>4</td>\n",
       "      <td>23</td>\n",
       "      <td>2</td>\n",
       "      <td>56</td>\n",
       "      <td>36</td>\n",
       "      <td>10</td>\n",
       "      <td>8.0</td>\n",
       "      <td>42.0</td>\n",
       "      <td>0</td>\n",
       "      <td>0</td>\n",
       "      <td>51</td>\n",
       "      <td>0</td>\n",
       "      <td>0</td>\n",
       "      <td>1</td>\n",
       "      <td>1</td>\n",
       "    </tr>\n",
       "    <tr>\n",
       "      <th>...</th>\n",
       "      <td>...</td>\n",
       "      <td>...</td>\n",
       "      <td>...</td>\n",
       "      <td>...</td>\n",
       "      <td>...</td>\n",
       "      <td>...</td>\n",
       "      <td>...</td>\n",
       "      <td>...</td>\n",
       "      <td>...</td>\n",
       "      <td>...</td>\n",
       "      <td>...</td>\n",
       "      <td>...</td>\n",
       "      <td>...</td>\n",
       "      <td>...</td>\n",
       "      <td>...</td>\n",
       "      <td>...</td>\n",
       "      <td>...</td>\n",
       "      <td>...</td>\n",
       "    </tr>\n",
       "    <tr>\n",
       "      <th>304</th>\n",
       "      <td>2022-01-09</td>\n",
       "      <td>18</td>\n",
       "      <td>27</td>\n",
       "      <td>10</td>\n",
       "      <td>10</td>\n",
       "      <td>4</td>\n",
       "      <td>36</td>\n",
       "      <td>67</td>\n",
       "      <td>19</td>\n",
       "      <td>16.5</td>\n",
       "      <td>40.5</td>\n",
       "      <td>1</td>\n",
       "      <td>0</td>\n",
       "      <td>37</td>\n",
       "      <td>0</td>\n",
       "      <td>1</td>\n",
       "      <td>1</td>\n",
       "      <td>1</td>\n",
       "    </tr>\n",
       "    <tr>\n",
       "      <th>4269</th>\n",
       "      <td>2006-12-30</td>\n",
       "      <td>17</td>\n",
       "      <td>28</td>\n",
       "      <td>5</td>\n",
       "      <td>34</td>\n",
       "      <td>7</td>\n",
       "      <td>48</td>\n",
       "      <td>65</td>\n",
       "      <td>7</td>\n",
       "      <td>2.0</td>\n",
       "      <td>43.0</td>\n",
       "      <td>0</td>\n",
       "      <td>1</td>\n",
       "      <td>62</td>\n",
       "      <td>0</td>\n",
       "      <td>1</td>\n",
       "      <td>0</td>\n",
       "      <td>1</td>\n",
       "    </tr>\n",
       "    <tr>\n",
       "      <th>133</th>\n",
       "      <td>2022-11-17</td>\n",
       "      <td>11</td>\n",
       "      <td>17</td>\n",
       "      <td>4</td>\n",
       "      <td>27</td>\n",
       "      <td>6</td>\n",
       "      <td>25</td>\n",
       "      <td>81</td>\n",
       "      <td>11</td>\n",
       "      <td>3.0</td>\n",
       "      <td>41.0</td>\n",
       "      <td>0</td>\n",
       "      <td>1</td>\n",
       "      <td>44</td>\n",
       "      <td>0</td>\n",
       "      <td>1</td>\n",
       "      <td>0</td>\n",
       "      <td>1</td>\n",
       "    </tr>\n",
       "    <tr>\n",
       "      <th>5294</th>\n",
       "      <td>2003-01-12</td>\n",
       "      <td>19</td>\n",
       "      <td>31</td>\n",
       "      <td>12</td>\n",
       "      <td>6</td>\n",
       "      <td>11</td>\n",
       "      <td>54</td>\n",
       "      <td>34</td>\n",
       "      <td>10</td>\n",
       "      <td>6.0</td>\n",
       "      <td>39.5</td>\n",
       "      <td>1</td>\n",
       "      <td>0</td>\n",
       "      <td>37</td>\n",
       "      <td>1</td>\n",
       "      <td>1</td>\n",
       "      <td>0</td>\n",
       "      <td>1</td>\n",
       "    </tr>\n",
       "    <tr>\n",
       "      <th>9097</th>\n",
       "      <td>1986-12-21</td>\n",
       "      <td>16</td>\n",
       "      <td>14</td>\n",
       "      <td>5</td>\n",
       "      <td>21</td>\n",
       "      <td>11</td>\n",
       "      <td>38</td>\n",
       "      <td>60</td>\n",
       "      <td>10</td>\n",
       "      <td>4.0</td>\n",
       "      <td>38.0</td>\n",
       "      <td>1</td>\n",
       "      <td>0</td>\n",
       "      <td>35</td>\n",
       "      <td>0</td>\n",
       "      <td>1</td>\n",
       "      <td>1</td>\n",
       "      <td>1</td>\n",
       "    </tr>\n",
       "  </tbody>\n",
       "</table>\n",
       "<p>4954 rows × 18 columns</p>\n",
       "</div>"
      ],
      "text/plain": [
       "             date  week_num  home_score  home_wins  away_score  away_wins  \\\n",
       "3117   2011-10-16         6          17          3          13          1   \n",
       "9819   1983-11-27        13          26          5           3          6   \n",
       "6200   1999-11-07         9          12          1           7          2   \n",
       "10797  1979-09-03         1          13          0          16          0   \n",
       "2022   2015-11-08         9          28          4          23          2   \n",
       "...           ...       ...         ...        ...         ...        ...   \n",
       "304    2022-01-09        18          27         10          10          4   \n",
       "4269   2006-12-30        17          28          5          34          7   \n",
       "133    2022-11-17        11          17          4          27          6   \n",
       "5294   2003-01-12        19          31         12           6         11   \n",
       "9097   1986-12-21        16          14          5          21         11   \n",
       "\n",
       "       temp  humidity  wind  spread    ou  is_under  abnormal_start  \\\n",
       "3117     58        52    10    12.5  40.0         1               0   \n",
       "9819     51        49    14     5.0  39.5         1               0   \n",
       "6200     48        37    20     7.0  35.0         1               0   \n",
       "10797    78        80    13     2.0  37.0         1               1   \n",
       "2022     56        36    10     8.0  42.0         0               0   \n",
       "...     ...       ...   ...     ...   ...       ...             ...   \n",
       "304      36        67    19    16.5  40.5         1               0   \n",
       "4269     48        65     7     2.0  43.0         0               1   \n",
       "133      25        81    11     3.0  41.0         0               1   \n",
       "5294     54        34    10     6.0  39.5         1               0   \n",
       "9097     38        60    10     4.0  38.0         1               0   \n",
       "\n",
       "       total_scores  is_playoff  playoff_implications  is_turf  is_outdoor  \n",
       "3117             30           0                     0        0           1  \n",
       "9819             29           0                     1        0           1  \n",
       "6200             19           0                     0        1           1  \n",
       "10797            29           0                     0        1           1  \n",
       "2022             51           0                     0        1           1  \n",
       "...             ...         ...                   ...      ...         ...  \n",
       "304              37           0                     1        1           1  \n",
       "4269             62           0                     1        0           1  \n",
       "133              44           0                     1        0           1  \n",
       "5294             37           1                     1        0           1  \n",
       "9097             35           0                     1        1           1  \n",
       "\n",
       "[4954 rows x 18 columns]"
      ]
     },
     "execution_count": 86,
     "metadata": {},
     "output_type": "execute_result"
    }
   ],
   "source": [
    "train_outdoor"
   ]
  },
  {
   "cell_type": "code",
   "execution_count": 87,
   "id": "444deeed",
   "metadata": {},
   "outputs": [
    {
     "data": {
      "text/html": [
       "<div>\n",
       "<style scoped>\n",
       "    .dataframe tbody tr th:only-of-type {\n",
       "        vertical-align: middle;\n",
       "    }\n",
       "\n",
       "    .dataframe tbody tr th {\n",
       "        vertical-align: top;\n",
       "    }\n",
       "\n",
       "    .dataframe thead th {\n",
       "        text-align: right;\n",
       "    }\n",
       "</style>\n",
       "<table border=\"1\" class=\"dataframe\">\n",
       "  <thead>\n",
       "    <tr style=\"text-align: right;\">\n",
       "      <th></th>\n",
       "      <th>date</th>\n",
       "      <th>week_num</th>\n",
       "      <th>home_score</th>\n",
       "      <th>home_wins</th>\n",
       "      <th>away_score</th>\n",
       "      <th>away_wins</th>\n",
       "      <th>temp</th>\n",
       "      <th>humidity</th>\n",
       "      <th>wind</th>\n",
       "      <th>spread</th>\n",
       "      <th>ou</th>\n",
       "      <th>is_under</th>\n",
       "      <th>abnormal_start</th>\n",
       "      <th>total_scores</th>\n",
       "      <th>is_playoff</th>\n",
       "      <th>playoff_implications</th>\n",
       "      <th>is_turf</th>\n",
       "      <th>is_outdoor</th>\n",
       "    </tr>\n",
       "  </thead>\n",
       "  <tbody>\n",
       "    <tr>\n",
       "      <th>1713</th>\n",
       "      <td>2016-11-27</td>\n",
       "      <td>12</td>\n",
       "      <td>38</td>\n",
       "      <td>6</td>\n",
       "      <td>19</td>\n",
       "      <td>4</td>\n",
       "      <td>72</td>\n",
       "      <td>0</td>\n",
       "      <td>0</td>\n",
       "      <td>4.0</td>\n",
       "      <td>49.0</td>\n",
       "      <td>0</td>\n",
       "      <td>0</td>\n",
       "      <td>57</td>\n",
       "      <td>0</td>\n",
       "      <td>1</td>\n",
       "      <td>1</td>\n",
       "      <td>0</td>\n",
       "    </tr>\n",
       "    <tr>\n",
       "      <th>2164</th>\n",
       "      <td>2014-12-28</td>\n",
       "      <td>17</td>\n",
       "      <td>23</td>\n",
       "      <td>8</td>\n",
       "      <td>17</td>\n",
       "      <td>3</td>\n",
       "      <td>72</td>\n",
       "      <td>0</td>\n",
       "      <td>0</td>\n",
       "      <td>7.5</td>\n",
       "      <td>38.0</td>\n",
       "      <td>0</td>\n",
       "      <td>0</td>\n",
       "      <td>40</td>\n",
       "      <td>0</td>\n",
       "      <td>1</td>\n",
       "      <td>0</td>\n",
       "      <td>0</td>\n",
       "    </tr>\n",
       "    <tr>\n",
       "      <th>2554</th>\n",
       "      <td>2013-11-03</td>\n",
       "      <td>9</td>\n",
       "      <td>24</td>\n",
       "      <td>2</td>\n",
       "      <td>27</td>\n",
       "      <td>5</td>\n",
       "      <td>72</td>\n",
       "      <td>0</td>\n",
       "      <td>0</td>\n",
       "      <td>1.0</td>\n",
       "      <td>42.5</td>\n",
       "      <td>0</td>\n",
       "      <td>1</td>\n",
       "      <td>51</td>\n",
       "      <td>0</td>\n",
       "      <td>0</td>\n",
       "      <td>0</td>\n",
       "      <td>0</td>\n",
       "    </tr>\n",
       "    <tr>\n",
       "      <th>2727</th>\n",
       "      <td>2012-12-16</td>\n",
       "      <td>15</td>\n",
       "      <td>38</td>\n",
       "      <td>4</td>\n",
       "      <td>10</td>\n",
       "      <td>4</td>\n",
       "      <td>72</td>\n",
       "      <td>0</td>\n",
       "      <td>0</td>\n",
       "      <td>6.5</td>\n",
       "      <td>43.5</td>\n",
       "      <td>0</td>\n",
       "      <td>0</td>\n",
       "      <td>48</td>\n",
       "      <td>0</td>\n",
       "      <td>0</td>\n",
       "      <td>0</td>\n",
       "      <td>0</td>\n",
       "    </tr>\n",
       "    <tr>\n",
       "      <th>6255</th>\n",
       "      <td>1999-10-10</td>\n",
       "      <td>5</td>\n",
       "      <td>42</td>\n",
       "      <td>3</td>\n",
       "      <td>20</td>\n",
       "      <td>3</td>\n",
       "      <td>72</td>\n",
       "      <td>0</td>\n",
       "      <td>0</td>\n",
       "      <td>3.0</td>\n",
       "      <td>45.5</td>\n",
       "      <td>0</td>\n",
       "      <td>0</td>\n",
       "      <td>62</td>\n",
       "      <td>0</td>\n",
       "      <td>0</td>\n",
       "      <td>1</td>\n",
       "      <td>0</td>\n",
       "    </tr>\n",
       "    <tr>\n",
       "      <th>...</th>\n",
       "      <td>...</td>\n",
       "      <td>...</td>\n",
       "      <td>...</td>\n",
       "      <td>...</td>\n",
       "      <td>...</td>\n",
       "      <td>...</td>\n",
       "      <td>...</td>\n",
       "      <td>...</td>\n",
       "      <td>...</td>\n",
       "      <td>...</td>\n",
       "      <td>...</td>\n",
       "      <td>...</td>\n",
       "      <td>...</td>\n",
       "      <td>...</td>\n",
       "      <td>...</td>\n",
       "      <td>...</td>\n",
       "      <td>...</td>\n",
       "      <td>...</td>\n",
       "    </tr>\n",
       "    <tr>\n",
       "      <th>5406</th>\n",
       "      <td>2002-11-17</td>\n",
       "      <td>11</td>\n",
       "      <td>24</td>\n",
       "      <td>5</td>\n",
       "      <td>17</td>\n",
       "      <td>7</td>\n",
       "      <td>72</td>\n",
       "      <td>0</td>\n",
       "      <td>0</td>\n",
       "      <td>1.5</td>\n",
       "      <td>51.0</td>\n",
       "      <td>1</td>\n",
       "      <td>0</td>\n",
       "      <td>41</td>\n",
       "      <td>0</td>\n",
       "      <td>1</td>\n",
       "      <td>1</td>\n",
       "      <td>0</td>\n",
       "    </tr>\n",
       "    <tr>\n",
       "      <th>4264</th>\n",
       "      <td>2006-12-31</td>\n",
       "      <td>17</td>\n",
       "      <td>27</td>\n",
       "      <td>11</td>\n",
       "      <td>22</td>\n",
       "      <td>6</td>\n",
       "      <td>72</td>\n",
       "      <td>0</td>\n",
       "      <td>0</td>\n",
       "      <td>9.0</td>\n",
       "      <td>43.5</td>\n",
       "      <td>0</td>\n",
       "      <td>0</td>\n",
       "      <td>49</td>\n",
       "      <td>0</td>\n",
       "      <td>1</td>\n",
       "      <td>1</td>\n",
       "      <td>0</td>\n",
       "    </tr>\n",
       "    <tr>\n",
       "      <th>514</th>\n",
       "      <td>2021-09-27</td>\n",
       "      <td>3</td>\n",
       "      <td>41</td>\n",
       "      <td>1</td>\n",
       "      <td>21</td>\n",
       "      <td>1</td>\n",
       "      <td>72</td>\n",
       "      <td>0</td>\n",
       "      <td>0</td>\n",
       "      <td>3.5</td>\n",
       "      <td>51.5</td>\n",
       "      <td>0</td>\n",
       "      <td>1</td>\n",
       "      <td>62</td>\n",
       "      <td>0</td>\n",
       "      <td>0</td>\n",
       "      <td>1</td>\n",
       "      <td>0</td>\n",
       "    </tr>\n",
       "    <tr>\n",
       "      <th>9900</th>\n",
       "      <td>1983-10-16</td>\n",
       "      <td>7</td>\n",
       "      <td>13</td>\n",
       "      <td>4</td>\n",
       "      <td>32</td>\n",
       "      <td>4</td>\n",
       "      <td>72</td>\n",
       "      <td>0</td>\n",
       "      <td>0</td>\n",
       "      <td>1.0</td>\n",
       "      <td>44.5</td>\n",
       "      <td>0</td>\n",
       "      <td>0</td>\n",
       "      <td>45</td>\n",
       "      <td>0</td>\n",
       "      <td>0</td>\n",
       "      <td>1</td>\n",
       "      <td>0</td>\n",
       "    </tr>\n",
       "    <tr>\n",
       "      <th>1263</th>\n",
       "      <td>2018-10-18</td>\n",
       "      <td>7</td>\n",
       "      <td>10</td>\n",
       "      <td>1</td>\n",
       "      <td>45</td>\n",
       "      <td>2</td>\n",
       "      <td>72</td>\n",
       "      <td>0</td>\n",
       "      <td>0</td>\n",
       "      <td>1.0</td>\n",
       "      <td>42.5</td>\n",
       "      <td>0</td>\n",
       "      <td>1</td>\n",
       "      <td>55</td>\n",
       "      <td>0</td>\n",
       "      <td>0</td>\n",
       "      <td>0</td>\n",
       "      <td>0</td>\n",
       "    </tr>\n",
       "  </tbody>\n",
       "</table>\n",
       "<p>1517 rows × 18 columns</p>\n",
       "</div>"
      ],
      "text/plain": [
       "            date  week_num  home_score  home_wins  away_score  away_wins  \\\n",
       "1713  2016-11-27        12          38          6          19          4   \n",
       "2164  2014-12-28        17          23          8          17          3   \n",
       "2554  2013-11-03         9          24          2          27          5   \n",
       "2727  2012-12-16        15          38          4          10          4   \n",
       "6255  1999-10-10         5          42          3          20          3   \n",
       "...          ...       ...         ...        ...         ...        ...   \n",
       "5406  2002-11-17        11          24          5          17          7   \n",
       "4264  2006-12-31        17          27         11          22          6   \n",
       "514   2021-09-27         3          41          1          21          1   \n",
       "9900  1983-10-16         7          13          4          32          4   \n",
       "1263  2018-10-18         7          10          1          45          2   \n",
       "\n",
       "      temp  humidity  wind  spread    ou  is_under  abnormal_start  \\\n",
       "1713    72         0     0     4.0  49.0         0               0   \n",
       "2164    72         0     0     7.5  38.0         0               0   \n",
       "2554    72         0     0     1.0  42.5         0               1   \n",
       "2727    72         0     0     6.5  43.5         0               0   \n",
       "6255    72         0     0     3.0  45.5         0               0   \n",
       "...    ...       ...   ...     ...   ...       ...             ...   \n",
       "5406    72         0     0     1.5  51.0         1               0   \n",
       "4264    72         0     0     9.0  43.5         0               0   \n",
       "514     72         0     0     3.5  51.5         0               1   \n",
       "9900    72         0     0     1.0  44.5         0               0   \n",
       "1263    72         0     0     1.0  42.5         0               1   \n",
       "\n",
       "      total_scores  is_playoff  playoff_implications  is_turf  is_outdoor  \n",
       "1713            57           0                     1        1           0  \n",
       "2164            40           0                     1        0           0  \n",
       "2554            51           0                     0        0           0  \n",
       "2727            48           0                     0        0           0  \n",
       "6255            62           0                     0        1           0  \n",
       "...            ...         ...                   ...      ...         ...  \n",
       "5406            41           0                     1        1           0  \n",
       "4264            49           0                     1        1           0  \n",
       "514             62           0                     0        1           0  \n",
       "9900            45           0                     0        1           0  \n",
       "1263            55           0                     0        0           0  \n",
       "\n",
       "[1517 rows x 18 columns]"
      ]
     },
     "execution_count": 87,
     "metadata": {},
     "output_type": "execute_result"
    }
   ],
   "source": [
    "train_indoor"
   ]
  },
  {
   "cell_type": "markdown",
   "id": "c0bc9558",
   "metadata": {},
   "source": [
    "## INDOOR/PLAYOFF vs TARGET"
   ]
  },
  {
   "cell_type": "markdown",
   "id": "2c194f3e",
   "metadata": {},
   "source": [
    "## chi$^{2}$"
   ]
  },
  {
   "cell_type": "code",
   "execution_count": 88,
   "id": "f4e3b6b5",
   "metadata": {},
   "outputs": [
    {
     "data": {
      "text/html": [
       "<div>\n",
       "<style scoped>\n",
       "    .dataframe tbody tr th:only-of-type {\n",
       "        vertical-align: middle;\n",
       "    }\n",
       "\n",
       "    .dataframe tbody tr th {\n",
       "        vertical-align: top;\n",
       "    }\n",
       "\n",
       "    .dataframe thead th {\n",
       "        text-align: right;\n",
       "    }\n",
       "</style>\n",
       "<table border=\"1\" class=\"dataframe\">\n",
       "  <thead>\n",
       "    <tr style=\"text-align: right;\">\n",
       "      <th>is_under</th>\n",
       "      <th>0</th>\n",
       "      <th>1</th>\n",
       "    </tr>\n",
       "    <tr>\n",
       "      <th>is_playoff</th>\n",
       "      <th></th>\n",
       "      <th></th>\n",
       "    </tr>\n",
       "  </thead>\n",
       "  <tbody>\n",
       "    <tr>\n",
       "      <th>0</th>\n",
       "      <td>752</td>\n",
       "      <td>711</td>\n",
       "    </tr>\n",
       "    <tr>\n",
       "      <th>1</th>\n",
       "      <td>33</td>\n",
       "      <td>21</td>\n",
       "    </tr>\n",
       "  </tbody>\n",
       "</table>\n",
       "</div>"
      ],
      "text/plain": [
       "is_under      0    1\n",
       "is_playoff          \n",
       "0           752  711\n",
       "1            33   21"
      ]
     },
     "execution_count": 88,
     "metadata": {},
     "output_type": "execute_result"
    }
   ],
   "source": [
    "observed = pd.crosstab(train_indoor.is_playoff, train_indoor.is_under)\n",
    "observed"
   ]
  },
  {
   "cell_type": "code",
   "execution_count": 89,
   "id": "63880362",
   "metadata": {},
   "outputs": [],
   "source": [
    "chi2, p, degf, expected = stats.chi2_contingency(observed)"
   ]
  },
  {
   "cell_type": "code",
   "execution_count": 90,
   "id": "aed77b28",
   "metadata": {},
   "outputs": [
    {
     "data": {
      "text/plain": [
       "(0.20636432873979696,\n",
       " array([[757.05669084, 705.94330916],\n",
       "        [ 27.94330916,  26.05669084]]),\n",
       " 1)"
      ]
     },
     "execution_count": 90,
     "metadata": {},
     "output_type": "execute_result"
    }
   ],
   "source": [
    "p,expected,degf"
   ]
  },
  {
   "cell_type": "markdown",
   "id": "72bd6e20",
   "metadata": {},
   "source": [
    "## INDOOR/ABNORMAL vs TARGET"
   ]
  },
  {
   "cell_type": "markdown",
   "id": "65e71173",
   "metadata": {},
   "source": [
    "## chi$^{2}$"
   ]
  },
  {
   "cell_type": "code",
   "execution_count": 91,
   "id": "c14f0f51",
   "metadata": {},
   "outputs": [
    {
     "data": {
      "text/html": [
       "<div>\n",
       "<style scoped>\n",
       "    .dataframe tbody tr th:only-of-type {\n",
       "        vertical-align: middle;\n",
       "    }\n",
       "\n",
       "    .dataframe tbody tr th {\n",
       "        vertical-align: top;\n",
       "    }\n",
       "\n",
       "    .dataframe thead th {\n",
       "        text-align: right;\n",
       "    }\n",
       "</style>\n",
       "<table border=\"1\" class=\"dataframe\">\n",
       "  <thead>\n",
       "    <tr style=\"text-align: right;\">\n",
       "      <th>is_under</th>\n",
       "      <th>0</th>\n",
       "      <th>1</th>\n",
       "    </tr>\n",
       "    <tr>\n",
       "      <th>abnormal_start</th>\n",
       "      <th></th>\n",
       "      <th></th>\n",
       "    </tr>\n",
       "  </thead>\n",
       "  <tbody>\n",
       "    <tr>\n",
       "      <th>0</th>\n",
       "      <td>627</td>\n",
       "      <td>594</td>\n",
       "    </tr>\n",
       "    <tr>\n",
       "      <th>1</th>\n",
       "      <td>158</td>\n",
       "      <td>138</td>\n",
       "    </tr>\n",
       "  </tbody>\n",
       "</table>\n",
       "</div>"
      ],
      "text/plain": [
       "is_under          0    1\n",
       "abnormal_start          \n",
       "0               627  594\n",
       "1               158  138"
      ]
     },
     "execution_count": 91,
     "metadata": {},
     "output_type": "execute_result"
    }
   ],
   "source": [
    "observed = pd.crosstab(train_indoor.abnormal_start, train_indoor.is_under)\n",
    "observed"
   ]
  },
  {
   "cell_type": "code",
   "execution_count": 92,
   "id": "c78116be",
   "metadata": {},
   "outputs": [],
   "source": [
    "chi2, p, degf, expected = stats.chi2_contingency(observed)"
   ]
  },
  {
   "cell_type": "code",
   "execution_count": 93,
   "id": "f703933d",
   "metadata": {
    "scrolled": true
   },
   "outputs": [
    {
     "data": {
      "text/plain": [
       "(0.5745897176595309,\n",
       " array([[631.82926829, 589.17073171],\n",
       "        [153.17073171, 142.82926829]]),\n",
       " 1)"
      ]
     },
     "execution_count": 93,
     "metadata": {},
     "output_type": "execute_result"
    }
   ],
   "source": [
    "p,expected,degf"
   ]
  },
  {
   "cell_type": "markdown",
   "id": "2d73aa4a",
   "metadata": {},
   "source": [
    "## OUTDOOR/ABNORMAL vs TARGET"
   ]
  },
  {
   "cell_type": "markdown",
   "id": "c5fa1209",
   "metadata": {},
   "source": [
    "## chi$^{2}$"
   ]
  },
  {
   "cell_type": "code",
   "execution_count": 94,
   "id": "e8a1b851",
   "metadata": {},
   "outputs": [
    {
     "data": {
      "text/html": [
       "<div>\n",
       "<style scoped>\n",
       "    .dataframe tbody tr th:only-of-type {\n",
       "        vertical-align: middle;\n",
       "    }\n",
       "\n",
       "    .dataframe tbody tr th {\n",
       "        vertical-align: top;\n",
       "    }\n",
       "\n",
       "    .dataframe thead th {\n",
       "        text-align: right;\n",
       "    }\n",
       "</style>\n",
       "<table border=\"1\" class=\"dataframe\">\n",
       "  <thead>\n",
       "    <tr style=\"text-align: right;\">\n",
       "      <th>is_under</th>\n",
       "      <th>0</th>\n",
       "      <th>1</th>\n",
       "    </tr>\n",
       "    <tr>\n",
       "      <th>abnormal_start</th>\n",
       "      <th></th>\n",
       "      <th></th>\n",
       "    </tr>\n",
       "  </thead>\n",
       "  <tbody>\n",
       "    <tr>\n",
       "      <th>0</th>\n",
       "      <td>1985</td>\n",
       "      <td>2070</td>\n",
       "    </tr>\n",
       "    <tr>\n",
       "      <th>1</th>\n",
       "      <td>410</td>\n",
       "      <td>489</td>\n",
       "    </tr>\n",
       "  </tbody>\n",
       "</table>\n",
       "</div>"
      ],
      "text/plain": [
       "is_under           0     1\n",
       "abnormal_start            \n",
       "0               1985  2070\n",
       "1                410   489"
      ]
     },
     "execution_count": 94,
     "metadata": {},
     "output_type": "execute_result"
    }
   ],
   "source": [
    "observed = pd.crosstab(train_outdoor.abnormal_start, train_outdoor.is_under)\n",
    "observed"
   ]
  },
  {
   "cell_type": "code",
   "execution_count": 95,
   "id": "79661dae",
   "metadata": {},
   "outputs": [],
   "source": [
    "chi2, p, degf, expected = stats.chi2_contingency(observed)"
   ]
  },
  {
   "cell_type": "code",
   "execution_count": 96,
   "id": "c0b723fe",
   "metadata": {},
   "outputs": [
    {
     "data": {
      "text/plain": [
       "(0.07519734651407439,\n",
       " array([[1960.38050061, 2094.61949939],\n",
       "        [ 434.61949939,  464.38050061]]),\n",
       " 1)"
      ]
     },
     "execution_count": 96,
     "metadata": {},
     "output_type": "execute_result"
    }
   ],
   "source": [
    "p,expected,degf"
   ]
  },
  {
   "cell_type": "markdown",
   "id": "0550d475",
   "metadata": {},
   "source": [
    "## WINDY/ABNORMAL vs TARGET"
   ]
  },
  {
   "cell_type": "markdown",
   "id": "03bfd448",
   "metadata": {},
   "source": [
    "## chi$^{2}$"
   ]
  },
  {
   "cell_type": "code",
   "execution_count": 97,
   "id": "bd1dea1a",
   "metadata": {},
   "outputs": [
    {
     "data": {
      "text/html": [
       "<div>\n",
       "<style scoped>\n",
       "    .dataframe tbody tr th:only-of-type {\n",
       "        vertical-align: middle;\n",
       "    }\n",
       "\n",
       "    .dataframe tbody tr th {\n",
       "        vertical-align: top;\n",
       "    }\n",
       "\n",
       "    .dataframe thead th {\n",
       "        text-align: right;\n",
       "    }\n",
       "</style>\n",
       "<table border=\"1\" class=\"dataframe\">\n",
       "  <thead>\n",
       "    <tr style=\"text-align: right;\">\n",
       "      <th>is_under</th>\n",
       "      <th>0</th>\n",
       "      <th>1</th>\n",
       "    </tr>\n",
       "    <tr>\n",
       "      <th>abnormal_start</th>\n",
       "      <th></th>\n",
       "      <th></th>\n",
       "    </tr>\n",
       "  </thead>\n",
       "  <tbody>\n",
       "    <tr>\n",
       "      <th>0</th>\n",
       "      <td>424</td>\n",
       "      <td>523</td>\n",
       "    </tr>\n",
       "    <tr>\n",
       "      <th>1</th>\n",
       "      <td>64</td>\n",
       "      <td>98</td>\n",
       "    </tr>\n",
       "  </tbody>\n",
       "</table>\n",
       "</div>"
      ],
      "text/plain": [
       "is_under          0    1\n",
       "abnormal_start          \n",
       "0               424  523\n",
       "1                64   98"
      ]
     },
     "execution_count": 97,
     "metadata": {},
     "output_type": "execute_result"
    }
   ],
   "source": [
    "observed = pd.crosstab(train_windy.abnormal_start, train_windy.is_under)\n",
    "observed"
   ]
  },
  {
   "cell_type": "code",
   "execution_count": 98,
   "id": "51dd2205",
   "metadata": {},
   "outputs": [],
   "source": [
    "chi2, p, degf, expected = stats.chi2_contingency(observed)"
   ]
  },
  {
   "cell_type": "code",
   "execution_count": 99,
   "id": "de59cb60",
   "metadata": {},
   "outputs": [
    {
     "data": {
      "text/plain": [
       "(0.2451193998891348,\n",
       " array([[416.7141569, 530.2858431],\n",
       "        [ 71.2858431,  90.7141569]]),\n",
       " 1)"
      ]
     },
     "execution_count": 99,
     "metadata": {},
     "output_type": "execute_result"
    }
   ],
   "source": [
    "p,expected,degf"
   ]
  },
  {
   "cell_type": "markdown",
   "id": "44c418ac",
   "metadata": {},
   "source": [
    "## OUTDOOR/PLAYOFF_IMPLICATIONs vs TARGET"
   ]
  },
  {
   "cell_type": "markdown",
   "id": "af97ee89",
   "metadata": {},
   "source": [
    "## chi$^{2}$"
   ]
  },
  {
   "cell_type": "code",
   "execution_count": 100,
   "id": "725be534",
   "metadata": {},
   "outputs": [
    {
     "data": {
      "text/html": [
       "<div>\n",
       "<style scoped>\n",
       "    .dataframe tbody tr th:only-of-type {\n",
       "        vertical-align: middle;\n",
       "    }\n",
       "\n",
       "    .dataframe tbody tr th {\n",
       "        vertical-align: top;\n",
       "    }\n",
       "\n",
       "    .dataframe thead th {\n",
       "        text-align: right;\n",
       "    }\n",
       "</style>\n",
       "<table border=\"1\" class=\"dataframe\">\n",
       "  <thead>\n",
       "    <tr style=\"text-align: right;\">\n",
       "      <th>is_under</th>\n",
       "      <th>0</th>\n",
       "      <th>1</th>\n",
       "    </tr>\n",
       "    <tr>\n",
       "      <th>playoff_implications</th>\n",
       "      <th></th>\n",
       "      <th></th>\n",
       "    </tr>\n",
       "  </thead>\n",
       "  <tbody>\n",
       "    <tr>\n",
       "      <th>0</th>\n",
       "      <td>1352</td>\n",
       "      <td>1472</td>\n",
       "    </tr>\n",
       "    <tr>\n",
       "      <th>1</th>\n",
       "      <td>1043</td>\n",
       "      <td>1087</td>\n",
       "    </tr>\n",
       "  </tbody>\n",
       "</table>\n",
       "</div>"
      ],
      "text/plain": [
       "is_under                 0     1\n",
       "playoff_implications            \n",
       "0                     1352  1472\n",
       "1                     1043  1087"
      ]
     },
     "execution_count": 100,
     "metadata": {},
     "output_type": "execute_result"
    }
   ],
   "source": [
    "observed = pd.crosstab(train_outdoor.playoff_implications, train_outdoor.is_under)\n",
    "observed"
   ]
  },
  {
   "cell_type": "code",
   "execution_count": 101,
   "id": "c5f85990",
   "metadata": {},
   "outputs": [],
   "source": [
    "chi2, p, degf, expected = stats.chi2_contingency(observed)"
   ]
  },
  {
   "cell_type": "code",
   "execution_count": 102,
   "id": "c00891b0",
   "metadata": {},
   "outputs": [
    {
     "data": {
      "text/plain": [
       "(0.46381914927066503,\n",
       " array([[1365.2563585, 1458.7436415],\n",
       "        [1029.7436415, 1100.2563585]]),\n",
       " 1)"
      ]
     },
     "execution_count": 102,
     "metadata": {},
     "output_type": "execute_result"
    }
   ],
   "source": [
    "p,expected,degf"
   ]
  },
  {
   "cell_type": "code",
   "execution_count": null,
   "id": "6ab96f85",
   "metadata": {},
   "outputs": [],
   "source": []
  },
  {
   "cell_type": "code",
   "execution_count": null,
   "id": "b231b961",
   "metadata": {},
   "outputs": [],
   "source": []
  },
  {
   "cell_type": "code",
   "execution_count": null,
   "id": "710e5214",
   "metadata": {},
   "outputs": [],
   "source": []
  },
  {
   "cell_type": "code",
   "execution_count": null,
   "id": "aa87ed2d",
   "metadata": {},
   "outputs": [],
   "source": []
  }
 ],
 "metadata": {
  "kernelspec": {
   "display_name": "Python 3 (ipykernel)",
   "language": "python",
   "name": "python3"
  },
  "language_info": {
   "codemirror_mode": {
    "name": "ipython",
    "version": 3
   },
   "file_extension": ".py",
   "mimetype": "text/x-python",
   "name": "python",
   "nbconvert_exporter": "python",
   "pygments_lexer": "ipython3",
   "version": "3.9.13"
  }
 },
 "nbformat": 4,
 "nbformat_minor": 5
}
