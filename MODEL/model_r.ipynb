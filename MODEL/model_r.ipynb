{
 "cells": [
  {
   "cell_type": "code",
   "execution_count": 51,
   "id": "e07ab7fa",
   "metadata": {},
   "outputs": [],
   "source": [
    "#standard ds imports\n",
    "import pandas as pd\n",
    "import numpy as np\n",
    "#viz and stats\n",
    "import matplotlib.pyplot as plt\n",
    "import seaborn as sns\n",
    "from scipy import stats\n",
    "# .py imports\n",
    "#import wranglerer as wr\n",
    "#import modeling as md\n",
    "import os\n",
    "#sklearn imports\n",
    "from sklearn.model_selection import train_test_split\n",
    "import sklearn.preprocessing\n",
    "from sklearn.neighbors import KNeighborsClassifier\n",
    "from sklearn.metrics import classification_report, accuracy_score,confusion_matrix, plot_confusion_matrix\n",
    "from sklearn.linear_model import LogisticRegression\n",
    "from sklearn.tree import DecisionTreeClassifier\n",
    "from sklearn.ensemble import RandomForestClassifier, GradientBoostingClassifier\n",
    "#CATboost imports\n",
    "from catboost import CatBoostClassifier\n",
    "from sklearn.preprocessing import StandardScaler\n",
    "from sklearn.neural_network import MLPClassifier\n",
    "import explore_r as ex\n",
    "from sklearn.naive_bayes import GaussianNB\n",
    "from sklearn.svm import SVC"
   ]
  },
  {
   "cell_type": "markdown",
   "id": "5b307ecd",
   "metadata": {},
   "source": [
    "### This notebook contains the basic building blocks for running a single instance of each ML algorithm.  There is some minor tinkering with hyperparameters, however, this is more of an exploratory step-through of each of the algorithms (vanila-ish)."
   ]
  },
  {
   "cell_type": "code",
   "execution_count": 2,
   "id": "82187ef2",
   "metadata": {},
   "outputs": [],
   "source": [
    "df = pd.read_csv('prepped_data.csv')"
   ]
  },
  {
   "cell_type": "code",
   "execution_count": 50,
   "id": "67797a67",
   "metadata": {},
   "outputs": [
    {
     "name": "stdout",
     "output_type": "stream",
     "text": [
      "<class 'pandas.core.frame.DataFrame'>\n",
      "RangeIndex: 10811 entries, 0 to 10810\n",
      "Data columns (total 12 columns):\n",
      " #   Column                Non-Null Count  Dtype  \n",
      "---  ------                --------------  -----  \n",
      " 0   week_num              10811 non-null  int64  \n",
      " 1   temp                  10811 non-null  int64  \n",
      " 2   humidity              10811 non-null  int64  \n",
      " 3   wind                  10811 non-null  int64  \n",
      " 4   spread                10811 non-null  float64\n",
      " 5   ou                    10811 non-null  float64\n",
      " 6   is_under              10811 non-null  int64  \n",
      " 7   abnormal_start        10811 non-null  int64  \n",
      " 8   is_playoff            10811 non-null  int64  \n",
      " 9   playoff_implications  10811 non-null  int64  \n",
      " 10  is_turf               10811 non-null  int64  \n",
      " 11  is_outdoor            10811 non-null  int64  \n",
      "dtypes: float64(2), int64(10)\n",
      "memory usage: 1013.7 KB\n"
     ]
    }
   ],
   "source": [
    "df.info()"
   ]
  },
  {
   "cell_type": "code",
   "execution_count": 4,
   "id": "816fef2b",
   "metadata": {},
   "outputs": [
    {
     "data": {
      "text/plain": [
       "Index(['date', 'day_of_week', 'start_time', 'week_num', 'home_score',\n",
       "       'home_wins', 'away_score', 'away_wins', 'stadium', 'temp', 'humidity',\n",
       "       'wind', 'spread', 'ou', 'is_under', 'abnormal_start', 'total_scores',\n",
       "       'is_playoff', 'playoff_implications', 'is_turf', 'is_outdoor'],\n",
       "      dtype='object')"
      ]
     },
     "execution_count": 4,
     "metadata": {},
     "output_type": "execute_result"
    }
   ],
   "source": [
    "df.columns"
   ]
  },
  {
   "cell_type": "code",
   "execution_count": 5,
   "id": "89c1a041",
   "metadata": {},
   "outputs": [],
   "source": [
    "df = df.drop(columns=['date', 'day_of_week', 'start_time','home_score',\n",
    "       'home_wins', 'away_score', 'away_wins','stadium','total_scores'])"
   ]
  },
  {
   "cell_type": "code",
   "execution_count": 6,
   "id": "856d4fdc",
   "metadata": {},
   "outputs": [
    {
     "data": {
      "text/html": [
       "<div>\n",
       "<style scoped>\n",
       "    .dataframe tbody tr th:only-of-type {\n",
       "        vertical-align: middle;\n",
       "    }\n",
       "\n",
       "    .dataframe tbody tr th {\n",
       "        vertical-align: top;\n",
       "    }\n",
       "\n",
       "    .dataframe thead th {\n",
       "        text-align: right;\n",
       "    }\n",
       "</style>\n",
       "<table border=\"1\" class=\"dataframe\">\n",
       "  <thead>\n",
       "    <tr style=\"text-align: right;\">\n",
       "      <th></th>\n",
       "      <th>week_num</th>\n",
       "      <th>temp</th>\n",
       "      <th>humidity</th>\n",
       "      <th>wind</th>\n",
       "      <th>spread</th>\n",
       "      <th>ou</th>\n",
       "      <th>is_under</th>\n",
       "      <th>abnormal_start</th>\n",
       "      <th>is_playoff</th>\n",
       "      <th>playoff_implications</th>\n",
       "      <th>is_turf</th>\n",
       "      <th>is_outdoor</th>\n",
       "    </tr>\n",
       "  </thead>\n",
       "  <tbody>\n",
       "    <tr>\n",
       "      <th>0</th>\n",
       "      <td>19</td>\n",
       "      <td>72</td>\n",
       "      <td>0</td>\n",
       "      <td>0</td>\n",
       "      <td>1.0</td>\n",
       "      <td>51.0</td>\n",
       "      <td>0</td>\n",
       "      <td>0</td>\n",
       "      <td>1</td>\n",
       "      <td>1</td>\n",
       "      <td>0</td>\n",
       "      <td>0</td>\n",
       "    </tr>\n",
       "    <tr>\n",
       "      <th>1</th>\n",
       "      <td>19</td>\n",
       "      <td>52</td>\n",
       "      <td>48</td>\n",
       "      <td>14</td>\n",
       "      <td>2.5</td>\n",
       "      <td>45.5</td>\n",
       "      <td>1</td>\n",
       "      <td>0</td>\n",
       "      <td>1</td>\n",
       "      <td>1</td>\n",
       "      <td>0</td>\n",
       "      <td>1</td>\n",
       "    </tr>\n",
       "    <tr>\n",
       "      <th>2</th>\n",
       "      <td>19</td>\n",
       "      <td>22</td>\n",
       "      <td>55</td>\n",
       "      <td>13</td>\n",
       "      <td>1.5</td>\n",
       "      <td>48.0</td>\n",
       "      <td>1</td>\n",
       "      <td>0</td>\n",
       "      <td>1</td>\n",
       "      <td>1</td>\n",
       "      <td>0</td>\n",
       "      <td>1</td>\n",
       "    </tr>\n",
       "    <tr>\n",
       "      <th>3</th>\n",
       "      <td>19</td>\n",
       "      <td>32</td>\n",
       "      <td>10</td>\n",
       "      <td>0</td>\n",
       "      <td>5.5</td>\n",
       "      <td>49.0</td>\n",
       "      <td>1</td>\n",
       "      <td>0</td>\n",
       "      <td>1</td>\n",
       "      <td>1</td>\n",
       "      <td>1</td>\n",
       "      <td>1</td>\n",
       "    </tr>\n",
       "    <tr>\n",
       "      <th>4</th>\n",
       "      <td>19</td>\n",
       "      <td>55</td>\n",
       "      <td>47</td>\n",
       "      <td>19</td>\n",
       "      <td>4.0</td>\n",
       "      <td>47.0</td>\n",
       "      <td>1</td>\n",
       "      <td>0</td>\n",
       "      <td>1</td>\n",
       "      <td>1</td>\n",
       "      <td>0</td>\n",
       "      <td>1</td>\n",
       "    </tr>\n",
       "    <tr>\n",
       "      <th>...</th>\n",
       "      <td>...</td>\n",
       "      <td>...</td>\n",
       "      <td>...</td>\n",
       "      <td>...</td>\n",
       "      <td>...</td>\n",
       "      <td>...</td>\n",
       "      <td>...</td>\n",
       "      <td>...</td>\n",
       "      <td>...</td>\n",
       "      <td>...</td>\n",
       "      <td>...</td>\n",
       "      <td>...</td>\n",
       "    </tr>\n",
       "    <tr>\n",
       "      <th>10806</th>\n",
       "      <td>1</td>\n",
       "      <td>76</td>\n",
       "      <td>71</td>\n",
       "      <td>8</td>\n",
       "      <td>1.0</td>\n",
       "      <td>37.0</td>\n",
       "      <td>1</td>\n",
       "      <td>0</td>\n",
       "      <td>0</td>\n",
       "      <td>0</td>\n",
       "      <td>1</td>\n",
       "      <td>1</td>\n",
       "    </tr>\n",
       "    <tr>\n",
       "      <th>10807</th>\n",
       "      <td>1</td>\n",
       "      <td>73</td>\n",
       "      <td>76</td>\n",
       "      <td>10</td>\n",
       "      <td>2.0</td>\n",
       "      <td>41.0</td>\n",
       "      <td>0</td>\n",
       "      <td>0</td>\n",
       "      <td>0</td>\n",
       "      <td>0</td>\n",
       "      <td>0</td>\n",
       "      <td>1</td>\n",
       "    </tr>\n",
       "    <tr>\n",
       "      <th>10808</th>\n",
       "      <td>1</td>\n",
       "      <td>70</td>\n",
       "      <td>77</td>\n",
       "      <td>10</td>\n",
       "      <td>4.0</td>\n",
       "      <td>36.5</td>\n",
       "      <td>0</td>\n",
       "      <td>0</td>\n",
       "      <td>0</td>\n",
       "      <td>0</td>\n",
       "      <td>0</td>\n",
       "      <td>1</td>\n",
       "    </tr>\n",
       "    <tr>\n",
       "      <th>10809</th>\n",
       "      <td>1</td>\n",
       "      <td>72</td>\n",
       "      <td>0</td>\n",
       "      <td>0</td>\n",
       "      <td>2.0</td>\n",
       "      <td>42.5</td>\n",
       "      <td>0</td>\n",
       "      <td>0</td>\n",
       "      <td>0</td>\n",
       "      <td>0</td>\n",
       "      <td>1</td>\n",
       "      <td>0</td>\n",
       "    </tr>\n",
       "    <tr>\n",
       "      <th>10810</th>\n",
       "      <td>1</td>\n",
       "      <td>79</td>\n",
       "      <td>87</td>\n",
       "      <td>9</td>\n",
       "      <td>3.0</td>\n",
       "      <td>30.0</td>\n",
       "      <td>0</td>\n",
       "      <td>1</td>\n",
       "      <td>0</td>\n",
       "      <td>0</td>\n",
       "      <td>0</td>\n",
       "      <td>1</td>\n",
       "    </tr>\n",
       "  </tbody>\n",
       "</table>\n",
       "<p>10811 rows × 12 columns</p>\n",
       "</div>"
      ],
      "text/plain": [
       "       week_num  temp  humidity  wind  spread    ou  is_under  abnormal_start  \\\n",
       "0            19    72         0     0     1.0  51.0         0               0   \n",
       "1            19    52        48    14     2.5  45.5         1               0   \n",
       "2            19    22        55    13     1.5  48.0         1               0   \n",
       "3            19    32        10     0     5.5  49.0         1               0   \n",
       "4            19    55        47    19     4.0  47.0         1               0   \n",
       "...         ...   ...       ...   ...     ...   ...       ...             ...   \n",
       "10806         1    76        71     8     1.0  37.0         1               0   \n",
       "10807         1    73        76    10     2.0  41.0         0               0   \n",
       "10808         1    70        77    10     4.0  36.5         0               0   \n",
       "10809         1    72         0     0     2.0  42.5         0               0   \n",
       "10810         1    79        87     9     3.0  30.0         0               1   \n",
       "\n",
       "       is_playoff  playoff_implications  is_turf  is_outdoor  \n",
       "0               1                     1        0           0  \n",
       "1               1                     1        0           1  \n",
       "2               1                     1        0           1  \n",
       "3               1                     1        1           1  \n",
       "4               1                     1        0           1  \n",
       "...           ...                   ...      ...         ...  \n",
       "10806           0                     0        1           1  \n",
       "10807           0                     0        0           1  \n",
       "10808           0                     0        0           1  \n",
       "10809           0                     0        1           0  \n",
       "10810           0                     0        0           1  \n",
       "\n",
       "[10811 rows x 12 columns]"
      ]
     },
     "execution_count": 6,
     "metadata": {},
     "output_type": "execute_result"
    }
   ],
   "source": [
    "df"
   ]
  },
  {
   "cell_type": "code",
   "execution_count": 7,
   "id": "5983c04e",
   "metadata": {},
   "outputs": [],
   "source": [
    "df['spread'] = abs(df['spread'])"
   ]
  },
  {
   "cell_type": "code",
   "execution_count": 8,
   "id": "949b205c",
   "metadata": {},
   "outputs": [
    {
     "data": {
      "text/html": [
       "<div>\n",
       "<style scoped>\n",
       "    .dataframe tbody tr th:only-of-type {\n",
       "        vertical-align: middle;\n",
       "    }\n",
       "\n",
       "    .dataframe tbody tr th {\n",
       "        vertical-align: top;\n",
       "    }\n",
       "\n",
       "    .dataframe thead th {\n",
       "        text-align: right;\n",
       "    }\n",
       "</style>\n",
       "<table border=\"1\" class=\"dataframe\">\n",
       "  <thead>\n",
       "    <tr style=\"text-align: right;\">\n",
       "      <th></th>\n",
       "      <th>week_num</th>\n",
       "      <th>temp</th>\n",
       "      <th>humidity</th>\n",
       "      <th>wind</th>\n",
       "      <th>spread</th>\n",
       "      <th>ou</th>\n",
       "      <th>is_under</th>\n",
       "      <th>abnormal_start</th>\n",
       "      <th>is_playoff</th>\n",
       "      <th>playoff_implications</th>\n",
       "      <th>is_turf</th>\n",
       "      <th>is_outdoor</th>\n",
       "    </tr>\n",
       "  </thead>\n",
       "  <tbody>\n",
       "    <tr>\n",
       "      <th>0</th>\n",
       "      <td>19</td>\n",
       "      <td>72</td>\n",
       "      <td>0</td>\n",
       "      <td>0</td>\n",
       "      <td>1.0</td>\n",
       "      <td>51.0</td>\n",
       "      <td>0</td>\n",
       "      <td>0</td>\n",
       "      <td>1</td>\n",
       "      <td>1</td>\n",
       "      <td>0</td>\n",
       "      <td>0</td>\n",
       "    </tr>\n",
       "    <tr>\n",
       "      <th>1</th>\n",
       "      <td>19</td>\n",
       "      <td>52</td>\n",
       "      <td>48</td>\n",
       "      <td>14</td>\n",
       "      <td>2.5</td>\n",
       "      <td>45.5</td>\n",
       "      <td>1</td>\n",
       "      <td>0</td>\n",
       "      <td>1</td>\n",
       "      <td>1</td>\n",
       "      <td>0</td>\n",
       "      <td>1</td>\n",
       "    </tr>\n",
       "    <tr>\n",
       "      <th>2</th>\n",
       "      <td>19</td>\n",
       "      <td>22</td>\n",
       "      <td>55</td>\n",
       "      <td>13</td>\n",
       "      <td>1.5</td>\n",
       "      <td>48.0</td>\n",
       "      <td>1</td>\n",
       "      <td>0</td>\n",
       "      <td>1</td>\n",
       "      <td>1</td>\n",
       "      <td>0</td>\n",
       "      <td>1</td>\n",
       "    </tr>\n",
       "    <tr>\n",
       "      <th>3</th>\n",
       "      <td>19</td>\n",
       "      <td>32</td>\n",
       "      <td>10</td>\n",
       "      <td>0</td>\n",
       "      <td>5.5</td>\n",
       "      <td>49.0</td>\n",
       "      <td>1</td>\n",
       "      <td>0</td>\n",
       "      <td>1</td>\n",
       "      <td>1</td>\n",
       "      <td>1</td>\n",
       "      <td>1</td>\n",
       "    </tr>\n",
       "    <tr>\n",
       "      <th>4</th>\n",
       "      <td>19</td>\n",
       "      <td>55</td>\n",
       "      <td>47</td>\n",
       "      <td>19</td>\n",
       "      <td>4.0</td>\n",
       "      <td>47.0</td>\n",
       "      <td>1</td>\n",
       "      <td>0</td>\n",
       "      <td>1</td>\n",
       "      <td>1</td>\n",
       "      <td>0</td>\n",
       "      <td>1</td>\n",
       "    </tr>\n",
       "    <tr>\n",
       "      <th>...</th>\n",
       "      <td>...</td>\n",
       "      <td>...</td>\n",
       "      <td>...</td>\n",
       "      <td>...</td>\n",
       "      <td>...</td>\n",
       "      <td>...</td>\n",
       "      <td>...</td>\n",
       "      <td>...</td>\n",
       "      <td>...</td>\n",
       "      <td>...</td>\n",
       "      <td>...</td>\n",
       "      <td>...</td>\n",
       "    </tr>\n",
       "    <tr>\n",
       "      <th>10806</th>\n",
       "      <td>1</td>\n",
       "      <td>76</td>\n",
       "      <td>71</td>\n",
       "      <td>8</td>\n",
       "      <td>1.0</td>\n",
       "      <td>37.0</td>\n",
       "      <td>1</td>\n",
       "      <td>0</td>\n",
       "      <td>0</td>\n",
       "      <td>0</td>\n",
       "      <td>1</td>\n",
       "      <td>1</td>\n",
       "    </tr>\n",
       "    <tr>\n",
       "      <th>10807</th>\n",
       "      <td>1</td>\n",
       "      <td>73</td>\n",
       "      <td>76</td>\n",
       "      <td>10</td>\n",
       "      <td>2.0</td>\n",
       "      <td>41.0</td>\n",
       "      <td>0</td>\n",
       "      <td>0</td>\n",
       "      <td>0</td>\n",
       "      <td>0</td>\n",
       "      <td>0</td>\n",
       "      <td>1</td>\n",
       "    </tr>\n",
       "    <tr>\n",
       "      <th>10808</th>\n",
       "      <td>1</td>\n",
       "      <td>70</td>\n",
       "      <td>77</td>\n",
       "      <td>10</td>\n",
       "      <td>4.0</td>\n",
       "      <td>36.5</td>\n",
       "      <td>0</td>\n",
       "      <td>0</td>\n",
       "      <td>0</td>\n",
       "      <td>0</td>\n",
       "      <td>0</td>\n",
       "      <td>1</td>\n",
       "    </tr>\n",
       "    <tr>\n",
       "      <th>10809</th>\n",
       "      <td>1</td>\n",
       "      <td>72</td>\n",
       "      <td>0</td>\n",
       "      <td>0</td>\n",
       "      <td>2.0</td>\n",
       "      <td>42.5</td>\n",
       "      <td>0</td>\n",
       "      <td>0</td>\n",
       "      <td>0</td>\n",
       "      <td>0</td>\n",
       "      <td>1</td>\n",
       "      <td>0</td>\n",
       "    </tr>\n",
       "    <tr>\n",
       "      <th>10810</th>\n",
       "      <td>1</td>\n",
       "      <td>79</td>\n",
       "      <td>87</td>\n",
       "      <td>9</td>\n",
       "      <td>3.0</td>\n",
       "      <td>30.0</td>\n",
       "      <td>0</td>\n",
       "      <td>1</td>\n",
       "      <td>0</td>\n",
       "      <td>0</td>\n",
       "      <td>0</td>\n",
       "      <td>1</td>\n",
       "    </tr>\n",
       "  </tbody>\n",
       "</table>\n",
       "<p>10811 rows × 12 columns</p>\n",
       "</div>"
      ],
      "text/plain": [
       "       week_num  temp  humidity  wind  spread    ou  is_under  abnormal_start  \\\n",
       "0            19    72         0     0     1.0  51.0         0               0   \n",
       "1            19    52        48    14     2.5  45.5         1               0   \n",
       "2            19    22        55    13     1.5  48.0         1               0   \n",
       "3            19    32        10     0     5.5  49.0         1               0   \n",
       "4            19    55        47    19     4.0  47.0         1               0   \n",
       "...         ...   ...       ...   ...     ...   ...       ...             ...   \n",
       "10806         1    76        71     8     1.0  37.0         1               0   \n",
       "10807         1    73        76    10     2.0  41.0         0               0   \n",
       "10808         1    70        77    10     4.0  36.5         0               0   \n",
       "10809         1    72         0     0     2.0  42.5         0               0   \n",
       "10810         1    79        87     9     3.0  30.0         0               1   \n",
       "\n",
       "       is_playoff  playoff_implications  is_turf  is_outdoor  \n",
       "0               1                     1        0           0  \n",
       "1               1                     1        0           1  \n",
       "2               1                     1        0           1  \n",
       "3               1                     1        1           1  \n",
       "4               1                     1        0           1  \n",
       "...           ...                   ...      ...         ...  \n",
       "10806           0                     0        1           1  \n",
       "10807           0                     0        0           1  \n",
       "10808           0                     0        0           1  \n",
       "10809           0                     0        1           0  \n",
       "10810           0                     0        0           1  \n",
       "\n",
       "[10811 rows x 12 columns]"
      ]
     },
     "execution_count": 8,
     "metadata": {},
     "output_type": "execute_result"
    }
   ],
   "source": [
    "df"
   ]
  },
  {
   "cell_type": "markdown",
   "id": "dcc77a4e",
   "metadata": {},
   "source": [
    "## ok, finally with proper df, establish baseline"
   ]
  },
  {
   "cell_type": "code",
   "execution_count": 9,
   "id": "ffdb600f",
   "metadata": {},
   "outputs": [
    {
     "data": {
      "text/plain": [
       "1    0.507354\n",
       "0    0.492646\n",
       "Name: is_under, dtype: float64"
      ]
     },
     "execution_count": 9,
     "metadata": {},
     "output_type": "execute_result"
    }
   ],
   "source": [
    "df.is_under.value_counts(normalize=True)"
   ]
  },
  {
   "cell_type": "code",
   "execution_count": 10,
   "id": "3c3aa077",
   "metadata": {},
   "outputs": [],
   "source": [
    "df['baseline'] = 1"
   ]
  },
  {
   "cell_type": "code",
   "execution_count": 11,
   "id": "02eaf9e8",
   "metadata": {},
   "outputs": [
    {
     "name": "stdout",
     "output_type": "stream",
     "text": [
      "baseline accuracy: 50.74%\n"
     ]
    }
   ],
   "source": [
    "baseline_accuracy = (df.baseline == df.is_under).mean()\n",
    "print(f'baseline accuracy: {baseline_accuracy:.2%}')"
   ]
  },
  {
   "cell_type": "code",
   "execution_count": 12,
   "id": "05f20275",
   "metadata": {},
   "outputs": [
    {
     "name": "stdout",
     "output_type": "stream",
     "text": [
      "baseline recall: 100.00%\n"
     ]
    }
   ],
   "source": [
    "subset = df[df.is_under == 1]\n",
    "baseline_recall = (subset.baseline == subset.is_under).mean()\n",
    "print(f'baseline recall: {baseline_recall:.2%}')"
   ]
  },
  {
   "cell_type": "code",
   "execution_count": 13,
   "id": "d0d6db16",
   "metadata": {},
   "outputs": [
    {
     "name": "stdout",
     "output_type": "stream",
     "text": [
      "baseline precision: 50.74%\n"
     ]
    }
   ],
   "source": [
    "subset = df[df.baseline == 1]\n",
    "baseline_precision = (subset.baseline == subset.is_under).mean()\n",
    "print(f'baseline precision: {baseline_precision:.2%}')"
   ]
  },
  {
   "cell_type": "code",
   "execution_count": 14,
   "id": "68ed4a9d",
   "metadata": {},
   "outputs": [],
   "source": [
    "df.drop(columns='baseline',inplace=True)"
   ]
  },
  {
   "cell_type": "code",
   "execution_count": 15,
   "id": "f1cfc4de",
   "metadata": {},
   "outputs": [],
   "source": [
    "X_train, y_train, X_validate, y_validate, X_test, y_test = ex.train_validate_test(df,'is_under')\n"
   ]
  },
  {
   "cell_type": "code",
   "execution_count": 16,
   "id": "45791973",
   "metadata": {},
   "outputs": [
    {
     "data": {
      "text/plain": [
       "((6471, 11), (6471,), (2394, 11), (2394,), (1946, 11), (1946,))"
      ]
     },
     "execution_count": 16,
     "metadata": {},
     "output_type": "execute_result"
    }
   ],
   "source": [
    "X_train.shape, y_train.shape, X_validate.shape, y_validate.shape, X_test.shape, y_test.shape \n"
   ]
  },
  {
   "cell_type": "code",
   "execution_count": null,
   "id": "7c4a0f91",
   "metadata": {},
   "outputs": [],
   "source": [
    "print(y_train.value_counts(normalize=True))\n",
    "print(y_validate.value_counts(normalize=True))\n",
    "print(y_test.value_counts(normalize=True))"
   ]
  },
  {
   "cell_type": "code",
   "execution_count": 17,
   "id": "616f6fdb",
   "metadata": {},
   "outputs": [
    {
     "data": {
      "text/html": [
       "<div>\n",
       "<style scoped>\n",
       "    .dataframe tbody tr th:only-of-type {\n",
       "        vertical-align: middle;\n",
       "    }\n",
       "\n",
       "    .dataframe tbody tr th {\n",
       "        vertical-align: top;\n",
       "    }\n",
       "\n",
       "    .dataframe thead th {\n",
       "        text-align: right;\n",
       "    }\n",
       "</style>\n",
       "<table border=\"1\" class=\"dataframe\">\n",
       "  <thead>\n",
       "    <tr style=\"text-align: right;\">\n",
       "      <th></th>\n",
       "      <th>week_num</th>\n",
       "      <th>temp</th>\n",
       "      <th>humidity</th>\n",
       "      <th>wind</th>\n",
       "      <th>spread</th>\n",
       "      <th>ou</th>\n",
       "      <th>abnormal_start</th>\n",
       "      <th>is_playoff</th>\n",
       "      <th>playoff_implications</th>\n",
       "      <th>is_turf</th>\n",
       "      <th>is_outdoor</th>\n",
       "    </tr>\n",
       "  </thead>\n",
       "  <tbody>\n",
       "    <tr>\n",
       "      <th>1713</th>\n",
       "      <td>12</td>\n",
       "      <td>72</td>\n",
       "      <td>0</td>\n",
       "      <td>0</td>\n",
       "      <td>4.0</td>\n",
       "      <td>49.0</td>\n",
       "      <td>0</td>\n",
       "      <td>0</td>\n",
       "      <td>1</td>\n",
       "      <td>1</td>\n",
       "      <td>0</td>\n",
       "    </tr>\n",
       "    <tr>\n",
       "      <th>2164</th>\n",
       "      <td>17</td>\n",
       "      <td>72</td>\n",
       "      <td>0</td>\n",
       "      <td>0</td>\n",
       "      <td>7.5</td>\n",
       "      <td>38.0</td>\n",
       "      <td>0</td>\n",
       "      <td>0</td>\n",
       "      <td>1</td>\n",
       "      <td>0</td>\n",
       "      <td>0</td>\n",
       "    </tr>\n",
       "    <tr>\n",
       "      <th>2554</th>\n",
       "      <td>9</td>\n",
       "      <td>72</td>\n",
       "      <td>0</td>\n",
       "      <td>0</td>\n",
       "      <td>1.0</td>\n",
       "      <td>42.5</td>\n",
       "      <td>1</td>\n",
       "      <td>0</td>\n",
       "      <td>0</td>\n",
       "      <td>0</td>\n",
       "      <td>0</td>\n",
       "    </tr>\n",
       "    <tr>\n",
       "      <th>3117</th>\n",
       "      <td>6</td>\n",
       "      <td>58</td>\n",
       "      <td>52</td>\n",
       "      <td>10</td>\n",
       "      <td>12.5</td>\n",
       "      <td>40.0</td>\n",
       "      <td>0</td>\n",
       "      <td>0</td>\n",
       "      <td>0</td>\n",
       "      <td>0</td>\n",
       "      <td>1</td>\n",
       "    </tr>\n",
       "    <tr>\n",
       "      <th>9819</th>\n",
       "      <td>13</td>\n",
       "      <td>51</td>\n",
       "      <td>49</td>\n",
       "      <td>14</td>\n",
       "      <td>5.0</td>\n",
       "      <td>39.5</td>\n",
       "      <td>0</td>\n",
       "      <td>0</td>\n",
       "      <td>1</td>\n",
       "      <td>0</td>\n",
       "      <td>1</td>\n",
       "    </tr>\n",
       "  </tbody>\n",
       "</table>\n",
       "</div>"
      ],
      "text/plain": [
       "      week_num  temp  humidity  wind  spread    ou  abnormal_start  \\\n",
       "1713        12    72         0     0     4.0  49.0               0   \n",
       "2164        17    72         0     0     7.5  38.0               0   \n",
       "2554         9    72         0     0     1.0  42.5               1   \n",
       "3117         6    58        52    10    12.5  40.0               0   \n",
       "9819        13    51        49    14     5.0  39.5               0   \n",
       "\n",
       "      is_playoff  playoff_implications  is_turf  is_outdoor  \n",
       "1713           0                     1        1           0  \n",
       "2164           0                     1        0           0  \n",
       "2554           0                     0        0           0  \n",
       "3117           0                     0        0           1  \n",
       "9819           0                     1        0           1  "
      ]
     },
     "execution_count": 17,
     "metadata": {},
     "output_type": "execute_result"
    }
   ],
   "source": [
    "X_train.head()"
   ]
  },
  {
   "cell_type": "markdown",
   "id": "d1cae485",
   "metadata": {},
   "source": [
    "## MODELING"
   ]
  },
  {
   "cell_type": "markdown",
   "id": "e9e86614",
   "metadata": {},
   "source": [
    "## DTC maxDepth=4"
   ]
  },
  {
   "cell_type": "code",
   "execution_count": 18,
   "id": "8e6ff5c3",
   "metadata": {},
   "outputs": [],
   "source": [
    "# create the Decision Tree Classifier model \n",
    "dtc = DecisionTreeClassifier(max_depth=4)"
   ]
  },
  {
   "cell_type": "code",
   "execution_count": 19,
   "id": "2399ffca",
   "metadata": {},
   "outputs": [
    {
     "data": {
      "text/html": [
       "<style>#sk-container-id-1 {color: black;background-color: white;}#sk-container-id-1 pre{padding: 0;}#sk-container-id-1 div.sk-toggleable {background-color: white;}#sk-container-id-1 label.sk-toggleable__label {cursor: pointer;display: block;width: 100%;margin-bottom: 0;padding: 0.3em;box-sizing: border-box;text-align: center;}#sk-container-id-1 label.sk-toggleable__label-arrow:before {content: \"▸\";float: left;margin-right: 0.25em;color: #696969;}#sk-container-id-1 label.sk-toggleable__label-arrow:hover:before {color: black;}#sk-container-id-1 div.sk-estimator:hover label.sk-toggleable__label-arrow:before {color: black;}#sk-container-id-1 div.sk-toggleable__content {max-height: 0;max-width: 0;overflow: hidden;text-align: left;background-color: #f0f8ff;}#sk-container-id-1 div.sk-toggleable__content pre {margin: 0.2em;color: black;border-radius: 0.25em;background-color: #f0f8ff;}#sk-container-id-1 input.sk-toggleable__control:checked~div.sk-toggleable__content {max-height: 200px;max-width: 100%;overflow: auto;}#sk-container-id-1 input.sk-toggleable__control:checked~label.sk-toggleable__label-arrow:before {content: \"▾\";}#sk-container-id-1 div.sk-estimator input.sk-toggleable__control:checked~label.sk-toggleable__label {background-color: #d4ebff;}#sk-container-id-1 div.sk-label input.sk-toggleable__control:checked~label.sk-toggleable__label {background-color: #d4ebff;}#sk-container-id-1 input.sk-hidden--visually {border: 0;clip: rect(1px 1px 1px 1px);clip: rect(1px, 1px, 1px, 1px);height: 1px;margin: -1px;overflow: hidden;padding: 0;position: absolute;width: 1px;}#sk-container-id-1 div.sk-estimator {font-family: monospace;background-color: #f0f8ff;border: 1px dotted black;border-radius: 0.25em;box-sizing: border-box;margin-bottom: 0.5em;}#sk-container-id-1 div.sk-estimator:hover {background-color: #d4ebff;}#sk-container-id-1 div.sk-parallel-item::after {content: \"\";width: 100%;border-bottom: 1px solid gray;flex-grow: 1;}#sk-container-id-1 div.sk-label:hover label.sk-toggleable__label {background-color: #d4ebff;}#sk-container-id-1 div.sk-serial::before {content: \"\";position: absolute;border-left: 1px solid gray;box-sizing: border-box;top: 0;bottom: 0;left: 50%;z-index: 0;}#sk-container-id-1 div.sk-serial {display: flex;flex-direction: column;align-items: center;background-color: white;padding-right: 0.2em;padding-left: 0.2em;position: relative;}#sk-container-id-1 div.sk-item {position: relative;z-index: 1;}#sk-container-id-1 div.sk-parallel {display: flex;align-items: stretch;justify-content: center;background-color: white;position: relative;}#sk-container-id-1 div.sk-item::before, #sk-container-id-1 div.sk-parallel-item::before {content: \"\";position: absolute;border-left: 1px solid gray;box-sizing: border-box;top: 0;bottom: 0;left: 50%;z-index: -1;}#sk-container-id-1 div.sk-parallel-item {display: flex;flex-direction: column;z-index: 1;position: relative;background-color: white;}#sk-container-id-1 div.sk-parallel-item:first-child::after {align-self: flex-end;width: 50%;}#sk-container-id-1 div.sk-parallel-item:last-child::after {align-self: flex-start;width: 50%;}#sk-container-id-1 div.sk-parallel-item:only-child::after {width: 0;}#sk-container-id-1 div.sk-dashed-wrapped {border: 1px dashed gray;margin: 0 0.4em 0.5em 0.4em;box-sizing: border-box;padding-bottom: 0.4em;background-color: white;}#sk-container-id-1 div.sk-label label {font-family: monospace;font-weight: bold;display: inline-block;line-height: 1.2em;}#sk-container-id-1 div.sk-label-container {text-align: center;}#sk-container-id-1 div.sk-container {/* jupyter's `normalize.less` sets `[hidden] { display: none; }` but bootstrap.min.css set `[hidden] { display: none !important; }` so we also need the `!important` here to be able to override the default hidden behavior on the sphinx rendered scikit-learn.org. See: https://github.com/scikit-learn/scikit-learn/issues/21755 */display: inline-block !important;position: relative;}#sk-container-id-1 div.sk-text-repr-fallback {display: none;}</style><div id=\"sk-container-id-1\" class=\"sk-top-container\"><div class=\"sk-text-repr-fallback\"><pre>DecisionTreeClassifier(max_depth=4)</pre><b>In a Jupyter environment, please rerun this cell to show the HTML representation or trust the notebook. <br />On GitHub, the HTML representation is unable to render, please try loading this page with nbviewer.org.</b></div><div class=\"sk-container\" hidden><div class=\"sk-item\"><div class=\"sk-estimator sk-toggleable\"><input class=\"sk-toggleable__control sk-hidden--visually\" id=\"sk-estimator-id-1\" type=\"checkbox\" checked><label for=\"sk-estimator-id-1\" class=\"sk-toggleable__label sk-toggleable__label-arrow\">DecisionTreeClassifier</label><div class=\"sk-toggleable__content\"><pre>DecisionTreeClassifier(max_depth=4)</pre></div></div></div></div></div>"
      ],
      "text/plain": [
       "DecisionTreeClassifier(max_depth=4)"
      ]
     },
     "execution_count": 19,
     "metadata": {},
     "output_type": "execute_result"
    }
   ],
   "source": [
    "# fit the model to the TRAIN dataset:\n",
    "dtc.fit(X_train, y_train)"
   ]
  },
  {
   "cell_type": "code",
   "execution_count": 20,
   "id": "11c1799e",
   "metadata": {},
   "outputs": [
    {
     "data": {
      "text/html": [
       "<div>\n",
       "<style scoped>\n",
       "    .dataframe tbody tr th:only-of-type {\n",
       "        vertical-align: middle;\n",
       "    }\n",
       "\n",
       "    .dataframe tbody tr th {\n",
       "        vertical-align: top;\n",
       "    }\n",
       "\n",
       "    .dataframe thead th {\n",
       "        text-align: right;\n",
       "    }\n",
       "</style>\n",
       "<table border=\"1\" class=\"dataframe\">\n",
       "  <thead>\n",
       "    <tr style=\"text-align: right;\">\n",
       "      <th>is_under</th>\n",
       "      <th>0</th>\n",
       "      <th>1</th>\n",
       "    </tr>\n",
       "    <tr>\n",
       "      <th>row_0</th>\n",
       "      <th></th>\n",
       "      <th></th>\n",
       "    </tr>\n",
       "  </thead>\n",
       "  <tbody>\n",
       "    <tr>\n",
       "      <th>0</th>\n",
       "      <td>1348</td>\n",
       "      <td>1187</td>\n",
       "    </tr>\n",
       "    <tr>\n",
       "      <th>1</th>\n",
       "      <td>1832</td>\n",
       "      <td>2104</td>\n",
       "    </tr>\n",
       "  </tbody>\n",
       "</table>\n",
       "</div>"
      ],
      "text/plain": [
       "is_under     0     1\n",
       "row_0               \n",
       "0         1348  1187\n",
       "1         1832  2104"
      ]
     },
     "execution_count": 20,
     "metadata": {},
     "output_type": "execute_result"
    }
   ],
   "source": [
    "# use the model by calling for the predictions made via the TRAIN dataset\n",
    "dtc_preds = dtc.predict(X_train)\n",
    "pd.crosstab(dtc_preds,y_train) # a confusion matrix with ACTUALS as columns and PREDICTIONS as rows"
   ]
  },
  {
   "cell_type": "code",
   "execution_count": 21,
   "id": "d386a222",
   "metadata": {},
   "outputs": [
    {
     "name": "stdout",
     "output_type": "stream",
     "text": [
      "Accuracy-Train 0.5335\n",
      "Accuracy-Validate 0.505\n",
      "              precision    recall  f1-score   support\n",
      "\n",
      "           0       0.53      0.42      0.47      3180\n",
      "           1       0.53      0.64      0.58      3291\n",
      "\n",
      "    accuracy                           0.53      6471\n",
      "   macro avg       0.53      0.53      0.53      6471\n",
      "weighted avg       0.53      0.53      0.53      6471\n",
      "\n",
      "              precision    recall  f1-score   support\n",
      "\n",
      "           0       0.50      0.40      0.44      1178\n",
      "           1       0.51      0.61      0.55      1216\n",
      "\n",
      "    accuracy                           0.51      2394\n",
      "   macro avg       0.50      0.50      0.50      2394\n",
      "weighted avg       0.50      0.51      0.50      2394\n",
      "\n"
     ]
    }
   ],
   "source": [
    "print(f'Accuracy-Train {round(dtc.score(X_train,y_train),4)}')\n",
    "print(f'Accuracy-Validate {round(dtc.score(X_validate,y_validate),4)}')\n",
    "print(classification_report(y_train,dtc_preds))\n",
    "print(classification_report(y_validate,dtc.predict(X_validate)))"
   ]
  },
  {
   "cell_type": "code",
   "execution_count": null,
   "id": "3aa53748",
   "metadata": {},
   "outputs": [],
   "source": []
  },
  {
   "cell_type": "markdown",
   "id": "23727358",
   "metadata": {},
   "source": [
    "## DTC maxDepth=X"
   ]
  },
  {
   "cell_type": "code",
   "execution_count": 22,
   "id": "537307d3",
   "metadata": {},
   "outputs": [],
   "source": [
    "# create the Decision Tree Classifier model \n",
    "dtc = DecisionTreeClassifier(max_depth=9,min_samples_leaf=10)"
   ]
  },
  {
   "cell_type": "code",
   "execution_count": 23,
   "id": "d88b2e9f",
   "metadata": {},
   "outputs": [
    {
     "data": {
      "text/html": [
       "<style>#sk-container-id-2 {color: black;background-color: white;}#sk-container-id-2 pre{padding: 0;}#sk-container-id-2 div.sk-toggleable {background-color: white;}#sk-container-id-2 label.sk-toggleable__label {cursor: pointer;display: block;width: 100%;margin-bottom: 0;padding: 0.3em;box-sizing: border-box;text-align: center;}#sk-container-id-2 label.sk-toggleable__label-arrow:before {content: \"▸\";float: left;margin-right: 0.25em;color: #696969;}#sk-container-id-2 label.sk-toggleable__label-arrow:hover:before {color: black;}#sk-container-id-2 div.sk-estimator:hover label.sk-toggleable__label-arrow:before {color: black;}#sk-container-id-2 div.sk-toggleable__content {max-height: 0;max-width: 0;overflow: hidden;text-align: left;background-color: #f0f8ff;}#sk-container-id-2 div.sk-toggleable__content pre {margin: 0.2em;color: black;border-radius: 0.25em;background-color: #f0f8ff;}#sk-container-id-2 input.sk-toggleable__control:checked~div.sk-toggleable__content {max-height: 200px;max-width: 100%;overflow: auto;}#sk-container-id-2 input.sk-toggleable__control:checked~label.sk-toggleable__label-arrow:before {content: \"▾\";}#sk-container-id-2 div.sk-estimator input.sk-toggleable__control:checked~label.sk-toggleable__label {background-color: #d4ebff;}#sk-container-id-2 div.sk-label input.sk-toggleable__control:checked~label.sk-toggleable__label {background-color: #d4ebff;}#sk-container-id-2 input.sk-hidden--visually {border: 0;clip: rect(1px 1px 1px 1px);clip: rect(1px, 1px, 1px, 1px);height: 1px;margin: -1px;overflow: hidden;padding: 0;position: absolute;width: 1px;}#sk-container-id-2 div.sk-estimator {font-family: monospace;background-color: #f0f8ff;border: 1px dotted black;border-radius: 0.25em;box-sizing: border-box;margin-bottom: 0.5em;}#sk-container-id-2 div.sk-estimator:hover {background-color: #d4ebff;}#sk-container-id-2 div.sk-parallel-item::after {content: \"\";width: 100%;border-bottom: 1px solid gray;flex-grow: 1;}#sk-container-id-2 div.sk-label:hover label.sk-toggleable__label {background-color: #d4ebff;}#sk-container-id-2 div.sk-serial::before {content: \"\";position: absolute;border-left: 1px solid gray;box-sizing: border-box;top: 0;bottom: 0;left: 50%;z-index: 0;}#sk-container-id-2 div.sk-serial {display: flex;flex-direction: column;align-items: center;background-color: white;padding-right: 0.2em;padding-left: 0.2em;position: relative;}#sk-container-id-2 div.sk-item {position: relative;z-index: 1;}#sk-container-id-2 div.sk-parallel {display: flex;align-items: stretch;justify-content: center;background-color: white;position: relative;}#sk-container-id-2 div.sk-item::before, #sk-container-id-2 div.sk-parallel-item::before {content: \"\";position: absolute;border-left: 1px solid gray;box-sizing: border-box;top: 0;bottom: 0;left: 50%;z-index: -1;}#sk-container-id-2 div.sk-parallel-item {display: flex;flex-direction: column;z-index: 1;position: relative;background-color: white;}#sk-container-id-2 div.sk-parallel-item:first-child::after {align-self: flex-end;width: 50%;}#sk-container-id-2 div.sk-parallel-item:last-child::after {align-self: flex-start;width: 50%;}#sk-container-id-2 div.sk-parallel-item:only-child::after {width: 0;}#sk-container-id-2 div.sk-dashed-wrapped {border: 1px dashed gray;margin: 0 0.4em 0.5em 0.4em;box-sizing: border-box;padding-bottom: 0.4em;background-color: white;}#sk-container-id-2 div.sk-label label {font-family: monospace;font-weight: bold;display: inline-block;line-height: 1.2em;}#sk-container-id-2 div.sk-label-container {text-align: center;}#sk-container-id-2 div.sk-container {/* jupyter's `normalize.less` sets `[hidden] { display: none; }` but bootstrap.min.css set `[hidden] { display: none !important; }` so we also need the `!important` here to be able to override the default hidden behavior on the sphinx rendered scikit-learn.org. See: https://github.com/scikit-learn/scikit-learn/issues/21755 */display: inline-block !important;position: relative;}#sk-container-id-2 div.sk-text-repr-fallback {display: none;}</style><div id=\"sk-container-id-2\" class=\"sk-top-container\"><div class=\"sk-text-repr-fallback\"><pre>DecisionTreeClassifier(max_depth=9, min_samples_leaf=10)</pre><b>In a Jupyter environment, please rerun this cell to show the HTML representation or trust the notebook. <br />On GitHub, the HTML representation is unable to render, please try loading this page with nbviewer.org.</b></div><div class=\"sk-container\" hidden><div class=\"sk-item\"><div class=\"sk-estimator sk-toggleable\"><input class=\"sk-toggleable__control sk-hidden--visually\" id=\"sk-estimator-id-2\" type=\"checkbox\" checked><label for=\"sk-estimator-id-2\" class=\"sk-toggleable__label sk-toggleable__label-arrow\">DecisionTreeClassifier</label><div class=\"sk-toggleable__content\"><pre>DecisionTreeClassifier(max_depth=9, min_samples_leaf=10)</pre></div></div></div></div></div>"
      ],
      "text/plain": [
       "DecisionTreeClassifier(max_depth=9, min_samples_leaf=10)"
      ]
     },
     "execution_count": 23,
     "metadata": {},
     "output_type": "execute_result"
    }
   ],
   "source": [
    "# fit the model to the TRAIN dataset:\n",
    "dtc.fit(X_train, y_train)"
   ]
  },
  {
   "cell_type": "code",
   "execution_count": 24,
   "id": "e0811bb6",
   "metadata": {},
   "outputs": [
    {
     "data": {
      "text/html": [
       "<div>\n",
       "<style scoped>\n",
       "    .dataframe tbody tr th:only-of-type {\n",
       "        vertical-align: middle;\n",
       "    }\n",
       "\n",
       "    .dataframe tbody tr th {\n",
       "        vertical-align: top;\n",
       "    }\n",
       "\n",
       "    .dataframe thead th {\n",
       "        text-align: right;\n",
       "    }\n",
       "</style>\n",
       "<table border=\"1\" class=\"dataframe\">\n",
       "  <thead>\n",
       "    <tr style=\"text-align: right;\">\n",
       "      <th>is_under</th>\n",
       "      <th>0</th>\n",
       "      <th>1</th>\n",
       "    </tr>\n",
       "    <tr>\n",
       "      <th>row_0</th>\n",
       "      <th></th>\n",
       "      <th></th>\n",
       "    </tr>\n",
       "  </thead>\n",
       "  <tbody>\n",
       "    <tr>\n",
       "      <th>0</th>\n",
       "      <td>1593</td>\n",
       "      <td>1021</td>\n",
       "    </tr>\n",
       "    <tr>\n",
       "      <th>1</th>\n",
       "      <td>1587</td>\n",
       "      <td>2270</td>\n",
       "    </tr>\n",
       "  </tbody>\n",
       "</table>\n",
       "</div>"
      ],
      "text/plain": [
       "is_under     0     1\n",
       "row_0               \n",
       "0         1593  1021\n",
       "1         1587  2270"
      ]
     },
     "execution_count": 24,
     "metadata": {},
     "output_type": "execute_result"
    }
   ],
   "source": [
    "# use the model by calling for the predictions made via the TRAIN dataset\n",
    "dtc_preds = dtc.predict(X_train)\n",
    "pd.crosstab(dtc_preds,y_train) # a confusion matrix with ACTUALS as columns and PREDICTIONS as rows"
   ]
  },
  {
   "cell_type": "code",
   "execution_count": 25,
   "id": "990352f2",
   "metadata": {
    "scrolled": true
   },
   "outputs": [
    {
     "name": "stdout",
     "output_type": "stream",
     "text": [
      "Accuracy-Train 0.597\n",
      "Accuracy-Validate 0.5159\n",
      "              precision    recall  f1-score   support\n",
      "\n",
      "           0       0.61      0.50      0.55      3180\n",
      "           1       0.59      0.69      0.64      3291\n",
      "\n",
      "    accuracy                           0.60      6471\n",
      "   macro avg       0.60      0.60      0.59      6471\n",
      "weighted avg       0.60      0.60      0.59      6471\n",
      "\n",
      "              precision    recall  f1-score   support\n",
      "\n",
      "           0       0.51      0.41      0.45      1178\n",
      "           1       0.52      0.62      0.57      1216\n",
      "\n",
      "    accuracy                           0.52      2394\n",
      "   macro avg       0.51      0.51      0.51      2394\n",
      "weighted avg       0.51      0.52      0.51      2394\n",
      "\n"
     ]
    }
   ],
   "source": [
    "print(f'Accuracy-Train {round(dtc.score(X_train,y_train),4)}')\n",
    "print(f'Accuracy-Validate {round(dtc.score(X_validate,y_validate),4)}')\n",
    "print(classification_report(y_train,dtc_preds))\n",
    "print(classification_report(y_validate,dtc.predict(X_validate)))"
   ]
  },
  {
   "cell_type": "markdown",
   "id": "dc6ae920",
   "metadata": {},
   "source": [
    "## RFC maxDepth =6"
   ]
  },
  {
   "cell_type": "code",
   "execution_count": 26,
   "id": "48f408c7",
   "metadata": {},
   "outputs": [
    {
     "data": {
      "text/html": [
       "<div>\n",
       "<style scoped>\n",
       "    .dataframe tbody tr th:only-of-type {\n",
       "        vertical-align: middle;\n",
       "    }\n",
       "\n",
       "    .dataframe tbody tr th {\n",
       "        vertical-align: top;\n",
       "    }\n",
       "\n",
       "    .dataframe thead th {\n",
       "        text-align: right;\n",
       "    }\n",
       "</style>\n",
       "<table border=\"1\" class=\"dataframe\">\n",
       "  <thead>\n",
       "    <tr style=\"text-align: right;\">\n",
       "      <th>is_under</th>\n",
       "      <th>0</th>\n",
       "      <th>1</th>\n",
       "    </tr>\n",
       "    <tr>\n",
       "      <th>row_0</th>\n",
       "      <th></th>\n",
       "      <th></th>\n",
       "    </tr>\n",
       "  </thead>\n",
       "  <tbody>\n",
       "    <tr>\n",
       "      <th>0</th>\n",
       "      <td>1697</td>\n",
       "      <td>1103</td>\n",
       "    </tr>\n",
       "    <tr>\n",
       "      <th>1</th>\n",
       "      <td>1483</td>\n",
       "      <td>2188</td>\n",
       "    </tr>\n",
       "  </tbody>\n",
       "</table>\n",
       "</div>"
      ],
      "text/plain": [
       "is_under     0     1\n",
       "row_0               \n",
       "0         1697  1103\n",
       "1         1483  2188"
      ]
     },
     "execution_count": 26,
     "metadata": {},
     "output_type": "execute_result"
    }
   ],
   "source": [
    "# create the Random Forest model \n",
    "rf1 = RandomForestClassifier(n_estimators=201,max_depth=5)\n",
    "# fit the model to the TRAIN dataset1\n",
    "rf1.fit(X_train, y_train)\n",
    "# use the model by calling for the predictions made via the TRAIN dataset\n",
    "rf1_preds = rf1.predict(X_train)\n",
    "pd.crosstab(rf1_preds,y_train) # a confusion matrix with ACTUALS as columns and PREDICTIONS as rows"
   ]
  },
  {
   "cell_type": "code",
   "execution_count": 27,
   "id": "27b431f2",
   "metadata": {},
   "outputs": [
    {
     "name": "stdout",
     "output_type": "stream",
     "text": [
      "Accuracy-Train 0.6004\n",
      "Accuracy-Validate 0.5109\n",
      "              precision    recall  f1-score   support\n",
      "\n",
      "           0       0.61      0.53      0.57      3180\n",
      "           1       0.60      0.66      0.63      3291\n",
      "\n",
      "    accuracy                           0.60      6471\n",
      "   macro avg       0.60      0.60      0.60      6471\n",
      "weighted avg       0.60      0.60      0.60      6471\n",
      "\n",
      "              precision    recall  f1-score   support\n",
      "\n",
      "           0       0.50      0.44      0.47      1178\n",
      "           1       0.52      0.58      0.55      1216\n",
      "\n",
      "    accuracy                           0.51      2394\n",
      "   macro avg       0.51      0.51      0.51      2394\n",
      "weighted avg       0.51      0.51      0.51      2394\n",
      "\n"
     ]
    }
   ],
   "source": [
    "print(f'Accuracy-Train {round(rf1.score(X_train,y_train),4)}')\n",
    "print(f'Accuracy-Validate {round(rf1.score(X_validate,y_validate),4)}')\n",
    "print(classification_report(y_train,rf1_preds))\n",
    "print(classification_report(y_validate,rf1.predict(X_validate)))"
   ]
  },
  {
   "cell_type": "markdown",
   "id": "31df5efa",
   "metadata": {},
   "source": [
    "## NB classifier"
   ]
  },
  {
   "cell_type": "code",
   "execution_count": 43,
   "id": "048cdb85",
   "metadata": {},
   "outputs": [
    {
     "data": {
      "text/html": [
       "<div>\n",
       "<style scoped>\n",
       "    .dataframe tbody tr th:only-of-type {\n",
       "        vertical-align: middle;\n",
       "    }\n",
       "\n",
       "    .dataframe tbody tr th {\n",
       "        vertical-align: top;\n",
       "    }\n",
       "\n",
       "    .dataframe thead th {\n",
       "        text-align: right;\n",
       "    }\n",
       "</style>\n",
       "<table border=\"1\" class=\"dataframe\">\n",
       "  <thead>\n",
       "    <tr style=\"text-align: right;\">\n",
       "      <th>is_under</th>\n",
       "      <th>0</th>\n",
       "      <th>1</th>\n",
       "    </tr>\n",
       "    <tr>\n",
       "      <th>row_0</th>\n",
       "      <th></th>\n",
       "      <th></th>\n",
       "    </tr>\n",
       "  </thead>\n",
       "  <tbody>\n",
       "    <tr>\n",
       "      <th>0</th>\n",
       "      <td>1318</td>\n",
       "      <td>1208</td>\n",
       "    </tr>\n",
       "    <tr>\n",
       "      <th>1</th>\n",
       "      <td>1862</td>\n",
       "      <td>2083</td>\n",
       "    </tr>\n",
       "  </tbody>\n",
       "</table>\n",
       "</div>"
      ],
      "text/plain": [
       "is_under     0     1\n",
       "row_0               \n",
       "0         1318  1208\n",
       "1         1862  2083"
      ]
     },
     "execution_count": 43,
     "metadata": {},
     "output_type": "execute_result"
    }
   ],
   "source": [
    "# create the Random Forest model \n",
    "nbc = GaussianNB()\n",
    "# fit the model to the TRAIN dataset1\n",
    "nbc.fit(X_train, y_train)\n",
    "# use the model by calling for the predictions made via the TRAIN dataset\n",
    "nbc_preds = nbc.predict(X_train)\n",
    "pd.crosstab(nbc_preds,y_train) # a confusion matrix with ACTUALS as columns and PREDICTIONS as rows"
   ]
  },
  {
   "cell_type": "code",
   "execution_count": 44,
   "id": "0fed4cfa",
   "metadata": {},
   "outputs": [
    {
     "name": "stdout",
     "output_type": "stream",
     "text": [
      "Accuracy-Train 0.5256\n",
      "Accuracy-Validate 0.5121\n",
      "              precision    recall  f1-score   support\n",
      "\n",
      "           0       0.52      0.41      0.46      3180\n",
      "           1       0.53      0.63      0.58      3291\n",
      "\n",
      "    accuracy                           0.53      6471\n",
      "   macro avg       0.52      0.52      0.52      6471\n",
      "weighted avg       0.52      0.53      0.52      6471\n",
      "\n",
      "              precision    recall  f1-score   support\n",
      "\n",
      "           0       0.51      0.39      0.44      1178\n",
      "           1       0.52      0.63      0.57      1216\n",
      "\n",
      "    accuracy                           0.51      2394\n",
      "   macro avg       0.51      0.51      0.50      2394\n",
      "weighted avg       0.51      0.51      0.51      2394\n",
      "\n"
     ]
    }
   ],
   "source": [
    "print(f'Accuracy-Train {round(nbc.score(X_train,y_train),4)}')\n",
    "print(f'Accuracy-Validate {round(nbc.score(X_validate,y_validate),4)}')\n",
    "print(classification_report(y_train,nbc_preds))\n",
    "print(classification_report(y_validate,nbc.predict(X_validate)))"
   ]
  },
  {
   "cell_type": "markdown",
   "id": "566884e2",
   "metadata": {},
   "source": [
    "## GBC"
   ]
  },
  {
   "cell_type": "code",
   "execution_count": 28,
   "id": "1f7c88ce",
   "metadata": {},
   "outputs": [
    {
     "data": {
      "text/html": [
       "<div>\n",
       "<style scoped>\n",
       "    .dataframe tbody tr th:only-of-type {\n",
       "        vertical-align: middle;\n",
       "    }\n",
       "\n",
       "    .dataframe tbody tr th {\n",
       "        vertical-align: top;\n",
       "    }\n",
       "\n",
       "    .dataframe thead th {\n",
       "        text-align: right;\n",
       "    }\n",
       "</style>\n",
       "<table border=\"1\" class=\"dataframe\">\n",
       "  <thead>\n",
       "    <tr style=\"text-align: right;\">\n",
       "      <th>is_under</th>\n",
       "      <th>0</th>\n",
       "      <th>1</th>\n",
       "    </tr>\n",
       "    <tr>\n",
       "      <th>row_0</th>\n",
       "      <th></th>\n",
       "      <th></th>\n",
       "    </tr>\n",
       "  </thead>\n",
       "  <tbody>\n",
       "    <tr>\n",
       "      <th>0</th>\n",
       "      <td>1858</td>\n",
       "      <td>1251</td>\n",
       "    </tr>\n",
       "    <tr>\n",
       "      <th>1</th>\n",
       "      <td>1322</td>\n",
       "      <td>2040</td>\n",
       "    </tr>\n",
       "  </tbody>\n",
       "</table>\n",
       "</div>"
      ],
      "text/plain": [
       "is_under     0     1\n",
       "row_0               \n",
       "0         1858  1251\n",
       "1         1322  2040"
      ]
     },
     "execution_count": 28,
     "metadata": {},
     "output_type": "execute_result"
    }
   ],
   "source": [
    "# create the Random Forest model \n",
    "gbc = GradientBoostingClassifier()\n",
    "# fit the model to the TRAIN dataset:\n",
    "gbc.fit(X_train, y_train)\n",
    "# use the model by calling for the predictions made via the TRAIN dataset\n",
    "gbc_preds = gbc.predict(X_train)\n",
    "pd.crosstab(gbc_preds,y_train) # a confusion matrix with ACTUALS as columns and PREDICTIONS as rows"
   ]
  },
  {
   "cell_type": "code",
   "execution_count": 29,
   "id": "470a03a4",
   "metadata": {},
   "outputs": [
    {
     "name": "stdout",
     "output_type": "stream",
     "text": [
      "Accuracy-Train 0.6024\n",
      "Accuracy-Validate 0.4962\n",
      "              precision    recall  f1-score   support\n",
      "\n",
      "           0       0.60      0.58      0.59      3180\n",
      "           1       0.61      0.62      0.61      3291\n",
      "\n",
      "    accuracy                           0.60      6471\n",
      "   macro avg       0.60      0.60      0.60      6471\n",
      "weighted avg       0.60      0.60      0.60      6471\n",
      "\n",
      "              precision    recall  f1-score   support\n",
      "\n",
      "           0       0.49      0.47      0.48      1178\n",
      "           1       0.50      0.52      0.51      1216\n",
      "\n",
      "    accuracy                           0.50      2394\n",
      "   macro avg       0.50      0.50      0.50      2394\n",
      "weighted avg       0.50      0.50      0.50      2394\n",
      "\n"
     ]
    }
   ],
   "source": [
    "print(f'Accuracy-Train {round(gbc.score(X_train,y_train),4)}')\n",
    "print(f'Accuracy-Validate {round(gbc.score(X_validate,y_validate),4)}')\n",
    "print(classification_report(y_train,gbc_preds))\n",
    "print(classification_report(y_validate,gbc.predict(X_validate)))"
   ]
  },
  {
   "cell_type": "markdown",
   "id": "7823851d",
   "metadata": {},
   "source": [
    "## CATBoost"
   ]
  },
  {
   "cell_type": "code",
   "execution_count": 30,
   "id": "4d152b2a",
   "metadata": {},
   "outputs": [
    {
     "data": {
      "text/html": [
       "<div>\n",
       "<style scoped>\n",
       "    .dataframe tbody tr th:only-of-type {\n",
       "        vertical-align: middle;\n",
       "    }\n",
       "\n",
       "    .dataframe tbody tr th {\n",
       "        vertical-align: top;\n",
       "    }\n",
       "\n",
       "    .dataframe thead th {\n",
       "        text-align: right;\n",
       "    }\n",
       "</style>\n",
       "<table border=\"1\" class=\"dataframe\">\n",
       "  <thead>\n",
       "    <tr style=\"text-align: right;\">\n",
       "      <th>is_under</th>\n",
       "      <th>0</th>\n",
       "      <th>1</th>\n",
       "    </tr>\n",
       "    <tr>\n",
       "      <th>row_0</th>\n",
       "      <th></th>\n",
       "      <th></th>\n",
       "    </tr>\n",
       "  </thead>\n",
       "  <tbody>\n",
       "    <tr>\n",
       "      <th>0</th>\n",
       "      <td>2213</td>\n",
       "      <td>953</td>\n",
       "    </tr>\n",
       "    <tr>\n",
       "      <th>1</th>\n",
       "      <td>967</td>\n",
       "      <td>2338</td>\n",
       "    </tr>\n",
       "  </tbody>\n",
       "</table>\n",
       "</div>"
      ],
      "text/plain": [
       "is_under     0     1\n",
       "row_0               \n",
       "0         2213   953\n",
       "1          967  2338"
      ]
     },
     "execution_count": 30,
     "metadata": {},
     "output_type": "execute_result"
    }
   ],
   "source": [
    "# Create and fit the thing\n",
    "CATb = CatBoostClassifier(verbose=False,depth=5)\n",
    "CATb.fit(X_train,y_train)\n",
    "CATb_preds = CATb.predict(X_train)\n",
    "pd.crosstab(CATb_preds,y_train) # a confusion matrix with ACTUALS as columns and PREDICTIONS as rows"
   ]
  },
  {
   "cell_type": "code",
   "execution_count": 31,
   "id": "108ea1a1",
   "metadata": {},
   "outputs": [
    {
     "name": "stdout",
     "output_type": "stream",
     "text": [
      "Accuracy-Train 0.7033\n",
      "Accuracy-Validate 0.4992\n",
      "              precision    recall  f1-score   support\n",
      "\n",
      "           0       0.70      0.70      0.70      3180\n",
      "           1       0.71      0.71      0.71      3291\n",
      "\n",
      "    accuracy                           0.70      6471\n",
      "   macro avg       0.70      0.70      0.70      6471\n",
      "weighted avg       0.70      0.70      0.70      6471\n",
      "\n",
      "              precision    recall  f1-score   support\n",
      "\n",
      "           0       0.49      0.50      0.49      1178\n",
      "           1       0.51      0.50      0.50      1216\n",
      "\n",
      "    accuracy                           0.50      2394\n",
      "   macro avg       0.50      0.50      0.50      2394\n",
      "weighted avg       0.50      0.50      0.50      2394\n",
      "\n"
     ]
    }
   ],
   "source": [
    "print(f'Accuracy-Train {round(CATb.score(X_train,y_train),4)}')\n",
    "print(f'Accuracy-Validate {round(CATb.score(X_validate,y_validate),4)}')\n",
    "print(classification_report(y_train,CATb_preds))\n",
    "print(classification_report(y_validate,CATb.predict(X_validate)))"
   ]
  },
  {
   "cell_type": "markdown",
   "id": "160123d0",
   "metadata": {},
   "source": [
    "## SCALE for Logistic regression, MLP, etc."
   ]
  },
  {
   "cell_type": "code",
   "execution_count": 32,
   "id": "513b5685",
   "metadata": {},
   "outputs": [],
   "source": [
    "sc_X = StandardScaler()\n",
    "X_train_scaled = sc_X.fit_transform(X_train)\n",
    "X_validate_scaled = sc_X.transform(X_validate)\n",
    "X_test_scaled = sc_X.transform(X_test)"
   ]
  },
  {
   "cell_type": "code",
   "execution_count": 33,
   "id": "3fc17761",
   "metadata": {},
   "outputs": [
    {
     "name": "stdout",
     "output_type": "stream",
     "text": [
      "0.5189306135064132\n"
     ]
    },
    {
     "data": {
      "text/html": [
       "<div>\n",
       "<style scoped>\n",
       "    .dataframe tbody tr th:only-of-type {\n",
       "        vertical-align: middle;\n",
       "    }\n",
       "\n",
       "    .dataframe tbody tr th {\n",
       "        vertical-align: top;\n",
       "    }\n",
       "\n",
       "    .dataframe thead th {\n",
       "        text-align: right;\n",
       "    }\n",
       "</style>\n",
       "<table border=\"1\" class=\"dataframe\">\n",
       "  <thead>\n",
       "    <tr style=\"text-align: right;\">\n",
       "      <th>is_under</th>\n",
       "      <th>0</th>\n",
       "      <th>1</th>\n",
       "    </tr>\n",
       "    <tr>\n",
       "      <th>row_0</th>\n",
       "      <th></th>\n",
       "      <th></th>\n",
       "    </tr>\n",
       "  </thead>\n",
       "  <tbody>\n",
       "    <tr>\n",
       "      <th>0</th>\n",
       "      <td>2481</td>\n",
       "      <td>2414</td>\n",
       "    </tr>\n",
       "    <tr>\n",
       "      <th>1</th>\n",
       "      <td>699</td>\n",
       "      <td>877</td>\n",
       "    </tr>\n",
       "  </tbody>\n",
       "</table>\n",
       "</div>"
      ],
      "text/plain": [
       "is_under     0     1\n",
       "row_0               \n",
       "0         2481  2414\n",
       "1          699   877"
      ]
     },
     "execution_count": 33,
     "metadata": {},
     "output_type": "execute_result"
    }
   ],
   "source": [
    "mlp = MLPClassifier(hidden_layer_sizes=(256,128,64),activation=\"logistic\",random_state=2013,\n",
    "                    batch_size=100,solver='adam')\n",
    "mlp.fit(X_train_scaled, y_train)\n",
    "mlp_preds = mlp.predict(X_train_scaled)\n",
    "print(mlp.score(X_train_scaled, y_train))\n",
    "pd.crosstab(mlp_preds,y_train) # a confusion matrix with ACTUALS as columns and PREDICTIONS as rows"
   ]
  },
  {
   "cell_type": "code",
   "execution_count": 34,
   "id": "e52b4ed1",
   "metadata": {},
   "outputs": [
    {
     "data": {
      "text/plain": [
       "5"
      ]
     },
     "execution_count": 34,
     "metadata": {},
     "output_type": "execute_result"
    }
   ],
   "source": [
    "mlp.n_layers_"
   ]
  },
  {
   "cell_type": "code",
   "execution_count": 35,
   "id": "35f90973",
   "metadata": {},
   "outputs": [
    {
     "name": "stdout",
     "output_type": "stream",
     "text": [
      "Accuracy-Train 0.5189\n",
      "Accuracy-Validate 0.5029\n",
      "              precision    recall  f1-score   support\n",
      "\n",
      "           0       0.51      0.78      0.61      3180\n",
      "           1       0.56      0.27      0.36      3291\n",
      "\n",
      "    accuracy                           0.52      6471\n",
      "   macro avg       0.53      0.52      0.49      6471\n",
      "weighted avg       0.53      0.52      0.49      6471\n",
      "\n",
      "              precision    recall  f1-score   support\n",
      "\n",
      "           0       0.50      0.75      0.60      1178\n",
      "           1       0.52      0.26      0.35      1216\n",
      "\n",
      "    accuracy                           0.50      2394\n",
      "   macro avg       0.51      0.51      0.47      2394\n",
      "weighted avg       0.51      0.50      0.47      2394\n",
      "\n"
     ]
    }
   ],
   "source": [
    "print(f'Accuracy-Train {round(mlp.score(X_train_scaled,y_train),4)}')\n",
    "print(f'Accuracy-Validate {round(mlp.score(X_validate_scaled,y_validate),4)}')\n",
    "print(classification_report(y_train,mlp_preds))\n",
    "print(classification_report(y_validate,mlp.predict(X_validate_scaled)))"
   ]
  },
  {
   "cell_type": "markdown",
   "id": "707c06cb",
   "metadata": {},
   "source": [
    "## KNN"
   ]
  },
  {
   "cell_type": "code",
   "execution_count": 36,
   "id": "743445ff",
   "metadata": {},
   "outputs": [
    {
     "name": "stderr",
     "output_type": "stream",
     "text": [
      "/opt/homebrew/anaconda3/lib/python3.9/site-packages/sklearn/neighbors/_classification.py:237: FutureWarning: Unlike other reduction functions (e.g. `skew`, `kurtosis`), the default behavior of `mode` typically preserves the axis it acts along. In SciPy 1.11.0, this behavior will change: the default value of `keepdims` will become False, the `axis` over which the statistic is taken will be eliminated, and the value None will no longer be accepted. Set `keepdims` to True or False to avoid this warning.\n",
      "  mode, _ = stats.mode(_y[neigh_ind, k], axis=1)\n",
      "/opt/homebrew/anaconda3/lib/python3.9/site-packages/sklearn/neighbors/_classification.py:237: FutureWarning: Unlike other reduction functions (e.g. `skew`, `kurtosis`), the default behavior of `mode` typically preserves the axis it acts along. In SciPy 1.11.0, this behavior will change: the default value of `keepdims` will become False, the `axis` over which the statistic is taken will be eliminated, and the value None will no longer be accepted. Set `keepdims` to True or False to avoid this warning.\n",
      "  mode, _ = stats.mode(_y[neigh_ind, k], axis=1)\n"
     ]
    },
    {
     "name": "stdout",
     "output_type": "stream",
     "text": [
      "0.7566063977746871\n"
     ]
    },
    {
     "data": {
      "text/html": [
       "<div>\n",
       "<style scoped>\n",
       "    .dataframe tbody tr th:only-of-type {\n",
       "        vertical-align: middle;\n",
       "    }\n",
       "\n",
       "    .dataframe tbody tr th {\n",
       "        vertical-align: top;\n",
       "    }\n",
       "\n",
       "    .dataframe thead th {\n",
       "        text-align: right;\n",
       "    }\n",
       "</style>\n",
       "<table border=\"1\" class=\"dataframe\">\n",
       "  <thead>\n",
       "    <tr style=\"text-align: right;\">\n",
       "      <th>is_under</th>\n",
       "      <th>0</th>\n",
       "      <th>1</th>\n",
       "    </tr>\n",
       "    <tr>\n",
       "      <th>row_0</th>\n",
       "      <th></th>\n",
       "      <th></th>\n",
       "    </tr>\n",
       "  </thead>\n",
       "  <tbody>\n",
       "    <tr>\n",
       "      <th>0</th>\n",
       "      <td>3180</td>\n",
       "      <td>1575</td>\n",
       "    </tr>\n",
       "    <tr>\n",
       "      <th>1</th>\n",
       "      <td>0</td>\n",
       "      <td>1716</td>\n",
       "    </tr>\n",
       "  </tbody>\n",
       "</table>\n",
       "</div>"
      ],
      "text/plain": [
       "is_under     0     1\n",
       "row_0               \n",
       "0         3180  1575\n",
       "1            0  1716"
      ]
     },
     "execution_count": 36,
     "metadata": {},
     "output_type": "execute_result"
    }
   ],
   "source": [
    "knn = KNeighborsClassifier(n_neighbors=2)\n",
    "knn.fit(X_train_scaled, y_train)\n",
    "knn_preds = knn.predict(X_train_scaled)\n",
    "print(knn.score(X_train_scaled, y_train))\n",
    "pd.crosstab(knn_preds,y_train) # a confusion matrix with ACTUALS as columns and PREDICTIONS as rows"
   ]
  },
  {
   "cell_type": "code",
   "execution_count": 37,
   "id": "b1cd567b",
   "metadata": {
    "scrolled": true
   },
   "outputs": [
    {
     "name": "stdout",
     "output_type": "stream",
     "text": [
      "Accuracy-Train 0.7566\n",
      "Accuracy-Validate 0.5008\n",
      "              precision    recall  f1-score   support\n",
      "\n",
      "           0       0.67      1.00      0.80      3180\n",
      "           1       1.00      0.52      0.69      3291\n",
      "\n",
      "    accuracy                           0.76      6471\n",
      "   macro avg       0.83      0.76      0.74      6471\n",
      "weighted avg       0.84      0.76      0.74      6471\n",
      "\n",
      "              precision    recall  f1-score   support\n",
      "\n",
      "           0       0.50      0.77      0.60      1178\n",
      "           1       0.52      0.24      0.33      1216\n",
      "\n",
      "    accuracy                           0.50      2394\n",
      "   macro avg       0.51      0.51      0.47      2394\n",
      "weighted avg       0.51      0.50      0.46      2394\n",
      "\n"
     ]
    },
    {
     "name": "stderr",
     "output_type": "stream",
     "text": [
      "/opt/homebrew/anaconda3/lib/python3.9/site-packages/sklearn/neighbors/_classification.py:237: FutureWarning: Unlike other reduction functions (e.g. `skew`, `kurtosis`), the default behavior of `mode` typically preserves the axis it acts along. In SciPy 1.11.0, this behavior will change: the default value of `keepdims` will become False, the `axis` over which the statistic is taken will be eliminated, and the value None will no longer be accepted. Set `keepdims` to True or False to avoid this warning.\n",
      "  mode, _ = stats.mode(_y[neigh_ind, k], axis=1)\n",
      "/opt/homebrew/anaconda3/lib/python3.9/site-packages/sklearn/neighbors/_classification.py:237: FutureWarning: Unlike other reduction functions (e.g. `skew`, `kurtosis`), the default behavior of `mode` typically preserves the axis it acts along. In SciPy 1.11.0, this behavior will change: the default value of `keepdims` will become False, the `axis` over which the statistic is taken will be eliminated, and the value None will no longer be accepted. Set `keepdims` to True or False to avoid this warning.\n",
      "  mode, _ = stats.mode(_y[neigh_ind, k], axis=1)\n",
      "/opt/homebrew/anaconda3/lib/python3.9/site-packages/sklearn/neighbors/_classification.py:237: FutureWarning: Unlike other reduction functions (e.g. `skew`, `kurtosis`), the default behavior of `mode` typically preserves the axis it acts along. In SciPy 1.11.0, this behavior will change: the default value of `keepdims` will become False, the `axis` over which the statistic is taken will be eliminated, and the value None will no longer be accepted. Set `keepdims` to True or False to avoid this warning.\n",
      "  mode, _ = stats.mode(_y[neigh_ind, k], axis=1)\n"
     ]
    }
   ],
   "source": [
    "print(f'Accuracy-Train {round(knn.score(X_train_scaled,y_train),4)}')\n",
    "print(f'Accuracy-Validate {round(knn.score(X_validate_scaled,y_validate),4)}')\n",
    "print(classification_report(y_train,knn_preds))\n",
    "print(classification_report(y_validate,knn.predict(X_validate_scaled)))"
   ]
  },
  {
   "cell_type": "markdown",
   "id": "b3255ef4",
   "metadata": {},
   "source": [
    "## LOGISTIC REGRESSION"
   ]
  },
  {
   "cell_type": "code",
   "execution_count": 38,
   "id": "8ccd247e",
   "metadata": {},
   "outputs": [
    {
     "name": "stdout",
     "output_type": "stream",
     "text": [
      "0.5243393602225312\n"
     ]
    },
    {
     "data": {
      "text/html": [
       "<div>\n",
       "<style scoped>\n",
       "    .dataframe tbody tr th:only-of-type {\n",
       "        vertical-align: middle;\n",
       "    }\n",
       "\n",
       "    .dataframe tbody tr th {\n",
       "        vertical-align: top;\n",
       "    }\n",
       "\n",
       "    .dataframe thead th {\n",
       "        text-align: right;\n",
       "    }\n",
       "</style>\n",
       "<table border=\"1\" class=\"dataframe\">\n",
       "  <thead>\n",
       "    <tr style=\"text-align: right;\">\n",
       "      <th>is_under</th>\n",
       "      <th>0</th>\n",
       "      <th>1</th>\n",
       "    </tr>\n",
       "    <tr>\n",
       "      <th>row_0</th>\n",
       "      <th></th>\n",
       "      <th></th>\n",
       "    </tr>\n",
       "  </thead>\n",
       "  <tbody>\n",
       "    <tr>\n",
       "      <th>0</th>\n",
       "      <td>1434</td>\n",
       "      <td>1332</td>\n",
       "    </tr>\n",
       "    <tr>\n",
       "      <th>1</th>\n",
       "      <td>1746</td>\n",
       "      <td>1959</td>\n",
       "    </tr>\n",
       "  </tbody>\n",
       "</table>\n",
       "</div>"
      ],
      "text/plain": [
       "is_under     0     1\n",
       "row_0               \n",
       "0         1434  1332\n",
       "1         1746  1959"
      ]
     },
     "execution_count": 38,
     "metadata": {},
     "output_type": "execute_result"
    }
   ],
   "source": [
    "#C=1, class_weight={0:1, 1:99}, random_state=123, intercept_scaling=1, solver='lbfgs'\n",
    "log = LogisticRegression()\n",
    "log.fit(X_train_scaled, y_train)\n",
    "log_preds = log.predict(X_train_scaled)\n",
    "print(log.score(X_train_scaled, y_train))\n",
    "pd.crosstab(log_preds,y_train) # a confusion matrix with ACTUALS as columns and PREDICTIONS as rows"
   ]
  },
  {
   "cell_type": "code",
   "execution_count": 39,
   "id": "0c2a151e",
   "metadata": {
    "scrolled": true
   },
   "outputs": [
    {
     "name": "stdout",
     "output_type": "stream",
     "text": [
      "Accuracy-Train 0.5243\n",
      "Accuracy-Validate 0.5104\n",
      "              precision    recall  f1-score   support\n",
      "\n",
      "           0       0.52      0.45      0.48      3180\n",
      "           1       0.53      0.60      0.56      3291\n",
      "\n",
      "    accuracy                           0.52      6471\n",
      "   macro avg       0.52      0.52      0.52      6471\n",
      "weighted avg       0.52      0.52      0.52      6471\n",
      "\n",
      "              precision    recall  f1-score   support\n",
      "\n",
      "           0       0.50      0.43      0.46      1178\n",
      "           1       0.52      0.59      0.55      1216\n",
      "\n",
      "    accuracy                           0.51      2394\n",
      "   macro avg       0.51      0.51      0.51      2394\n",
      "weighted avg       0.51      0.51      0.51      2394\n",
      "\n"
     ]
    }
   ],
   "source": [
    "print(f'Accuracy-Train {round(log.score(X_train_scaled,y_train),4)}')\n",
    "print(f'Accuracy-Validate {round(log.score(X_validate_scaled,y_validate),4)}')\n",
    "print(classification_report(y_train,log_preds))\n",
    "print(classification_report(y_validate,log.predict(X_validate_scaled)))"
   ]
  },
  {
   "cell_type": "code",
   "execution_count": 40,
   "id": "a1b1d5cf",
   "metadata": {},
   "outputs": [
    {
     "data": {
      "text/plain": [
       "Index(['week_num', 'temp', 'humidity', 'wind', 'spread', 'ou',\n",
       "       'abnormal_start', 'is_playoff', 'playoff_implications', 'is_turf',\n",
       "       'is_outdoor'],\n",
       "      dtype='object')"
      ]
     },
     "execution_count": 40,
     "metadata": {},
     "output_type": "execute_result"
    }
   ],
   "source": [
    "X_train.columns"
   ]
  },
  {
   "cell_type": "code",
   "execution_count": 41,
   "id": "465d09d2",
   "metadata": {},
   "outputs": [
    {
     "data": {
      "text/plain": [
       "array([ 0.01886066,  0.02391496, -0.00496279,  0.12738364,  0.00574551,\n",
       "        0.06961586,  0.03178671, -0.01791491, -0.01296095, -0.0362064 ,\n",
       "       -0.00978648])"
      ]
     },
     "execution_count": 41,
     "metadata": {},
     "output_type": "execute_result"
    }
   ],
   "source": [
    "log.coef_[0]"
   ]
  },
  {
   "cell_type": "markdown",
   "id": "a48b16b7",
   "metadata": {},
   "source": [
    "## SVM"
   ]
  },
  {
   "cell_type": "code",
   "execution_count": 46,
   "id": "f25098a8",
   "metadata": {},
   "outputs": [
    {
     "name": "stdout",
     "output_type": "stream",
     "text": [
      "0.5753361149745017\n"
     ]
    },
    {
     "data": {
      "text/html": [
       "<div>\n",
       "<style scoped>\n",
       "    .dataframe tbody tr th:only-of-type {\n",
       "        vertical-align: middle;\n",
       "    }\n",
       "\n",
       "    .dataframe tbody tr th {\n",
       "        vertical-align: top;\n",
       "    }\n",
       "\n",
       "    .dataframe thead th {\n",
       "        text-align: right;\n",
       "    }\n",
       "</style>\n",
       "<table border=\"1\" class=\"dataframe\">\n",
       "  <thead>\n",
       "    <tr style=\"text-align: right;\">\n",
       "      <th>is_under</th>\n",
       "      <th>0</th>\n",
       "      <th>1</th>\n",
       "    </tr>\n",
       "    <tr>\n",
       "      <th>row_0</th>\n",
       "      <th></th>\n",
       "      <th></th>\n",
       "    </tr>\n",
       "  </thead>\n",
       "  <tbody>\n",
       "    <tr>\n",
       "      <th>0</th>\n",
       "      <td>1659</td>\n",
       "      <td>1227</td>\n",
       "    </tr>\n",
       "    <tr>\n",
       "      <th>1</th>\n",
       "      <td>1521</td>\n",
       "      <td>2064</td>\n",
       "    </tr>\n",
       "  </tbody>\n",
       "</table>\n",
       "</div>"
      ],
      "text/plain": [
       "is_under     0     1\n",
       "row_0               \n",
       "0         1659  1227\n",
       "1         1521  2064"
      ]
     },
     "execution_count": 46,
     "metadata": {},
     "output_type": "execute_result"
    }
   ],
   "source": [
    "#C=1, class_weight={0:1, 1:99}, random_state=123, intercept_scaling=1, solver='lbfgs'\n",
    "svm = SVC()\n",
    "svm.fit(X_train_scaled, y_train)\n",
    "svm_preds = svm.predict(X_train_scaled)\n",
    "print(svm.score(X_train_scaled, y_train))\n",
    "pd.crosstab(svm_preds,y_train) # a confusion matrix with ACTUALS as columns and PREDICTIONS as rows"
   ]
  },
  {
   "cell_type": "code",
   "execution_count": 47,
   "id": "4babb160",
   "metadata": {
    "scrolled": true
   },
   "outputs": [
    {
     "name": "stdout",
     "output_type": "stream",
     "text": [
      "Accuracy-Train 0.5753\n",
      "Accuracy-Validate 0.5067\n",
      "              precision    recall  f1-score   support\n",
      "\n",
      "           0       0.57      0.52      0.55      3180\n",
      "           1       0.58      0.63      0.60      3291\n",
      "\n",
      "    accuracy                           0.58      6471\n",
      "   macro avg       0.58      0.57      0.57      6471\n",
      "weighted avg       0.58      0.58      0.57      6471\n",
      "\n",
      "              precision    recall  f1-score   support\n",
      "\n",
      "           0       0.50      0.46      0.48      1178\n",
      "           1       0.51      0.55      0.53      1216\n",
      "\n",
      "    accuracy                           0.51      2394\n",
      "   macro avg       0.51      0.51      0.51      2394\n",
      "weighted avg       0.51      0.51      0.51      2394\n",
      "\n"
     ]
    }
   ],
   "source": [
    "print(f'Accuracy-Train {round(svm.score(X_train_scaled,y_train),4)}')\n",
    "print(f'Accuracy-Validate {round(svm.score(X_validate_scaled,y_validate),4)}')\n",
    "print(classification_report(y_train,svm_preds))\n",
    "print(classification_report(y_validate,svm.predict(X_validate_scaled)))"
   ]
  },
  {
   "cell_type": "code",
   "execution_count": null,
   "id": "069fd441",
   "metadata": {},
   "outputs": [],
   "source": []
  }
 ],
 "metadata": {
  "kernelspec": {
   "display_name": "Python 3 (ipykernel)",
   "language": "python",
   "name": "python3"
  },
  "language_info": {
   "codemirror_mode": {
    "name": "ipython",
    "version": 3
   },
   "file_extension": ".py",
   "mimetype": "text/x-python",
   "name": "python",
   "nbconvert_exporter": "python",
   "pygments_lexer": "ipython3",
   "version": "3.9.13"
  }
 },
 "nbformat": 4,
 "nbformat_minor": 5
}
