{
 "cells": [
  {
   "cell_type": "code",
   "execution_count": 1,
   "id": "adb12999",
   "metadata": {},
   "outputs": [],
   "source": [
    "#standard ds imports\n",
    "import pandas as pd\n",
    "import numpy as np\n",
    "#viz and stats\n",
    "import matplotlib.pyplot as plt\n",
    "import seaborn as sns\n",
    "from scipy import stats\n",
    "# .py imports\n",
    "#import wranglerer as wr\n",
    "#import modeling as md\n",
    "import os\n",
    "#sklearn imports\n",
    "from sklearn.model_selection import train_test_split,cross_val_score, GridSearchCV\n",
    "import sklearn.preprocessing\n",
    "from sklearn.neighbors import KNeighborsClassifier\n",
    "from sklearn.metrics import classification_report, accuracy_score,confusion_matrix, plot_confusion_matrix,balanced_accuracy_score,roc_auc_score,make_scorer\n",
    "from sklearn.linear_model import LogisticRegression\n",
    "from sklearn.tree import DecisionTreeClassifier\n",
    "from sklearn.ensemble import RandomForestClassifier, GradientBoostingClassifier\n",
    "#CATboost imports\n",
    "from catboost import CatBoostClassifier\n",
    "from sklearn.preprocessing import StandardScaler\n",
    "from sklearn.neural_network import MLPClassifier\n",
    "import explore_r as ex\n",
    "from sklearn.naive_bayes import GaussianNB\n",
    "from sklearn.svm import SVC\n",
    "import xgboost as xgb"
   ]
  },
  {
   "cell_type": "markdown",
   "id": "0f8f5766",
   "metadata": {},
   "source": [
    "### This notebook builds upon the previous notebook (model_r_round3) and will use an ultra slim version of the original df...cols= wind, ou, is_outdoor, is_turf"
   ]
  },
  {
   "cell_type": "markdown",
   "id": "d2846dfc",
   "metadata": {},
   "source": [
    "# OK, enough of that...\n",
    "## Let's work with a hi-speed,low-drag version of the df\n",
    "### Cols: wind, ou, is_outdoor, is_turf, abnormal_start, playoff"
   ]
  },
  {
   "cell_type": "code",
   "execution_count": 2,
   "id": "a2272758",
   "metadata": {},
   "outputs": [],
   "source": [
    "df = pd.read_csv('prepped_data_stad.csv')"
   ]
  },
  {
   "cell_type": "code",
   "execution_count": 3,
   "id": "bd0ce311",
   "metadata": {},
   "outputs": [
    {
     "data": {
      "text/plain": [
       "Index(['date', 'day_of_week', 'start_time', 'week_num', 'home_score',\n",
       "       'home_wins', 'away_score', 'away_wins', 'stadium', 'temp', 'humidity',\n",
       "       'wind', 'spread', 'ou', 'is_under', 'abnormal_start', 'total_scores',\n",
       "       'is_playoff', 'playoff_implications', 'is_turf', 'is_outdoor'],\n",
       "      dtype='object')"
      ]
     },
     "execution_count": 3,
     "metadata": {},
     "output_type": "execute_result"
    }
   ],
   "source": [
    "df.columns"
   ]
  },
  {
   "cell_type": "code",
   "execution_count": 4,
   "id": "2f561e67",
   "metadata": {},
   "outputs": [],
   "source": [
    "df = df.drop(columns=['date','home_score',\n",
    "       'home_wins', 'away_score', 'away_wins','total_scores',\n",
    "                     'day_of_week','start_time', 'week_num','stadium', 'temp', 'humidity','spread',\n",
    "                      'playoff_implications','abnormal_start','is_playoff'])\n",
    "#df['spread'] = abs(df['spread'])"
   ]
  },
  {
   "cell_type": "code",
   "execution_count": 5,
   "id": "b076bcd3",
   "metadata": {},
   "outputs": [
    {
     "data": {
      "text/html": [
       "<div>\n",
       "<style scoped>\n",
       "    .dataframe tbody tr th:only-of-type {\n",
       "        vertical-align: middle;\n",
       "    }\n",
       "\n",
       "    .dataframe tbody tr th {\n",
       "        vertical-align: top;\n",
       "    }\n",
       "\n",
       "    .dataframe thead th {\n",
       "        text-align: right;\n",
       "    }\n",
       "</style>\n",
       "<table border=\"1\" class=\"dataframe\">\n",
       "  <thead>\n",
       "    <tr style=\"text-align: right;\">\n",
       "      <th></th>\n",
       "      <th>wind</th>\n",
       "      <th>ou</th>\n",
       "      <th>is_under</th>\n",
       "      <th>is_turf</th>\n",
       "      <th>is_outdoor</th>\n",
       "    </tr>\n",
       "  </thead>\n",
       "  <tbody>\n",
       "    <tr>\n",
       "      <th>0</th>\n",
       "      <td>0</td>\n",
       "      <td>51.0</td>\n",
       "      <td>0</td>\n",
       "      <td>0</td>\n",
       "      <td>0</td>\n",
       "    </tr>\n",
       "    <tr>\n",
       "      <th>1</th>\n",
       "      <td>14</td>\n",
       "      <td>45.5</td>\n",
       "      <td>1</td>\n",
       "      <td>0</td>\n",
       "      <td>1</td>\n",
       "    </tr>\n",
       "    <tr>\n",
       "      <th>2</th>\n",
       "      <td>13</td>\n",
       "      <td>48.0</td>\n",
       "      <td>1</td>\n",
       "      <td>0</td>\n",
       "      <td>1</td>\n",
       "    </tr>\n",
       "    <tr>\n",
       "      <th>3</th>\n",
       "      <td>0</td>\n",
       "      <td>49.0</td>\n",
       "      <td>1</td>\n",
       "      <td>1</td>\n",
       "      <td>1</td>\n",
       "    </tr>\n",
       "    <tr>\n",
       "      <th>4</th>\n",
       "      <td>19</td>\n",
       "      <td>47.0</td>\n",
       "      <td>1</td>\n",
       "      <td>0</td>\n",
       "      <td>1</td>\n",
       "    </tr>\n",
       "  </tbody>\n",
       "</table>\n",
       "</div>"
      ],
      "text/plain": [
       "   wind    ou  is_under  is_turf  is_outdoor\n",
       "0     0  51.0         0        0           0\n",
       "1    14  45.5         1        0           1\n",
       "2    13  48.0         1        0           1\n",
       "3     0  49.0         1        1           1\n",
       "4    19  47.0         1        0           1"
      ]
     },
     "execution_count": 5,
     "metadata": {},
     "output_type": "execute_result"
    }
   ],
   "source": [
    "df.head()"
   ]
  },
  {
   "cell_type": "code",
   "execution_count": 6,
   "id": "ee61813c",
   "metadata": {},
   "outputs": [],
   "source": [
    "X_train, y_train, X_validate, y_validate, X_test, y_test = ex.train_validate_test(df,'is_under')"
   ]
  },
  {
   "cell_type": "code",
   "execution_count": 7,
   "id": "bcc11934",
   "metadata": {
    "scrolled": true
   },
   "outputs": [
    {
     "data": {
      "text/plain": [
       "((6471, 4), (6471,), (2394, 4), (2394,), (1946, 4), (1946,))"
      ]
     },
     "execution_count": 7,
     "metadata": {},
     "output_type": "execute_result"
    }
   ],
   "source": [
    "X_train.shape, y_train.shape, X_validate.shape, y_validate.shape, X_test.shape, y_test.shape "
   ]
  },
  {
   "cell_type": "code",
   "execution_count": 8,
   "id": "44a4763b",
   "metadata": {},
   "outputs": [
    {
     "name": "stdout",
     "output_type": "stream",
     "text": [
      "1    0.50734\n",
      "0    0.49266\n",
      "Name: is_under, dtype: float64\n",
      "1    0.507519\n",
      "0    0.492481\n",
      "Name: is_under, dtype: float64\n",
      "1    0.507194\n",
      "0    0.492806\n",
      "Name: is_under, dtype: float64\n"
     ]
    }
   ],
   "source": [
    "print(y_train.value_counts(normalize=True))\n",
    "print(y_validate.value_counts(normalize=True))\n",
    "print(y_test.value_counts(normalize=True))"
   ]
  },
  {
   "cell_type": "code",
   "execution_count": 9,
   "id": "cdff660a",
   "metadata": {
    "scrolled": true
   },
   "outputs": [
    {
     "data": {
      "text/html": [
       "<div>\n",
       "<style scoped>\n",
       "    .dataframe tbody tr th:only-of-type {\n",
       "        vertical-align: middle;\n",
       "    }\n",
       "\n",
       "    .dataframe tbody tr th {\n",
       "        vertical-align: top;\n",
       "    }\n",
       "\n",
       "    .dataframe thead th {\n",
       "        text-align: right;\n",
       "    }\n",
       "</style>\n",
       "<table border=\"1\" class=\"dataframe\">\n",
       "  <thead>\n",
       "    <tr style=\"text-align: right;\">\n",
       "      <th></th>\n",
       "      <th>wind</th>\n",
       "      <th>ou</th>\n",
       "      <th>is_turf</th>\n",
       "      <th>is_outdoor</th>\n",
       "    </tr>\n",
       "  </thead>\n",
       "  <tbody>\n",
       "    <tr>\n",
       "      <th>894</th>\n",
       "      <td>9</td>\n",
       "      <td>46.5</td>\n",
       "      <td>0</td>\n",
       "      <td>1</td>\n",
       "    </tr>\n",
       "    <tr>\n",
       "      <th>6913</th>\n",
       "      <td>11</td>\n",
       "      <td>41.5</td>\n",
       "      <td>1</td>\n",
       "      <td>1</td>\n",
       "    </tr>\n",
       "    <tr>\n",
       "      <th>886</th>\n",
       "      <td>0</td>\n",
       "      <td>48.0</td>\n",
       "      <td>1</td>\n",
       "      <td>0</td>\n",
       "    </tr>\n",
       "    <tr>\n",
       "      <th>7630</th>\n",
       "      <td>20</td>\n",
       "      <td>37.0</td>\n",
       "      <td>1</td>\n",
       "      <td>1</td>\n",
       "    </tr>\n",
       "    <tr>\n",
       "      <th>5466</th>\n",
       "      <td>5</td>\n",
       "      <td>36.5</td>\n",
       "      <td>0</td>\n",
       "      <td>1</td>\n",
       "    </tr>\n",
       "  </tbody>\n",
       "</table>\n",
       "</div>"
      ],
      "text/plain": [
       "      wind    ou  is_turf  is_outdoor\n",
       "894      9  46.5        0           1\n",
       "6913    11  41.5        1           1\n",
       "886      0  48.0        1           0\n",
       "7630    20  37.0        1           1\n",
       "5466     5  36.5        0           1"
      ]
     },
     "execution_count": 9,
     "metadata": {},
     "output_type": "execute_result"
    }
   ],
   "source": [
    "X_train.head()"
   ]
  },
  {
   "cell_type": "code",
   "execution_count": 10,
   "id": "40a49be2",
   "metadata": {},
   "outputs": [
    {
     "name": "stdout",
     "output_type": "stream",
     "text": [
      "<class 'pandas.core.frame.DataFrame'>\n",
      "Int64Index: 1946 entries, 6593 to 94\n",
      "Data columns (total 4 columns):\n",
      " #   Column      Non-Null Count  Dtype  \n",
      "---  ------      --------------  -----  \n",
      " 0   wind        1946 non-null   int64  \n",
      " 1   ou          1946 non-null   float64\n",
      " 2   is_turf     1946 non-null   int64  \n",
      " 3   is_outdoor  1946 non-null   int64  \n",
      "dtypes: float64(1), int64(3)\n",
      "memory usage: 76.0 KB\n"
     ]
    }
   ],
   "source": [
    "X_test.info()"
   ]
  },
  {
   "cell_type": "markdown",
   "id": "55f1adc7",
   "metadata": {},
   "source": [
    "# MODELING with CV on slim df"
   ]
  },
  {
   "cell_type": "markdown",
   "id": "54258b4b",
   "metadata": {},
   "source": [
    "## DTC with CV"
   ]
  },
  {
   "cell_type": "code",
   "execution_count": 11,
   "id": "4452c336",
   "metadata": {},
   "outputs": [],
   "source": [
    "param_grid = {\n",
    "    'max_depth': [None,18, 12, 10, 5],\n",
    "    'min_samples_leaf': [1, 5, 10, 20],\n",
    "    'criterion': ['gini', 'entropy'],\n",
    "}\n",
    "\n",
    "gr_search = GridSearchCV(DecisionTreeClassifier(),param_grid)"
   ]
  },
  {
   "cell_type": "code",
   "execution_count": 12,
   "id": "c925e08f",
   "metadata": {},
   "outputs": [
    {
     "data": {
      "text/html": [
       "<style>#sk-container-id-1 {color: black;background-color: white;}#sk-container-id-1 pre{padding: 0;}#sk-container-id-1 div.sk-toggleable {background-color: white;}#sk-container-id-1 label.sk-toggleable__label {cursor: pointer;display: block;width: 100%;margin-bottom: 0;padding: 0.3em;box-sizing: border-box;text-align: center;}#sk-container-id-1 label.sk-toggleable__label-arrow:before {content: \"▸\";float: left;margin-right: 0.25em;color: #696969;}#sk-container-id-1 label.sk-toggleable__label-arrow:hover:before {color: black;}#sk-container-id-1 div.sk-estimator:hover label.sk-toggleable__label-arrow:before {color: black;}#sk-container-id-1 div.sk-toggleable__content {max-height: 0;max-width: 0;overflow: hidden;text-align: left;background-color: #f0f8ff;}#sk-container-id-1 div.sk-toggleable__content pre {margin: 0.2em;color: black;border-radius: 0.25em;background-color: #f0f8ff;}#sk-container-id-1 input.sk-toggleable__control:checked~div.sk-toggleable__content {max-height: 200px;max-width: 100%;overflow: auto;}#sk-container-id-1 input.sk-toggleable__control:checked~label.sk-toggleable__label-arrow:before {content: \"▾\";}#sk-container-id-1 div.sk-estimator input.sk-toggleable__control:checked~label.sk-toggleable__label {background-color: #d4ebff;}#sk-container-id-1 div.sk-label input.sk-toggleable__control:checked~label.sk-toggleable__label {background-color: #d4ebff;}#sk-container-id-1 input.sk-hidden--visually {border: 0;clip: rect(1px 1px 1px 1px);clip: rect(1px, 1px, 1px, 1px);height: 1px;margin: -1px;overflow: hidden;padding: 0;position: absolute;width: 1px;}#sk-container-id-1 div.sk-estimator {font-family: monospace;background-color: #f0f8ff;border: 1px dotted black;border-radius: 0.25em;box-sizing: border-box;margin-bottom: 0.5em;}#sk-container-id-1 div.sk-estimator:hover {background-color: #d4ebff;}#sk-container-id-1 div.sk-parallel-item::after {content: \"\";width: 100%;border-bottom: 1px solid gray;flex-grow: 1;}#sk-container-id-1 div.sk-label:hover label.sk-toggleable__label {background-color: #d4ebff;}#sk-container-id-1 div.sk-serial::before {content: \"\";position: absolute;border-left: 1px solid gray;box-sizing: border-box;top: 0;bottom: 0;left: 50%;z-index: 0;}#sk-container-id-1 div.sk-serial {display: flex;flex-direction: column;align-items: center;background-color: white;padding-right: 0.2em;padding-left: 0.2em;position: relative;}#sk-container-id-1 div.sk-item {position: relative;z-index: 1;}#sk-container-id-1 div.sk-parallel {display: flex;align-items: stretch;justify-content: center;background-color: white;position: relative;}#sk-container-id-1 div.sk-item::before, #sk-container-id-1 div.sk-parallel-item::before {content: \"\";position: absolute;border-left: 1px solid gray;box-sizing: border-box;top: 0;bottom: 0;left: 50%;z-index: -1;}#sk-container-id-1 div.sk-parallel-item {display: flex;flex-direction: column;z-index: 1;position: relative;background-color: white;}#sk-container-id-1 div.sk-parallel-item:first-child::after {align-self: flex-end;width: 50%;}#sk-container-id-1 div.sk-parallel-item:last-child::after {align-self: flex-start;width: 50%;}#sk-container-id-1 div.sk-parallel-item:only-child::after {width: 0;}#sk-container-id-1 div.sk-dashed-wrapped {border: 1px dashed gray;margin: 0 0.4em 0.5em 0.4em;box-sizing: border-box;padding-bottom: 0.4em;background-color: white;}#sk-container-id-1 div.sk-label label {font-family: monospace;font-weight: bold;display: inline-block;line-height: 1.2em;}#sk-container-id-1 div.sk-label-container {text-align: center;}#sk-container-id-1 div.sk-container {/* jupyter's `normalize.less` sets `[hidden] { display: none; }` but bootstrap.min.css set `[hidden] { display: none !important; }` so we also need the `!important` here to be able to override the default hidden behavior on the sphinx rendered scikit-learn.org. See: https://github.com/scikit-learn/scikit-learn/issues/21755 */display: inline-block !important;position: relative;}#sk-container-id-1 div.sk-text-repr-fallback {display: none;}</style><div id=\"sk-container-id-1\" class=\"sk-top-container\"><div class=\"sk-text-repr-fallback\"><pre>GridSearchCV(estimator=DecisionTreeClassifier(),\n",
       "             param_grid={&#x27;criterion&#x27;: [&#x27;gini&#x27;, &#x27;entropy&#x27;],\n",
       "                         &#x27;max_depth&#x27;: [None, 18, 12, 10, 5],\n",
       "                         &#x27;min_samples_leaf&#x27;: [1, 5, 10, 20]})</pre><b>In a Jupyter environment, please rerun this cell to show the HTML representation or trust the notebook. <br />On GitHub, the HTML representation is unable to render, please try loading this page with nbviewer.org.</b></div><div class=\"sk-container\" hidden><div class=\"sk-item sk-dashed-wrapped\"><div class=\"sk-label-container\"><div class=\"sk-label sk-toggleable\"><input class=\"sk-toggleable__control sk-hidden--visually\" id=\"sk-estimator-id-1\" type=\"checkbox\" ><label for=\"sk-estimator-id-1\" class=\"sk-toggleable__label sk-toggleable__label-arrow\">GridSearchCV</label><div class=\"sk-toggleable__content\"><pre>GridSearchCV(estimator=DecisionTreeClassifier(),\n",
       "             param_grid={&#x27;criterion&#x27;: [&#x27;gini&#x27;, &#x27;entropy&#x27;],\n",
       "                         &#x27;max_depth&#x27;: [None, 18, 12, 10, 5],\n",
       "                         &#x27;min_samples_leaf&#x27;: [1, 5, 10, 20]})</pre></div></div></div><div class=\"sk-parallel\"><div class=\"sk-parallel-item\"><div class=\"sk-item\"><div class=\"sk-label-container\"><div class=\"sk-label sk-toggleable\"><input class=\"sk-toggleable__control sk-hidden--visually\" id=\"sk-estimator-id-2\" type=\"checkbox\" ><label for=\"sk-estimator-id-2\" class=\"sk-toggleable__label sk-toggleable__label-arrow\">estimator: DecisionTreeClassifier</label><div class=\"sk-toggleable__content\"><pre>DecisionTreeClassifier()</pre></div></div></div><div class=\"sk-serial\"><div class=\"sk-item\"><div class=\"sk-estimator sk-toggleable\"><input class=\"sk-toggleable__control sk-hidden--visually\" id=\"sk-estimator-id-3\" type=\"checkbox\" ><label for=\"sk-estimator-id-3\" class=\"sk-toggleable__label sk-toggleable__label-arrow\">DecisionTreeClassifier</label><div class=\"sk-toggleable__content\"><pre>DecisionTreeClassifier()</pre></div></div></div></div></div></div></div></div></div></div>"
      ],
      "text/plain": [
       "GridSearchCV(estimator=DecisionTreeClassifier(),\n",
       "             param_grid={'criterion': ['gini', 'entropy'],\n",
       "                         'max_depth': [None, 18, 12, 10, 5],\n",
       "                         'min_samples_leaf': [1, 5, 10, 20]})"
      ]
     },
     "execution_count": 12,
     "metadata": {},
     "output_type": "execute_result"
    }
   ],
   "source": [
    "gr_search"
   ]
  },
  {
   "cell_type": "code",
   "execution_count": 13,
   "id": "36391604",
   "metadata": {},
   "outputs": [
    {
     "data": {
      "text/html": [
       "<style>#sk-container-id-2 {color: black;background-color: white;}#sk-container-id-2 pre{padding: 0;}#sk-container-id-2 div.sk-toggleable {background-color: white;}#sk-container-id-2 label.sk-toggleable__label {cursor: pointer;display: block;width: 100%;margin-bottom: 0;padding: 0.3em;box-sizing: border-box;text-align: center;}#sk-container-id-2 label.sk-toggleable__label-arrow:before {content: \"▸\";float: left;margin-right: 0.25em;color: #696969;}#sk-container-id-2 label.sk-toggleable__label-arrow:hover:before {color: black;}#sk-container-id-2 div.sk-estimator:hover label.sk-toggleable__label-arrow:before {color: black;}#sk-container-id-2 div.sk-toggleable__content {max-height: 0;max-width: 0;overflow: hidden;text-align: left;background-color: #f0f8ff;}#sk-container-id-2 div.sk-toggleable__content pre {margin: 0.2em;color: black;border-radius: 0.25em;background-color: #f0f8ff;}#sk-container-id-2 input.sk-toggleable__control:checked~div.sk-toggleable__content {max-height: 200px;max-width: 100%;overflow: auto;}#sk-container-id-2 input.sk-toggleable__control:checked~label.sk-toggleable__label-arrow:before {content: \"▾\";}#sk-container-id-2 div.sk-estimator input.sk-toggleable__control:checked~label.sk-toggleable__label {background-color: #d4ebff;}#sk-container-id-2 div.sk-label input.sk-toggleable__control:checked~label.sk-toggleable__label {background-color: #d4ebff;}#sk-container-id-2 input.sk-hidden--visually {border: 0;clip: rect(1px 1px 1px 1px);clip: rect(1px, 1px, 1px, 1px);height: 1px;margin: -1px;overflow: hidden;padding: 0;position: absolute;width: 1px;}#sk-container-id-2 div.sk-estimator {font-family: monospace;background-color: #f0f8ff;border: 1px dotted black;border-radius: 0.25em;box-sizing: border-box;margin-bottom: 0.5em;}#sk-container-id-2 div.sk-estimator:hover {background-color: #d4ebff;}#sk-container-id-2 div.sk-parallel-item::after {content: \"\";width: 100%;border-bottom: 1px solid gray;flex-grow: 1;}#sk-container-id-2 div.sk-label:hover label.sk-toggleable__label {background-color: #d4ebff;}#sk-container-id-2 div.sk-serial::before {content: \"\";position: absolute;border-left: 1px solid gray;box-sizing: border-box;top: 0;bottom: 0;left: 50%;z-index: 0;}#sk-container-id-2 div.sk-serial {display: flex;flex-direction: column;align-items: center;background-color: white;padding-right: 0.2em;padding-left: 0.2em;position: relative;}#sk-container-id-2 div.sk-item {position: relative;z-index: 1;}#sk-container-id-2 div.sk-parallel {display: flex;align-items: stretch;justify-content: center;background-color: white;position: relative;}#sk-container-id-2 div.sk-item::before, #sk-container-id-2 div.sk-parallel-item::before {content: \"\";position: absolute;border-left: 1px solid gray;box-sizing: border-box;top: 0;bottom: 0;left: 50%;z-index: -1;}#sk-container-id-2 div.sk-parallel-item {display: flex;flex-direction: column;z-index: 1;position: relative;background-color: white;}#sk-container-id-2 div.sk-parallel-item:first-child::after {align-self: flex-end;width: 50%;}#sk-container-id-2 div.sk-parallel-item:last-child::after {align-self: flex-start;width: 50%;}#sk-container-id-2 div.sk-parallel-item:only-child::after {width: 0;}#sk-container-id-2 div.sk-dashed-wrapped {border: 1px dashed gray;margin: 0 0.4em 0.5em 0.4em;box-sizing: border-box;padding-bottom: 0.4em;background-color: white;}#sk-container-id-2 div.sk-label label {font-family: monospace;font-weight: bold;display: inline-block;line-height: 1.2em;}#sk-container-id-2 div.sk-label-container {text-align: center;}#sk-container-id-2 div.sk-container {/* jupyter's `normalize.less` sets `[hidden] { display: none; }` but bootstrap.min.css set `[hidden] { display: none !important; }` so we also need the `!important` here to be able to override the default hidden behavior on the sphinx rendered scikit-learn.org. See: https://github.com/scikit-learn/scikit-learn/issues/21755 */display: inline-block !important;position: relative;}#sk-container-id-2 div.sk-text-repr-fallback {display: none;}</style><div id=\"sk-container-id-2\" class=\"sk-top-container\"><div class=\"sk-text-repr-fallback\"><pre>GridSearchCV(estimator=DecisionTreeClassifier(),\n",
       "             param_grid={&#x27;criterion&#x27;: [&#x27;gini&#x27;, &#x27;entropy&#x27;],\n",
       "                         &#x27;max_depth&#x27;: [None, 18, 12, 10, 5],\n",
       "                         &#x27;min_samples_leaf&#x27;: [1, 5, 10, 20]})</pre><b>In a Jupyter environment, please rerun this cell to show the HTML representation or trust the notebook. <br />On GitHub, the HTML representation is unable to render, please try loading this page with nbviewer.org.</b></div><div class=\"sk-container\" hidden><div class=\"sk-item sk-dashed-wrapped\"><div class=\"sk-label-container\"><div class=\"sk-label sk-toggleable\"><input class=\"sk-toggleable__control sk-hidden--visually\" id=\"sk-estimator-id-4\" type=\"checkbox\" ><label for=\"sk-estimator-id-4\" class=\"sk-toggleable__label sk-toggleable__label-arrow\">GridSearchCV</label><div class=\"sk-toggleable__content\"><pre>GridSearchCV(estimator=DecisionTreeClassifier(),\n",
       "             param_grid={&#x27;criterion&#x27;: [&#x27;gini&#x27;, &#x27;entropy&#x27;],\n",
       "                         &#x27;max_depth&#x27;: [None, 18, 12, 10, 5],\n",
       "                         &#x27;min_samples_leaf&#x27;: [1, 5, 10, 20]})</pre></div></div></div><div class=\"sk-parallel\"><div class=\"sk-parallel-item\"><div class=\"sk-item\"><div class=\"sk-label-container\"><div class=\"sk-label sk-toggleable\"><input class=\"sk-toggleable__control sk-hidden--visually\" id=\"sk-estimator-id-5\" type=\"checkbox\" ><label for=\"sk-estimator-id-5\" class=\"sk-toggleable__label sk-toggleable__label-arrow\">estimator: DecisionTreeClassifier</label><div class=\"sk-toggleable__content\"><pre>DecisionTreeClassifier()</pre></div></div></div><div class=\"sk-serial\"><div class=\"sk-item\"><div class=\"sk-estimator sk-toggleable\"><input class=\"sk-toggleable__control sk-hidden--visually\" id=\"sk-estimator-id-6\" type=\"checkbox\" ><label for=\"sk-estimator-id-6\" class=\"sk-toggleable__label sk-toggleable__label-arrow\">DecisionTreeClassifier</label><div class=\"sk-toggleable__content\"><pre>DecisionTreeClassifier()</pre></div></div></div></div></div></div></div></div></div></div>"
      ],
      "text/plain": [
       "GridSearchCV(estimator=DecisionTreeClassifier(),\n",
       "             param_grid={'criterion': ['gini', 'entropy'],\n",
       "                         'max_depth': [None, 18, 12, 10, 5],\n",
       "                         'min_samples_leaf': [1, 5, 10, 20]})"
      ]
     },
     "execution_count": 13,
     "metadata": {},
     "output_type": "execute_result"
    }
   ],
   "source": [
    "gr_search.fit(X_train, y_train)"
   ]
  },
  {
   "cell_type": "code",
   "execution_count": 14,
   "id": "c4d17e2a",
   "metadata": {},
   "outputs": [
    {
     "data": {
      "text/plain": [
       "(40, 16)"
      ]
     },
     "execution_count": 14,
     "metadata": {},
     "output_type": "execute_result"
    }
   ],
   "source": [
    "results = gr_search.cv_results_\n",
    "results_df_init = pd.DataFrame(results)\n",
    "results_df_init.shape"
   ]
  },
  {
   "cell_type": "code",
   "execution_count": 15,
   "id": "86b61bbf",
   "metadata": {},
   "outputs": [
    {
     "data": {
      "text/html": [
       "<div>\n",
       "<style scoped>\n",
       "    .dataframe tbody tr th:only-of-type {\n",
       "        vertical-align: middle;\n",
       "    }\n",
       "\n",
       "    .dataframe tbody tr th {\n",
       "        vertical-align: top;\n",
       "    }\n",
       "\n",
       "    .dataframe thead th {\n",
       "        text-align: right;\n",
       "    }\n",
       "</style>\n",
       "<table border=\"1\" class=\"dataframe\">\n",
       "  <thead>\n",
       "    <tr style=\"text-align: right;\">\n",
       "      <th></th>\n",
       "      <th>mean_fit_time</th>\n",
       "      <th>std_fit_time</th>\n",
       "      <th>mean_score_time</th>\n",
       "      <th>std_score_time</th>\n",
       "      <th>param_criterion</th>\n",
       "      <th>param_max_depth</th>\n",
       "      <th>param_min_samples_leaf</th>\n",
       "      <th>params</th>\n",
       "      <th>split0_test_score</th>\n",
       "      <th>split1_test_score</th>\n",
       "      <th>split2_test_score</th>\n",
       "      <th>split3_test_score</th>\n",
       "      <th>split4_test_score</th>\n",
       "      <th>mean_test_score</th>\n",
       "      <th>std_test_score</th>\n",
       "      <th>rank_test_score</th>\n",
       "    </tr>\n",
       "  </thead>\n",
       "  <tbody>\n",
       "    <tr>\n",
       "      <th>28</th>\n",
       "      <td>0.003355</td>\n",
       "      <td>0.000071</td>\n",
       "      <td>0.000478</td>\n",
       "      <td>0.000009</td>\n",
       "      <td>entropy</td>\n",
       "      <td>12</td>\n",
       "      <td>1</td>\n",
       "      <td>{'criterion': 'entropy', 'max_depth': 12, 'min...</td>\n",
       "      <td>0.508108</td>\n",
       "      <td>0.522411</td>\n",
       "      <td>0.527821</td>\n",
       "      <td>0.523184</td>\n",
       "      <td>0.517774</td>\n",
       "      <td>0.519860</td>\n",
       "      <td>0.006684</td>\n",
       "      <td>1</td>\n",
       "    </tr>\n",
       "    <tr>\n",
       "      <th>8</th>\n",
       "      <td>0.003294</td>\n",
       "      <td>0.000065</td>\n",
       "      <td>0.000485</td>\n",
       "      <td>0.000006</td>\n",
       "      <td>gini</td>\n",
       "      <td>12</td>\n",
       "      <td>1</td>\n",
       "      <td>{'criterion': 'gini', 'max_depth': 12, 'min_sa...</td>\n",
       "      <td>0.508108</td>\n",
       "      <td>0.522411</td>\n",
       "      <td>0.524730</td>\n",
       "      <td>0.529366</td>\n",
       "      <td>0.512365</td>\n",
       "      <td>0.519396</td>\n",
       "      <td>0.007922</td>\n",
       "      <td>2</td>\n",
       "    </tr>\n",
       "    <tr>\n",
       "      <th>20</th>\n",
       "      <td>0.003931</td>\n",
       "      <td>0.000166</td>\n",
       "      <td>0.000510</td>\n",
       "      <td>0.000007</td>\n",
       "      <td>entropy</td>\n",
       "      <td>None</td>\n",
       "      <td>1</td>\n",
       "      <td>{'criterion': 'entropy', 'max_depth': None, 'm...</td>\n",
       "      <td>0.517375</td>\n",
       "      <td>0.527821</td>\n",
       "      <td>0.516229</td>\n",
       "      <td>0.513138</td>\n",
       "      <td>0.519320</td>\n",
       "      <td>0.518776</td>\n",
       "      <td>0.004947</td>\n",
       "      <td>3</td>\n",
       "    </tr>\n",
       "    <tr>\n",
       "      <th>0</th>\n",
       "      <td>0.008385</td>\n",
       "      <td>0.001941</td>\n",
       "      <td>0.001333</td>\n",
       "      <td>0.000544</td>\n",
       "      <td>gini</td>\n",
       "      <td>None</td>\n",
       "      <td>1</td>\n",
       "      <td>{'criterion': 'gini', 'max_depth': None, 'min_...</td>\n",
       "      <td>0.513514</td>\n",
       "      <td>0.527048</td>\n",
       "      <td>0.516229</td>\n",
       "      <td>0.512365</td>\n",
       "      <td>0.516229</td>\n",
       "      <td>0.517077</td>\n",
       "      <td>0.005211</td>\n",
       "      <td>4</td>\n",
       "    </tr>\n",
       "    <tr>\n",
       "      <th>30</th>\n",
       "      <td>0.003093</td>\n",
       "      <td>0.000087</td>\n",
       "      <td>0.000461</td>\n",
       "      <td>0.000006</td>\n",
       "      <td>entropy</td>\n",
       "      <td>12</td>\n",
       "      <td>10</td>\n",
       "      <td>{'criterion': 'entropy', 'max_depth': 12, 'min...</td>\n",
       "      <td>0.501931</td>\n",
       "      <td>0.515456</td>\n",
       "      <td>0.514683</td>\n",
       "      <td>0.528594</td>\n",
       "      <td>0.517002</td>\n",
       "      <td>0.515533</td>\n",
       "      <td>0.008467</td>\n",
       "      <td>5</td>\n",
       "    </tr>\n",
       "  </tbody>\n",
       "</table>\n",
       "</div>"
      ],
      "text/plain": [
       "    mean_fit_time  std_fit_time  mean_score_time  std_score_time  \\\n",
       "28       0.003355      0.000071         0.000478        0.000009   \n",
       "8        0.003294      0.000065         0.000485        0.000006   \n",
       "20       0.003931      0.000166         0.000510        0.000007   \n",
       "0        0.008385      0.001941         0.001333        0.000544   \n",
       "30       0.003093      0.000087         0.000461        0.000006   \n",
       "\n",
       "   param_criterion param_max_depth param_min_samples_leaf  \\\n",
       "28         entropy              12                      1   \n",
       "8             gini              12                      1   \n",
       "20         entropy            None                      1   \n",
       "0             gini            None                      1   \n",
       "30         entropy              12                     10   \n",
       "\n",
       "                                               params  split0_test_score  \\\n",
       "28  {'criterion': 'entropy', 'max_depth': 12, 'min...           0.508108   \n",
       "8   {'criterion': 'gini', 'max_depth': 12, 'min_sa...           0.508108   \n",
       "20  {'criterion': 'entropy', 'max_depth': None, 'm...           0.517375   \n",
       "0   {'criterion': 'gini', 'max_depth': None, 'min_...           0.513514   \n",
       "30  {'criterion': 'entropy', 'max_depth': 12, 'min...           0.501931   \n",
       "\n",
       "    split1_test_score  split2_test_score  split3_test_score  \\\n",
       "28           0.522411           0.527821           0.523184   \n",
       "8            0.522411           0.524730           0.529366   \n",
       "20           0.527821           0.516229           0.513138   \n",
       "0            0.527048           0.516229           0.512365   \n",
       "30           0.515456           0.514683           0.528594   \n",
       "\n",
       "    split4_test_score  mean_test_score  std_test_score  rank_test_score  \n",
       "28           0.517774         0.519860        0.006684                1  \n",
       "8            0.512365         0.519396        0.007922                2  \n",
       "20           0.519320         0.518776        0.004947                3  \n",
       "0            0.516229         0.517077        0.005211                4  \n",
       "30           0.517002         0.515533        0.008467                5  "
      ]
     },
     "execution_count": 15,
     "metadata": {},
     "output_type": "execute_result"
    }
   ],
   "source": [
    "params = pd.DataFrame(results['params'])\n",
    "results_df_init.sort_values(by='rank_test_score').head()"
   ]
  },
  {
   "cell_type": "code",
   "execution_count": null,
   "id": "23b0fc3f",
   "metadata": {},
   "outputs": [],
   "source": []
  },
  {
   "cell_type": "markdown",
   "id": "3ba2be2d",
   "metadata": {},
   "source": [
    "## DTC with CV PLAYTIME"
   ]
  },
  {
   "cell_type": "code",
   "execution_count": null,
   "id": "5e2a94ee",
   "metadata": {},
   "outputs": [],
   "source": [
    "param_grid = {\n",
    "    'max_depth': [5],\n",
    "    'min_samples_leaf': [10, 20,30,50,60],\n",
    "    'criterion': ['gini', 'entropy'],\n",
    "}\n",
    "\n",
    "gr_search = GridSearchCV(DecisionTreeClassifier(),param_grid)"
   ]
  },
  {
   "cell_type": "code",
   "execution_count": null,
   "id": "161a0f09",
   "metadata": {},
   "outputs": [],
   "source": [
    "gr_search"
   ]
  },
  {
   "cell_type": "code",
   "execution_count": null,
   "id": "9c6b3d11",
   "metadata": {},
   "outputs": [],
   "source": [
    "gr_search.fit(X_train, y_train)"
   ]
  },
  {
   "cell_type": "code",
   "execution_count": null,
   "id": "291c0988",
   "metadata": {},
   "outputs": [],
   "source": [
    "results = gr_search.cv_results_\n",
    "results_df_init = pd.DataFrame(results)\n",
    "results_df_init.shape"
   ]
  },
  {
   "cell_type": "code",
   "execution_count": null,
   "id": "e0fa9b6a",
   "metadata": {},
   "outputs": [],
   "source": [
    "params = pd.DataFrame(results['params'])\n",
    "results_df_init.sort_values(by='rank_test_score').head()"
   ]
  },
  {
   "cell_type": "markdown",
   "id": "a64ee5de",
   "metadata": {},
   "source": [
    "## RFC with CV"
   ]
  },
  {
   "cell_type": "code",
   "execution_count": null,
   "id": "3dc2ae40",
   "metadata": {},
   "outputs": [],
   "source": [
    "param_grid = {\n",
    "    'max_depth': [None,18, 12, 10, 5],\n",
    "    'n_estimators': [55, 101, 201],\n",
    "    'criterion': ['gini', 'entropy'],\n",
    "}\n",
    "gr_search = GridSearchCV(RandomForestClassifier(),\n",
    "                      param_grid)"
   ]
  },
  {
   "cell_type": "code",
   "execution_count": null,
   "id": "fc099ba6",
   "metadata": {},
   "outputs": [],
   "source": [
    "gr_search"
   ]
  },
  {
   "cell_type": "code",
   "execution_count": null,
   "id": "5d365432",
   "metadata": {},
   "outputs": [],
   "source": [
    "gr_search.fit(X_train, y_train)"
   ]
  },
  {
   "cell_type": "code",
   "execution_count": null,
   "id": "0b297077",
   "metadata": {},
   "outputs": [],
   "source": [
    "results = gr_search.cv_results_\n",
    "results_df_init = pd.DataFrame(results)\n",
    "results_df_init.shape"
   ]
  },
  {
   "cell_type": "code",
   "execution_count": null,
   "id": "0f955c9b",
   "metadata": {},
   "outputs": [],
   "source": [
    "params = pd.DataFrame(results['params'])\n",
    "results_df_init.sort_values(by='rank_test_score').head()"
   ]
  },
  {
   "cell_type": "code",
   "execution_count": null,
   "id": "ec946266",
   "metadata": {},
   "outputs": [],
   "source": []
  },
  {
   "cell_type": "markdown",
   "id": "ab138a55",
   "metadata": {},
   "source": [
    "## RFC with CV PLAYTIME"
   ]
  },
  {
   "cell_type": "code",
   "execution_count": null,
   "id": "9ae229a7",
   "metadata": {},
   "outputs": [],
   "source": [
    "param_grid = {\n",
    "    'max_depth': [2,3,5,10],\n",
    "    'n_estimators': [31, 101, 201,501],\n",
    "    'criterion': ['gini', 'entropy'],\n",
    "}\n",
    "gr_search = GridSearchCV(RandomForestClassifier(),\n",
    "                      param_grid)"
   ]
  },
  {
   "cell_type": "code",
   "execution_count": null,
   "id": "b7ebf4d7",
   "metadata": {},
   "outputs": [],
   "source": [
    "gr_search"
   ]
  },
  {
   "cell_type": "code",
   "execution_count": null,
   "id": "7ad92e73",
   "metadata": {},
   "outputs": [],
   "source": [
    "gr_search.fit(X_train, y_train)"
   ]
  },
  {
   "cell_type": "code",
   "execution_count": null,
   "id": "ffe58b45",
   "metadata": {},
   "outputs": [],
   "source": [
    "results = gr_search.cv_results_\n",
    "results_df_init = pd.DataFrame(results)\n",
    "results_df_init.shape"
   ]
  },
  {
   "cell_type": "code",
   "execution_count": null,
   "id": "ac7ca640",
   "metadata": {},
   "outputs": [],
   "source": [
    "params = pd.DataFrame(results['params'])\n",
    "results_df_init.sort_values(by='rank_test_score').head()"
   ]
  },
  {
   "cell_type": "markdown",
   "id": "b14227c1",
   "metadata": {},
   "source": [
    "## NBC with CV"
   ]
  },
  {
   "cell_type": "code",
   "execution_count": null,
   "id": "f4d067bd",
   "metadata": {},
   "outputs": [],
   "source": [
    "param_grid = {\n",
    "    'var_smoothing': [.000000001,.000000002,.000000003]\n",
    "}\n",
    "gr_search = GridSearchCV(GaussianNB(),\n",
    "                      param_grid)"
   ]
  },
  {
   "cell_type": "code",
   "execution_count": null,
   "id": "1afb8464",
   "metadata": {},
   "outputs": [],
   "source": [
    "gr_search"
   ]
  },
  {
   "cell_type": "code",
   "execution_count": null,
   "id": "4de18e03",
   "metadata": {},
   "outputs": [],
   "source": [
    "gr_search.fit(X_train, y_train)"
   ]
  },
  {
   "cell_type": "code",
   "execution_count": null,
   "id": "ca1d6b25",
   "metadata": {},
   "outputs": [],
   "source": [
    "results = gr_search.cv_results_\n",
    "results_df_init = pd.DataFrame(results)\n",
    "results_df_init.shape"
   ]
  },
  {
   "cell_type": "code",
   "execution_count": null,
   "id": "9c406c53",
   "metadata": {},
   "outputs": [],
   "source": [
    "params = pd.DataFrame(results['params'])\n",
    "results_df_init.sort_values(by='rank_test_score').head()"
   ]
  },
  {
   "cell_type": "markdown",
   "id": "572a6add",
   "metadata": {},
   "source": [
    "## GBC with CV"
   ]
  },
  {
   "cell_type": "code",
   "execution_count": null,
   "id": "ce4c898c",
   "metadata": {},
   "outputs": [],
   "source": [
    "param_grid = {\n",
    "    'learning_rate': [0.1,0.2,0.5,1.0, 5.0],\n",
    "    'n_estimators': [55, 101, 201],\n",
    "    'min_samples_leaf': [1,5,10,20],\n",
    "}\n",
    "gr_search = GridSearchCV(GradientBoostingClassifier(),\n",
    "                      param_grid)"
   ]
  },
  {
   "cell_type": "code",
   "execution_count": null,
   "id": "4f5e22fc",
   "metadata": {},
   "outputs": [],
   "source": [
    "gr_search"
   ]
  },
  {
   "cell_type": "code",
   "execution_count": null,
   "id": "3e5c6108",
   "metadata": {},
   "outputs": [],
   "source": [
    "gr_search.fit(X_train, y_train)"
   ]
  },
  {
   "cell_type": "code",
   "execution_count": null,
   "id": "5f952fd4",
   "metadata": {},
   "outputs": [],
   "source": [
    "results = gr_search.cv_results_\n",
    "results_df_init = pd.DataFrame(results)\n",
    "results_df_init.shape"
   ]
  },
  {
   "cell_type": "code",
   "execution_count": null,
   "id": "2ba22b4e",
   "metadata": {},
   "outputs": [],
   "source": [
    "params = pd.DataFrame(results['params'])\n",
    "results_df_init.sort_values(by='rank_test_score').head()"
   ]
  },
  {
   "cell_type": "markdown",
   "id": "9d8012dc",
   "metadata": {},
   "source": [
    "## CATb with CV"
   ]
  },
  {
   "cell_type": "code",
   "execution_count": null,
   "id": "dd766850",
   "metadata": {},
   "outputs": [],
   "source": [
    "# param_grid = {\n",
    "#     'verbose': [False],\n",
    "#     'depth': [5, 10, 12,15],\n",
    "#     'learning_rate': [None,0.1, 0.3,0.7,1.0],\n",
    "# }\n",
    "# gr_search = GridSearchCV(CatBoostClassifier(),\n",
    "#                       param_grid)"
   ]
  },
  {
   "cell_type": "code",
   "execution_count": null,
   "id": "13e4caa3",
   "metadata": {},
   "outputs": [],
   "source": [
    "param_grid = {\n",
    "    'verbose': [False],\n",
    "    'depth': [5, 10, 12],\n",
    "    'learning_rate': [None,0.1,0.2, 0.5],\n",
    "}\n",
    "gr_search = GridSearchCV(CatBoostClassifier(),\n",
    "                      param_grid)"
   ]
  },
  {
   "cell_type": "code",
   "execution_count": null,
   "id": "a2021c2b",
   "metadata": {},
   "outputs": [],
   "source": [
    "gr_search"
   ]
  },
  {
   "cell_type": "code",
   "execution_count": null,
   "id": "eda89f8b",
   "metadata": {},
   "outputs": [],
   "source": [
    "gr_search.fit(X_train, y_train)"
   ]
  },
  {
   "cell_type": "code",
   "execution_count": null,
   "id": "0033864a",
   "metadata": {},
   "outputs": [],
   "source": [
    "results = gr_search.cv_results_\n",
    "results_df_init = pd.DataFrame(results)\n",
    "results_df_init.shape"
   ]
  },
  {
   "cell_type": "code",
   "execution_count": null,
   "id": "65b0eb4e",
   "metadata": {},
   "outputs": [],
   "source": [
    "params = pd.DataFrame(results['params'])\n",
    "results_df_init.sort_values(by='rank_test_score').head()"
   ]
  },
  {
   "cell_type": "markdown",
   "id": "52133de5",
   "metadata": {},
   "source": [
    "## SCALE for Logistic regression, MLP, etc."
   ]
  },
  {
   "cell_type": "code",
   "execution_count": null,
   "id": "20929839",
   "metadata": {},
   "outputs": [],
   "source": [
    "sc_X = StandardScaler()\n",
    "X_train_scaled = sc_X.fit_transform(X_train)\n",
    "X_validate_scaled = sc_X.transform(X_validate)\n",
    "X_test_scaled = sc_X.transform(X_test)"
   ]
  },
  {
   "cell_type": "markdown",
   "id": "fe7d432c",
   "metadata": {},
   "source": [
    "## MLP"
   ]
  },
  {
   "cell_type": "code",
   "execution_count": null,
   "id": "dcfd4fa0",
   "metadata": {},
   "outputs": [],
   "source": [
    "mlp = MLPClassifier(hidden_layer_sizes=(1024,512,128),activation=\"relu\",random_state=2013,\n",
    "                    batch_size=500,solver='adam')\n",
    "mlp.fit(X_train_scaled, y_train)\n",
    "mlp_preds = mlp.predict(X_train_scaled)\n",
    "print(mlp.score(X_train_scaled, y_train))\n",
    "pd.crosstab(mlp_preds,y_train) # a confusion matrix with ACTUALS as columns and PREDICTIONS as rows"
   ]
  },
  {
   "cell_type": "code",
   "execution_count": null,
   "id": "13f4d9f4",
   "metadata": {},
   "outputs": [],
   "source": [
    "print(f'Accuracy-Train {round(mlp.score(X_train_scaled,y_train),4)}')\n",
    "print(f'Accuracy-Validate {round(mlp.score(X_validate_scaled,y_validate),4)}')\n",
    "print(classification_report(y_train,mlp_preds))\n",
    "print(classification_report(y_validate,mlp.predict(X_validate_scaled)))"
   ]
  },
  {
   "cell_type": "code",
   "execution_count": null,
   "id": "250efe58",
   "metadata": {},
   "outputs": [],
   "source": []
  },
  {
   "cell_type": "markdown",
   "id": "4d8b5d3b",
   "metadata": {},
   "source": [
    "## KNN with CV"
   ]
  },
  {
   "cell_type": "code",
   "execution_count": null,
   "id": "a3798821",
   "metadata": {},
   "outputs": [],
   "source": [
    "param_grid = {\n",
    "    'n_neighbors': [70],\n",
    "    'weights': ['uniform','distance'],\n",
    "    'algorithm':['ball_tree','brute'],\n",
    "    'leaf_size': [3,4,5,6,7,8,9],\n",
    "}\n",
    "gr_search = GridSearchCV(KNeighborsClassifier(),\n",
    "                      param_grid)"
   ]
  },
  {
   "cell_type": "code",
   "execution_count": null,
   "id": "34177f09",
   "metadata": {},
   "outputs": [],
   "source": [
    "gr_search"
   ]
  },
  {
   "cell_type": "code",
   "execution_count": null,
   "id": "a005863a",
   "metadata": {},
   "outputs": [],
   "source": [
    "gr_search.fit(X_train, y_train)"
   ]
  },
  {
   "cell_type": "code",
   "execution_count": null,
   "id": "b44cf5ce",
   "metadata": {},
   "outputs": [],
   "source": [
    "results = gr_search.cv_results_\n",
    "results_df_init = pd.DataFrame(results)\n",
    "results_df_init.shape"
   ]
  },
  {
   "cell_type": "code",
   "execution_count": null,
   "id": "0e9f9a14",
   "metadata": {},
   "outputs": [],
   "source": [
    "params = pd.DataFrame(results['params'])\n",
    "results_df_init.sort_values(by='rank_test_score').head()"
   ]
  },
  {
   "cell_type": "markdown",
   "id": "b6dd0344",
   "metadata": {},
   "source": [
    "## LOG with CV"
   ]
  },
  {
   "cell_type": "code",
   "execution_count": null,
   "id": "f039d09b",
   "metadata": {},
   "outputs": [],
   "source": [
    "param_grid = {\n",
    "    'penalty': ['none','l1','l2','elasticnet'],\n",
    "    'class_weight': ['balanced',None],\n",
    "    'max_iter':[100,50,200,500]\n",
    "}\n",
    "gr_search = GridSearchCV(LogisticRegression(),\n",
    "                      param_grid)"
   ]
  },
  {
   "cell_type": "code",
   "execution_count": null,
   "id": "9c3aff05",
   "metadata": {},
   "outputs": [],
   "source": [
    "gr_search"
   ]
  },
  {
   "cell_type": "code",
   "execution_count": null,
   "id": "bad32874",
   "metadata": {},
   "outputs": [],
   "source": [
    "gr_search.fit(X_train, y_train)"
   ]
  },
  {
   "cell_type": "code",
   "execution_count": null,
   "id": "daa9db8a",
   "metadata": {},
   "outputs": [],
   "source": [
    "results = gr_search.cv_results_\n",
    "results_df_init = pd.DataFrame(results)\n",
    "results_df_init.shape"
   ]
  },
  {
   "cell_type": "code",
   "execution_count": null,
   "id": "ef193477",
   "metadata": {},
   "outputs": [],
   "source": [
    "params = pd.DataFrame(results['params'])\n",
    "results_df_init.sort_values(by='rank_test_score').head()"
   ]
  },
  {
   "cell_type": "markdown",
   "id": "59c28d09",
   "metadata": {},
   "source": [
    "## SVM with CV"
   ]
  },
  {
   "cell_type": "code",
   "execution_count": null,
   "id": "b57d6b87",
   "metadata": {},
   "outputs": [],
   "source": [
    "param_grid = {\n",
    "    'shrinking': [True,False],\n",
    "    'C':[1,5,10]\n",
    "}\n",
    "gr_search = GridSearchCV(SVC(),\n",
    "                      param_grid)"
   ]
  },
  {
   "cell_type": "code",
   "execution_count": null,
   "id": "541a5bd6",
   "metadata": {},
   "outputs": [],
   "source": [
    "gr_search"
   ]
  },
  {
   "cell_type": "code",
   "execution_count": null,
   "id": "5f770b7c",
   "metadata": {},
   "outputs": [],
   "source": [
    "gr_search.fit(X_train, y_train)"
   ]
  },
  {
   "cell_type": "code",
   "execution_count": null,
   "id": "c1da2c18",
   "metadata": {},
   "outputs": [],
   "source": [
    "results = gr_search.cv_results_\n",
    "results_df_init = pd.DataFrame(results)\n",
    "results_df_init.shape"
   ]
  },
  {
   "cell_type": "code",
   "execution_count": null,
   "id": "696b6c01",
   "metadata": {},
   "outputs": [],
   "source": [
    "params = pd.DataFrame(results['params'])\n",
    "results_df_init.sort_values(by='rank_test_score').head()"
   ]
  },
  {
   "cell_type": "markdown",
   "id": "e68f2ba8",
   "metadata": {},
   "source": [
    "# NOW return to single iterations of each model with optimized hyperparameters."
   ]
  },
  {
   "cell_type": "markdown",
   "id": "d005c715",
   "metadata": {},
   "source": [
    "### DTC: gini, max_d=5,min_samples_leaf=50"
   ]
  },
  {
   "cell_type": "code",
   "execution_count": 16,
   "id": "b7f076cc",
   "metadata": {},
   "outputs": [
    {
     "data": {
      "text/html": [
       "<div>\n",
       "<style scoped>\n",
       "    .dataframe tbody tr th:only-of-type {\n",
       "        vertical-align: middle;\n",
       "    }\n",
       "\n",
       "    .dataframe tbody tr th {\n",
       "        vertical-align: top;\n",
       "    }\n",
       "\n",
       "    .dataframe thead th {\n",
       "        text-align: right;\n",
       "    }\n",
       "</style>\n",
       "<table border=\"1\" class=\"dataframe\">\n",
       "  <thead>\n",
       "    <tr style=\"text-align: right;\">\n",
       "      <th>is_under</th>\n",
       "      <th>0</th>\n",
       "      <th>1</th>\n",
       "    </tr>\n",
       "    <tr>\n",
       "      <th>row_0</th>\n",
       "      <th></th>\n",
       "      <th></th>\n",
       "    </tr>\n",
       "  </thead>\n",
       "  <tbody>\n",
       "    <tr>\n",
       "      <th>0</th>\n",
       "      <td>693</td>\n",
       "      <td>564</td>\n",
       "    </tr>\n",
       "    <tr>\n",
       "      <th>1</th>\n",
       "      <td>2495</td>\n",
       "      <td>2719</td>\n",
       "    </tr>\n",
       "  </tbody>\n",
       "</table>\n",
       "</div>"
      ],
      "text/plain": [
       "is_under     0     1\n",
       "row_0               \n",
       "0          693   564\n",
       "1         2495  2719"
      ]
     },
     "execution_count": 16,
     "metadata": {},
     "output_type": "execute_result"
    }
   ],
   "source": [
    "# create the Decision Tree Classifier model \n",
    "dtc = DecisionTreeClassifier(max_depth=5,min_samples_leaf=50)\n",
    "# fit the model to the TRAIN dataset:\n",
    "dtc.fit(X_train, y_train)\n",
    "# use the model by calling for the predictions made via the TRAIN dataset\n",
    "dtc_preds = dtc.predict(X_train)\n",
    "pd.crosstab(dtc_preds,y_train) # a confusion matrix with ACTUALS as columns and PREDICTIONS as rows"
   ]
  },
  {
   "cell_type": "code",
   "execution_count": 17,
   "id": "d17860b9",
   "metadata": {},
   "outputs": [
    {
     "name": "stdout",
     "output_type": "stream",
     "text": [
      "Accuracy-Train 0.5273\n",
      "Accuracy-Validate 0.5184\n",
      "              precision    recall  f1-score   support\n",
      "\n",
      "           0       0.55      0.22      0.31      3188\n",
      "           1       0.52      0.83      0.64      3283\n",
      "\n",
      "    accuracy                           0.53      6471\n",
      "   macro avg       0.54      0.52      0.48      6471\n",
      "weighted avg       0.54      0.53      0.48      6471\n",
      "\n",
      "              precision    recall  f1-score   support\n",
      "\n",
      "           0       0.53      0.21      0.30      1179\n",
      "           1       0.52      0.82      0.63      1215\n",
      "\n",
      "    accuracy                           0.52      2394\n",
      "   macro avg       0.52      0.51      0.47      2394\n",
      "weighted avg       0.52      0.52      0.47      2394\n",
      "\n"
     ]
    }
   ],
   "source": [
    "print(f'Accuracy-Train {round(dtc.score(X_train,y_train),4)}')\n",
    "print(f'Accuracy-Validate {round(dtc.score(X_validate,y_validate),4)}')\n",
    "print(classification_report(y_train,dtc_preds))\n",
    "print(classification_report(y_validate,dtc.predict(X_validate)))"
   ]
  },
  {
   "cell_type": "markdown",
   "id": "526e66d6",
   "metadata": {},
   "source": [
    "### RFC: entropy, max_d=3,n_est=201"
   ]
  },
  {
   "cell_type": "code",
   "execution_count": 21,
   "id": "07fad708",
   "metadata": {},
   "outputs": [
    {
     "data": {
      "text/html": [
       "<div>\n",
       "<style scoped>\n",
       "    .dataframe tbody tr th:only-of-type {\n",
       "        vertical-align: middle;\n",
       "    }\n",
       "\n",
       "    .dataframe tbody tr th {\n",
       "        vertical-align: top;\n",
       "    }\n",
       "\n",
       "    .dataframe thead th {\n",
       "        text-align: right;\n",
       "    }\n",
       "</style>\n",
       "<table border=\"1\" class=\"dataframe\">\n",
       "  <thead>\n",
       "    <tr style=\"text-align: right;\">\n",
       "      <th>is_under</th>\n",
       "      <th>0</th>\n",
       "      <th>1</th>\n",
       "    </tr>\n",
       "    <tr>\n",
       "      <th>row_0</th>\n",
       "      <th></th>\n",
       "      <th></th>\n",
       "    </tr>\n",
       "  </thead>\n",
       "  <tbody>\n",
       "    <tr>\n",
       "      <th>0</th>\n",
       "      <td>1092</td>\n",
       "      <td>902</td>\n",
       "    </tr>\n",
       "    <tr>\n",
       "      <th>1</th>\n",
       "      <td>2096</td>\n",
       "      <td>2381</td>\n",
       "    </tr>\n",
       "  </tbody>\n",
       "</table>\n",
       "</div>"
      ],
      "text/plain": [
       "is_under     0     1\n",
       "row_0               \n",
       "0         1092   902\n",
       "1         2096  2381"
      ]
     },
     "execution_count": 21,
     "metadata": {},
     "output_type": "execute_result"
    }
   ],
   "source": [
    "# create the Random Forest model \n",
    "rf1 = RandomForestClassifier(criterion='entropy',n_estimators=201,max_depth=3)\n",
    "# fit the model to the TRAIN dataset1\n",
    "rf1.fit(X_train, y_train)\n",
    "# use the model by calling for the predictions made via the TRAIN dataset\n",
    "rf1_preds = rf1.predict(X_train)\n",
    "pd.crosstab(rf1_preds,y_train) # a confusion matrix with ACTUALS as columns and PREDICTIONS as rows"
   ]
  },
  {
   "cell_type": "code",
   "execution_count": 22,
   "id": "4aa66907",
   "metadata": {},
   "outputs": [
    {
     "name": "stdout",
     "output_type": "stream",
     "text": [
      "Accuracy-Train 0.5367\n",
      "Accuracy-Validate 0.5238\n",
      "              precision    recall  f1-score   support\n",
      "\n",
      "           0       0.55      0.34      0.42      3188\n",
      "           1       0.53      0.73      0.61      3283\n",
      "\n",
      "    accuracy                           0.54      6471\n",
      "   macro avg       0.54      0.53      0.52      6471\n",
      "weighted avg       0.54      0.54      0.52      6471\n",
      "\n",
      "              precision    recall  f1-score   support\n",
      "\n",
      "           0       0.53      0.34      0.41      1179\n",
      "           1       0.52      0.70      0.60      1215\n",
      "\n",
      "    accuracy                           0.52      2394\n",
      "   macro avg       0.52      0.52      0.51      2394\n",
      "weighted avg       0.52      0.52      0.51      2394\n",
      "\n"
     ]
    }
   ],
   "source": [
    "print(f'Accuracy-Train {round(rf1.score(X_train,y_train),4)}')\n",
    "print(f'Accuracy-Validate {round(rf1.score(X_validate,y_validate),4)}')\n",
    "print(classification_report(y_train,rf1_preds))\n",
    "print(classification_report(y_validate,rf1.predict(X_validate)))"
   ]
  },
  {
   "cell_type": "code",
   "execution_count": 23,
   "id": "8db49f8f",
   "metadata": {},
   "outputs": [
    {
     "name": "stdout",
     "output_type": "stream",
     "text": [
      "Accuracy-Train 0.5367\n",
      "Accuracy-test 0.5221\n",
      "              precision    recall  f1-score   support\n",
      "\n",
      "           0       0.55      0.34      0.42      3188\n",
      "           1       0.53      0.73      0.61      3283\n",
      "\n",
      "    accuracy                           0.54      6471\n",
      "   macro avg       0.54      0.53      0.52      6471\n",
      "weighted avg       0.54      0.54      0.52      6471\n",
      "\n",
      "              precision    recall  f1-score   support\n",
      "\n",
      "           0       0.52      0.35      0.42       959\n",
      "           1       0.52      0.69      0.60       987\n",
      "\n",
      "    accuracy                           0.52      1946\n",
      "   macro avg       0.52      0.52      0.51      1946\n",
      "weighted avg       0.52      0.52      0.51      1946\n",
      "\n"
     ]
    }
   ],
   "source": [
    "print(f'Accuracy-Train {round(rf1.score(X_train,y_train),4)}')\n",
    "print(f'Accuracy-test {round(rf1.score(X_test,y_test),4)}')\n",
    "print(classification_report(y_train,rf1_preds))\n",
    "print(classification_report(y_test,rf1.predict(X_test)))"
   ]
  },
  {
   "cell_type": "markdown",
   "id": "ffafa829",
   "metadata": {},
   "source": [
    "### SVM: vanilla"
   ]
  },
  {
   "cell_type": "code",
   "execution_count": null,
   "id": "917e5cc3",
   "metadata": {},
   "outputs": [],
   "source": [
    "svm = SVC()\n",
    "svm.fit(X_train_scaled, y_train)\n",
    "svm_preds = svm.predict(X_train_scaled)\n",
    "print(svm.score(X_train_scaled, y_train))\n",
    "pd.crosstab(svm_preds,y_train) # a confusion matrix with ACTUALS as columns and PREDICTIONS as rows"
   ]
  },
  {
   "cell_type": "code",
   "execution_count": null,
   "id": "93ac0f9f",
   "metadata": {},
   "outputs": [],
   "source": [
    "print(f'Accuracy-Train {round(svm.score(X_train_scaled,y_train),4)}')\n",
    "print(f'Accuracy-Validate {round(svm.score(X_validate_scaled,y_validate),4)}')\n",
    "print(classification_report(y_train,svm_preds))\n",
    "print(classification_report(y_validate,svm.predict(X_validate_scaled)))"
   ]
  },
  {
   "cell_type": "code",
   "execution_count": null,
   "id": "7fbc563b",
   "metadata": {},
   "outputs": [],
   "source": []
  }
 ],
 "metadata": {
  "kernelspec": {
   "display_name": "Python 3 (ipykernel)",
   "language": "python",
   "name": "python3"
  },
  "language_info": {
   "codemirror_mode": {
    "name": "ipython",
    "version": 3
   },
   "file_extension": ".py",
   "mimetype": "text/x-python",
   "name": "python",
   "nbconvert_exporter": "python",
   "pygments_lexer": "ipython3",
   "version": "3.9.13"
  }
 },
 "nbformat": 4,
 "nbformat_minor": 5
}
