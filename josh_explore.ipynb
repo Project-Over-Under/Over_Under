{
 "cells": [
  {
   "cell_type": "markdown",
   "id": "d828a2f8",
   "metadata": {},
   "source": [
    "<div style='background-color : lightgreen'>\n",
    "    <a id='TableOfContents'></a>\n",
    "    <h1 style='text-align : center; padding-top: 20px; font-family: cursive;'>\n",
    "        Table of Contents\n",
    "    </h1>\n",
    "    <ul style='list-style-type:none; display: flex; justify-content: center; margin-bottom: 30px;padding-left: 100px;'>\n",
    "        <li style='margin-right: 20px;'><a href='#imports'>Imports</a></li>\n",
    "        <li style='margin-right: 20px;'><a href='#q1'>Question 1</a></li>\n",
    "        <li style='margin-right: 20px;'><a href='#q2'>Question 2</a></li>\n",
    "        <li style='margin-right: 20px;'><a href='#q3'>Question 3</a></li>\n",
    "        <li style='margin-right: 20px;'><a href='#q4'>Question 4</a></li>\n",
    "        <li style='margin-right: 20px;'><a href='#q5'>Question 5</a></li>\n",
    "        <li style='margin-right: 20px;'><a href='#q6'>Question 6</a></li>\n",
    "        <li style='margin-right: 20px;'><a href='#q7'>Question 7</a></li>\n",
    "        <li style='margin-right: 20px;'><a href='#q8'>Question 8</a></li>\n",
    "        <li><a href='#bonus'>Bonus</a></li>\n",
    "    </ul>\n",
    "</div>\n"
   ]
  },
  {
   "cell_type": "markdown",
   "id": "2b0a2348",
   "metadata": {},
   "source": [
    "<div style='background-color : lightblue'>\n",
    "<a id='imports'></a>\n",
    "    <b><u><i><h1 style='text-align : center;padding-top: 25px;''>\n",
    "        Imports\n",
    "    </h1></i></u></b>\n",
    "<li><a href='#TableOfContents'>Table of Contents</a></li>"
   ]
  },
  {
   "cell_type": "code",
   "execution_count": 1,
   "id": "e9d1131b",
   "metadata": {},
   "outputs": [],
   "source": [
    "import pandas as pd\n",
    "import numpy as np\n",
    "\n",
    "import matplotlib\n",
    "import seaborn as sns\n",
    "\n",
    "import matplotlib.pyplot as plt\n",
    "import seaborn as sns\n",
    "\n",
    "from scipy import stats\n"
   ]
  },
  {
   "cell_type": "code",
   "execution_count": null,
   "id": "4c6998e7-9b22-4dfd-9a93-4003fdf8f2a2",
   "metadata": {},
   "outputs": [],
   "source": [
    "df = "
   ]
  },
  {
   "cell_type": "markdown",
   "id": "259227c5-2595-4b35-90ca-9aaf8e818f96",
   "metadata": {},
   "source": [
    "<div style='background-color : lightblue'>\n",
    "<a id='q1'></a>\n",
    "    <b><u><i><h1 style='text-align : center; padding-top: 25px;''>\n",
    "        Question 1\n",
    "    </h1></i></u></b>\n",
    "<li><a href='#TableOfContents'>Table of Contents</a></li>"
   ]
  },
  {
   "cell_type": "markdown",
   "id": "9b354742-f9b9-4be8-b658-1f682fb00a7c",
   "metadata": {
    "tags": []
   },
   "source": [
    "<b>Question 1.</b> "
   ]
  },
  {
   "cell_type": "code",
   "execution_count": null,
   "id": "7bcac8da-06e7-4f52-a4d5-80e0a23235be",
   "metadata": {},
   "outputs": [],
   "source": []
  },
  {
   "cell_type": "markdown",
   "id": "5cdb5022",
   "metadata": {},
   "source": [
    "<div style='background-color : lightblue'>\n",
    "<a id='q2'></a>\n",
    "    <b><u><i><h1 style='text-align : center; padding-top: 25px;''>\n",
    "        Question 2\n",
    "    </h1></i></u></b>\n",
    "<li><a href='#TableOfContents'>Table of Contents</a></li>"
   ]
  },
  {
   "cell_type": "markdown",
   "id": "302b4f07-4e5a-4a83-8a2e-92c6f13eb3f5",
   "metadata": {},
   "source": [
    "<b>Question 2.</b> "
   ]
  },
  {
   "cell_type": "code",
   "execution_count": null,
   "id": "c5bbe85a-6de8-494c-a0b5-2f1696400a76",
   "metadata": {
    "tags": []
   },
   "outputs": [],
   "source": []
  },
  {
   "cell_type": "markdown",
   "id": "3810f905",
   "metadata": {},
   "source": [
    "<div style='background-color : lightblue'>\n",
    "<a id='q3'></a>\n",
    "    <b><u><i><h1 style='text-align : center;padding-top: 25px;''>\n",
    "        Question 3\n",
    "    </h1></i></u></b>\n",
    "<li><a href='#TableOfContents'>Table of Contents</a></li>"
   ]
  },
  {
   "cell_type": "markdown",
   "id": "0757ca72-bf67-44da-ab67-2b602ef9fa51",
   "metadata": {},
   "source": [
    "<b>Question 3.</b> "
   ]
  },
  {
   "cell_type": "markdown",
   "id": "f4625d23",
   "metadata": {},
   "source": [
    "<div style='background-color : lightblue'>\n",
    "    <a id='q4'></a>\n",
    "    <b><u><i><h1 style='text-align : center; padding-top: 25px;'>\n",
    "        Question 4\n",
    "    </h1></i></u></b>\n",
    "    <li><a href='#TableOfContents'>Table of Contents</a></li>\n",
    "</div>\n"
   ]
  },
  {
   "cell_type": "markdown",
   "id": "f1ce964c-6c7c-44ad-934d-b3a9ecf5fe28",
   "metadata": {},
   "source": [
    "<b>Question 4.</b> "
   ]
  },
  {
   "cell_type": "code",
   "execution_count": null,
   "id": "565c20e8-362f-4dc4-9d0a-b8c16ccdfd94",
   "metadata": {},
   "outputs": [],
   "source": []
  },
  {
   "cell_type": "markdown",
   "id": "d17ee7be",
   "metadata": {},
   "source": [
    "<div style='background-color : lightblue'>\n",
    "<a id='q5'></a>\n",
    "    <b><u><i><h1 style='text-align : center; padding-top: 25px;''>\n",
    "        Question 5\n",
    "    </h1></i></u></b>\n",
    "<li><a href='#TableOfContents'>Table of Contents</a></li>"
   ]
  },
  {
   "cell_type": "markdown",
   "id": "bcbdbefc",
   "metadata": {},
   "source": [
    "<b>Question 5.</b> "
   ]
  },
  {
   "cell_type": "code",
   "execution_count": null,
   "id": "bc9ea776-cac5-46c0-abb7-e36a3512c9bb",
   "metadata": {},
   "outputs": [],
   "source": []
  },
  {
   "cell_type": "markdown",
   "id": "0d8a3717-629e-4dc4-a6f1-74ad13f0f301",
   "metadata": {},
   "source": [
    "<div style='background-color : lightblue'>\n",
    "<a id='q6'></a>\n",
    "    <b><u><i><h1 style='text-align : center; padding-top: 25px;''>\n",
    "        Question 6\n",
    "    </h1></i></u></b>\n",
    "<li><a href='#TableOfContents'>Table of Contents</a></li>"
   ]
  },
  {
   "cell_type": "markdown",
   "id": "ece985de-9629-44e9-b38e-3ff47ee1712b",
   "metadata": {},
   "source": [
    "<b>Question 6.</b> "
   ]
  },
  {
   "cell_type": "code",
   "execution_count": null,
   "id": "991d5b1b-3b4c-447a-b57c-cb8b0265a2f8",
   "metadata": {},
   "outputs": [],
   "source": []
  },
  {
   "cell_type": "markdown",
   "id": "db393427-af89-450b-81ee-883dffcad123",
   "metadata": {},
   "source": [
    "<div style='background-color : lightblue'>\n",
    "<a id='q7'></a>\n",
    "    <b><u><i><h1 style='text-align : center; padding-top: 25px;''>\n",
    "        Question 7\n",
    "    </h1></i></u></b>\n",
    "<li><a href='#TableOfContents'>Table of Contents</a></li>"
   ]
  },
  {
   "cell_type": "markdown",
   "id": "2dc2e6a5-b540-4278-95ff-1ddf62862e2c",
   "metadata": {},
   "source": [
    "<b>Question 7.</b> "
   ]
  },
  {
   "cell_type": "code",
   "execution_count": null,
   "id": "4f79cd9a-bcc0-4a08-a9d4-808b06cffaa7",
   "metadata": {},
   "outputs": [],
   "source": []
  },
  {
   "cell_type": "markdown",
   "id": "88b6a525-0692-435b-a11c-f7a0c90ee7f5",
   "metadata": {},
   "source": [
    "<div style='background-color : lightblue'>\n",
    "<a id='q8'></a>\n",
    "    <b><u><i><h1 style='text-align : center; padding-top: 25px;''>\n",
    "        Question 8\n",
    "    </h1></i></u></b>\n",
    "<li><a href='#TableOfContents'>Table of Contents</a></li>"
   ]
  },
  {
   "cell_type": "markdown",
   "id": "c2c4a21d-0575-4259-90fa-0437ef003bcb",
   "metadata": {},
   "source": [
    "<b>Question 8.</b> "
   ]
  },
  {
   "cell_type": "code",
   "execution_count": null,
   "id": "f6c46bc8-bc62-4a72-ad9d-57e3b712ffe8",
   "metadata": {},
   "outputs": [],
   "source": []
  },
  {
   "cell_type": "markdown",
   "id": "84824ec9-f396-461b-a6d8-ced912d5531c",
   "metadata": {
    "tags": []
   },
   "source": [
    "<div style='background-color : lightblue'>\n",
    "<a id='q9'></a>\n",
    "    <b><u><i><h1 style='text-align : center; padding-top: 25px;''>\n",
    "        Question 9\n",
    "    </h1></i></u></b>\n",
    "<li><a href='#TableOfContents'>Table of Contents</a></li>"
   ]
  },
  {
   "cell_type": "markdown",
   "id": "2d318b2b-6019-49f6-8c9f-f9d034764b21",
   "metadata": {},
   "source": [
    "<b>Question 9.</b>  \n",
    "\n"
   ]
  },
  {
   "cell_type": "code",
   "execution_count": null,
   "id": "c15d1e6d-52a2-45c3-98e0-0eb139e7afd1",
   "metadata": {},
   "outputs": [],
   "source": []
  },
  {
   "cell_type": "markdown",
   "id": "62a7351b",
   "metadata": {},
   "source": [
    "<div style='background-color : lightblue'>\n",
    "<a id='bonus'></a>\n",
    "    <b><u><i><h1 style='text-align : center; padding-top: 25px;''>\n",
    "        Bonus\n",
    "    </h1></i></u></b>\n",
    "<li><a href='#TableOfContents'>Table of Contents</a></li>"
   ]
  },
  {
   "cell_type": "code",
   "execution_count": null,
   "id": "76fb9966",
   "metadata": {},
   "outputs": [],
   "source": []
  },
  {
   "cell_type": "code",
   "execution_count": null,
   "id": "ee13c035-8960-42ea-9ec6-63e4ef1ecad9",
   "metadata": {},
   "outputs": [],
   "source": []
  }
 ],
 "metadata": {
  "kernelspec": {
   "display_name": "Python 3 (ipykernel)",
   "language": "python",
   "name": "python3"
  },
  "language_info": {
   "codemirror_mode": {
    "name": "ipython",
    "version": 3
   },
   "file_extension": ".py",
   "mimetype": "text/x-python",
   "name": "python",
   "nbconvert_exporter": "python",
   "pygments_lexer": "ipython3",
   "version": "3.9.13"
  }
 },
 "nbformat": 4,
 "nbformat_minor": 5
}
